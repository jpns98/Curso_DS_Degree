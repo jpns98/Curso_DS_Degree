{
 "cells": [
  {
   "cell_type": "markdown",
   "id": "81c4cf75",
   "metadata": {},
   "source": [
    "<h1>Mini Projeto 1</h1>\n",
    "\n",
    "Você trabalha em uma Rede Social e precisa criar uma estrutura que represente as pessoas que a usam em python (com Programação Orientado a Objetos).  \n",
    "É necessário guardar informações das pessoas que utilizam essa rede social:  \n",
    "- nome  \n",
    "- apelido  \n",
    "- data de nascimento  \n",
    "- e-mail  \n",
    "- amigos  \n",
    "- lista de interesses  \n",
    "- posts  \n",
    "\n",
    "\n",
    "E além disso, existem algumas funcionalidades que precisamos ter:  \n",
    "- adicionar um amigo na lista de amigos  \n",
    "- adicionar um interesse na lista interesses  \n",
    "- postar  \n",
    "- calcular a quantidade de amigos  \n",
    "- calcular a quantidade de posts  \n",
    "- dado um nome, verificar se existe uma pessoa com esse nome na sua lista de amizade  \n",
    "- dado uma palavra ou frase, trazer TODOS os posts com aquela palavra (procurar post)  \n",
    "- mostrar os posts dos amigos  \n",
    "\n",
    "---\n",
    "\n",
    "Parâmetros de correção:  \n",
    "\n",
    "- Documentação  \n",
    "- Bom nomes de classe, atributos, métodos, etc.  \n",
    "- Lógica"
   ]
  },
  {
   "cell_type": "markdown",
   "id": "c1d9295f",
   "metadata": {},
   "source": [
    "---"
   ]
  },
  {
   "cell_type": "markdown",
   "id": "2db45f9e",
   "metadata": {},
   "source": [
    "**Nome:** João Pedro do Nascimento Sandolin  \n",
    "**Turma:** 814 -  Data Science Degree  \n",
    "**Data:** 11 de Novembro de 2021"
   ]
  },
  {
   "cell_type": "code",
   "execution_count": 1,
   "id": "2541f433",
   "metadata": {
    "ExecuteTime": {
     "end_time": "2021-11-26T20:23:27.964743Z",
     "start_time": "2021-11-26T20:23:27.940808Z"
    }
   },
   "outputs": [],
   "source": [
    "class Pessoa:\n",
    "    def __init__(self, nome, data_nascimento, email, apelido=None, lista_interesses=None):\n",
    "        '''\n",
    "        Cria uma representação da entidade Pessoa de nossa Rede Social com seus respectivos dados\n",
    "         \n",
    "        Parâmetros\n",
    "        ----------\n",
    "        nome : str\n",
    "            Nome da pessoa na Rede Social\n",
    "        data_nascimento : str\n",
    "            Data de Nascimento da pessoa\n",
    "        email : str\n",
    "            E-mail de cadastro da pessoa na Rede Social\n",
    "        apelido: str\n",
    "            Apelido da pessoa na Rede Social(opcional)\n",
    "        lista_interesses: list\n",
    "            Lista de strings contendo os interesses da pessoa(opcional)\n",
    "        posts: list\n",
    "            Lista de strings contendo todas as publicações da pessoa(opcional)\n",
    "        '''\n",
    "        ## Atributos referentes a parâmetros necessários:\n",
    "        # Dados necessários para o cadastro da conta e, portanto, obrigatórios\n",
    "        self.nome = nome \n",
    "        self.data_nascimento = data_nascimento\n",
    "        self.email = email\n",
    "        \n",
    "        ## Atributos referentes a parâmetros opcionais:\n",
    "        self.lista_interesses = lista_interesses\n",
    "        if lista_interesses is None:\n",
    "            self.lista_interesses = []\n",
    "        # Pessoa pode criar um cadastro com lista de interesses predefinida, opcionalmente\n",
    "        self.apelido = apelido\n",
    "        # Pessoa pode colocar um apelido, opcionalmente\n",
    "        \n",
    "        ## Atributos não advindos do construtor: \n",
    "        self.amigos = []\n",
    "        # evita que pessoas tenham amigos em suas listas\n",
    "        # sem que estes a tenham em suas respectivas listas de amigos\n",
    "        self.posts = []\n",
    "        # impede que a pessoa crie uma conta com posts predefinidos\n",
    "        # sem que estes tenham sido publicados\n",
    "        \n",
    "#==========================================================================================================================\n",
    "    def adicionar_amigo(self,amigo):\n",
    "        '''\n",
    "        Adiciona uma Pessoa na lista de amigos \n",
    "        e, consequentemente,  é adicionado na lista dessa pessoa\n",
    "\n",
    "        Parâmetros\n",
    "        ----------\n",
    "        amigo = Pessoa\n",
    "            pessoa que deseja adicionar(e ser adicionado por) na lista de amigos\n",
    "        '''\n",
    "        if amigo not in self.amigos:\n",
    "            self.amigos.append(amigo)\n",
    "\n",
    "            #Recursão para que 'self' seja adicionado na lista do 'amigo'\n",
    "            amigo.adicionar_amigo(self)\n",
    "\n",
    "#==========================================================================================================================\n",
    "    def adicionar_interesse(self, interesse):\n",
    "        '''\n",
    "        Adiciona um interesse na lista de interesses da Rede Social da pessoa\n",
    "\n",
    "        Parâmetros\n",
    "        ----------\n",
    "        interesse = str\n",
    "            interesse que deseja adicionar à lista de interesses\n",
    "        '''\n",
    "        if interesse not in self.lista_interesses:\n",
    "            self.lista_interesses.append(interesse)\n",
    "\n",
    "#==========================================================================================================================\n",
    "    def postar(self, post):\n",
    "        '''\n",
    "        Posta(Imprime) um texto e o adiciona na lista de posts da pessoa\n",
    "\n",
    "        Parâmetros\n",
    "        ----------\n",
    "        post: str\n",
    "            texto que a pessoa dejesa adicionar à lista de posts\n",
    "        '''\n",
    "        print(f\"{self.nome}: {post}\")\n",
    "\n",
    "        self.posts.append(post)\n",
    "\n",
    "#==========================================================================================================================\n",
    "    def quantificar_amigos(self):\n",
    "        '''\n",
    "        Calcula a quantidade de amigos\n",
    "        \n",
    "        Retorno\n",
    "        ----------\n",
    "        out: int\n",
    "            retorna o tamanho da lista de amigos\n",
    "        '''\n",
    "        return(len(self.amigos))\n",
    "\n",
    "#==========================================================================================================================\n",
    "    def quantificar_posts(self):\n",
    "        '''\n",
    "        Calcula a quantidade de posts\n",
    "        \n",
    "        Retorno\n",
    "        ----------\n",
    "        out: int\n",
    "            retorna o tamanho da lista de de posts\n",
    "        '''\n",
    "        return(len(self.posts))\n",
    "\n",
    "#==========================================================================================================================\n",
    "    def verificar_nome_amigo(self, nome_amigo):\n",
    "        '''\n",
    "        Verifica, na lista de amigos, se existe uma pessoa que contenha determinado nome\n",
    "        \n",
    "        Parâmetros\n",
    "        ----------\n",
    "        nome_amigo: str\n",
    "            nome que deseja verificar na lista de amigos\n",
    "\n",
    "        Retorno\n",
    "        ----------\n",
    "        out: Bool\n",
    "            True se existe um amigo com este nome, False caso contrário\n",
    "        '''\n",
    "        for amigo in self.amigos:\n",
    "            if nome_amigo in amigo.nome:\n",
    "                return True\n",
    "\n",
    "        return False\n",
    "\n",
    "#==========================================================================================================================\n",
    "    def buscar_posts(self, texto_de_busca):\n",
    "        '''\n",
    "        Busca os posts que contenham determinada string\n",
    "\n",
    "        Parâmetros\n",
    "        ----------\n",
    "        texto_de_busca: str\n",
    "            texto usado para filtrar os posts\n",
    "\n",
    "        '''\n",
    "        posts_filtrados = [post for post in self.posts if (texto_de_busca in post) ]\n",
    "\n",
    "        print(posts_filtrados)\n",
    "#==========================================================================================================================\n",
    "    def mostrar_posts_amigos(self, amigos):\n",
    "        '''\n",
    "        Mosta todos os posts de uma lista de amigos especificada\n",
    "        após verificar se estas pessoas estão na lista de amigos\n",
    "\n",
    "        Parâmetros\n",
    "        ----------\n",
    "        amigo: list\n",
    "            lista de objetos do tipo Pessoa dos quais serão mostrados os posts\n",
    "        '''\n",
    "\n",
    "        for amigo in amigos:\n",
    "            if amigo in self.amigos:\n",
    "                print(f\"{amigo.nome}:\\n{amigo.posts}\\n\")"
   ]
  },
  {
   "cell_type": "markdown",
   "id": "5871c4c5",
   "metadata": {},
   "source": [
    "---"
   ]
  },
  {
   "cell_type": "code",
   "execution_count": 2,
   "id": "6e233a98",
   "metadata": {
    "ExecuteTime": {
     "end_time": "2021-11-17T20:50:22.808063Z",
     "start_time": "2021-11-17T20:50:22.791243Z"
    }
   },
   "outputs": [],
   "source": [
    "User1 = Pessoa(\"João\",\n",
    "              \"11/11/1111\",\n",
    "              \"email1@gmail.com\")\n",
    "\n",
    "User2 = Pessoa(\"Pedro\",\n",
    "               \"22/22/2222\",\n",
    "               \"email2@gmail.com\")\n",
    "\n",
    "User3 = Pessoa(\"Luis\",\n",
    "              \"33/33/3333\",\n",
    "              \"email3@gmail.com\")\n",
    "\n",
    "User4 = Pessoa(\"Camila\",\n",
    "                \"44/44/4444\",\n",
    "                \"email4@gmail.com\")"
   ]
  },
  {
   "cell_type": "code",
   "execution_count": 3,
   "id": "a7e4e4a1",
   "metadata": {
    "ExecuteTime": {
     "end_time": "2021-11-17T20:50:23.553412Z",
     "start_time": "2021-11-17T20:50:23.532382Z"
    }
   },
   "outputs": [
    {
     "data": {
      "text/plain": [
       "[<__main__.Pessoa at 0x20aabdb77f0>,\n",
       " <__main__.Pessoa at 0x20aabdb73d0>,\n",
       " <__main__.Pessoa at 0x20aabdb7d90>]"
      ]
     },
     "execution_count": 3,
     "metadata": {},
     "output_type": "execute_result"
    }
   ],
   "source": [
    "User1.adicionar_amigo(User2)\n",
    "User1.adicionar_amigo(User3)\n",
    "User1.adicionar_amigo(User4)\n",
    "\n",
    "User1.amigos"
   ]
  },
  {
   "cell_type": "code",
   "execution_count": 6,
   "id": "01dcc806",
   "metadata": {
    "ExecuteTime": {
     "end_time": "2021-11-17T20:50:58.560172Z",
     "start_time": "2021-11-17T20:50:58.550197Z"
    }
   },
   "outputs": [
    {
     "data": {
      "text/plain": [
       "[<__main__.Pessoa at 0x20aabdb7310>]"
      ]
     },
     "execution_count": 6,
     "metadata": {},
     "output_type": "execute_result"
    }
   ],
   "source": [
    "User2.amigos"
   ]
  },
  {
   "cell_type": "code",
   "execution_count": 5,
   "id": "bd100b51",
   "metadata": {
    "ExecuteTime": {
     "end_time": "2021-11-11T23:22:17.070990Z",
     "start_time": "2021-11-11T23:22:17.049860Z"
    }
   },
   "outputs": [
    {
     "name": "stdout",
     "output_type": "stream",
     "text": [
      "João: Olá mundo!\n",
      "João: Olá!\n",
      "João: Bom dia\n",
      "João: Boa tarde!\n",
      "Pedro: Olá!\n",
      "Pedro: Bom dia\n",
      "Pedro: Boa tarde!\n"
     ]
    },
    {
     "data": {
      "text/plain": [
       "4"
      ]
     },
     "execution_count": 5,
     "metadata": {},
     "output_type": "execute_result"
    }
   ],
   "source": [
    "User1.postar(\"Olá mundo!\")\n",
    "User1.postar(\"Olá!\")\n",
    "User1.postar(\"Bom dia\")\n",
    "User1.postar(\"Boa tarde!\")\n",
    "\n",
    "User2.postar(\"Olá!\")\n",
    "User2.postar(\"Bom dia\")\n",
    "User2.postar(\"Boa tarde!\")\n",
    "\n",
    "User1.quantificar_posts()"
   ]
  },
  {
   "cell_type": "code",
   "execution_count": 6,
   "id": "9950727c",
   "metadata": {
    "ExecuteTime": {
     "end_time": "2021-11-11T23:22:17.911909Z",
     "start_time": "2021-11-11T23:22:17.907922Z"
    }
   },
   "outputs": [
    {
     "name": "stdout",
     "output_type": "stream",
     "text": [
      "Pedro:\n",
      "['Olá!', 'Bom dia', 'Boa tarde!']\n",
      "\n",
      "Luis:\n",
      "[]\n",
      "\n",
      "Camila:\n",
      "[]\n",
      "\n"
     ]
    }
   ],
   "source": [
    "User1.mostrar_posts_amigos([User2, User3, User4])"
   ]
  },
  {
   "cell_type": "code",
   "execution_count": 7,
   "id": "591f8fa8",
   "metadata": {
    "ExecuteTime": {
     "end_time": "2021-11-11T23:22:18.931944Z",
     "start_time": "2021-11-11T23:22:18.923022Z"
    }
   },
   "outputs": [
    {
     "name": "stdout",
     "output_type": "stream",
     "text": [
      "['Olá mundo!', 'Olá!']\n"
     ]
    }
   ],
   "source": [
    "User1.buscar_posts(\"Ol\")"
   ]
  },
  {
   "cell_type": "code",
   "execution_count": 8,
   "id": "3c87bd45",
   "metadata": {
    "ExecuteTime": {
     "end_time": "2021-11-11T23:22:20.472622Z",
     "start_time": "2021-11-11T23:22:20.463648Z"
    }
   },
   "outputs": [
    {
     "data": {
      "text/plain": [
       "3"
      ]
     },
     "execution_count": 8,
     "metadata": {},
     "output_type": "execute_result"
    }
   ],
   "source": [
    "User1.quantificar_amigos()"
   ]
  },
  {
   "cell_type": "code",
   "execution_count": 9,
   "id": "e953aa7a",
   "metadata": {
    "ExecuteTime": {
     "end_time": "2021-11-11T23:22:21.325022Z",
     "start_time": "2021-11-11T23:22:21.313913Z"
    }
   },
   "outputs": [
    {
     "data": {
      "text/plain": [
       "True"
      ]
     },
     "execution_count": 9,
     "metadata": {},
     "output_type": "execute_result"
    }
   ],
   "source": [
    "User1.verificar_nome_amigo(\"Ped\")"
   ]
  },
  {
   "cell_type": "code",
   "execution_count": 10,
   "id": "4df018c4",
   "metadata": {
    "ExecuteTime": {
     "end_time": "2021-11-11T23:22:22.145653Z",
     "start_time": "2021-11-11T23:22:22.137675Z"
    }
   },
   "outputs": [
    {
     "data": {
      "text/plain": [
       "['Data Science', 'Machine Learning']"
      ]
     },
     "execution_count": 10,
     "metadata": {},
     "output_type": "execute_result"
    }
   ],
   "source": [
    "User1.adicionar_interesse(\"Data Science\")\n",
    "User1.adicionar_interesse(\"Machine Learning\")\n",
    "User1.lista_interesses"
   ]
  },
  {
   "cell_type": "code",
   "execution_count": null,
   "id": "35218c97",
   "metadata": {},
   "outputs": [],
   "source": []
  },
  {
   "cell_type": "code",
   "execution_count": null,
   "id": "f1f2401a",
   "metadata": {},
   "outputs": [],
   "source": []
  },
  {
   "cell_type": "code",
   "execution_count": null,
   "id": "34bd3e50",
   "metadata": {},
   "outputs": [],
   "source": []
  },
  {
   "cell_type": "code",
   "execution_count": 1,
   "id": "eed18cc4",
   "metadata": {
    "ExecuteTime": {
     "end_time": "2021-12-03T01:56:16.918003Z",
     "start_time": "2021-12-03T01:56:16.899049Z"
    }
   },
   "outputs": [],
   "source": [
    "class classe:\n",
    "    lista = []\n",
    "    def __init__(self, num):\n",
    "        self.num = num\n",
    "        self.lista.append(num)"
   ]
  },
  {
   "cell_type": "code",
   "execution_count": 2,
   "id": "4e0ee7b3",
   "metadata": {
    "ExecuteTime": {
     "end_time": "2021-12-03T01:56:17.700087Z",
     "start_time": "2021-12-03T01:56:17.681136Z"
    }
   },
   "outputs": [
    {
     "data": {
      "text/plain": [
       "[1, 2]"
      ]
     },
     "execution_count": 2,
     "metadata": {},
     "output_type": "execute_result"
    }
   ],
   "source": [
    "a = classe(1)\n",
    "b = classe(2)\n",
    "\n",
    "classe.lista"
   ]
  }
 ],
 "metadata": {
  "kernelspec": {
   "display_name": "Python 3 (ipykernel)",
   "language": "python",
   "name": "python3"
  },
  "language_info": {
   "codemirror_mode": {
    "name": "ipython",
    "version": 3
   },
   "file_extension": ".py",
   "mimetype": "text/x-python",
   "name": "python",
   "nbconvert_exporter": "python",
   "pygments_lexer": "ipython3",
   "version": "3.9.7"
  }
 },
 "nbformat": 4,
 "nbformat_minor": 5
}
