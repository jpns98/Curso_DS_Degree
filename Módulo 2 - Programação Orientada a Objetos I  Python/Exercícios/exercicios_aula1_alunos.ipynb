{
 "cells": [
  {
   "cell_type": "markdown",
   "id": "otherwise-example",
   "metadata": {},
   "source": [
    "# Exercícios"
   ]
  },
  {
   "cell_type": "markdown",
   "id": "addressed-montana",
   "metadata": {},
   "source": [
    "1. Crie uma classe Bola cujos atributos são cor e raio. Crie um método que imprime a cor da bola. Crie um método para calcular a área dessa bola. Crie um método para calcular o volume da bola. Crie um objeto dessa classe e calcule a área e o volume, imprimindo ambos em seguida. \n",
    "    Obs.:\n",
    "\n",
    "    Área da esfera = 4*3.14*r*r;\n",
    "\n",
    "    Volume da esfera = 4*3.14*r*r*r/3"
   ]
  },
  {
   "cell_type": "code",
   "execution_count": 1,
   "id": "bdc3ec69",
   "metadata": {
    "ExecuteTime": {
     "end_time": "2021-11-25T19:56:40.720841Z",
     "start_time": "2021-11-25T19:56:40.695923Z"
    }
   },
   "outputs": [],
   "source": [
    "class Bola:\n",
    "    def __init__(self, raio, cor):\n",
    "        '''      \n",
    "        Cria a representação de uma bola com cor e raio especificados\n",
    "\n",
    "        Parâmetros\n",
    "        ----------\n",
    "        raio: float\n",
    "            raio da bola\n",
    "        \n",
    "        cor: str\n",
    "            cor da bola\n",
    "        '''\n",
    "        self.raio = raio\n",
    "        self.cor = cor\n",
    "        \n",
    "        self.area = None\n",
    "        self.volume = None\n",
    "        \n",
    "    def __repr__(self):\n",
    "        return f\"Bola de raio {self.raio}, cor {self.cor}\"\n",
    "    \n",
    "    def calcula_area(self):\n",
    "        '''      \n",
    "        Calcula a área da bola a partir da fórmula:\n",
    "        4*3.14*r*r (r = Bola.raio)\n",
    "        armazena o resultado no atributo area\n",
    "        '''\n",
    "        self.area = 4*3.14*self.raio**2\n",
    "    \n",
    "    def calcula_volume(self):\n",
    "        '''      \n",
    "        Calcula o volume da bola a partir da fórmula:\n",
    "        4*3.14*r*r*r/3 (r = Bola.raio)\n",
    "        armazena o resultado no atributo volume\n",
    "        '''\n",
    "        self.volume = 4*3.14*self.raio**3\n",
    "    \n",
    "    def imprime_cor(self):\n",
    "        '''      \n",
    "        imprime a cor da bola\n",
    "        '''\n",
    "        print(self.cor)"
   ]
  },
  {
   "cell_type": "markdown",
   "id": "waiting-morocco",
   "metadata": {},
   "source": [
    "---"
   ]
  },
  {
   "cell_type": "markdown",
   "id": "cognitive-ministry",
   "metadata": {},
   "source": [
    "2. Crie uma classe Retângulo cujos atributos são lado_a e lado_b. Crie um método para calcular a área desse retângulo. Crie um objeto dessa classe e calcule a área e a imprima em seguida."
   ]
  },
  {
   "cell_type": "code",
   "execution_count": 13,
   "id": "835c2718",
   "metadata": {
    "ExecuteTime": {
     "end_time": "2021-11-25T20:17:03.430206Z",
     "start_time": "2021-11-25T20:17:03.423223Z"
    }
   },
   "outputs": [],
   "source": [
    "class Retangulo:\n",
    "    def __init__(self, lado_a, lado_b):\n",
    "        '''\n",
    "        Cria a representação de um retangulo\n",
    "        \n",
    "        Parâmetros\n",
    "        ----------\n",
    "        lado_a: float\n",
    "            tamanho de um dos lados do retângulo\n",
    "        \n",
    "        lado_b: float\n",
    "            tamanho do outro lado do retângulo\n",
    "        '''\n",
    "        self.lado_a = lado_a     \n",
    "        self.lado_b = lado_b\n",
    "        \n",
    "        self.area = None\n",
    "        \n",
    "    def __repr__(self):\n",
    "        return f\"Retangulo com lados: {self.lado_a} e {self.lado_b}\"\n",
    "    \n",
    "    def calcula_area(self):\n",
    "        '''\n",
    "        Calcula a área do retângulo a partir da fórmula:\n",
    "        (lado_a * lado_b)\n",
    "        armazena o resultado no atributo area\n",
    "        '''\n",
    "        self.area = self.lado_a*self.lado_b"
   ]
  },
  {
   "cell_type": "markdown",
   "id": "united-report",
   "metadata": {},
   "source": [
    "---"
   ]
  },
  {
   "cell_type": "markdown",
   "id": "hindu-saturday",
   "metadata": {},
   "source": [
    "3. Crie uma classe Funcionario cujos atributos são nome e e-mail. Guarde as horas trabalhadas em um dicionário cujas chaves são o mês em questão e, em outro dicionário, guarde o salário por hora relativo ao mês em questão. Crie um método que retorna o salário mensal do funcionário."
   ]
  },
  {
   "cell_type": "code",
   "execution_count": null,
   "id": "56bbd470",
   "metadata": {
    "ExecuteTime": {
     "end_time": "2021-11-25T19:56:40.868438Z",
     "start_time": "2021-11-25T19:56:40.868438Z"
    }
   },
   "outputs": [],
   "source": [
    "class Funcionario:\n",
    "    def __init__(self, nome, email):\n",
    "        '''\n",
    "        cria a representação de um funcionario\n",
    "        \n",
    "        Parâmetros\n",
    "        ----------\n",
    "        nome: str\n",
    "            nome do funcionario\n",
    "        \n",
    "        email: str\n",
    "            email do funcionario\n",
    "        '''\n",
    "        self.nome = nome\n",
    "        self.email = email\n",
    "        \n",
    "        self.horas_trabalhadas = {}\n",
    "        self.salario_por_hora = {}\n",
    "        self.salario = {}\n",
    "    #===========================================================================================================================\n",
    "    def __repr__(self):\n",
    "        return self.nome\n",
    "    #===========================================================================================================================\n",
    "    def registrar_salario(self, mes, salario):\n",
    "        '''\n",
    "        registra o salario para um determinado mês\n",
    "        \n",
    "        Parâmetros\n",
    "        ----------\n",
    "        mes: str\n",
    "            mes do qual será refistrado o salário\n",
    "        \n",
    "        salario: int\n",
    "            salario do mês referido\n",
    "        '''\n",
    "        self.salario_por_hora[mes] = salario\n",
    "    #===========================================================================================================================\n",
    "    def registrar_horas_trabalhadas(self, mes, horas_trabalhadas):\n",
    "        '''\n",
    "        registra o número de horas trabalhadas para um determinado mês\n",
    "        \n",
    "        Parâmetros\n",
    "        ----------\n",
    "        mes: int\n",
    "            mês do qual serão registradas as horas trabalhadas\n",
    "        \n",
    "        horas_trabalhadas: int\n",
    "            número de horas trabalhadas no referido mês\n",
    "        '''\n",
    "        self.horas_trabalhadas[mes] = horas_trabalhadas\n",
    "    #===========================================================================================================================\n",
    "    def calcula_salario(self):\n",
    "        '''\n",
    "        Calcula o salário para todos os meses multiplicando as horas trabalhadas pelo salário/hora\n",
    "        '''\n",
    "        for mes,horas_trabalhadas in self.horas_trabalhadas.items():\n",
    "            self.salario[mes] = horas_trabalhadas*self.salario_por_hora[mes]"
   ]
  },
  {
   "cell_type": "markdown",
   "id": "understanding-impact",
   "metadata": {},
   "source": [
    "---"
   ]
  },
  {
   "cell_type": "markdown",
   "id": "parental-montana",
   "metadata": {},
   "source": [
    "4. Crie uma classe Televisor cujos atributos são:\n",
    "\n",
    "    a. fabricante;\n",
    "\n",
    "    b. modelo;\n",
    "\n",
    "    c. canal atual;\n",
    "\n",
    "    d. lista de canais; e\n",
    "\n",
    "    e. volume.\n",
    "\n",
    "    Faça métodos para aumentar/diminuir volume, trocar o canal e sintonizar um novo canal, que adiciona um novo canal à lista de canais (somente se esse canal não estiver nessa lista). No atributo lista de canais, devem estar armazenados todos os canais já sintonizados dessa TV.\n",
    "\n",
    "    Obs.: O volume não pode ser menor que zero e maior que cem; só se pode trocar para um canal que já esteja na lista de canais."
   ]
  },
  {
   "cell_type": "code",
   "execution_count": 5,
   "id": "11b05f34",
   "metadata": {
    "ExecuteTime": {
     "end_time": "2021-11-25T20:12:40.333062Z",
     "start_time": "2021-11-25T20:12:40.325082Z"
    }
   },
   "outputs": [],
   "source": [
    "class Televisor:\n",
    "    def __init__(self, fabricante, modelo, canal_atual, volume, lista_de_canais = []):\n",
    "        '''\n",
    "        Cria a representação de um televisor\n",
    "        \n",
    "        Parâmetros\n",
    "        ----------\n",
    "        fabricante: str\n",
    "            fabricante do televisor\n",
    "        \n",
    "        modelo: str\n",
    "            modelo do televisor\n",
    "        \n",
    "        canal_atual: int\n",
    "            canal atual do televisor\n",
    "        \n",
    "        volume: int\n",
    "            volume do televisor\n",
    "        \n",
    "        lista_de_canais:list , opcional\n",
    "            listagem dos canais sintonizados do televisor\n",
    "        '''\n",
    "        self.fabricante = fabricante\n",
    "        self.modelo = modelo\n",
    "        self.canal_atual = canal_atual\n",
    "        self.volume = volume\n",
    "        self.lista_de_canais = lista_de_canais.copy\n",
    "    #===========================================================================================================================\n",
    "    def __repr__(self):\n",
    "        return f\"Televisor {self.modelo}\"\n",
    "    #===========================================================================================================================\n",
    "    def alterar_volume(self, delta_volume):\n",
    "        '''\n",
    "        altera o volume do televisor com base no valor desejado\n",
    "        \n",
    "        Parâmetros\n",
    "        ----------\n",
    "        delta_volume: int\n",
    "            valor em que deseja alterar o volume do televisor\n",
    "        '''\n",
    "        self.volume += alteracao\n",
    "    #===========================================================================================================================\n",
    "    def trocar_canal(self, novo_canal):\n",
    "        '''\n",
    "        troca o atributo 'canal_atual' do televisor para o canal desejado\n",
    "        \n",
    "        Parâmetros\n",
    "        ----------\n",
    "        novo_canal: int\n",
    "            número do canal que deseja assistir\n",
    "        '''\n",
    "        self.canal_atual = novo_canal\n",
    "    #===========================================================================================================================\n",
    "    def sintonizar_canal(self, novo_canal):\n",
    "        '''\n",
    "        sintoniza um novo canal, adicionando-o para a lista de canais do televisor\n",
    "        \n",
    "        Parâmetros\n",
    "        ----------\n",
    "        novo_canal: int\n",
    "            número do canal que deseja sintonizar ao televisor\n",
    "        '''\n",
    "        if novo_canal not in self.lista_de_canais:\n",
    "            self.lista_de_canais.append(novo_canal)"
   ]
  },
  {
   "cell_type": "markdown",
   "id": "empirical-childhood",
   "metadata": {},
   "source": [
    "---"
   ]
  },
  {
   "cell_type": "markdown",
   "id": "published-criterion",
   "metadata": {},
   "source": [
    "5. Crie uma classe ControleRemoto cujo atributo é televisão (isso é, recebe um objeto da classe do exercício 4). Crie métodos para aumentar/diminuir volume, trocar o canal e sintonizar um novo canal, que adiciona um novo canal à lista de canais (somente se esse canal não estiver nessa lista)."
   ]
  },
  {
   "cell_type": "code",
   "execution_count": null,
   "id": "f759f454",
   "metadata": {
    "ExecuteTime": {
     "end_time": "2021-11-25T19:56:40.872429Z",
     "start_time": "2021-11-25T19:56:40.872429Z"
    }
   },
   "outputs": [],
   "source": [
    "class ControleRemoto:\n",
    "    def __init__(self, televisao):\n",
    "        '''\n",
    "        cria a representação de um controle remoto, que será conectado à um objeto do tipo Televisor\n",
    "        \n",
    "        Parâmetro\n",
    "        ---------\n",
    "        televisao: Televisor\n",
    "            objeto do tipo televisor com o qual 'ControleRemoto' irá interagir\n",
    "        '''\n",
    "        self.televisao = televisao\n",
    "    #===========================================================================================================================\n",
    "    def alterar_volume_tv(self, delta_volume):\n",
    "        '''\n",
    "        altera o volume do televisor\n",
    "        \n",
    "        Parâmetros\n",
    "        ----------\n",
    "        \n",
    "        delta_volume: int\n",
    "            valor em que deseja alterar o volume do televisor\n",
    "        '''\n",
    "        self.televisao.alterar_volume(self, delta_volume)\n",
    "    #===========================================================================================================================\n",
    "    def trocar_canal_tv(self, novo_canal):\n",
    "        '''\n",
    "        troca o atributo 'canal_atual' do televisor para o canal desejado\n",
    "        \n",
    "        Parâmetros\n",
    "        ----------\n",
    "        novo_canal: int\n",
    "            número do canal que deseja assistir\n",
    "        '''\n",
    "        self.televisao.trocar_canal(self, novo_canal)\n",
    "    #===========================================================================================================================\n",
    "    def sintonizar_canal_tv(self, novo_canal):\n",
    "        '''\n",
    "        sintoniza um novo canal, adicionando-o para a lista de canais do televisor\n",
    "        \n",
    "        Parâmetros\n",
    "        ----------\n",
    "        novo_canal: int\n",
    "            número do canal que deseja sintonizar ao televisor\n",
    "        '''\n",
    "        self.televisao.sintonizar_canal(self, novo_canal)"
   ]
  },
  {
   "cell_type": "markdown",
   "id": "above-individual",
   "metadata": {},
   "source": [
    "---"
   ]
  },
  {
   "cell_type": "markdown",
   "id": "affected-monster",
   "metadata": {},
   "source": [
    "6. O módulo time possui a função time.sleep(x), que faz seu programa “dormir” por x segundos. Utilizando essa função, crie uma classe Cronômetro e faça um programa que cronometre o tempo."
   ]
  },
  {
   "cell_type": "code",
   "execution_count": 13,
   "id": "54d5ed86",
   "metadata": {
    "ExecuteTime": {
     "end_time": "2021-12-03T02:05:07.665218Z",
     "start_time": "2021-12-03T02:05:07.643277Z"
    }
   },
   "outputs": [],
   "source": [
    "import time\n",
    "from IPython.display import clear_output\n",
    "\n",
    "class Cronometro:\n",
    "    def __init__(self, tempo_limite):\n",
    "        '''\n",
    "        Cria a representação de um Cronômetro\n",
    "        \n",
    "        Parâmetros\n",
    "        ----------\n",
    "        \n",
    "        tempo_limite: int\n",
    "            tempo, em segundos, para ser o limite da contagem\n",
    "        '''\n",
    "        self.tempo_atual = 0\n",
    "        self.tempo_limite = tempo_limite*100\n",
    "    #======================================================================================================================\n",
    "    def __repr__(self):\n",
    "        return f'Cronômetro com limite: {self.tempo_limite/100} segundos'\n",
    "    #======================================================================================================================\n",
    "    def iniciar_contagem(self):\n",
    "        '''\n",
    "        Inicia a contagem do cronômetro.\n",
    "        contagem é exibida da seguinte forma: mm:ss:cc\n",
    "        mm = minutos | ss= segundos | cc=centisegundos\n",
    "        imprimindo de forma iterativa conforme a passagem do tempo (a cada 10**-2 segundo)\n",
    "        '''\n",
    "        while self.tempo_atual <= self.tempo_limite:\n",
    "            \n",
    "            centisegundos = self.tempo_atual % 100\n",
    "            segundos = (self.tempo_atual // 100) % 60\n",
    "            minutos = ((self.tempo_atual // 100) //60) % 60\n",
    "            \n",
    "            clear_output(wait=True) #apagar e imprimir o tempo_atual conforme a passagem do tempo\n",
    "            \n",
    "            print(f\"{minutos:02}:{segundos:02}:{centisegundos:02}\", flush = True)\n",
    "            \n",
    "            self.tempo_atual += 1\n",
    "            \n",
    "            time.sleep(0.01)\n",
    "            \n",
    "        self.tempo_atual = 0\n",
    "\n",
    "        \n"
   ]
  },
  {
   "cell_type": "code",
   "execution_count": 15,
   "id": "945fb61e",
   "metadata": {
    "ExecuteTime": {
     "end_time": "2021-12-03T02:07:25.563885Z",
     "start_time": "2021-12-03T02:07:20.874775Z"
    }
   },
   "outputs": [
    {
     "name": "stdout",
     "output_type": "stream",
     "text": [
      "00:03:00\n"
     ]
    }
   ],
   "source": [
    "# Testando a classe Cronometro\n",
    "cronometro = Cronometro(3)\n",
    "cronometro.iniciar_contagem()"
   ]
  },
  {
   "cell_type": "markdown",
   "id": "jewish-viking",
   "metadata": {},
   "source": [
    "---"
   ]
  },
  {
   "cell_type": "markdown",
   "id": "nasty-player",
   "metadata": {},
   "source": [
    "7. Crie uma modelagem de classes para uma agenda capaz de armazenar contatos. Através dessa agenda é possível incluir, remover, buscar e listar contatos já cadastrados."
   ]
  },
  {
   "cell_type": "code",
   "execution_count": null,
   "id": "0d87ec90",
   "metadata": {
    "ExecuteTime": {
     "end_time": "2021-11-25T19:56:40.875421Z",
     "start_time": "2021-11-25T19:56:40.875421Z"
    }
   },
   "outputs": [],
   "source": [
    "#Classe contato (será usado para compor a lista de contatos da agenda)\n",
    "\n",
    "class Contato:\n",
    "    '''\n",
    "    Cria uma representação de um contato com suas respectivas informações pessoais\n",
    "    \n",
    "    Parâmetros\n",
    "    ----------\n",
    "    nome: str\n",
    "        nome do contato\n",
    "    \n",
    "    email: str\n",
    "        email do contato\n",
    "    \n",
    "    telefone: str\n",
    "        numero de telefone do contato\n",
    "    '''\n",
    "    def __init__(self, nome, email, telefone):\n",
    "        self.nome = nome\n",
    "        self.email = email\n",
    "        self.telefone = telefone\n",
    "        \n",
    "#==========================================================================================================================\n",
    "\n",
    "#Classe agenda\n",
    "\n",
    "class Agenda:\n",
    "    def __init__(self, contatos=None):\n",
    "        '''\n",
    "        Cria uma representação de uma agenda com contatos e informações destes\n",
    "\n",
    "        Parâmetros\n",
    "        ----------\n",
    "        contatos: list, opcional\n",
    "            lista de objetos do tipo 'Contato'\n",
    "\n",
    "        '''\n",
    "        self.contatos = contatos\n",
    "        if contatos is None:\n",
    "            contatos = []\n",
    "    #======================================================================================================================\n",
    "    def incluir_contato(self, contato):\n",
    "        '''\n",
    "        inclui um contato na lista de contatos com suas respectivas informações\n",
    "        caso nome do contato já esteja na lista, contato é substituido\n",
    "\n",
    "        Parâmetros\n",
    "        ----------\n",
    "        contato: Contato\n",
    "            objeto do tipo Contato que será adicionado aos contatos da agenda\n",
    "        '''\n",
    "        for contatos_agenda in self.contatos:\n",
    "            if contato.nome == contatos_agenda.nome:\n",
    "                self.contatos.remove(contatos_agenda)\n",
    "                \n",
    "        self.contatos.append(contato)\n",
    "        \n",
    "    #======================================================================================================================\n",
    "    def remover_contato(self, contato):\n",
    "        '''\n",
    "        remove o contato especificado da lista de contatos da agenda\n",
    "\n",
    "        Parâmetros\n",
    "        ----------\n",
    "        contato: Contato\n",
    "            objeto do tipo Contato que será retirado dos contatos da agenda\n",
    "        '''\n",
    "        self.remove(contato)\n",
    "\n",
    "    #======================================================================================================================\n",
    "    def buscar_contato_por_nome(self, nome_contato):\n",
    "        '''\n",
    "        Busca um contato, pelo nome, na lista de contatos\n",
    "        \n",
    "        Parâmetros\n",
    "        ----------\n",
    "        nome_contato: str\n",
    "            nome do contato que deseja obter as informações\n",
    "        \n",
    "        Returns\n",
    "        --------\n",
    "        out: Contato \n",
    "             objeto Contato com o nome especificado ,caso exista, ou 'None' caso não exista contato com o nome especificado\n",
    "        '''\n",
    "        for contatos_agenda in self.contatos:\n",
    "            if nome_contato == contatos_agenda.nome:\n",
    "                return contatos_agenda\n",
    "        return None\n",
    "\n",
    "    #======================================================================================================================\n",
    "    def listar_contatos(self):\n",
    "        '''\n",
    "        Imprime todos os contatos da agenda com suas respectivas informações (nome, e-mail, telefone)\n",
    "        '''\n",
    "        for contato_agenda in self.contatos:\n",
    "            print(f\"Nome: {contato_agenda.nome}\\nE-mail: {contato_agenda.email}\\nTelefone: {contato_agenda.telefone}\\n\")"
   ]
  },
  {
   "cell_type": "markdown",
   "id": "496a09f9",
   "metadata": {},
   "source": [
    "---"
   ]
  },
  {
   "cell_type": "markdown",
   "id": "dc9cd88c",
   "metadata": {
    "ExecuteTime": {
     "end_time": "2021-11-25T18:36:18.772779Z",
     "start_time": "2021-11-25T18:36:18.763802Z"
    }
   },
   "source": [
    "8"
   ]
  },
  {
   "cell_type": "code",
   "execution_count": 16,
   "id": "17e8d3d2",
   "metadata": {
    "ExecuteTime": {
     "end_time": "2021-11-25T20:18:22.039877Z",
     "start_time": "2021-11-25T20:18:22.029904Z"
    }
   },
   "outputs": [],
   "source": [
    "class Cliente:\n",
    "    def __init__(self, nome, idade, email):\n",
    "        '''\n",
    "        cria a representação de um cliente\n",
    "        \n",
    "        Parâmetros\n",
    "        ----------\n",
    "        nome: str\n",
    "            nome do cliente\n",
    "        \n",
    "        idade: int\n",
    "            idade do cliente\n",
    "        \n",
    "        email: str\n",
    "            email de cadastro do cliente\n",
    "        \n",
    "        '''\n",
    "        self.nome = nome\n",
    "        self.idade = idade\n",
    "        self.email = email\n",
    "        \n",
    "    def __repr__(self):\n",
    "        return f\"Nome: {self.nome}\\nIdade: {self.idade}\\nE-mail: {self.email}\""
   ]
  },
  {
   "cell_type": "markdown",
   "id": "880a5fe4",
   "metadata": {
    "ExecuteTime": {
     "end_time": "2021-11-25T18:36:45.423629Z",
     "start_time": "2021-11-25T18:36:45.415655Z"
    }
   },
   "source": [
    "---"
   ]
  },
  {
   "cell_type": "markdown",
   "id": "d691d0c4",
   "metadata": {},
   "source": [
    "9"
   ]
  },
  {
   "cell_type": "code",
   "execution_count": null,
   "id": "e7c3bfee",
   "metadata": {
    "ExecuteTime": {
     "end_time": "2021-11-25T19:56:40.877416Z",
     "start_time": "2021-11-25T19:56:40.877416Z"
    }
   },
   "outputs": [],
   "source": [
    "class Sistema:\n",
    "    def __init__(self):\n",
    "        '''\n",
    "        Cria a representação de um sistema de cadastro de clientes\n",
    "        '''\n",
    "        self.clientes_cadastrados = []\n",
    "    \n",
    "    \n",
    "    def imprimir_cadastros(self):\n",
    "        '''\n",
    "        Imprime uma lista com todos os clientes cadastrados no sistema\n",
    "        '''\n",
    "        \n",
    "        print(self.clientes_cadastrados)\n",
    "    \n",
    "    def cadastrar_cliente(self, nome, idade, email):\n",
    "        '''\n",
    "        cadastra um cliente no sistema\n",
    "        \n",
    "        Parâmetros\n",
    "        ----------\n",
    "        nome: str\n",
    "            nome de cliente\n",
    "        idade: int\n",
    "            idade do cliente\n",
    "        email: str \n",
    "            email do cliente\n",
    "        '''\n",
    "        cliente = Cliente(nome,idade, email)\n",
    "        \n",
    "        self.clientes.append(cliente)\n",
    "    \n",
    "    def alterar_cadastro(self, cliente, nome, idade, email):\n",
    "        '''\n",
    "        altera os dados do cadastro de um cliente\n",
    "        \n",
    "        Parâmetros\n",
    "        ----------\n",
    "        cliente: Cliente\n",
    "            cliente do qual serão alterados os dados\n",
    "        nome: str\n",
    "            novo nome do cliente\n",
    "        idade: int\n",
    "            nova idade do cliente\n",
    "        email: str\n",
    "            novo email do cliente\n",
    "            \n",
    "        '''\n",
    "        for cliente_cadastro in self.clientes_cadastrados:\n",
    "            if cliente_cadastro is cliente:\n",
    "                cliente_cadastro.nome = nome\n",
    "                cliente_cadastro.idade = idade\n",
    "                cliente_cadastro.email = email\n",
    "                print(\"Cadastro alterado!\")\n",
    "                return\n",
    "        print(\"Cliente não cadastrado!\")\n",
    "        \n",
    "    def remover_cadastro(self, email_cliente):\n",
    "        '''\n",
    "        remove um cliente do cadastro com base em seu email\n",
    "        \n",
    "        Parâmetros\n",
    "        ----------\n",
    "        email_cliente:str\n",
    "            email do cliente que deseja remover do cadastro\n",
    "        '''\n",
    "        for email_cadastro in [cliente.email for cliente in self.clientes_cadastrados]:\n",
    "            if cliente_cadastro is cliente:\n",
    "                self.clientes_cadastrados.remove(cliente_cadastro)\n",
    "                print(\"Cliente removido do cadastro!\")\n",
    "                return\n",
    "            print(\"Não existe cliente cadastrado com o referido email\")"
   ]
  },
  {
   "cell_type": "markdown",
   "id": "e8c2f28e",
   "metadata": {},
   "source": [
    "---"
   ]
  },
  {
   "cell_type": "markdown",
   "id": "52fb593e",
   "metadata": {},
   "source": [
    "10"
   ]
  },
  {
   "cell_type": "code",
   "execution_count": 17,
   "id": "3ba9896a",
   "metadata": {
    "ExecuteTime": {
     "end_time": "2021-11-25T20:18:24.554049Z",
     "start_time": "2021-11-25T20:18:24.534077Z"
    }
   },
   "outputs": [],
   "source": [
    "class ContaCorrente:\n",
    "    def __init__(self, cliente, saldo=0):\n",
    "        '''\n",
    "        Cria a representação de uma conta corrente\n",
    "        \n",
    "        Parâmetros\n",
    "        ----------\n",
    "        cliente: Cliente\n",
    "            objeto Cliente que será o titular da conta \n",
    "            \n",
    "        saldo: int\n",
    "            saldo da conta\n",
    "        '''\n",
    "        self.cliente = cliente\n",
    "        self.__saldo = saldo\n",
    "    \n",
    "    @property\n",
    "    def saldo(self):\n",
    "        return self.__saldo\n",
    "    #===========================================================================================================================\n",
    "    def __repr__(self):\n",
    "        texto = self.cliente.__repr__() + \"Saldo: {}\".format(\n",
    "            self.__saldo\n",
    "        )\n",
    "        return texto\n",
    "    #===========================================================================================================================\n",
    "    def saque(self, valor):\n",
    "        '''\n",
    "        realiza um saque a partir da conta corrente\n",
    "        \n",
    "        Parâmetros\n",
    "        ----------\n",
    "        valor: int\n",
    "            valor do saque\n",
    "        '''\n",
    "        if self.__saldo - valor >= 0:\n",
    "            self.__saldo -= valor\n",
    "        else:\n",
    "            print('Saldo insuficiente.')\n",
    "    #===========================================================================================================================\n",
    "    def deposito(self, valor):\n",
    "        '''\n",
    "        realiza um depósito na conta corrente\n",
    "        \n",
    "        Parâmetros\n",
    "        ----------\n",
    "        valor: int\n",
    "            valor do depósito\n",
    "        '''\n",
    "        self.__saldo += valor\n",
    "    #===========================================================================================================================\n",
    "    def transferencia(self, other, valor):\n",
    "        '''\n",
    "        realiza uma transferencia para determinada conta\n",
    "        \n",
    "        Parâmetros\n",
    "        ----------\n",
    "        other: ContaCorrente\n",
    "            objeto ContaCorrente para o qual deseja fazer a transferencia\n",
    "        \n",
    "        valor: int\n",
    "            valor da transação\n",
    "        '''\n",
    "        if self.__saldo - valor >= 0:\n",
    "            self.__saldo -= valor\n",
    "            other.__saldo += valor\n",
    "        else:\n",
    "            print('Saldo insuficiente.')"
   ]
  },
  {
   "cell_type": "markdown",
   "id": "3b92f088",
   "metadata": {},
   "source": [
    "---"
   ]
  },
  {
   "cell_type": "markdown",
   "id": "b8e7b5ef",
   "metadata": {},
   "source": [
    "11"
   ]
  },
  {
   "cell_type": "code",
   "execution_count": null,
   "id": "e2398a90",
   "metadata": {
    "ExecuteTime": {
     "end_time": "2021-11-25T19:56:40.879412Z",
     "start_time": "2021-11-25T19:56:40.879412Z"
    }
   },
   "outputs": [],
   "source": [
    "class Fracao:\n",
    "    def __init__(self, numerador, denominador):\n",
    "        '''\n",
    "        \n",
    "        Parâmetros\n",
    "        ----------\n",
    "        numerador:int\n",
    "            numerador da fração\n",
    "        \n",
    "        denominador:int\n",
    "            denominador da fração\n",
    "        \n",
    "        '''\n",
    "        if denominador == 0:\n",
    "            raise ValueError('Denominador deve ser diferente de 0.')\n",
    "        self.numerador = numerador\n",
    "        self.denominador = denominador\n",
    "    #===========================================================================================================================\n",
    "    def valor(self):\n",
    "        '''\n",
    "        mostra o valor real da fração\n",
    "        \n",
    "        Returns\n",
    "        -------\n",
    "        out: float\n",
    "            resultado da divisão do numerado pelo denominador\n",
    "        '''\n",
    "        return self.numerador/self.denominador\n",
    "    #===========================================================================================================================\n",
    "    def __repr__(self):\n",
    "        return f'{self.numerador}/{self.denominador}'\n",
    "    #===========================================================================================================================\n",
    "    def __add__(self, other):\n",
    "        num = self.numerador*other.denominador + other.numerador*self.denominador\n",
    "        \n",
    "        den = self.denominador*other.denominador\n",
    "        \n",
    "        return Fracao(num, den)\n",
    "    #===========================================================================================================================\n",
    "    def __sub__(self, other):\n",
    "        num = self.numerador*other.denominador - other.numerador*self.denominador\n",
    "        \n",
    "        den = self.denominador*other.denominador\n",
    "        \n",
    "        return Fracao(num, den)\n",
    "    #===========================================================================================================================\n",
    "    def __mul__(self, other):\n",
    "        num = self.numerador*other.numerador\n",
    "        den = self.denominador*other.denominador\n",
    "        \n",
    "        return Fracao(num, den)\n",
    "    #===========================================================================================================================\n",
    "    def __truediv__(self, other):\n",
    "        num = self.numerador*other.denominador\n",
    "        den = self.denominador*other.numerador\n",
    "        \n",
    "        return Fracao(num, den)\n",
    "    #===========================================================================================================================\n",
    "    \n",
    "    def __eq__(self, other):\n",
    "        return self.valor() == other.valor()\n",
    "    \n",
    "    #===========================================================================================================================\n",
    "    \n",
    "    def __lt__(self, other):\n",
    "        return self.valor() < other.valor()\n",
    "    \n",
    "    #===========================================================================================================================\n",
    "    \n",
    "    def __le__(self, other):\n",
    "        return self.valor() <= other.valor()\n",
    "    \n",
    "   #=========================================================================================================================== \n",
    "  \n",
    "    def __gt__(self, other):\n",
    "        return self.valor() > other.valor()\n",
    "    \n",
    "    #===========================================================================================================================\n",
    "    \n",
    "    def __ge__(self, other):\n",
    "        return self.valor() >= other.valor()\n",
    "    \n",
    "    #===========================================================================================================================\n",
    "    \n",
    "    def __ne__(self, other):\n",
    "        return self.valor() != other.valor()\n",
    "    "
   ]
  },
  {
   "cell_type": "markdown",
   "id": "d1479094",
   "metadata": {},
   "source": [
    "---"
   ]
  },
  {
   "cell_type": "markdown",
   "id": "a980056c",
   "metadata": {},
   "source": [
    "12"
   ]
  },
  {
   "cell_type": "code",
   "execution_count": null,
   "id": "33d9e701",
   "metadata": {
    "ExecuteTime": {
     "end_time": "2021-11-25T19:56:40.880408Z",
     "start_time": "2021-11-25T19:56:40.880408Z"
    }
   },
   "outputs": [],
   "source": [
    "class Data:\n",
    "    def __init__(self, dia, mes, ano):\n",
    "        '''\n",
    "        Cria a representação de uma data\n",
    "        \n",
    "        Parâmetros\n",
    "        ----------\n",
    "        dia: int\n",
    "            dia da data\n",
    "        mes: int\n",
    "            mês da data\n",
    "        ano: int\n",
    "            ano da data\n",
    "        '''\n",
    "        self.dia = dia\n",
    "        self.mes = mes\n",
    "        self.ano = ano\n",
    "        \n",
    "    def __repr__(self):\n",
    "        return f'{self.dia:02}/{self.mes:02}/{self.ano:04}'\n",
    "    #===========================================================================================================================\n",
    "    def __eq__(self, other):\n",
    "        \n",
    "        return all([self.dia==other.dia, self.mes==other.mes, self.ano==other.ano])\n",
    "    #===========================================================================================================================\n",
    "    def __lt__(self, other):\n",
    "        if self.ano < other.ano:\n",
    "            return True\n",
    "        elif self.ano == other.ano:\n",
    "            if self.mes < other.mes:\n",
    "                return True\n",
    "            elif self.mes == other.mes:\n",
    "                if self.dia < self.dia:\n",
    "                    return True\n",
    "        return False\n",
    "    #===========================================================================================================================\n",
    "    def __le__(self, other):\n",
    "        if self.ano < other.ano:\n",
    "            return True\n",
    "        elif self.ano == other.ano:\n",
    "            if self.mes < other.mes:\n",
    "                return True\n",
    "            elif self.mes == other.mes:\n",
    "                if self.dia <= self.dia:\n",
    "                    return True\n",
    "        return False\n",
    "   #=========================================================================================================================== \n",
    "    def __gt__(self, other):\n",
    "        if self.ano > other.ano:\n",
    "            return True\n",
    "        elif self.ano == other.ano:\n",
    "            if self.mes > other.mes:\n",
    "                return True\n",
    "            elif self.mes == other.mes:\n",
    "                if self.dia > self.dia:\n",
    "                    return True\n",
    "        return False\n",
    "    #===========================================================================================================================\n",
    "    def __ge__(self, other):\n",
    "        if self.ano > other.ano:\n",
    "            return True\n",
    "        elif self.ano == other.ano:\n",
    "            if self.mes > other.mes:\n",
    "                return True\n",
    "            elif self.mes == other.mes:\n",
    "                if self.dia >= self.dia:\n",
    "                    return True\n",
    "        return False\n",
    "    #===========================================================================================================================\n",
    "    def __ne__(self, other):\n",
    "        return not(self == other)"
   ]
  },
  {
   "cell_type": "markdown",
   "id": "af6c97ec",
   "metadata": {},
   "source": [
    "---"
   ]
  },
  {
   "cell_type": "markdown",
   "id": "63968859",
   "metadata": {},
   "source": [
    "13"
   ]
  },
  {
   "cell_type": "code",
   "execution_count": null,
   "id": "2b082bfb",
   "metadata": {},
   "outputs": [],
   "source": [
    "# inclui os segintes metodos nos exercícios correspondentes:\n",
    "\n",
    "# questão 1:  \n",
    "# def __repr__(self):  \n",
    "#     return f\"Bola de raio {self.raio}, cor {self.cor}\"  \n",
    "  \n",
    "# questão 2:  \n",
    "# def __repr__(self):  \n",
    "#     return f\"Retangulo com lados: {self.lado_a} e {self.lado_b}\"  \n",
    "      \n",
    "# questão 3:  \n",
    "#def __repr__(self):\n",
    "#    return self.nome\n",
    "\n",
    "# questão 4: \n",
    "#def __repr__(self):\n",
    "#    return f\"Televisor {self.modelo}\"\n",
    "  \n",
    "# questão 6:  \n",
    "#def __repr__(self):\n",
    "#    return f'Cronômetro com limite: {self.tempo_limite/100} segundos'"
   ]
  },
  {
   "cell_type": "markdown",
   "id": "8e2ee721",
   "metadata": {},
   "source": [
    "---"
   ]
  },
  {
   "cell_type": "markdown",
   "id": "aa9ee12d",
   "metadata": {},
   "source": [
    "14"
   ]
  },
  {
   "cell_type": "code",
   "execution_count": 18,
   "id": "ca0a0540",
   "metadata": {
    "ExecuteTime": {
     "end_time": "2021-11-25T20:18:28.758658Z",
     "start_time": "2021-11-25T20:18:28.747687Z"
    }
   },
   "outputs": [],
   "source": [
    "class ContaVip(ContaCorrente):\n",
    "    def __init__(self, cliente, saldo=0, cheque_especial=0):\n",
    "        '''\n",
    "        Cria a representação de uma conta vip\n",
    "        \n",
    "        Parâmetros\n",
    "        ----------\n",
    "        cliente: Cliente\n",
    "            objeto Cliente que será o titular da conta vip\n",
    "        \n",
    "        saldo: int\n",
    "            saldo da conta vip\n",
    "        \n",
    "        cheque_especial: int\n",
    "            cheque especial da conta vip\n",
    "        '''\n",
    "        super().__init__(cliente, saldo)\n",
    "        self.cheque_especial = cheque_especial\n",
    "    #===========================================================================================================================\n",
    "    def saque(self, valor):\n",
    "        '''\n",
    "        realiza um saque na conta vip com base no valor especificado\n",
    "        \n",
    "        Parâmetros\n",
    "        ----------\n",
    "        valor: int\n",
    "            valor do saque\n",
    "        '''\n",
    "        if((self.saldo + self.cheque_especial) - valor >= 0):\n",
    "            self.saldo -= valor\n",
    "        else:\n",
    "            print('Saldo insuficiente!')\n",
    "    #===========================================================================================================================\n",
    "    def transferencia(self, other, valor):\n",
    "        '''\n",
    "        realiza uma transferencia para outra conta\n",
    "        \n",
    "        Parâmetros\n",
    "        ----------\n",
    "        other: ContaCorrente\n",
    "            objeto ContaCorrente (pode tambem ser uma ContaVip), para o qual será realizada a transferência\n",
    "        '''\n",
    "        if((self.saldo + self.cheque_especial) - valor >= 0):\n",
    "            self.deposito(-valor)\n",
    "            other.deposito(valor)\n",
    "        else:\n",
    "            print('Saldo insuficiente!')"
   ]
  },
  {
   "cell_type": "markdown",
   "id": "026cd85b",
   "metadata": {},
   "source": [
    "---"
   ]
  },
  {
   "cell_type": "markdown",
   "id": "466c9e1b",
   "metadata": {
    "ExecuteTime": {
     "end_time": "2021-11-17T22:41:37.904142Z",
     "start_time": "2021-11-17T22:41:37.892174Z"
    }
   },
   "source": [
    "15"
   ]
  },
  {
   "cell_type": "code",
   "execution_count": 14,
   "id": "205dba08",
   "metadata": {
    "ExecuteTime": {
     "end_time": "2021-11-25T20:17:08.833488Z",
     "start_time": "2021-11-25T20:17:08.818264Z"
    }
   },
   "outputs": [],
   "source": [
    "class Quadrado(Retangulo):\n",
    "    def __init__(self, lado):\n",
    "        '''\n",
    "        Cria a representação de um quadrado\n",
    "        \n",
    "        Parâmetros\n",
    "        ----------\n",
    "        lado: int\n",
    "            valor dos lados do quadrado\n",
    "        '''\n",
    "        super().__init__(lado,lado)"
   ]
  },
  {
   "cell_type": "code",
   "execution_count": 41,
   "id": "4bbc3a84",
   "metadata": {
    "ExecuteTime": {
     "end_time": "2021-11-25T23:41:46.749493Z",
     "start_time": "2021-11-25T23:41:46.746500Z"
    },
    "scrolled": true
   },
   "outputs": [
    {
     "name": "stdout",
     "output_type": "stream",
     "text": [
      "0.001\n"
     ]
    }
   ],
   "source": [
    "print(f\"{0.001:.03f}\")"
   ]
  },
  {
   "cell_type": "code",
   "execution_count": 44,
   "id": "e12e21be",
   "metadata": {
    "ExecuteTime": {
     "end_time": "2021-11-25T23:48:24.443214Z",
     "start_time": "2021-11-25T23:48:24.424265Z"
    }
   },
   "outputs": [
    {
     "name": "stdout",
     "output_type": "stream",
     "text": [
      "j 4\n",
      "i 0\n",
      "\n",
      "j 5\n",
      "i 1\n",
      "\n",
      "j 6\n",
      "i 2\n",
      "\n"
     ]
    }
   ],
   "source": [
    "for i,j in enumerate([4,5,6]):\n",
    "    print(\"j\",j)\n",
    "    print(\"i\",i)\n",
    "    print()"
   ]
  },
  {
   "cell_type": "code",
   "execution_count": 19,
   "id": "9bc4d594",
   "metadata": {
    "ExecuteTime": {
     "end_time": "2021-12-03T02:18:11.177820Z",
     "start_time": "2021-12-03T02:18:11.159870Z"
    }
   },
   "outputs": [],
   "source": [
    "class classe:\n",
    "    numero = 2\n",
    "    def __init__(self):\n",
    "        self._numero1=1"
   ]
  },
  {
   "cell_type": "code",
   "execution_count": 2,
   "id": "d97b64f3",
   "metadata": {
    "ExecuteTime": {
     "end_time": "2021-12-03T01:53:19.494076Z",
     "start_time": "2021-12-03T01:53:19.490083Z"
    }
   },
   "outputs": [],
   "source": [
    "class classe2:\n",
    "    def __init__(self):\n",
    "        self.numero = 2"
   ]
  },
  {
   "cell_type": "code",
   "execution_count": 21,
   "id": "d2a19ccf",
   "metadata": {
    "ExecuteTime": {
     "end_time": "2021-12-03T02:18:48.796512Z",
     "start_time": "2021-12-03T02:18:48.784520Z"
    }
   },
   "outputs": [
    {
     "data": {
      "text/plain": [
       "2"
      ]
     },
     "execution_count": 21,
     "metadata": {},
     "output_type": "execute_result"
    }
   ],
   "source": [
    "a = classe()\n",
    "b = classe()\n",
    "c = classe()\n",
    "b.numero"
   ]
  },
  {
   "cell_type": "code",
   "execution_count": 6,
   "id": "cc04a1b9",
   "metadata": {
    "ExecuteTime": {
     "end_time": "2021-12-03T01:57:09.034001Z",
     "start_time": "2021-12-03T01:57:09.022032Z"
    }
   },
   "outputs": [],
   "source": [
    "a.numero = 3"
   ]
  },
  {
   "cell_type": "code",
   "execution_count": 22,
   "id": "b8432356",
   "metadata": {
    "ExecuteTime": {
     "end_time": "2021-12-03T02:19:13.540316Z",
     "start_time": "2021-12-03T02:19:13.534307Z"
    }
   },
   "outputs": [
    {
     "data": {
      "text/plain": [
       "2"
      ]
     },
     "execution_count": 22,
     "metadata": {},
     "output_type": "execute_result"
    }
   ],
   "source": [
    "b = classe2()\n",
    "b.numero\n",
    "b."
   ]
  },
  {
   "cell_type": "code",
   "execution_count": 20,
   "id": "84c4e2f4",
   "metadata": {
    "ExecuteTime": {
     "end_time": "2021-12-03T02:18:13.083018Z",
     "start_time": "2021-12-03T02:18:13.069032Z"
    }
   },
   "outputs": [
    {
     "ename": "AttributeError",
     "evalue": "'classe' object has no attribute '__numero'",
     "output_type": "error",
     "traceback": [
      "\u001b[1;31m---------------------------------------------------------------------------\u001b[0m",
      "\u001b[1;31mAttributeError\u001b[0m                            Traceback (most recent call last)",
      "\u001b[1;32m~\\AppData\\Local\\Temp/ipykernel_12740/3588845034.py\u001b[0m in \u001b[0;36m<module>\u001b[1;34m\u001b[0m\n\u001b[1;32m----> 1\u001b[1;33m \u001b[0ma\u001b[0m\u001b[1;33m.\u001b[0m\u001b[0m__numero\u001b[0m\u001b[1;33m\u001b[0m\u001b[1;33m\u001b[0m\u001b[0m\n\u001b[0m",
      "\u001b[1;31mAttributeError\u001b[0m: 'classe' object has no attribute '__numero'"
     ]
    }
   ],
   "source": [
    "a."
   ]
  }
 ],
 "metadata": {
  "kernelspec": {
   "display_name": "Python 3 (ipykernel)",
   "language": "python",
   "name": "python3"
  },
  "language_info": {
   "codemirror_mode": {
    "name": "ipython",
    "version": 3
   },
   "file_extension": ".py",
   "mimetype": "text/x-python",
   "name": "python",
   "nbconvert_exporter": "python",
   "pygments_lexer": "ipython3",
   "version": "3.9.7"
  }
 },
 "nbformat": 4,
 "nbformat_minor": 5
}
