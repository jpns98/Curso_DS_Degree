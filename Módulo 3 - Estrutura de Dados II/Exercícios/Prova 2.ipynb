{
 "cells": [
  {
   "cell_type": "markdown",
   "id": "03887e61",
   "metadata": {},
   "source": [
    "https://www.hackerrank.com/contests/avaliacao2/challenges"
   ]
  },
  {
   "cell_type": "markdown",
   "id": "8fe190b1",
   "metadata": {},
   "source": [
    "### Recursive Digit Sum  \n",
    "We define super digit of an integer  using the following rules:  \n",
    "  \n",
    "Given an integer, we need to find the super digit of the integer.  \n",
    "  \n",
    "- If x  has only 1 digit, then its super digit is x.\n",
    "- Otherwise, the super digit of x is equal to the super digit of the sum of the digits of x.  \n",
    "  \n",
    "The number p is created by concatenating k times the string n\n",
    "\n",
    "Complete the function superDigit in the editor below. It must return the calculated super digit as an integer.\n",
    "\n",
    "#### Function Description\n",
    "\n",
    "superDigit has the following parameter(s):\n",
    "\n",
    "- string n: a string representation of an integer\n",
    "- int k: the times to concatenate n to make p\n",
    "  \n",
    "#### Returns  \n",
    "int: the super digit of n repeated k times  \n",
    "  \n",
    "#### Input Format \n",
    "The first line contains two space separated integers, n and k."
   ]
  },
  {
   "cell_type": "code",
   "execution_count": 67,
   "id": "17cfdc2f",
   "metadata": {
    "ExecuteTime": {
     "end_time": "2021-12-18T01:03:00.210875Z",
     "start_time": "2021-12-18T01:03:00.195891Z"
    }
   },
   "outputs": [],
   "source": [
    "def superDigit(n, k):\n",
    "    digits_sum = sum(int(digit) for digit in n) * k\n",
    "    \n",
    "    if digits_sum < 10:\n",
    "        return digits_sum\n",
    "    \n",
    "    return superDigit(str(digits_sum),  1)"
   ]
  },
  {
   "cell_type": "code",
   "execution_count": 69,
   "id": "3e2c7056",
   "metadata": {
    "ExecuteTime": {
     "end_time": "2021-12-18T01:04:06.518588Z",
     "start_time": "2021-12-18T01:04:06.504119Z"
    }
   },
   "outputs": [],
   "source": [
    "def superDigit(n, k):\n",
    "    digits_sum = sum(map(int,n)) * k\n",
    "    \n",
    "    if digits_sum < 10:\n",
    "        return digits_sum\n",
    "    \n",
    "    return superDigit(str(digits_sum),  1)"
   ]
  },
  {
   "cell_type": "markdown",
   "id": "845797e0",
   "metadata": {},
   "source": [
    "### Compare two linked lists  \n",
    "You’re given the pointer to the head nodes of two linked lists. Compare the data in the nodes of the linked lists to check if they are equal. If all data attributes are equal and the lists are the same length, return 1. Otherwise, return 0."
   ]
  },
  {
   "cell_type": "code",
   "execution_count": 109,
   "id": "87ed1656",
   "metadata": {
    "ExecuteTime": {
     "end_time": "2021-12-18T03:21:28.692635Z",
     "start_time": "2021-12-18T03:21:28.678673Z"
    }
   },
   "outputs": [],
   "source": [
    "def compare_lists(llist1, llist2):\n",
    "    while llist1 and llist2:\n",
    "        if llist1.data != llist2.data:\n",
    "            return 0\n",
    "        llist1 = llist1.next\n",
    "        llist2 = llist2.next\n",
    "    \n",
    "    if llist1 or llist2:\n",
    "        return 0\n",
    "    \n",
    "    return 1"
   ]
  },
  {
   "cell_type": "markdown",
   "id": "1ead708a",
   "metadata": {},
   "source": [
    "### Sherlock and Array  \n",
    "Watson gives Sherlock an array of integers. His challenge is to find an element of the array such that the sum of all elements to the left is equal to the sum of all elements to the right.  "
   ]
  },
  {
   "cell_type": "code",
   "execution_count": 90,
   "id": "d2a77748",
   "metadata": {
    "ExecuteTime": {
     "end_time": "2021-12-18T01:52:52.242037Z",
     "start_time": "2021-12-18T01:52:52.224081Z"
    }
   },
   "outputs": [],
   "source": [
    "def balancedSums(arr):\n",
    "    arr_right = sum(arr)\n",
    "    arr_left = 0\n",
    "\n",
    "    for element in arr:\n",
    "        arr_right -= element\n",
    "        if arr_right == arr_left:\n",
    "            return'YES'\n",
    "        arr_left += element\n",
    "        \n",
    "    return'NO'"
   ]
  }
 ],
 "metadata": {
  "kernelspec": {
   "display_name": "Python 3 (ipykernel)",
   "language": "python",
   "name": "python3"
  },
  "language_info": {
   "codemirror_mode": {
    "name": "ipython",
    "version": 3
   },
   "file_extension": ".py",
   "mimetype": "text/x-python",
   "name": "python",
   "nbconvert_exporter": "python",
   "pygments_lexer": "ipython3",
   "version": "3.9.7"
  }
 },
 "nbformat": 4,
 "nbformat_minor": 5
}
