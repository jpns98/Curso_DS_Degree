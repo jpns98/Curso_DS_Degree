{
 "cells": [
  {
   "cell_type": "markdown",
   "id": "d494e67f",
   "metadata": {},
   "source": [
    "- 1\n",
    "\n",
    "<a href=\"https://www.beecrowd.com.br/judge/en/problems/view/1000\">Hello World</a>"
   ]
  },
  {
   "cell_type": "code",
   "execution_count": 48,
   "id": "06860c5b",
   "metadata": {
    "ExecuteTime": {
     "end_time": "2021-12-06T22:10:07.952327Z",
     "start_time": "2021-12-06T22:10:07.946366Z"
    }
   },
   "outputs": [
    {
     "name": "stdout",
     "output_type": "stream",
     "text": [
      "Hello World!\n"
     ]
    }
   ],
   "source": [
    "print(\"Hello World!\")"
   ]
  },
  {
   "cell_type": "markdown",
   "id": "e36f603b",
   "metadata": {},
   "source": [
    "- 2\n",
    "\n",
    "<a href=\"https://www.beecrowd.com.br/judge/en/problems/view/1004\">Simple product</a>"
   ]
  },
  {
   "cell_type": "code",
   "execution_count": 26,
   "id": "ccbe3f1c",
   "metadata": {
    "ExecuteTime": {
     "end_time": "2021-12-05T00:55:26.439002Z",
     "start_time": "2021-12-05T00:55:25.193997Z"
    }
   },
   "outputs": [
    {
     "name": "stdout",
     "output_type": "stream",
     "text": [
      "0\n",
      "9\n",
      "PROD = 0\n"
     ]
    }
   ],
   "source": [
    "num1 = int(input())\n",
    "num2 = int(input())\n",
    "\n",
    "print(f\"PROD = {num1*num2}\")"
   ]
  },
  {
   "cell_type": "markdown",
   "id": "534a65ad",
   "metadata": {},
   "source": [
    "- 3\n",
    "\n",
    "<a href=\"https://www.beecrowd.com.br/judge/en/problems/view/1009\">Salary with bonus</a>"
   ]
  },
  {
   "cell_type": "code",
   "execution_count": 7,
   "id": "e193edeb",
   "metadata": {
    "ExecuteTime": {
     "end_time": "2021-12-06T20:55:09.374265Z",
     "start_time": "2021-12-06T20:54:54.147032Z"
    },
    "scrolled": true
   },
   "outputs": [
    {
     "name": "stdout",
     "output_type": "stream",
     "text": [
      "man\n",
      "1700.00\n",
      "1230.50\n",
      "TOTAL = R$ 1884.58\n"
     ]
    }
   ],
   "source": [
    "nome = input()\n",
    "salario = float(input())\n",
    "vendas = float(input())\n",
    "\n",
    "print(f\"TOTAL = R$ {salario + 0.15*vendas:.2f}\")"
   ]
  },
  {
   "cell_type": "markdown",
   "id": "52e3bac5",
   "metadata": {},
   "source": [
    "- 4\n",
    "\n",
    "<a href=\"https://www.beecrowd.com.br/judge/en/problems/view/1015\">Distance between 2 points</a>"
   ]
  },
  {
   "cell_type": "code",
   "execution_count": 32,
   "id": "7d7e5aea",
   "metadata": {
    "ExecuteTime": {
     "end_time": "2021-12-06T21:09:42.163475Z",
     "start_time": "2021-12-06T21:09:27.228416Z"
    },
    "scrolled": true
   },
   "outputs": [
    {
     "name": "stdout",
     "output_type": "stream",
     "text": [
      "2.5 -0.4\n",
      "-12.2 7.0\n",
      "16.4575\n"
     ]
    }
   ],
   "source": [
    "x1, y1 = [float(numero) for numero in input().split()]\n",
    "x2, y2 = [float(numero) for numero in input().split()]\n",
    "\n",
    "print(f\"{((x2 - x1)**2 + (y2 - y1)**2)**(1/2):.4f}\")"
   ]
  },
  {
   "cell_type": "markdown",
   "id": "083c98ca",
   "metadata": {},
   "source": [
    "- 5\n",
    "\n",
    "<a href=\"https://www.beecrowd.com.br/judge/en/problems/view/1071\">Sum of consecutive odd numbers</a>"
   ]
  },
  {
   "cell_type": "code",
   "execution_count": 47,
   "id": "262691dc",
   "metadata": {
    "ExecuteTime": {
     "end_time": "2021-12-06T21:16:47.028677Z",
     "start_time": "2021-12-06T21:16:45.637155Z"
    }
   },
   "outputs": [
    {
     "name": "stdout",
     "output_type": "stream",
     "text": [
      "12\n",
      "12\n",
      "0\n"
     ]
    }
   ],
   "source": [
    "end = int(input())\n",
    "start = int(input())\n",
    "\n",
    "odd_numbers = [number for number in range(start+1,end) if number%2]\n",
    "\n",
    "print(f\"{sum(odd_numbers):}\")"
   ]
  },
  {
   "cell_type": "markdown",
   "id": "96b617c3",
   "metadata": {},
   "source": [
    "- 6\n",
    "\n",
    "<a href=\"https://www.beecrowd.com.br/judge/en/problems/view/1021\">Backnotes and coins</a>\n"
   ]
  },
  {
   "cell_type": "code",
   "execution_count": 22,
   "id": "8e9aacf8",
   "metadata": {
    "ExecuteTime": {
     "end_time": "2021-12-04T23:43:23.226232Z",
     "start_time": "2021-12-04T23:43:17.793218Z"
    }
   },
   "outputs": [
    {
     "name": "stdout",
     "output_type": "stream",
     "text": [
      "91.01\n",
      "NOTAS:\n",
      "0 nota(s) de R$ 100.00\n",
      "1 nota(s) de R$ 50.00\n",
      "2 nota(s) de R$ 20.00\n",
      "0 nota(s) de R$ 10.00\n",
      "0 nota(s) de R$ 5.00\n",
      "0 nota(s) de R$ 2.00\n",
      "MOEDAS:\n",
      "1 moeda(s) de R$ 1.00\n",
      "0 moeda(s) de R$ 0.50\n",
      "0 moeda(s) de R$ 0.25\n",
      "0 moeda(s) de R$ 0.10\n",
      "0 moeda(s) de R$ 0.05\n",
      "1 moeda(s) de R$ 0.01\n"
     ]
    }
   ],
   "source": [
    "dinheiro = [100, 50, 20, 10, 5, 2, 1, 0.5, 0.25, 0.1, 0.05, 0.01]\n",
    "\n",
    "id = [\"nota\",\"moeda\"]\n",
    "\n",
    "def decompor(valor, pos = 0):\n",
    "    \n",
    "    if pos >= len(dinheiro):\n",
    "        return\n",
    "    \n",
    "    if not pos % 6:\n",
    "        print(f\"{id[pos//6].upper()}S:\")\n",
    "\n",
    "    print(f\"{int(valor//dinheiro[pos])} {id[pos//6]}(s) de R$ {dinheiro[pos]:.2f}\")\n",
    "\n",
    "    decompor(valor % dinheiro[pos], pos+1)\n",
    "\n",
    "valor = float(input()) + float(0.001)\n",
    "\n",
    "decompor(valor)"
   ]
  }
 ],
 "metadata": {
  "kernelspec": {
   "display_name": "Python 3 (ipykernel)",
   "language": "python",
   "name": "python3"
  },
  "language_info": {
   "codemirror_mode": {
    "name": "ipython",
    "version": 3
   },
   "file_extension": ".py",
   "mimetype": "text/x-python",
   "name": "python",
   "nbconvert_exporter": "python",
   "pygments_lexer": "ipython3",
   "version": "3.9.7"
  }
 },
 "nbformat": 4,
 "nbformat_minor": 5
}
