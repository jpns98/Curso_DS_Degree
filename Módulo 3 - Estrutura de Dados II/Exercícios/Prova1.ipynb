{
 "cells": [
  {
   "cell_type": "markdown",
   "id": "5ab9e3d2",
   "metadata": {},
   "source": [
    "João Pedro do Nascimento Sandolin  \n",
    "Turma: 814 - Data Science Degree"
   ]
  },
  {
   "cell_type": "markdown",
   "id": "7ebbbaa9",
   "metadata": {},
   "source": [
    "1. You are in charge of the cake for a child's birthday. You have decided the cake will have one candle for each year of their total age. They will only be able to blow out the tallest of the candles. Count how many candles are tallest."
   ]
  },
  {
   "cell_type": "code",
   "execution_count": 23,
   "id": "a83763d9",
   "metadata": {
    "ExecuteTime": {
     "end_time": "2021-12-14T01:33:28.560998Z",
     "start_time": "2021-12-14T01:33:28.556011Z"
    }
   },
   "outputs": [],
   "source": [
    "def birthdayCakeCandles(candles):\n",
    "    max_element = max(candles)\n",
    "    return candles.count(max_element)"
   ]
  },
  {
   "cell_type": "code",
   "execution_count": 24,
   "id": "c09ee07c",
   "metadata": {
    "ExecuteTime": {
     "end_time": "2021-12-14T01:33:29.108070Z",
     "start_time": "2021-12-14T01:33:29.101089Z"
    }
   },
   "outputs": [
    {
     "data": {
      "text/plain": [
       "2"
      ]
     },
     "execution_count": 24,
     "metadata": {},
     "output_type": "execute_result"
    }
   ],
   "source": [
    "birthdayCakeCandles([4, 4, 3, 1])"
   ]
  },
  {
   "cell_type": "markdown",
   "id": "22fa2659",
   "metadata": {},
   "source": [
    "2. Given a time in -hour AM/PM format, convert it to military (24-hour) time."
   ]
  },
  {
   "cell_type": "code",
   "execution_count": 25,
   "id": "7ff18aea",
   "metadata": {
    "ExecuteTime": {
     "end_time": "2021-12-14T01:33:30.150372Z",
     "start_time": "2021-12-14T01:33:30.145386Z"
    }
   },
   "outputs": [],
   "source": [
    "def timeConversion(s):\n",
    "    if s[8] == 'P':\n",
    "        if s[0:2] == '12':\n",
    "            return s[0:8]\n",
    "        \n",
    "        hora = int(s[0:2]) + 12\n",
    "        hora = f\"{hora:02}\"\n",
    "        \n",
    "        return hora + s[2:8]\n",
    "        \n",
    "    elif s[8] == 'A':\n",
    "        if s[0:2] == '12':\n",
    "            return '00' + s[2:8]\n",
    "        return s[0:8]"
   ]
  },
  {
   "cell_type": "code",
   "execution_count": 28,
   "id": "0a9fd37a",
   "metadata": {
    "ExecuteTime": {
     "end_time": "2021-12-14T01:39:51.041094Z",
     "start_time": "2021-12-14T01:39:51.029080Z"
    }
   },
   "outputs": [
    {
     "name": "stdout",
     "output_type": "stream",
     "text": [
      "00:05:45\n",
      "19:05:45\n"
     ]
    }
   ],
   "source": [
    "time =\"12:05:45AM\"\n",
    "print(timeConversion(time))\n",
    "\n",
    "time = \"07:05:45PM\"\n",
    "print(timeConversion(time))"
   ]
  },
  {
   "cell_type": "markdown",
   "id": "81a152bc",
   "metadata": {},
   "source": [
    "3. Write a program that prints a staircase of size **n** using # symbols and spaces, the last line is not preceded by any spaces (its base and height are both equal to n)."
   ]
  },
  {
   "cell_type": "code",
   "execution_count": 14,
   "id": "54e01f87",
   "metadata": {
    "ExecuteTime": {
     "end_time": "2021-12-14T01:24:49.426191Z",
     "start_time": "2021-12-14T01:24:49.422201Z"
    }
   },
   "outputs": [],
   "source": [
    "def staircase(n):\n",
    "    count = 1\n",
    "    while count <= n:\n",
    "        linha = ' '*(n-count) + '#'*count\n",
    "        print(linha)\n",
    "        count+=1"
   ]
  },
  {
   "cell_type": "code",
   "execution_count": 15,
   "id": "98f1dd22",
   "metadata": {
    "ExecuteTime": {
     "end_time": "2021-12-14T01:24:50.125710Z",
     "start_time": "2021-12-14T01:24:50.109652Z"
    }
   },
   "outputs": [
    {
     "name": "stdout",
     "output_type": "stream",
     "text": [
      "     #\n",
      "    ##\n",
      "   ###\n",
      "  ####\n",
      " #####\n",
      "######\n"
     ]
    }
   ],
   "source": [
    "staircase(6)"
   ]
  }
 ],
 "metadata": {
  "kernelspec": {
   "display_name": "Python 3 (ipykernel)",
   "language": "python",
   "name": "python3"
  },
  "language_info": {
   "codemirror_mode": {
    "name": "ipython",
    "version": 3
   },
   "file_extension": ".py",
   "mimetype": "text/x-python",
   "name": "python",
   "nbconvert_exporter": "python",
   "pygments_lexer": "ipython3",
   "version": "3.9.7"
  }
 },
 "nbformat": 4,
 "nbformat_minor": 5
}
