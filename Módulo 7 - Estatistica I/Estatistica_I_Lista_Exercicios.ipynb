{
 "cells": [
  {
   "cell_type": "markdown",
   "id": "ab3dfefb",
   "metadata": {
    "id": "ab3dfefb"
   },
   "source": [
    "# Exercícios"
   ]
  },
  {
   "cell_type": "markdown",
   "id": "f9102e3c",
   "metadata": {
    "id": "f9102e3c"
   },
   "source": [
    "## Questão 1 \n",
    "\n",
    "Na casa da Luiza tem um pote de balas de diferentes cores. Certo dia a pessoa responsável por ele contou quantas balas tinha de cada uma das cores:\n",
    "\n",
    "    - 14 balas azuis;\n",
    "    - 22 balas vermelhas;\n",
    "    - 17 balas amarelas.\n",
    "\n",
    "Essa pessoa deixou que ele pegasse 3 balas. Qual a probabilidade da Luiza pegar uma bala de cada na ordem da contagem (azul, vermelha e amarela), dado que é um evento sem reposição?"
   ]
  },
  {
   "cell_type": "code",
   "execution_count": 109,
   "id": "b32ac3d4",
   "metadata": {},
   "outputs": [
    {
     "name": "stdout",
     "output_type": "stream",
     "text": [
      "3.73%\n"
     ]
    }
   ],
   "source": [
    "p = 14*22*17/(53*52*51)\n",
    "print(f'{p*100:.2f}%')"
   ]
  },
  {
   "cell_type": "markdown",
   "id": "9b42655a",
   "metadata": {
    "id": "9b42655a"
   },
   "source": [
    "## Questão 2\n",
    "A probabilidade de dado honesto é conhecido e igual a $1/6$, mas quando vamos testar isso com um dado físico, não necessariamente vai cair uma vez cada face do dado (se eu lançar ele 6 vezes). A ideia é que conforme fazermos vários testes a tendência é que a probabilidade de cada face irá convergir pro valor esperado. \n",
    "\n",
    "Vamos testar este conceito utilizando da programação seguintes os itens abaixo:\n",
    "\n",
    "__A)__ Desenvolva uma função que receba um valor n, onde n é a quantidade de elementos e o objetivo da função é retorna uma _Series_ com k elementos sendo esses elementos números variando de 1 e 6;\n",
    "\n",
    "__B)__ Teste a função para n igual a 10, 100, 1.000, 10.000 e 100.000 casos e para cada um deles calcule a proporção de vezes que aparece cada número;\n",
    "\n",
    "__DIca.:__ utilize a função do _Pandas_ `.value_counts`\n",
    "\n",
    "__C)__ O que podermos dizer sobre a afirmação do enunciado, a tendência é que as probabilidades irâo convergir para $1/6$?"
   ]
  },
  {
   "cell_type": "code",
   "execution_count": 43,
   "id": "a48524ad",
   "metadata": {},
   "outputs": [],
   "source": [
    "#A)\n",
    "import random\n",
    "import pandas as pd\n",
    "\n",
    "def rand_dice(n):\n",
    "    rand = [random.randint(1,6) for i in range(0,n)]\n",
    "    return pd.Series(rand)\n"
   ]
  },
  {
   "cell_type": "code",
   "execution_count": 75,
   "id": "426faf4a",
   "metadata": {},
   "outputs": [
    {
     "name": "stdout",
     "output_type": "stream",
     "text": [
      "n = 10\n",
      "3    0.2\n",
      "6    0.2\n",
      "5    0.2\n",
      "4    0.2\n",
      "2    0.1\n",
      "1    0.1\n",
      "dtype: float64\n",
      "n = 100\n",
      "1    0.22\n",
      "5    0.21\n",
      "6    0.17\n",
      "2    0.15\n",
      "4    0.13\n",
      "3    0.12\n",
      "dtype: float64\n",
      "n = 1000\n",
      "3    0.179\n",
      "5    0.175\n",
      "1    0.169\n",
      "4    0.162\n",
      "6    0.160\n",
      "2    0.155\n",
      "dtype: float64\n",
      "n = 10000\n",
      "3    0.1745\n",
      "6    0.1675\n",
      "4    0.1670\n",
      "5    0.1670\n",
      "1    0.1623\n",
      "2    0.1617\n",
      "dtype: float64\n",
      "n = 100000\n",
      "4    0.16721\n",
      "1    0.16718\n",
      "3    0.16707\n",
      "6    0.16675\n",
      "2    0.16644\n",
      "5    0.16535\n",
      "dtype: float64\n"
     ]
    }
   ],
   "source": [
    "#B)\n",
    "for i in range(1,6):\n",
    "    print(f'n = {10**i}')\n",
    "    print(rand_dice(10**i).value_counts(normalize = True))"
   ]
  },
  {
   "cell_type": "markdown",
   "id": "0287057d",
   "metadata": {},
   "source": [
    "c) a tendência é que as proporções convirjam para às probabilidades (1/6 para cada número neste caso)"
   ]
  },
  {
   "cell_type": "markdown",
   "id": "723953d4-0369-44e2-89de-85cbb6011e64",
   "metadata": {
    "id": "723953d4-0369-44e2-89de-85cbb6011e64"
   },
   "source": [
    "## Questão 3\n",
    "Seja X uma v.a. que representa o valor observado num dado não viesado.\n",
    "\n",
    "    1. Descreva quem é a distribuição de probabilidade de X\n",
    "    2. Calcule $E(X)$\n",
    "    3. Calcule $Var(X)$"
   ]
  },
  {
   "cell_type": "markdown",
   "id": "4cd0486c",
   "metadata": {},
   "source": [
    "distribuição de probabilidade de X = P(X=x) = 1/6 se x pertence a {1,2,3,4,5,6} e 0 caso contrário"
   ]
  },
  {
   "cell_type": "code",
   "execution_count": 73,
   "id": "1a8952ae",
   "metadata": {},
   "outputs": [
    {
     "name": "stdout",
     "output_type": "stream",
     "text": [
      "Esperança = 3.50\n"
     ]
    }
   ],
   "source": [
    "esperanca = 1/6*sum(list(range(1,7)))\n",
    "print(f'Esperança = {esperanca:.2f}')"
   ]
  },
  {
   "cell_type": "code",
   "execution_count": 72,
   "id": "23ef8e68",
   "metadata": {},
   "outputs": [
    {
     "name": "stdout",
     "output_type": "stream",
     "text": [
      "Variância = 2.92\n"
     ]
    }
   ],
   "source": [
    "variancia = 1/6*sum([i**2 for i in range(1,7)]) - (1/6*sum(list(range(1,7))))**2\n",
    "print(f'Variância = {variancia:.2f}')"
   ]
  },
  {
   "cell_type": "markdown",
   "id": "82372fbf-b5eb-434f-8aed-b85bbd3641b0",
   "metadata": {
    "id": "82372fbf-b5eb-434f-8aed-b85bbd3641b0"
   },
   "source": [
    "## Questão 4\n",
    "Seja X uma v.a. que representa a compra de um ativo (X = 1) ou a não compra de um ativo (X = 0) em que o sucesso da compra tem 90% de probabilidade.\n",
    "\n",
    "    1. Descreva quem é a distribuição de probabilidade de X\n",
    "    2. Calcule $E(X)$\n",
    "    3. Calcule $Var(X)$"
   ]
  },
  {
   "cell_type": "markdown",
   "id": "508cf12f",
   "metadata": {},
   "source": [
    "Distribuição de Bernoulli, é igual a 0 comp probabilidade 0.1 e igual a  1 com probabilidade 0.9"
   ]
  },
  {
   "cell_type": "code",
   "execution_count": 76,
   "id": "d3dabf4d",
   "metadata": {},
   "outputs": [
    {
     "data": {
      "text/plain": [
       "0.9"
      ]
     },
     "execution_count": 76,
     "metadata": {},
     "output_type": "execute_result"
    }
   ],
   "source": [
    "#Esperança\n",
    "1*0.9"
   ]
  },
  {
   "cell_type": "code",
   "execution_count": 78,
   "id": "6a716626",
   "metadata": {},
   "outputs": [
    {
     "data": {
      "text/plain": [
       "0.08999999999999997"
      ]
     },
     "execution_count": 78,
     "metadata": {},
     "output_type": "execute_result"
    }
   ],
   "source": [
    "#Variancia\n",
    "1**2*0.9 - 0.9**2"
   ]
  },
  {
   "cell_type": "code",
   "execution_count": 80,
   "id": "26773ec6",
   "metadata": {},
   "outputs": [
    {
     "name": "stdout",
     "output_type": "stream",
     "text": [
      "Esp: 0.9\n",
      "var: 0.09000000000000001\n"
     ]
    }
   ],
   "source": [
    "import numpy as np\n",
    "x = np.array([0,1])\n",
    "prob = np.array([0.1,0.9])\n",
    "\n",
    "esp = np.average(x, weights=prob)\n",
    "var = np.average((x-esp)**2, weights = prob)\n",
    "\n",
    "print(\"Esp:\", esp)\n",
    "print(\"var:\", var)\n"
   ]
  },
  {
   "cell_type": "markdown",
   "id": "4a12dfd0-7697-45fa-9117-06986f5334a0",
   "metadata": {
    "id": "4a12dfd0-7697-45fa-9117-06986f5334a0"
   },
   "source": [
    "## Questão 5\n",
    "Uma relação bem importante entre uma população e uma amostra, é que uma amostra pode ser significativa daquela população (ou seja, podemos inferir que a média e variância da amostra será bem próximo do valor real da população), isto quando essa amostra for grande o suficiente para isso. Vamos fazer algumas simulações utilizando o _Python_ para testar esses conceicos, resolvendo os itens a seguir:\n",
    "\n",
    "__A)__ Crie uma lista com número aleatórios entre 20 e 50 e que essa lista contenham 1 milhão de elementos;\n",
    "\n",
    "__B)__ Calcule a média e a variância para essa lista;\n",
    "\n",
    "__C)__ Faça amostra aleatórias de diversos tamanhos (10, 100, 1.000 e 10.000 elementos) e calcule as mesmas métricas que o item anterior, para avaliar o conceito proposto no enunciado\n",
    "\n",
    "**Dica**: utiliza o método _sample_ do pacote _random_ para fazer a seleção da amostra"
   ]
  },
  {
   "cell_type": "code",
   "execution_count": 104,
   "id": "e75fbe4e",
   "metadata": {},
   "outputs": [
    {
     "data": {
      "text/plain": [
       "[26, 39, 48, 34, 30]"
      ]
     },
     "execution_count": 104,
     "metadata": {},
     "output_type": "execute_result"
    }
   ],
   "source": [
    "np.random.seed(42)\n",
    "\n",
    "# tamanho da população\n",
    "n = 1000000\n",
    "\n",
    "pop = list(np.random.randint(20,51, size = n))\n",
    "pop[:5]"
   ]
  },
  {
   "cell_type": "code",
   "execution_count": 105,
   "id": "b1fee6f0",
   "metadata": {},
   "outputs": [
    {
     "name": "stdout",
     "output_type": "stream",
     "text": [
      "media: 34.992025, variancia: 79.93647739937504\n"
     ]
    }
   ],
   "source": [
    "media = np.mean(pop)\n",
    "variancia = np.var(pop)\n",
    "\n",
    "print(f'media: {media}, variancia: {variancia}')"
   ]
  },
  {
   "cell_type": "markdown",
   "id": "f36953b8",
   "metadata": {
    "id": "f36953b8"
   },
   "source": [
    "## Questão 6\n",
    "Um teste para COVID-19 possui uma taxa de 5% de falso positivo e 1% de falso negativo, ou seja, em 5% dos não-infectados acusa como infectados, e em 1% dos infectados acusa como não infectados. Sabendo que atualmente 1% da população está infectada, calcule a probabilidade de um paciente cujo teste apontou positivo estar realmente infectado."
   ]
  },
  {
   "cell_type": "code",
   "execution_count": 107,
   "id": "3756b3da",
   "metadata": {},
   "outputs": [
    {
     "name": "stdout",
     "output_type": "stream",
     "text": [
      "0.17\n"
     ]
    }
   ],
   "source": [
    "p_doente_positivo = 99/100*1/100\n",
    "p_ndoente_positivo = 5/100*99/100\n",
    "\n",
    "p = p_doente_positivo/(p_doente_positivo + p_ndoente_positivo )\n",
    "print(f'{p:.2f}')"
   ]
  },
  {
   "cell_type": "markdown",
   "id": "LxOQ9MBVKc_Q",
   "metadata": {
    "id": "LxOQ9MBVKc_Q"
   },
   "source": [
    "## Questão 7\n",
    "Se uma amostra aleatória n=250, tem uma média amostral de 51,3 e uma desvio padrão populacional de σ=2. Construa o intervalo com 95% de confiança para a média populacional μ."
   ]
  },
  {
   "cell_type": "code",
   "execution_count": 9,
   "id": "19f50e69",
   "metadata": {
    "ExecuteTime": {
     "end_time": "2022-04-06T20:41:02.056479Z",
     "start_time": "2022-04-06T20:41:02.050492Z"
    }
   },
   "outputs": [
    {
     "name": "stdout",
     "output_type": "stream",
     "text": [
      "Media populacional μ esta no seguinte intervalo com 95% de confiança: (51.0521, 51.5479)\n"
     ]
    }
   ],
   "source": [
    "from scipy.stats import norm\n",
    "media_amostral = 51.3\n",
    "dp_amostral = 2/250**0.5\n",
    "\n",
    "X = norm(loc = media_amostral, scale = dp_amostral)\n",
    "\n",
    "erro_inferencial = X.ppf(0.95+0.05/2)- media_amostral\n",
    "\n",
    "print(f'Media populacional μ esta no seguinte intervalo com 95% de confiança: ({media_amostral-erro_inferencial :.4f}, {media_amostral+erro_inferencial:.4f})')"
   ]
  },
  {
   "cell_type": "code",
   "execution_count": 4,
   "id": "b09edb43",
   "metadata": {
    "ExecuteTime": {
     "end_time": "2022-04-06T19:33:55.461543Z",
     "start_time": "2022-04-06T19:33:55.443471Z"
    }
   },
   "outputs": [
    {
     "data": {
      "text/plain": [
       "0.24791801292182214"
      ]
     },
     "execution_count": 4,
     "metadata": {},
     "output_type": "execute_result"
    }
   ],
   "source": [
    "erro_inferencial"
   ]
  },
  {
   "cell_type": "code",
   "execution_count": 7,
   "id": "55aea51a",
   "metadata": {
    "ExecuteTime": {
     "end_time": "2022-04-06T20:22:31.425433Z",
     "start_time": "2022-04-06T20:22:31.413463Z"
    }
   },
   "outputs": [
    {
     "data": {
      "text/plain": [
       "0.24792256855720093"
      ]
     },
     "execution_count": 7,
     "metadata": {},
     "output_type": "execute_result"
    }
   ],
   "source": [
    "\n",
    "sigma = 2 #desvio padrao populacional\n",
    "n = 250 #tamanho da amostra\n",
    "media_amostral = 51.3 #media amostral\n",
    "\n",
    "significancia = 0.05\n",
    "confianca = 0.95\n",
    "\n",
    "z = 1.96\n",
    "\n",
    "z * sigma / n**0.5"
   ]
  },
  {
   "cell_type": "code",
   "execution_count": 6,
   "id": "82fa14ad",
   "metadata": {
    "ExecuteTime": {
     "end_time": "2022-04-06T20:21:15.493224Z",
     "start_time": "2022-04-06T20:21:15.488237Z"
    }
   },
   "outputs": [
    {
     "data": {
      "text/plain": [
       "0.2642809524866912"
      ]
     },
     "execution_count": 6,
     "metadata": {},
     "output_type": "execute_result"
    }
   ],
   "source": [
    "1.95996* sigma / n**0.5"
   ]
  },
  {
   "cell_type": "markdown",
   "id": "Mfa5J5nlKnKW",
   "metadata": {
    "id": "Mfa5J5nlKnKW"
   },
   "source": [
    "## Questão 8\n",
    "Sabe-se que a vida em horas de um bulbo de lâmpada de 75 W é distribuída de forma aproximadamente normal com desvio padrão de σ = 25. Uma amostra aleatória de 200 bulbos tem uma vida media de 1.014 horas. Construa um intervalo de confiança de 95% para a vida média."
   ]
  },
  {
   "cell_type": "code",
   "execution_count": 10,
   "id": "3d10d12f",
   "metadata": {
    "ExecuteTime": {
     "end_time": "2022-04-06T20:41:46.715703Z",
     "start_time": "2022-04-06T20:41:46.709720Z"
    }
   },
   "outputs": [
    {
     "name": "stdout",
     "output_type": "stream",
     "text": [
      "Media populacional μ esta no seguinte intervalo com 95% de confiança: (1010.5352, 1017.4648)\n"
     ]
    }
   ],
   "source": [
    "media_amostral = 1014\n",
    "dp_amostral = 25/200**0.5\n",
    "\n",
    "X = norm(loc = media_amostral, scale = dp_amostral)\n",
    "erro_inferencial = X.ppf(0.95+0.05/2)- media_amostral\n",
    "\n",
    "print(f'Media populacional μ esta no seguinte intervalo com 95% de confiança: ({media_amostral-erro_inferencial :.4f}, {media_amostral+erro_inferencial:.4f})')"
   ]
  },
  {
   "cell_type": "markdown",
   "id": "uVHWBW-Qh0l2",
   "metadata": {
    "id": "uVHWBW-Qh0l2"
   },
   "source": [
    "## Questão 9\n",
    "\n",
    "Para decidirmos se os habitantes de uma ilha são descendentes da civilização A ou B, iremos proceder do seguinte modo:\n",
    "\n",
    "(i) selecionamos uma amostra de 100 moradores adultos da ilha, e determinamos a altura média deles;\n",
    "\n",
    "(ii) se essa altura média for superior a 176, diremos que são descendentes de B; caso contrário, são descendentes de A.\n",
    "\n",
    "Os parâmetros das alturas das duas civilizações são:\n",
    "A : μ = 175 e σ = 10;\n",
    "B : μ = 177 e σ = 10.\n",
    "\n",
    "Definamos:\n",
    "\n",
    "$H_0: \\overline{X} > 176$\n",
    "\n",
    "$H_1: \\overline{X} \\leq 176$\n",
    "\n",
    "(a) Defina os erros do tipo I e do tipo II e suas probabilidadades de ocorrerem.\n",
    "\n",
    "(b) Qual deve ser a regra de decisão se quisermos fixar a probabilidade do erro de tipo I em $5\\%$? Qual a probabilidade do erro de tipo II, nesse caso?"
   ]
  },
  {
   "cell_type": "markdown",
   "id": "83e52d72",
   "metadata": {},
   "source": [
    "a) **erro do tipo 1** -  afirmar que parafuso é descendente do tipo A quando, na verdade, é descendente do tipo B.  \n",
    "probabilidade de uma amostra de 100 variáveis do tipo B ter uma média amostral <= 176.  \n",
    "P(x̄ <= 176 | X~Normal(177,100)) onde x̄ é uma média amostral de 100 amostras.  \n",
    "  \n",
    " **erro do tipo 2** -  afirmar que parafuso é descendente do tipo B quando, na verdade, é descendente do tipo A.  \n",
    "probabilidade de uma amostra de 100 variáveis do tipo B ter uma média amostral > 176.  \n",
    "P(x̄ > 176 | X~Normal(175,100)) onde x̄ é uma média amostral de 100 amostras."
   ]
  },
  {
   "cell_type": "code",
   "execution_count": 29,
   "id": "6d9b8077",
   "metadata": {
    "ExecuteTime": {
     "end_time": "2022-04-06T23:15:35.082295Z",
     "start_time": "2022-04-06T23:15:35.070335Z"
    }
   },
   "outputs": [
    {
     "name": "stdout",
     "output_type": "stream",
     "text": [
      "Probabilidade de erro do tipo I:0.15866\n"
     ]
    }
   ],
   "source": [
    "#probabilidade de ocorrer um erro do tipo 1\n",
    "media_amostral_B = norm(loc=177, scale=1)# x̄ ~ N(177,10/Sqrt(100))\n",
    "p_erro_I = media_amostral_B.cdf(176)# P(x̄<=176)\n",
    "\n",
    "print(f'Probabilidade de erro do tipo I:{p_erro_I:.5f}')"
   ]
  },
  {
   "cell_type": "code",
   "execution_count": 30,
   "id": "8c6d7101",
   "metadata": {
    "ExecuteTime": {
     "end_time": "2022-04-06T23:15:37.438576Z",
     "start_time": "2022-04-06T23:15:37.432597Z"
    }
   },
   "outputs": [
    {
     "name": "stdout",
     "output_type": "stream",
     "text": [
      "Probabilidade de erro do tipo II:0.15866\n"
     ]
    }
   ],
   "source": [
    "#probabilidade de ocorrer um erro do tipo 2\n",
    "media_amostral_A = norm(loc=175, scale=1)# x̄ ~ N(175,10/Sqrt(100))\n",
    "p_erro_II = 1 - media_amostral_A.cdf(176)# P(x̄>176)\n",
    "\n",
    "print(f'Probabilidade de erro do tipo II:{p_erro_II:.5f}')"
   ]
  },
  {
   "cell_type": "code",
   "execution_count": 33,
   "id": "923bbae9",
   "metadata": {
    "ExecuteTime": {
     "end_time": "2022-04-06T23:26:04.882322Z",
     "start_time": "2022-04-06T23:26:04.874343Z"
    }
   },
   "outputs": [
    {
     "name": "stdout",
     "output_type": "stream",
     "text": [
      "A região crítica é: x_barra <= 175.36\n",
      "Porbabilidade do erro do tipo II: 0.36124\n"
     ]
    }
   ],
   "source": [
    "#b)\n",
    "media_amostral_B = norm(loc=177, scale=1)\n",
    "x_critico = media_amostral_B.ppf(0.05)\n",
    "\n",
    "print(f'A região crítica é: x_barra <= {x_critico:.2f}')\n",
    "\n",
    "media_amostral_A = norm(loc=175, scale=1)\n",
    "p_erro_II = 1 - media_amostral_A.cdf(x_critico)\n",
    "\n",
    "print(f'Porbabilidade do erro do tipo II: {p_erro_II:.5f}')"
   ]
  },
  {
   "cell_type": "code",
   "execution_count": 34,
   "id": "3a59398d",
   "metadata": {
    "ExecuteTime": {
     "end_time": "2022-04-06T23:37:46.336314Z",
     "start_time": "2022-04-06T23:37:46.320332Z"
    }
   },
   "outputs": [
    {
     "name": "stdout",
     "output_type": "stream",
     "text": [
      "Probabilidade de erro do tipo I:0.10565\n"
     ]
    }
   ],
   "source": [
    "media_amostral_B = norm(loc=155, scale=4)\n",
    "p_erro_I = media_amostral_B.cdf(150)\n",
    "\n",
    "print(f'Probabilidade de erro do tipo I:{p_erro_I:.5f}')"
   ]
  },
  {
   "cell_type": "code",
   "execution_count": 37,
   "id": "9f48a600",
   "metadata": {
    "ExecuteTime": {
     "end_time": "2022-04-06T23:42:56.785562Z",
     "start_time": "2022-04-06T23:42:56.779580Z"
    }
   },
   "outputs": [
    {
     "name": "stdout",
     "output_type": "stream",
     "text": [
      "Probabilidade de erro do tipo II:0.01861\n"
     ]
    }
   ],
   "source": [
    "media_amostral_A = norm(loc=145, scale=2.4)\n",
    "p_erro_II = 1- media_amostral_A.cdf(150)\n",
    "\n",
    "print(f'Probabilidade de erro do tipo II:{p_erro_II:.5f}')"
   ]
  }
 ],
 "metadata": {
  "colab": {
   "name": "Cópia de lista_ex1.ipynb",
   "provenance": []
  },
  "kernelspec": {
   "display_name": "Python 3 (ipykernel)",
   "language": "python",
   "name": "python3"
  },
  "language_info": {
   "codemirror_mode": {
    "name": "ipython",
    "version": 3
   },
   "file_extension": ".py",
   "mimetype": "text/x-python",
   "name": "python",
   "nbconvert_exporter": "python",
   "pygments_lexer": "ipython3",
   "version": "3.9.7"
  },
  "varInspector": {
   "cols": {
    "lenName": 16,
    "lenType": 16,
    "lenVar": 40
   },
   "kernels_config": {
    "python": {
     "delete_cmd_postfix": "",
     "delete_cmd_prefix": "del ",
     "library": "var_list.py",
     "varRefreshCmd": "print(var_dic_list())"
    },
    "r": {
     "delete_cmd_postfix": ") ",
     "delete_cmd_prefix": "rm(",
     "library": "var_list.r",
     "varRefreshCmd": "cat(var_dic_list()) "
    }
   },
   "types_to_exclude": [
    "module",
    "function",
    "builtin_function_or_method",
    "instance",
    "_Feature"
   ],
   "window_display": false
  }
 },
 "nbformat": 4,
 "nbformat_minor": 5
}
