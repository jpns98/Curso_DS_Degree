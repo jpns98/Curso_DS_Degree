{
 "cells": [
  {
   "cell_type": "markdown",
   "metadata": {
    "cell_id": "eb0fc493-c1eb-4d6b-841b-2fa214d4ab1a",
    "deepnote_cell_type": "markdown",
    "tags": []
   },
   "source": [
    "[Kaggle](https://www.kaggle.com/imakash3011/customer-personality-analysis)\n",
    "\n",
    "#### Equipe:\n",
    "* Airton Carneiro\n",
    "* João Pedro do Nascimento Sandolin\n",
    "* Luís Eraldo Cassias Pereira\n",
    "* Tulio de Souza Freire\n",
    "\n",
    "### Dataset: Customer Personality"
   ]
  },
  {
   "cell_type": "markdown",
   "metadata": {
    "cell_id": "f480276f-8471-4050-b332-a853f584b6e2",
    "deepnote_cell_type": "markdown",
    "tags": []
   },
   "source": [
    "### **Content Attributes**\n",
    "\n",
    "##### People\n",
    "\n",
    "* ID: Customer's unique identifier\n",
    "* Year_Birth: Customer's birth year\n",
    "* Education: Customer's education level\n",
    "* Marital_Status: Customer's marital status\n",
    "* Income: Customer's yearly household income\n",
    "* Kidhome: Number of children in customer's household\n",
    "* Teenhome: Number of teenagers in customer's household\n",
    "* Dt_Customer: Date of customer's enrollment with the company\n",
    "* Recency: Number of days since customer's last purchase\n",
    "* Complain: 1 if the customer complained in the last 2 years, 0 otherwise\n",
    "\n",
    "##### Products\n",
    "\n",
    "* MntWines: Amount spent on wine in last 2 years\n",
    "* MntFruits: Amount spent on fruits in last 2 years\n",
    "* MntMeatProducts: Amount spent on meat in last 2 years\n",
    "* MntFishProducts: Amount spent on fish in last 2 years\n",
    "* MntSweetProducts: Amount spent on sweets in last 2 years\n",
    "* MntGoldProds: Amount spent on gold in last 2 years\n",
    "\n",
    "##### Promotion\n",
    "\n",
    "* NumDealsPurchases: Number of purchases made with a discount\n",
    "* AcceptedCmp1: 1 if customer accepted the offer in the 1st campaign, 0 otherwise\n",
    "* AcceptedCmp2: 1 if customer accepted the offer in the 2nd campaign, 0 otherwise\n",
    "* AcceptedCmp3: 1 if customer accepted the offer in the 3rd campaign, 0 otherwise\n",
    "* AcceptedCmp4: 1 if customer accepted the offer in the 4th campaign, 0 otherwise\n",
    "* AcceptedCmp5: 1 if customer accepted the offer in the 5th campaign, 0 otherwise\n",
    "* Response: 1 if customer accepted the offer in the last campaign, 0 otherwise\n",
    "\n",
    "##### Place\n",
    "\n",
    "* NumWebPurchases: Number of purchases made through the company’s website\n",
    "* NumCatalogPurchases: Number of purchases made using a catalogue\n",
    "* NumStorePurchases: Number of purchases made directly in stores\n",
    "* NumWebVisitsMonth: Number of visits to company’s website in the last month"
   ]
  },
  {
   "cell_type": "markdown",
   "metadata": {
    "cell_id": "843738f5-cf08-42aa-bd06-0d0d4bd73303",
    "deepnote_cell_type": "markdown",
    "tags": []
   },
   "source": [
    "#### Importação das bibliotecas utilizadas e confiurações.\n"
   ]
  },
  {
   "cell_type": "code",
   "execution_count": 1,
   "metadata": {
    "ExecuteTime": {
     "end_time": "2022-01-31T23:39:21.727485Z",
     "start_time": "2022-01-31T23:39:19.945772Z"
    },
    "cell_id": "07ff8ec3-a136-40a3-9f02-173ffe64691c",
    "deepnote_cell_type": "code",
    "deepnote_to_be_reexecuted": false,
    "execution_millis": 1147,
    "execution_start": 1643669547334,
    "source_hash": "805344d",
    "tags": []
   },
   "outputs": [],
   "source": [
    "import numpy as np\n",
    "import pandas as pd\n",
    "from datetime import datetime, timedelta\n",
    "import matplotlib.pyplot as plt\n",
    "\n",
    "pd.options.display.float_format= \"{:,.2f}\".format"
   ]
  },
  {
   "cell_type": "markdown",
   "metadata": {
    "cell_id": "36853648-6854-4324-a088-056991b2ff79",
    "deepnote_cell_type": "markdown",
    "tags": []
   },
   "source": [
    "### Carregando e ajustando o Dataset"
   ]
  },
  {
   "cell_type": "markdown",
   "metadata": {
    "cell_id": "7645e16e-3e58-4cab-bd51-2d9614b5b590",
    "deepnote_cell_type": "markdown",
    "tags": []
   },
   "source": [
    "#### Lendo o Dataset e exibindo algumas linhas para se ter uma ideia do que há nele."
   ]
  },
  {
   "cell_type": "code",
   "execution_count": 2,
   "metadata": {
    "ExecuteTime": {
     "end_time": "2022-01-31T23:39:21.775380Z",
     "start_time": "2022-01-31T23:39:21.728481Z"
    },
    "cell_id": "6bfd9926-7ccf-447e-9639-144ba6f02bdd",
    "deepnote_cell_type": "code",
    "deepnote_to_be_reexecuted": false,
    "execution_millis": 135,
    "execution_start": 1643669548486,
    "source_hash": "2bea9041",
    "tags": []
   },
   "outputs": [
    {
     "data": {
      "text/html": [
       "<div>\n",
       "<style scoped>\n",
       "    .dataframe tbody tr th:only-of-type {\n",
       "        vertical-align: middle;\n",
       "    }\n",
       "\n",
       "    .dataframe tbody tr th {\n",
       "        vertical-align: top;\n",
       "    }\n",
       "\n",
       "    .dataframe thead th {\n",
       "        text-align: right;\n",
       "    }\n",
       "</style>\n",
       "<table border=\"1\" class=\"dataframe\">\n",
       "  <thead>\n",
       "    <tr style=\"text-align: right;\">\n",
       "      <th></th>\n",
       "      <th>ID</th>\n",
       "      <th>Year_Birth</th>\n",
       "      <th>Education</th>\n",
       "      <th>Marital_Status</th>\n",
       "      <th>Income</th>\n",
       "      <th>Kidhome</th>\n",
       "      <th>Teenhome</th>\n",
       "      <th>Dt_Customer</th>\n",
       "      <th>Recency</th>\n",
       "      <th>MntWines</th>\n",
       "      <th>...</th>\n",
       "      <th>NumWebVisitsMonth</th>\n",
       "      <th>AcceptedCmp3</th>\n",
       "      <th>AcceptedCmp4</th>\n",
       "      <th>AcceptedCmp5</th>\n",
       "      <th>AcceptedCmp1</th>\n",
       "      <th>AcceptedCmp2</th>\n",
       "      <th>Complain</th>\n",
       "      <th>Z_CostContact</th>\n",
       "      <th>Z_Revenue</th>\n",
       "      <th>Response</th>\n",
       "    </tr>\n",
       "  </thead>\n",
       "  <tbody>\n",
       "    <tr>\n",
       "      <th>0</th>\n",
       "      <td>5524</td>\n",
       "      <td>1957</td>\n",
       "      <td>Graduation</td>\n",
       "      <td>Single</td>\n",
       "      <td>58,138.00</td>\n",
       "      <td>0</td>\n",
       "      <td>0</td>\n",
       "      <td>04-09-2012</td>\n",
       "      <td>58</td>\n",
       "      <td>635</td>\n",
       "      <td>...</td>\n",
       "      <td>7</td>\n",
       "      <td>0</td>\n",
       "      <td>0</td>\n",
       "      <td>0</td>\n",
       "      <td>0</td>\n",
       "      <td>0</td>\n",
       "      <td>0</td>\n",
       "      <td>3</td>\n",
       "      <td>11</td>\n",
       "      <td>1</td>\n",
       "    </tr>\n",
       "    <tr>\n",
       "      <th>1</th>\n",
       "      <td>2174</td>\n",
       "      <td>1954</td>\n",
       "      <td>Graduation</td>\n",
       "      <td>Single</td>\n",
       "      <td>46,344.00</td>\n",
       "      <td>1</td>\n",
       "      <td>1</td>\n",
       "      <td>08-03-2014</td>\n",
       "      <td>38</td>\n",
       "      <td>11</td>\n",
       "      <td>...</td>\n",
       "      <td>5</td>\n",
       "      <td>0</td>\n",
       "      <td>0</td>\n",
       "      <td>0</td>\n",
       "      <td>0</td>\n",
       "      <td>0</td>\n",
       "      <td>0</td>\n",
       "      <td>3</td>\n",
       "      <td>11</td>\n",
       "      <td>0</td>\n",
       "    </tr>\n",
       "    <tr>\n",
       "      <th>2</th>\n",
       "      <td>4141</td>\n",
       "      <td>1965</td>\n",
       "      <td>Graduation</td>\n",
       "      <td>Together</td>\n",
       "      <td>71,613.00</td>\n",
       "      <td>0</td>\n",
       "      <td>0</td>\n",
       "      <td>21-08-2013</td>\n",
       "      <td>26</td>\n",
       "      <td>426</td>\n",
       "      <td>...</td>\n",
       "      <td>4</td>\n",
       "      <td>0</td>\n",
       "      <td>0</td>\n",
       "      <td>0</td>\n",
       "      <td>0</td>\n",
       "      <td>0</td>\n",
       "      <td>0</td>\n",
       "      <td>3</td>\n",
       "      <td>11</td>\n",
       "      <td>0</td>\n",
       "    </tr>\n",
       "    <tr>\n",
       "      <th>3</th>\n",
       "      <td>6182</td>\n",
       "      <td>1984</td>\n",
       "      <td>Graduation</td>\n",
       "      <td>Together</td>\n",
       "      <td>26,646.00</td>\n",
       "      <td>1</td>\n",
       "      <td>0</td>\n",
       "      <td>10-02-2014</td>\n",
       "      <td>26</td>\n",
       "      <td>11</td>\n",
       "      <td>...</td>\n",
       "      <td>6</td>\n",
       "      <td>0</td>\n",
       "      <td>0</td>\n",
       "      <td>0</td>\n",
       "      <td>0</td>\n",
       "      <td>0</td>\n",
       "      <td>0</td>\n",
       "      <td>3</td>\n",
       "      <td>11</td>\n",
       "      <td>0</td>\n",
       "    </tr>\n",
       "    <tr>\n",
       "      <th>4</th>\n",
       "      <td>5324</td>\n",
       "      <td>1981</td>\n",
       "      <td>PhD</td>\n",
       "      <td>Married</td>\n",
       "      <td>58,293.00</td>\n",
       "      <td>1</td>\n",
       "      <td>0</td>\n",
       "      <td>19-01-2014</td>\n",
       "      <td>94</td>\n",
       "      <td>173</td>\n",
       "      <td>...</td>\n",
       "      <td>5</td>\n",
       "      <td>0</td>\n",
       "      <td>0</td>\n",
       "      <td>0</td>\n",
       "      <td>0</td>\n",
       "      <td>0</td>\n",
       "      <td>0</td>\n",
       "      <td>3</td>\n",
       "      <td>11</td>\n",
       "      <td>0</td>\n",
       "    </tr>\n",
       "  </tbody>\n",
       "</table>\n",
       "<p>5 rows × 29 columns</p>\n",
       "</div>"
      ],
      "text/plain": [
       "     ID  Year_Birth   Education Marital_Status    Income  Kidhome  Teenhome  \\\n",
       "0  5524        1957  Graduation         Single 58,138.00        0         0   \n",
       "1  2174        1954  Graduation         Single 46,344.00        1         1   \n",
       "2  4141        1965  Graduation       Together 71,613.00        0         0   \n",
       "3  6182        1984  Graduation       Together 26,646.00        1         0   \n",
       "4  5324        1981         PhD        Married 58,293.00        1         0   \n",
       "\n",
       "  Dt_Customer  Recency  MntWines  ...  NumWebVisitsMonth  AcceptedCmp3  \\\n",
       "0  04-09-2012       58       635  ...                  7             0   \n",
       "1  08-03-2014       38        11  ...                  5             0   \n",
       "2  21-08-2013       26       426  ...                  4             0   \n",
       "3  10-02-2014       26        11  ...                  6             0   \n",
       "4  19-01-2014       94       173  ...                  5             0   \n",
       "\n",
       "   AcceptedCmp4  AcceptedCmp5  AcceptedCmp1  AcceptedCmp2  Complain  \\\n",
       "0             0             0             0             0         0   \n",
       "1             0             0             0             0         0   \n",
       "2             0             0             0             0         0   \n",
       "3             0             0             0             0         0   \n",
       "4             0             0             0             0         0   \n",
       "\n",
       "   Z_CostContact  Z_Revenue  Response  \n",
       "0              3         11         1  \n",
       "1              3         11         0  \n",
       "2              3         11         0  \n",
       "3              3         11         0  \n",
       "4              3         11         0  \n",
       "\n",
       "[5 rows x 29 columns]"
      ]
     },
     "execution_count": 2,
     "metadata": {},
     "output_type": "execute_result"
    }
   ],
   "source": [
    "df = pd.read_csv('dados/marketing_campaign.csv', sep='\\t')\n",
    "df.head(5)"
   ]
  },
  {
   "cell_type": "markdown",
   "metadata": {
    "cell_id": "f2127d10-a6b4-4fd6-9d78-e8835f1afaea",
    "deepnote_cell_type": "markdown",
    "tags": []
   },
   "source": [
    "#### Ao analisar o Dataset exibido acima, verificamos que as colunas não estão na mesma ordem da descrição e que existem duas colunas não descritas.\n",
    "\n",
    "#### Para tornar a interpretação mais fácil,  as colunas foram renomeadas para o português."
   ]
  },
  {
   "cell_type": "code",
   "execution_count": 3,
   "metadata": {
    "ExecuteTime": {
     "end_time": "2022-01-31T23:39:21.791315Z",
     "start_time": "2022-01-31T23:39:21.776354Z"
    },
    "cell_id": "e4e31891-52cf-4b79-a19a-0dd9790f00aa",
    "deepnote_cell_type": "code",
    "deepnote_table_loading": false,
    "deepnote_table_state": {
     "filters": [],
     "pageIndex": 0,
     "pageSize": 10,
     "sortBy": []
    },
    "deepnote_to_be_reexecuted": false,
    "execution_millis": 120,
    "execution_start": 1643669548627,
    "source_hash": "9e757848",
    "tags": []
   },
   "outputs": [
    {
     "data": {
      "text/html": [
       "<div>\n",
       "<style scoped>\n",
       "    .dataframe tbody tr th:only-of-type {\n",
       "        vertical-align: middle;\n",
       "    }\n",
       "\n",
       "    .dataframe tbody tr th {\n",
       "        vertical-align: top;\n",
       "    }\n",
       "\n",
       "    .dataframe thead th {\n",
       "        text-align: right;\n",
       "    }\n",
       "</style>\n",
       "<table border=\"1\" class=\"dataframe\">\n",
       "  <thead>\n",
       "    <tr style=\"text-align: right;\">\n",
       "      <th></th>\n",
       "      <th>ID</th>\n",
       "      <th>Ano_Nasc</th>\n",
       "      <th>Escolaridade</th>\n",
       "      <th>Estado_Civil</th>\n",
       "      <th>Renda_Familiar_Anual</th>\n",
       "      <th>Qtd_Criancas</th>\n",
       "      <th>Qtd_Adolesc</th>\n",
       "      <th>Dt_Cadastro</th>\n",
       "      <th>Ult_Compra_EmDias</th>\n",
       "      <th>Gastos_Em_Vinho_Ult2Anos</th>\n",
       "      <th>...</th>\n",
       "      <th>Qtd_Acessos_AoSite_UltMes</th>\n",
       "      <th>Oferta_Aceita_3aCamp</th>\n",
       "      <th>Oferta_Aceita_4aCamp</th>\n",
       "      <th>Oferta_Aceita_5aCamp</th>\n",
       "      <th>Oferta_Aceita_1aCamp</th>\n",
       "      <th>Oferta_Aceita_2aCamp</th>\n",
       "      <th>Cat_Cliente_Reclamou_Ult2Anos</th>\n",
       "      <th>Col_nao_descrita01</th>\n",
       "      <th>Col_nao_descrita02</th>\n",
       "      <th>Oferta_Aceita_UltCamp</th>\n",
       "    </tr>\n",
       "  </thead>\n",
       "  <tbody>\n",
       "    <tr>\n",
       "      <th>0</th>\n",
       "      <td>5524</td>\n",
       "      <td>1957</td>\n",
       "      <td>Graduation</td>\n",
       "      <td>Single</td>\n",
       "      <td>58,138.00</td>\n",
       "      <td>0</td>\n",
       "      <td>0</td>\n",
       "      <td>04-09-2012</td>\n",
       "      <td>58</td>\n",
       "      <td>635</td>\n",
       "      <td>...</td>\n",
       "      <td>7</td>\n",
       "      <td>0</td>\n",
       "      <td>0</td>\n",
       "      <td>0</td>\n",
       "      <td>0</td>\n",
       "      <td>0</td>\n",
       "      <td>0</td>\n",
       "      <td>3</td>\n",
       "      <td>11</td>\n",
       "      <td>1</td>\n",
       "    </tr>\n",
       "    <tr>\n",
       "      <th>1</th>\n",
       "      <td>2174</td>\n",
       "      <td>1954</td>\n",
       "      <td>Graduation</td>\n",
       "      <td>Single</td>\n",
       "      <td>46,344.00</td>\n",
       "      <td>1</td>\n",
       "      <td>1</td>\n",
       "      <td>08-03-2014</td>\n",
       "      <td>38</td>\n",
       "      <td>11</td>\n",
       "      <td>...</td>\n",
       "      <td>5</td>\n",
       "      <td>0</td>\n",
       "      <td>0</td>\n",
       "      <td>0</td>\n",
       "      <td>0</td>\n",
       "      <td>0</td>\n",
       "      <td>0</td>\n",
       "      <td>3</td>\n",
       "      <td>11</td>\n",
       "      <td>0</td>\n",
       "    </tr>\n",
       "    <tr>\n",
       "      <th>2</th>\n",
       "      <td>4141</td>\n",
       "      <td>1965</td>\n",
       "      <td>Graduation</td>\n",
       "      <td>Together</td>\n",
       "      <td>71,613.00</td>\n",
       "      <td>0</td>\n",
       "      <td>0</td>\n",
       "      <td>21-08-2013</td>\n",
       "      <td>26</td>\n",
       "      <td>426</td>\n",
       "      <td>...</td>\n",
       "      <td>4</td>\n",
       "      <td>0</td>\n",
       "      <td>0</td>\n",
       "      <td>0</td>\n",
       "      <td>0</td>\n",
       "      <td>0</td>\n",
       "      <td>0</td>\n",
       "      <td>3</td>\n",
       "      <td>11</td>\n",
       "      <td>0</td>\n",
       "    </tr>\n",
       "    <tr>\n",
       "      <th>3</th>\n",
       "      <td>6182</td>\n",
       "      <td>1984</td>\n",
       "      <td>Graduation</td>\n",
       "      <td>Together</td>\n",
       "      <td>26,646.00</td>\n",
       "      <td>1</td>\n",
       "      <td>0</td>\n",
       "      <td>10-02-2014</td>\n",
       "      <td>26</td>\n",
       "      <td>11</td>\n",
       "      <td>...</td>\n",
       "      <td>6</td>\n",
       "      <td>0</td>\n",
       "      <td>0</td>\n",
       "      <td>0</td>\n",
       "      <td>0</td>\n",
       "      <td>0</td>\n",
       "      <td>0</td>\n",
       "      <td>3</td>\n",
       "      <td>11</td>\n",
       "      <td>0</td>\n",
       "    </tr>\n",
       "    <tr>\n",
       "      <th>4</th>\n",
       "      <td>5324</td>\n",
       "      <td>1981</td>\n",
       "      <td>PhD</td>\n",
       "      <td>Married</td>\n",
       "      <td>58,293.00</td>\n",
       "      <td>1</td>\n",
       "      <td>0</td>\n",
       "      <td>19-01-2014</td>\n",
       "      <td>94</td>\n",
       "      <td>173</td>\n",
       "      <td>...</td>\n",
       "      <td>5</td>\n",
       "      <td>0</td>\n",
       "      <td>0</td>\n",
       "      <td>0</td>\n",
       "      <td>0</td>\n",
       "      <td>0</td>\n",
       "      <td>0</td>\n",
       "      <td>3</td>\n",
       "      <td>11</td>\n",
       "      <td>0</td>\n",
       "    </tr>\n",
       "  </tbody>\n",
       "</table>\n",
       "<p>5 rows × 29 columns</p>\n",
       "</div>"
      ],
      "text/plain": [
       "     ID  Ano_Nasc Escolaridade Estado_Civil  Renda_Familiar_Anual  \\\n",
       "0  5524      1957   Graduation       Single             58,138.00   \n",
       "1  2174      1954   Graduation       Single             46,344.00   \n",
       "2  4141      1965   Graduation     Together             71,613.00   \n",
       "3  6182      1984   Graduation     Together             26,646.00   \n",
       "4  5324      1981          PhD      Married             58,293.00   \n",
       "\n",
       "   Qtd_Criancas  Qtd_Adolesc Dt_Cadastro  Ult_Compra_EmDias  \\\n",
       "0             0            0  04-09-2012                 58   \n",
       "1             1            1  08-03-2014                 38   \n",
       "2             0            0  21-08-2013                 26   \n",
       "3             1            0  10-02-2014                 26   \n",
       "4             1            0  19-01-2014                 94   \n",
       "\n",
       "   Gastos_Em_Vinho_Ult2Anos  ...  Qtd_Acessos_AoSite_UltMes  \\\n",
       "0                       635  ...                          7   \n",
       "1                        11  ...                          5   \n",
       "2                       426  ...                          4   \n",
       "3                        11  ...                          6   \n",
       "4                       173  ...                          5   \n",
       "\n",
       "   Oferta_Aceita_3aCamp  Oferta_Aceita_4aCamp  Oferta_Aceita_5aCamp  \\\n",
       "0                     0                     0                     0   \n",
       "1                     0                     0                     0   \n",
       "2                     0                     0                     0   \n",
       "3                     0                     0                     0   \n",
       "4                     0                     0                     0   \n",
       "\n",
       "   Oferta_Aceita_1aCamp  Oferta_Aceita_2aCamp  Cat_Cliente_Reclamou_Ult2Anos  \\\n",
       "0                     0                     0                              0   \n",
       "1                     0                     0                              0   \n",
       "2                     0                     0                              0   \n",
       "3                     0                     0                              0   \n",
       "4                     0                     0                              0   \n",
       "\n",
       "   Col_nao_descrita01  Col_nao_descrita02  Oferta_Aceita_UltCamp  \n",
       "0                   3                  11                      1  \n",
       "1                   3                  11                      0  \n",
       "2                   3                  11                      0  \n",
       "3                   3                  11                      0  \n",
       "4                   3                  11                      0  \n",
       "\n",
       "[5 rows x 29 columns]"
      ]
     },
     "execution_count": 3,
     "metadata": {},
     "output_type": "execute_result"
    }
   ],
   "source": [
    "\n",
    "novos_nomes_das_cols = [\n",
    "    'ID',                            'Ano_Nasc',\n",
    "    'Escolaridade',                  'Estado_Civil',\n",
    "    'Renda_Familiar_Anual',          'Qtd_Criancas',\n",
    "    'Qtd_Adolesc',                   'Dt_Cadastro', \n",
    "    'Ult_Compra_EmDias',             'Gastos_Em_Vinho_Ult2Anos',\n",
    "    'Gastos_Em_Frutas_Ult2Anos',     'Gastos_Em_Carnet2Ano',\n",
    "    'Gastos_Em_Pescados_Ult2Anos',   'Gastos_Em_Doces_Ult2Anos',\n",
    "    'Gastos_Em_Prod_Ouro_Ult2Anos',  'Qtd_Compras_ComDesconto',\n",
    "    'Qtd_Compras_OnLine',            'Qtd_Compras_Catalogo',\n",
    "    'Qtd_Compras_Loja',              'Qtd_Acessos_AoSite_UltMes',\n",
    "    'Oferta_Aceita_3aCamp',          'Oferta_Aceita_4aCamp',\n",
    "    'Oferta_Aceita_5aCamp',          'Oferta_Aceita_1aCamp',\n",
    "    'Oferta_Aceita_2aCamp',          'Cat_Cliente_Reclamou_Ult2Anos',\n",
    "    'Col_nao_descrita01',            'Col_nao_descrita02',\n",
    "    'Oferta_Aceita_UltCamp'                 \n",
    "    ]\n",
    "\n",
    "df.columns = novos_nomes_das_cols\n",
    "df.head()"
   ]
  },
  {
   "cell_type": "markdown",
   "metadata": {
    "cell_id": "e9d499bc-29c8-4f95-81a2-1dbf4e63fc70",
    "deepnote_cell_type": "markdown",
    "tags": []
   },
   "source": [
    "#### Checando se há apenas uma entrada por ID"
   ]
  },
  {
   "cell_type": "code",
   "execution_count": 4,
   "metadata": {
    "ExecuteTime": {
     "end_time": "2022-01-31T23:39:21.806298Z",
     "start_time": "2022-01-31T23:39:21.793308Z"
    },
    "cell_id": "1e1dc1b6-1116-493d-b831-5ed8273cce70",
    "deepnote_cell_type": "code",
    "deepnote_output_heights": [
     null,
     21.1875
    ],
    "deepnote_to_be_reexecuted": false,
    "execution_millis": 21,
    "execution_start": 1643669548748,
    "source_hash": "9a890b2f",
    "tags": []
   },
   "outputs": [
    {
     "name": "stdout",
     "output_type": "stream",
     "text": [
      "Número máximo de entradas de cada ID: \n"
     ]
    },
    {
     "data": {
      "text/plain": [
       "1"
      ]
     },
     "execution_count": 4,
     "metadata": {},
     "output_type": "execute_result"
    }
   ],
   "source": [
    "print(\"Número máximo de entradas de cada ID: \")\n",
    "df.groupby(\"ID\").agg(\"ID\").count().max()"
   ]
  },
  {
   "cell_type": "markdown",
   "metadata": {
    "cell_id": "e2388608-bf24-452f-a188-b0436741cec4",
    "deepnote_cell_type": "markdown",
    "tags": []
   },
   "source": [
    "#### Modificando a estrutura de dados do Dataset\n",
    "\n",
    "Serão excluídos do Dataframe as colunas 'ID', 'Col_nao_descrita01', 'Col_nao_descrita02' pois, para este estudo, elas não serão necessárias."
   ]
  },
  {
   "cell_type": "code",
   "execution_count": 5,
   "metadata": {
    "ExecuteTime": {
     "end_time": "2022-01-31T23:39:21.821233Z",
     "start_time": "2022-01-31T23:39:21.807271Z"
    },
    "cell_id": "82fc9e17-8cd9-4bf5-a4ac-e700b3fb0621",
    "deepnote_cell_type": "code",
    "deepnote_to_be_reexecuted": false,
    "execution_millis": 0,
    "execution_start": 1643669548808,
    "source_hash": "d24927b4",
    "tags": []
   },
   "outputs": [],
   "source": [
    "# Excluir colunas que não serão usadas no estudo\n",
    "df.drop(['ID', 'Col_nao_descrita01', 'Col_nao_descrita02'], axis=1, inplace=True)"
   ]
  },
  {
   "cell_type": "markdown",
   "metadata": {
    "cell_id": "916a0c1f-ce69-4154-8e70-b437930a6e33",
    "deepnote_cell_type": "markdown",
    "tags": []
   },
   "source": [
    "#### Checando o tipo de dados de cada coluna"
   ]
  },
  {
   "cell_type": "code",
   "execution_count": 6,
   "metadata": {
    "ExecuteTime": {
     "end_time": "2022-01-31T23:39:21.836193Z",
     "start_time": "2022-01-31T23:39:21.828216Z"
    },
    "cell_id": "96502c66-dc07-46d1-9517-78dbd96ef889",
    "deepnote_cell_type": "code",
    "deepnote_output_heights": [
     520.34375
    ],
    "deepnote_to_be_reexecuted": false,
    "execution_millis": 6,
    "execution_start": 1643669548809,
    "source_hash": "52430027",
    "tags": []
   },
   "outputs": [
    {
     "data": {
      "text/plain": [
       "Ano_Nasc                           int64\n",
       "Escolaridade                      object\n",
       "Estado_Civil                      object\n",
       "Renda_Familiar_Anual             float64\n",
       "Qtd_Criancas                       int64\n",
       "Qtd_Adolesc                        int64\n",
       "Dt_Cadastro                       object\n",
       "Ult_Compra_EmDias                  int64\n",
       "Gastos_Em_Vinho_Ult2Anos           int64\n",
       "Gastos_Em_Frutas_Ult2Anos          int64\n",
       "Gastos_Em_Carnet2Ano               int64\n",
       "Gastos_Em_Pescados_Ult2Anos        int64\n",
       "Gastos_Em_Doces_Ult2Anos           int64\n",
       "Gastos_Em_Prod_Ouro_Ult2Anos       int64\n",
       "Qtd_Compras_ComDesconto            int64\n",
       "Qtd_Compras_OnLine                 int64\n",
       "Qtd_Compras_Catalogo               int64\n",
       "Qtd_Compras_Loja                   int64\n",
       "Qtd_Acessos_AoSite_UltMes          int64\n",
       "Oferta_Aceita_3aCamp               int64\n",
       "Oferta_Aceita_4aCamp               int64\n",
       "Oferta_Aceita_5aCamp               int64\n",
       "Oferta_Aceita_1aCamp               int64\n",
       "Oferta_Aceita_2aCamp               int64\n",
       "Cat_Cliente_Reclamou_Ult2Anos      int64\n",
       "Oferta_Aceita_UltCamp              int64\n",
       "dtype: object"
      ]
     },
     "execution_count": 6,
     "metadata": {},
     "output_type": "execute_result"
    }
   ],
   "source": [
    "df.dtypes"
   ]
  },
  {
   "cell_type": "markdown",
   "metadata": {
    "cell_id": "5c5e5fa0-93b5-429b-80d8-93000d675cb4",
    "deepnote_cell_type": "markdown",
    "tags": []
   },
   "source": [
    "#### Para trabalhar mais eficientemente com os dados, os tipos de dados das colunas foram ajustados"
   ]
  },
  {
   "cell_type": "code",
   "execution_count": 7,
   "metadata": {
    "ExecuteTime": {
     "end_time": "2022-01-31T23:39:21.868109Z",
     "start_time": "2022-01-31T23:39:21.838188Z"
    },
    "cell_id": "1d865ae0-4626-4a5a-bc92-d8706b46b842",
    "deepnote_cell_type": "code",
    "deepnote_output_heights": [
     520
    ],
    "deepnote_to_be_reexecuted": false,
    "execution_millis": 6,
    "execution_start": 1643669548810,
    "source_hash": "e769a4ea",
    "tags": []
   },
   "outputs": [
    {
     "data": {
      "text/plain": [
       "Ano_Nasc                                  int32\n",
       "Escolaridade                           category\n",
       "Estado_Civil                           category\n",
       "Renda_Familiar_Anual                    float32\n",
       "Qtd_Criancas                              int32\n",
       "Qtd_Adolesc                               int32\n",
       "Dt_Cadastro                      datetime64[ns]\n",
       "Ult_Compra_EmDias                         int32\n",
       "Gastos_Em_Vinho_Ult2Anos                float32\n",
       "Gastos_Em_Frutas_Ult2Anos               float32\n",
       "Gastos_Em_Carnet2Ano                    float32\n",
       "Gastos_Em_Pescados_Ult2Anos             float32\n",
       "Gastos_Em_Doces_Ult2Anos                float32\n",
       "Gastos_Em_Prod_Ouro_Ult2Anos            float32\n",
       "Qtd_Compras_ComDesconto                   int32\n",
       "Qtd_Compras_OnLine                        int32\n",
       "Qtd_Compras_Catalogo                      int32\n",
       "Qtd_Compras_Loja                          int32\n",
       "Qtd_Acessos_AoSite_UltMes                 int32\n",
       "Oferta_Aceita_3aCamp                      int32\n",
       "Oferta_Aceita_4aCamp                      int32\n",
       "Oferta_Aceita_5aCamp                      int32\n",
       "Oferta_Aceita_1aCamp                      int32\n",
       "Oferta_Aceita_2aCamp                      int32\n",
       "Cat_Cliente_Reclamou_Ult2Anos             int32\n",
       "Oferta_Aceita_UltCamp                     int32\n",
       "dtype: object"
      ]
     },
     "execution_count": 7,
     "metadata": {},
     "output_type": "execute_result"
    }
   ],
   "source": [
    "# Convertendo a coluna 'Dt_Cadastro' de Object para Date\n",
    "df['Dt_Cadastro']=df['Dt_Cadastro'].astype('datetime64')\n",
    "\n",
    "# Convertendo as colunas dos gastos de float64 para Float\n",
    "colunas = ['Gastos_Em_Vinho_Ult2Anos', 'Gastos_Em_Frutas_Ult2Anos',\n",
    "    'Gastos_Em_Carnet2Ano', 'Gastos_Em_Pescados_Ult2Anos',\n",
    "    'Gastos_Em_Doces_Ult2Anos', 'Gastos_Em_Prod_Ouro_Ult2Anos','Renda_Familiar_Anual']\n",
    "df[colunas] = df[colunas].astype(np.float32)\n",
    "\n",
    "# Convertendo para categóricas as variáveis deste tipo\n",
    "colunas = ['Escolaridade', 'Estado_Civil']\n",
    "df[colunas] = df[colunas].astype('category')\n",
    "\n",
    "# Convertendo todas as colunas do tipo 'int64' para 'int32'\n",
    "df = df.astype({col: 'int32' for col in df.select_dtypes('int64').columns})\n",
    "\n",
    "df.dtypes"
   ]
  },
  {
   "cell_type": "markdown",
   "metadata": {
    "cell_id": "6f9316cc-3281-45a6-9fb8-e217bba66181",
    "deepnote_cell_type": "markdown",
    "tags": []
   },
   "source": [
    "### Explorando e Limpando os Dados"
   ]
  },
  {
   "cell_type": "code",
   "execution_count": 8,
   "metadata": {
    "ExecuteTime": {
     "end_time": "2022-01-31T23:39:21.914983Z",
     "start_time": "2022-01-31T23:39:21.869107Z"
    },
    "cell_id": "c1a266a8-9f47-4c8f-b388-cad6948ae8a8",
    "deepnote_cell_type": "code",
    "deepnote_to_be_reexecuted": false,
    "execution_millis": 297,
    "execution_start": 1643669548818,
    "source_hash": "f88152d9",
    "tags": []
   },
   "outputs": [
    {
     "data": {
      "text/html": [
       "<div>\n",
       "<style scoped>\n",
       "    .dataframe tbody tr th:only-of-type {\n",
       "        vertical-align: middle;\n",
       "    }\n",
       "\n",
       "    .dataframe tbody tr th {\n",
       "        vertical-align: top;\n",
       "    }\n",
       "\n",
       "    .dataframe thead th {\n",
       "        text-align: right;\n",
       "    }\n",
       "</style>\n",
       "<table border=\"1\" class=\"dataframe\">\n",
       "  <thead>\n",
       "    <tr style=\"text-align: right;\">\n",
       "      <th></th>\n",
       "      <th>Ano_Nasc</th>\n",
       "      <th>Renda_Familiar_Anual</th>\n",
       "      <th>Qtd_Criancas</th>\n",
       "      <th>Qtd_Adolesc</th>\n",
       "      <th>Ult_Compra_EmDias</th>\n",
       "      <th>Gastos_Em_Vinho_Ult2Anos</th>\n",
       "      <th>Gastos_Em_Frutas_Ult2Anos</th>\n",
       "      <th>Gastos_Em_Carnet2Ano</th>\n",
       "      <th>Gastos_Em_Pescados_Ult2Anos</th>\n",
       "      <th>Gastos_Em_Doces_Ult2Anos</th>\n",
       "      <th>...</th>\n",
       "      <th>Qtd_Compras_Catalogo</th>\n",
       "      <th>Qtd_Compras_Loja</th>\n",
       "      <th>Qtd_Acessos_AoSite_UltMes</th>\n",
       "      <th>Oferta_Aceita_3aCamp</th>\n",
       "      <th>Oferta_Aceita_4aCamp</th>\n",
       "      <th>Oferta_Aceita_5aCamp</th>\n",
       "      <th>Oferta_Aceita_1aCamp</th>\n",
       "      <th>Oferta_Aceita_2aCamp</th>\n",
       "      <th>Cat_Cliente_Reclamou_Ult2Anos</th>\n",
       "      <th>Oferta_Aceita_UltCamp</th>\n",
       "    </tr>\n",
       "  </thead>\n",
       "  <tbody>\n",
       "    <tr>\n",
       "      <th>count</th>\n",
       "      <td>2,240.00</td>\n",
       "      <td>2,216.00</td>\n",
       "      <td>2,240.00</td>\n",
       "      <td>2,240.00</td>\n",
       "      <td>2,240.00</td>\n",
       "      <td>2,240.00</td>\n",
       "      <td>2,240.00</td>\n",
       "      <td>2,240.00</td>\n",
       "      <td>2,240.00</td>\n",
       "      <td>2,240.00</td>\n",
       "      <td>...</td>\n",
       "      <td>2,240.00</td>\n",
       "      <td>2,240.00</td>\n",
       "      <td>2,240.00</td>\n",
       "      <td>2,240.00</td>\n",
       "      <td>2,240.00</td>\n",
       "      <td>2,240.00</td>\n",
       "      <td>2,240.00</td>\n",
       "      <td>2,240.00</td>\n",
       "      <td>2,240.00</td>\n",
       "      <td>2,240.00</td>\n",
       "    </tr>\n",
       "    <tr>\n",
       "      <th>mean</th>\n",
       "      <td>1,968.81</td>\n",
       "      <td>52,247.25</td>\n",
       "      <td>0.44</td>\n",
       "      <td>0.51</td>\n",
       "      <td>49.11</td>\n",
       "      <td>303.94</td>\n",
       "      <td>26.30</td>\n",
       "      <td>166.95</td>\n",
       "      <td>37.53</td>\n",
       "      <td>27.06</td>\n",
       "      <td>...</td>\n",
       "      <td>2.66</td>\n",
       "      <td>5.79</td>\n",
       "      <td>5.32</td>\n",
       "      <td>0.07</td>\n",
       "      <td>0.07</td>\n",
       "      <td>0.07</td>\n",
       "      <td>0.06</td>\n",
       "      <td>0.01</td>\n",
       "      <td>0.01</td>\n",
       "      <td>0.15</td>\n",
       "    </tr>\n",
       "    <tr>\n",
       "      <th>std</th>\n",
       "      <td>11.98</td>\n",
       "      <td>25,173.08</td>\n",
       "      <td>0.54</td>\n",
       "      <td>0.54</td>\n",
       "      <td>28.96</td>\n",
       "      <td>336.60</td>\n",
       "      <td>39.77</td>\n",
       "      <td>225.72</td>\n",
       "      <td>54.63</td>\n",
       "      <td>41.28</td>\n",
       "      <td>...</td>\n",
       "      <td>2.92</td>\n",
       "      <td>3.25</td>\n",
       "      <td>2.43</td>\n",
       "      <td>0.26</td>\n",
       "      <td>0.26</td>\n",
       "      <td>0.26</td>\n",
       "      <td>0.25</td>\n",
       "      <td>0.11</td>\n",
       "      <td>0.10</td>\n",
       "      <td>0.36</td>\n",
       "    </tr>\n",
       "    <tr>\n",
       "      <th>min</th>\n",
       "      <td>1,893.00</td>\n",
       "      <td>1,730.00</td>\n",
       "      <td>0.00</td>\n",
       "      <td>0.00</td>\n",
       "      <td>0.00</td>\n",
       "      <td>0.00</td>\n",
       "      <td>0.00</td>\n",
       "      <td>0.00</td>\n",
       "      <td>0.00</td>\n",
       "      <td>0.00</td>\n",
       "      <td>...</td>\n",
       "      <td>0.00</td>\n",
       "      <td>0.00</td>\n",
       "      <td>0.00</td>\n",
       "      <td>0.00</td>\n",
       "      <td>0.00</td>\n",
       "      <td>0.00</td>\n",
       "      <td>0.00</td>\n",
       "      <td>0.00</td>\n",
       "      <td>0.00</td>\n",
       "      <td>0.00</td>\n",
       "    </tr>\n",
       "    <tr>\n",
       "      <th>25%</th>\n",
       "      <td>1,959.00</td>\n",
       "      <td>35,303.00</td>\n",
       "      <td>0.00</td>\n",
       "      <td>0.00</td>\n",
       "      <td>24.00</td>\n",
       "      <td>23.75</td>\n",
       "      <td>1.00</td>\n",
       "      <td>16.00</td>\n",
       "      <td>3.00</td>\n",
       "      <td>1.00</td>\n",
       "      <td>...</td>\n",
       "      <td>0.00</td>\n",
       "      <td>3.00</td>\n",
       "      <td>3.00</td>\n",
       "      <td>0.00</td>\n",
       "      <td>0.00</td>\n",
       "      <td>0.00</td>\n",
       "      <td>0.00</td>\n",
       "      <td>0.00</td>\n",
       "      <td>0.00</td>\n",
       "      <td>0.00</td>\n",
       "    </tr>\n",
       "    <tr>\n",
       "      <th>50%</th>\n",
       "      <td>1,970.00</td>\n",
       "      <td>51,381.50</td>\n",
       "      <td>0.00</td>\n",
       "      <td>0.00</td>\n",
       "      <td>49.00</td>\n",
       "      <td>173.50</td>\n",
       "      <td>8.00</td>\n",
       "      <td>67.00</td>\n",
       "      <td>12.00</td>\n",
       "      <td>8.00</td>\n",
       "      <td>...</td>\n",
       "      <td>2.00</td>\n",
       "      <td>5.00</td>\n",
       "      <td>6.00</td>\n",
       "      <td>0.00</td>\n",
       "      <td>0.00</td>\n",
       "      <td>0.00</td>\n",
       "      <td>0.00</td>\n",
       "      <td>0.00</td>\n",
       "      <td>0.00</td>\n",
       "      <td>0.00</td>\n",
       "    </tr>\n",
       "    <tr>\n",
       "      <th>75%</th>\n",
       "      <td>1,977.00</td>\n",
       "      <td>68,522.00</td>\n",
       "      <td>1.00</td>\n",
       "      <td>1.00</td>\n",
       "      <td>74.00</td>\n",
       "      <td>504.25</td>\n",
       "      <td>33.00</td>\n",
       "      <td>232.00</td>\n",
       "      <td>50.00</td>\n",
       "      <td>33.00</td>\n",
       "      <td>...</td>\n",
       "      <td>4.00</td>\n",
       "      <td>8.00</td>\n",
       "      <td>7.00</td>\n",
       "      <td>0.00</td>\n",
       "      <td>0.00</td>\n",
       "      <td>0.00</td>\n",
       "      <td>0.00</td>\n",
       "      <td>0.00</td>\n",
       "      <td>0.00</td>\n",
       "      <td>0.00</td>\n",
       "    </tr>\n",
       "    <tr>\n",
       "      <th>max</th>\n",
       "      <td>1,996.00</td>\n",
       "      <td>666,666.00</td>\n",
       "      <td>2.00</td>\n",
       "      <td>2.00</td>\n",
       "      <td>99.00</td>\n",
       "      <td>1,493.00</td>\n",
       "      <td>199.00</td>\n",
       "      <td>1,725.00</td>\n",
       "      <td>259.00</td>\n",
       "      <td>263.00</td>\n",
       "      <td>...</td>\n",
       "      <td>28.00</td>\n",
       "      <td>13.00</td>\n",
       "      <td>20.00</td>\n",
       "      <td>1.00</td>\n",
       "      <td>1.00</td>\n",
       "      <td>1.00</td>\n",
       "      <td>1.00</td>\n",
       "      <td>1.00</td>\n",
       "      <td>1.00</td>\n",
       "      <td>1.00</td>\n",
       "    </tr>\n",
       "  </tbody>\n",
       "</table>\n",
       "<p>8 rows × 23 columns</p>\n",
       "</div>"
      ],
      "text/plain": [
       "       Ano_Nasc  Renda_Familiar_Anual  Qtd_Criancas  Qtd_Adolesc  \\\n",
       "count  2,240.00              2,216.00      2,240.00     2,240.00   \n",
       "mean   1,968.81             52,247.25          0.44         0.51   \n",
       "std       11.98             25,173.08          0.54         0.54   \n",
       "min    1,893.00              1,730.00          0.00         0.00   \n",
       "25%    1,959.00             35,303.00          0.00         0.00   \n",
       "50%    1,970.00             51,381.50          0.00         0.00   \n",
       "75%    1,977.00             68,522.00          1.00         1.00   \n",
       "max    1,996.00            666,666.00          2.00         2.00   \n",
       "\n",
       "       Ult_Compra_EmDias  Gastos_Em_Vinho_Ult2Anos  Gastos_Em_Frutas_Ult2Anos  \\\n",
       "count           2,240.00                  2,240.00                   2,240.00   \n",
       "mean               49.11                    303.94                      26.30   \n",
       "std                28.96                    336.60                      39.77   \n",
       "min                 0.00                      0.00                       0.00   \n",
       "25%                24.00                     23.75                       1.00   \n",
       "50%                49.00                    173.50                       8.00   \n",
       "75%                74.00                    504.25                      33.00   \n",
       "max                99.00                  1,493.00                     199.00   \n",
       "\n",
       "       Gastos_Em_Carnet2Ano  Gastos_Em_Pescados_Ult2Anos  \\\n",
       "count              2,240.00                     2,240.00   \n",
       "mean                 166.95                        37.53   \n",
       "std                  225.72                        54.63   \n",
       "min                    0.00                         0.00   \n",
       "25%                   16.00                         3.00   \n",
       "50%                   67.00                        12.00   \n",
       "75%                  232.00                        50.00   \n",
       "max                1,725.00                       259.00   \n",
       "\n",
       "       Gastos_Em_Doces_Ult2Anos  ...  Qtd_Compras_Catalogo  Qtd_Compras_Loja  \\\n",
       "count                  2,240.00  ...              2,240.00          2,240.00   \n",
       "mean                      27.06  ...                  2.66              5.79   \n",
       "std                       41.28  ...                  2.92              3.25   \n",
       "min                        0.00  ...                  0.00              0.00   \n",
       "25%                        1.00  ...                  0.00              3.00   \n",
       "50%                        8.00  ...                  2.00              5.00   \n",
       "75%                       33.00  ...                  4.00              8.00   \n",
       "max                      263.00  ...                 28.00             13.00   \n",
       "\n",
       "       Qtd_Acessos_AoSite_UltMes  Oferta_Aceita_3aCamp  Oferta_Aceita_4aCamp  \\\n",
       "count                   2,240.00              2,240.00              2,240.00   \n",
       "mean                        5.32                  0.07                  0.07   \n",
       "std                         2.43                  0.26                  0.26   \n",
       "min                         0.00                  0.00                  0.00   \n",
       "25%                         3.00                  0.00                  0.00   \n",
       "50%                         6.00                  0.00                  0.00   \n",
       "75%                         7.00                  0.00                  0.00   \n",
       "max                        20.00                  1.00                  1.00   \n",
       "\n",
       "       Oferta_Aceita_5aCamp  Oferta_Aceita_1aCamp  Oferta_Aceita_2aCamp  \\\n",
       "count              2,240.00              2,240.00              2,240.00   \n",
       "mean                   0.07                  0.06                  0.01   \n",
       "std                    0.26                  0.25                  0.11   \n",
       "min                    0.00                  0.00                  0.00   \n",
       "25%                    0.00                  0.00                  0.00   \n",
       "50%                    0.00                  0.00                  0.00   \n",
       "75%                    0.00                  0.00                  0.00   \n",
       "max                    1.00                  1.00                  1.00   \n",
       "\n",
       "       Cat_Cliente_Reclamou_Ult2Anos  Oferta_Aceita_UltCamp  \n",
       "count                       2,240.00               2,240.00  \n",
       "mean                            0.01                   0.15  \n",
       "std                             0.10                   0.36  \n",
       "min                             0.00                   0.00  \n",
       "25%                             0.00                   0.00  \n",
       "50%                             0.00                   0.00  \n",
       "75%                             0.00                   0.00  \n",
       "max                             1.00                   1.00  \n",
       "\n",
       "[8 rows x 23 columns]"
      ]
     },
     "execution_count": 8,
     "metadata": {},
     "output_type": "execute_result"
    }
   ],
   "source": [
    "df.describe()"
   ]
  },
  {
   "cell_type": "markdown",
   "metadata": {
    "cell_id": "e23e6b25-1f55-43b7-ab8b-6d19ef5312b0",
    "deepnote_cell_type": "markdown",
    "tags": []
   },
   "source": [
    "#### Checagem das colunas que possuem nulos"
   ]
  },
  {
   "cell_type": "code",
   "execution_count": 9,
   "metadata": {
    "ExecuteTime": {
     "end_time": "2022-01-31T23:39:21.931047Z",
     "start_time": "2022-01-31T23:39:21.915980Z"
    },
    "cell_id": "ce4e627b-256f-4cdb-93bc-1bd4586955b1",
    "deepnote_cell_type": "code",
    "deepnote_output_heights": [
     40.390625
    ],
    "deepnote_to_be_reexecuted": false,
    "execution_millis": 148,
    "execution_start": 1643669548968,
    "source_hash": "30cb652a",
    "tags": []
   },
   "outputs": [
    {
     "data": {
      "text/plain": [
       "Renda_Familiar_Anual    24\n",
       "dtype: int64"
      ]
     },
     "execution_count": 9,
     "metadata": {},
     "output_type": "execute_result"
    }
   ],
   "source": [
    "# retornando quais colunas tem valores nulos\n",
    "pd.isnull(df).sum()[pd.isnull(df).sum() > 0]"
   ]
  },
  {
   "cell_type": "markdown",
   "metadata": {
    "cell_id": "21b32702-145f-4bea-bc9c-99f0511d62ec",
    "deepnote_cell_type": "markdown",
    "tags": []
   },
   "source": [
    "#### Como NaNs representam menos de 2% das linhas, decidimos eliminar todas as linhas com NaNs."
   ]
  },
  {
   "cell_type": "code",
   "execution_count": 10,
   "metadata": {
    "ExecuteTime": {
     "end_time": "2022-01-31T23:39:21.945983Z",
     "start_time": "2022-01-31T23:39:21.933019Z"
    },
    "cell_id": "6bfda897-e05d-4fe8-a798-6c2311436802",
    "deepnote_cell_type": "code",
    "deepnote_output_heights": [
     21.1875
    ],
    "deepnote_to_be_reexecuted": false,
    "execution_millis": 101,
    "execution_start": 1643669549016,
    "source_hash": "f4ae069d",
    "tags": []
   },
   "outputs": [
    {
     "data": {
      "text/plain": [
       "Series([], dtype: int64)"
      ]
     },
     "execution_count": 10,
     "metadata": {},
     "output_type": "execute_result"
    }
   ],
   "source": [
    "df.dropna(inplace=True)\n",
    "pd.isnull(df).sum()[pd.isnull(df).sum() > 0]"
   ]
  },
  {
   "cell_type": "markdown",
   "metadata": {
    "cell_id": "c0ad36a2-7b8f-445d-b410-9b40e597952b",
    "deepnote_cell_type": "markdown",
    "tags": []
   },
   "source": [
    "#### Checagem das categorias de escolaridade"
   ]
  },
  {
   "cell_type": "code",
   "execution_count": 11,
   "metadata": {
    "ExecuteTime": {
     "end_time": "2022-01-31T23:39:21.961944Z",
     "start_time": "2022-01-31T23:39:21.946982Z"
    },
    "cell_id": "cb267cb4-245f-4482-91be-24edc592803e",
    "deepnote_cell_type": "code",
    "deepnote_output_heights": [
     40.390625
    ],
    "deepnote_to_be_reexecuted": false,
    "execution_millis": 99,
    "execution_start": 1643669549018,
    "source_hash": "9f663404",
    "tags": []
   },
   "outputs": [
    {
     "data": {
      "text/plain": [
       "['Graduation', 'PhD', 'Master', 'Basic', '2n Cycle']\n",
       "Categories (5, object): ['2n Cycle', 'Basic', 'Graduation', 'Master', 'PhD']"
      ]
     },
     "execution_count": 11,
     "metadata": {},
     "output_type": "execute_result"
    }
   ],
   "source": [
    "df.Escolaridade.unique()"
   ]
  },
  {
   "cell_type": "markdown",
   "metadata": {
    "cell_id": "468ebfa0-636a-4549-99cd-4c00ca5c61b7",
    "deepnote_cell_type": "markdown",
    "tags": []
   },
   "source": [
    "#### Não estava claro o significado de '2n Cycle'. Após pesquisar, descobrimos que se trata de mestrado. Então substituímos essa categoria pela categoria 'Master', mais fácil de entender."
   ]
  },
  {
   "cell_type": "code",
   "execution_count": 12,
   "metadata": {
    "ExecuteTime": {
     "end_time": "2022-01-31T23:39:21.976901Z",
     "start_time": "2022-01-31T23:39:21.962937Z"
    },
    "cell_id": "5b7ca860-7672-4a6b-b627-8bc00b1038f8",
    "deepnote_cell_type": "code",
    "deepnote_output_heights": [
     40.390625
    ],
    "deepnote_to_be_reexecuted": false,
    "execution_millis": 100,
    "execution_start": 1643669549018,
    "source_hash": "b7915f9a",
    "tags": []
   },
   "outputs": [
    {
     "data": {
      "text/plain": [
       "['Graduation', 'PhD', 'Master', 'Basic']\n",
       "Categories (4, object): ['Basic', 'Graduation', 'Master', 'PhD']"
      ]
     },
     "execution_count": 12,
     "metadata": {},
     "output_type": "execute_result"
    }
   ],
   "source": [
    "# substituindo '2n Cycle por Masters'\n",
    "df['Escolaridade'].replace({'2n Cycle':'Master'}, inplace=True)\n",
    "df['Escolaridade'].unique()"
   ]
  },
  {
   "cell_type": "markdown",
   "metadata": {
    "cell_id": "ed647595-a121-4665-b4a3-a9fc5737d2cd",
    "deepnote_cell_type": "markdown",
    "tags": []
   },
   "source": [
    "#### Checagem das categorias de estado civil"
   ]
  },
  {
   "cell_type": "code",
   "execution_count": 13,
   "metadata": {
    "ExecuteTime": {
     "end_time": "2022-01-31T23:39:21.992858Z",
     "start_time": "2022-01-31T23:39:21.977897Z"
    },
    "cell_id": "b16861b2-9a84-4668-bfe7-0dc3342ca667",
    "deepnote_cell_type": "code",
    "deepnote_output_heights": [
     40.375
    ],
    "deepnote_to_be_reexecuted": false,
    "execution_millis": 66,
    "execution_start": 1643669549052,
    "source_hash": "63ce8e5d",
    "tags": []
   },
   "outputs": [
    {
     "data": {
      "text/html": [
       "<div>\n",
       "<style scoped>\n",
       "    .dataframe tbody tr th:only-of-type {\n",
       "        vertical-align: middle;\n",
       "    }\n",
       "\n",
       "    .dataframe tbody tr th {\n",
       "        vertical-align: top;\n",
       "    }\n",
       "\n",
       "    .dataframe thead th {\n",
       "        text-align: right;\n",
       "    }\n",
       "</style>\n",
       "<table border=\"1\" class=\"dataframe\">\n",
       "  <thead>\n",
       "    <tr style=\"text-align: right;\">\n",
       "      <th></th>\n",
       "      <th>Quantidade</th>\n",
       "    </tr>\n",
       "    <tr>\n",
       "      <th>Estado_Civil</th>\n",
       "      <th></th>\n",
       "    </tr>\n",
       "  </thead>\n",
       "  <tbody>\n",
       "    <tr>\n",
       "      <th>Absurd</th>\n",
       "      <td>2</td>\n",
       "    </tr>\n",
       "    <tr>\n",
       "      <th>Alone</th>\n",
       "      <td>3</td>\n",
       "    </tr>\n",
       "    <tr>\n",
       "      <th>Divorced</th>\n",
       "      <td>232</td>\n",
       "    </tr>\n",
       "    <tr>\n",
       "      <th>Married</th>\n",
       "      <td>857</td>\n",
       "    </tr>\n",
       "    <tr>\n",
       "      <th>Single</th>\n",
       "      <td>471</td>\n",
       "    </tr>\n",
       "    <tr>\n",
       "      <th>Together</th>\n",
       "      <td>573</td>\n",
       "    </tr>\n",
       "    <tr>\n",
       "      <th>Widow</th>\n",
       "      <td>76</td>\n",
       "    </tr>\n",
       "    <tr>\n",
       "      <th>YOLO</th>\n",
       "      <td>2</td>\n",
       "    </tr>\n",
       "  </tbody>\n",
       "</table>\n",
       "</div>"
      ],
      "text/plain": [
       "              Quantidade\n",
       "Estado_Civil            \n",
       "Absurd                 2\n",
       "Alone                  3\n",
       "Divorced             232\n",
       "Married              857\n",
       "Single               471\n",
       "Together             573\n",
       "Widow                 76\n",
       "YOLO                   2"
      ]
     },
     "execution_count": 13,
     "metadata": {},
     "output_type": "execute_result"
    }
   ],
   "source": [
    "estado_civil = df[[\"Estado_Civil\"]].groupby(\"Estado_Civil\").agg({\"Estado_Civil\":\"count\"})\n",
    "estado_civil.columns=[\"Quantidade\"]\n",
    "estado_civil"
   ]
  },
  {
   "cell_type": "markdown",
   "metadata": {
    "cell_id": "0be35fea-cccd-4aeb-9fc1-c40fa59e606d",
    "deepnote_cell_type": "markdown",
    "tags": []
   },
   "source": [
    "#### Como as categorias \"Absurd\" e \"YOLO\" não trazem informações úteis  respeito do estado civil e são apenas 4 linhas, resolvemos eliminá-las do Dataset também."
   ]
  },
  {
   "cell_type": "code",
   "execution_count": 14,
   "metadata": {
    "ExecuteTime": {
     "end_time": "2022-01-31T23:39:22.008868Z",
     "start_time": "2022-01-31T23:39:21.993855Z"
    },
    "cell_id": "078871e0-783b-48bd-8919-85ae5f56ad64",
    "deepnote_cell_type": "code",
    "deepnote_to_be_reexecuted": false,
    "execution_millis": 1,
    "execution_start": 1643669549053,
    "source_hash": "f911c09a",
    "tags": []
   },
   "outputs": [
    {
     "name": "stdout",
     "output_type": "stream",
     "text": [
      "dimensão antes: (2216, 26)\n",
      "dimensão após remover: (2212, 26)\n"
     ]
    }
   ],
   "source": [
    "print(f\"dimensão antes: {df.shape}\")\n",
    "\n",
    "df.drop(df[(df[\"Estado_Civil\"]==\"Absurd\") | (df[\"Estado_Civil\"]==\"YOLO\") ].index, inplace=True)\n",
    "\n",
    "print(f\"dimensão após remover: {df.shape}\")\n"
   ]
  },
  {
   "cell_type": "code",
   "execution_count": 15,
   "metadata": {
    "ExecuteTime": {
     "end_time": "2022-01-31T23:39:22.024855Z",
     "start_time": "2022-01-31T23:39:22.009812Z"
    },
    "cell_id": "e1fbd647-c0dd-4e06-aace-652b7ba66280",
    "deepnote_cell_type": "code",
    "deepnote_to_be_reexecuted": false,
    "execution_millis": 1,
    "execution_start": 1643669549093,
    "source_hash": "78c5928e",
    "tags": []
   },
   "outputs": [],
   "source": [
    "#livrando espaço ocupado pelo df estado civil\n",
    "estado_civil = None"
   ]
  },
  {
   "cell_type": "markdown",
   "metadata": {
    "cell_id": "300aed7f-ff60-4cd5-975d-11dc9f4030c6",
    "deepnote_cell_type": "markdown",
    "tags": []
   },
   "source": [
    "#### Checando os anos de nascimentos"
   ]
  },
  {
   "cell_type": "code",
   "execution_count": 16,
   "metadata": {
    "ExecuteTime": {
     "end_time": "2022-01-31T23:39:22.040764Z",
     "start_time": "2022-01-31T23:39:22.025803Z"
    },
    "cell_id": "8f8e7634-9f90-4e74-b0f3-44ae2a50116d",
    "deepnote_cell_type": "code",
    "deepnote_to_be_reexecuted": false,
    "execution_millis": 25,
    "execution_start": 1643669549094,
    "source_hash": "358c666c",
    "tags": []
   },
   "outputs": [
    {
     "data": {
      "text/html": [
       "<div>\n",
       "<style scoped>\n",
       "    .dataframe tbody tr th:only-of-type {\n",
       "        vertical-align: middle;\n",
       "    }\n",
       "\n",
       "    .dataframe tbody tr th {\n",
       "        vertical-align: top;\n",
       "    }\n",
       "\n",
       "    .dataframe thead th {\n",
       "        text-align: right;\n",
       "    }\n",
       "</style>\n",
       "<table border=\"1\" class=\"dataframe\">\n",
       "  <thead>\n",
       "    <tr style=\"text-align: right;\">\n",
       "      <th></th>\n",
       "      <th>Ano_Nasc</th>\n",
       "    </tr>\n",
       "    <tr>\n",
       "      <th>Ano_Nasc</th>\n",
       "      <th></th>\n",
       "    </tr>\n",
       "  </thead>\n",
       "  <tbody>\n",
       "    <tr>\n",
       "      <th>1893</th>\n",
       "      <td>1</td>\n",
       "    </tr>\n",
       "    <tr>\n",
       "      <th>1899</th>\n",
       "      <td>1</td>\n",
       "    </tr>\n",
       "    <tr>\n",
       "      <th>1900</th>\n",
       "      <td>1</td>\n",
       "    </tr>\n",
       "    <tr>\n",
       "      <th>1940</th>\n",
       "      <td>1</td>\n",
       "    </tr>\n",
       "    <tr>\n",
       "      <th>1941</th>\n",
       "      <td>1</td>\n",
       "    </tr>\n",
       "    <tr>\n",
       "      <th>1943</th>\n",
       "      <td>6</td>\n",
       "    </tr>\n",
       "    <tr>\n",
       "      <th>1944</th>\n",
       "      <td>7</td>\n",
       "    </tr>\n",
       "    <tr>\n",
       "      <th>1945</th>\n",
       "      <td>8</td>\n",
       "    </tr>\n",
       "    <tr>\n",
       "      <th>1946</th>\n",
       "      <td>16</td>\n",
       "    </tr>\n",
       "    <tr>\n",
       "      <th>1947</th>\n",
       "      <td>16</td>\n",
       "    </tr>\n",
       "    <tr>\n",
       "      <th>1948</th>\n",
       "      <td>21</td>\n",
       "    </tr>\n",
       "    <tr>\n",
       "      <th>1949</th>\n",
       "      <td>30</td>\n",
       "    </tr>\n",
       "    <tr>\n",
       "      <th>1950</th>\n",
       "      <td>29</td>\n",
       "    </tr>\n",
       "    <tr>\n",
       "      <th>1951</th>\n",
       "      <td>42</td>\n",
       "    </tr>\n",
       "    <tr>\n",
       "      <th>1952</th>\n",
       "      <td>52</td>\n",
       "    </tr>\n",
       "    <tr>\n",
       "      <th>1953</th>\n",
       "      <td>35</td>\n",
       "    </tr>\n",
       "    <tr>\n",
       "      <th>1954</th>\n",
       "      <td>49</td>\n",
       "    </tr>\n",
       "    <tr>\n",
       "      <th>1955</th>\n",
       "      <td>48</td>\n",
       "    </tr>\n",
       "    <tr>\n",
       "      <th>1956</th>\n",
       "      <td>55</td>\n",
       "    </tr>\n",
       "    <tr>\n",
       "      <th>1957</th>\n",
       "      <td>40</td>\n",
       "    </tr>\n",
       "    <tr>\n",
       "      <th>1958</th>\n",
       "      <td>52</td>\n",
       "    </tr>\n",
       "    <tr>\n",
       "      <th>1959</th>\n",
       "      <td>50</td>\n",
       "    </tr>\n",
       "    <tr>\n",
       "      <th>1960</th>\n",
       "      <td>49</td>\n",
       "    </tr>\n",
       "    <tr>\n",
       "      <th>1961</th>\n",
       "      <td>35</td>\n",
       "    </tr>\n",
       "    <tr>\n",
       "      <th>1962</th>\n",
       "      <td>44</td>\n",
       "    </tr>\n",
       "    <tr>\n",
       "      <th>1963</th>\n",
       "      <td>44</td>\n",
       "    </tr>\n",
       "    <tr>\n",
       "      <th>1964</th>\n",
       "      <td>41</td>\n",
       "    </tr>\n",
       "    <tr>\n",
       "      <th>1965</th>\n",
       "      <td>74</td>\n",
       "    </tr>\n",
       "    <tr>\n",
       "      <th>1966</th>\n",
       "      <td>50</td>\n",
       "    </tr>\n",
       "    <tr>\n",
       "      <th>1967</th>\n",
       "      <td>44</td>\n",
       "    </tr>\n",
       "    <tr>\n",
       "      <th>1968</th>\n",
       "      <td>51</td>\n",
       "    </tr>\n",
       "    <tr>\n",
       "      <th>1969</th>\n",
       "      <td>70</td>\n",
       "    </tr>\n",
       "    <tr>\n",
       "      <th>1970</th>\n",
       "      <td>75</td>\n",
       "    </tr>\n",
       "    <tr>\n",
       "      <th>1971</th>\n",
       "      <td>86</td>\n",
       "    </tr>\n",
       "    <tr>\n",
       "      <th>1972</th>\n",
       "      <td>78</td>\n",
       "    </tr>\n",
       "    <tr>\n",
       "      <th>1973</th>\n",
       "      <td>70</td>\n",
       "    </tr>\n",
       "    <tr>\n",
       "      <th>1974</th>\n",
       "      <td>69</td>\n",
       "    </tr>\n",
       "    <tr>\n",
       "      <th>1975</th>\n",
       "      <td>83</td>\n",
       "    </tr>\n",
       "    <tr>\n",
       "      <th>1976</th>\n",
       "      <td>89</td>\n",
       "    </tr>\n",
       "    <tr>\n",
       "      <th>1977</th>\n",
       "      <td>52</td>\n",
       "    </tr>\n",
       "    <tr>\n",
       "      <th>1978</th>\n",
       "      <td>76</td>\n",
       "    </tr>\n",
       "    <tr>\n",
       "      <th>1979</th>\n",
       "      <td>53</td>\n",
       "    </tr>\n",
       "    <tr>\n",
       "      <th>1980</th>\n",
       "      <td>39</td>\n",
       "    </tr>\n",
       "    <tr>\n",
       "      <th>1981</th>\n",
       "      <td>38</td>\n",
       "    </tr>\n",
       "    <tr>\n",
       "      <th>1982</th>\n",
       "      <td>44</td>\n",
       "    </tr>\n",
       "    <tr>\n",
       "      <th>1983</th>\n",
       "      <td>41</td>\n",
       "    </tr>\n",
       "    <tr>\n",
       "      <th>1984</th>\n",
       "      <td>38</td>\n",
       "    </tr>\n",
       "    <tr>\n",
       "      <th>1985</th>\n",
       "      <td>32</td>\n",
       "    </tr>\n",
       "    <tr>\n",
       "      <th>1986</th>\n",
       "      <td>41</td>\n",
       "    </tr>\n",
       "    <tr>\n",
       "      <th>1987</th>\n",
       "      <td>27</td>\n",
       "    </tr>\n",
       "    <tr>\n",
       "      <th>1988</th>\n",
       "      <td>29</td>\n",
       "    </tr>\n",
       "    <tr>\n",
       "      <th>1989</th>\n",
       "      <td>29</td>\n",
       "    </tr>\n",
       "    <tr>\n",
       "      <th>1990</th>\n",
       "      <td>18</td>\n",
       "    </tr>\n",
       "    <tr>\n",
       "      <th>1991</th>\n",
       "      <td>15</td>\n",
       "    </tr>\n",
       "    <tr>\n",
       "      <th>1992</th>\n",
       "      <td>13</td>\n",
       "    </tr>\n",
       "    <tr>\n",
       "      <th>1993</th>\n",
       "      <td>4</td>\n",
       "    </tr>\n",
       "    <tr>\n",
       "      <th>1994</th>\n",
       "      <td>3</td>\n",
       "    </tr>\n",
       "    <tr>\n",
       "      <th>1995</th>\n",
       "      <td>5</td>\n",
       "    </tr>\n",
       "    <tr>\n",
       "      <th>1996</th>\n",
       "      <td>2</td>\n",
       "    </tr>\n",
       "  </tbody>\n",
       "</table>\n",
       "</div>"
      ],
      "text/plain": [
       "          Ano_Nasc\n",
       "Ano_Nasc          \n",
       "1893             1\n",
       "1899             1\n",
       "1900             1\n",
       "1940             1\n",
       "1941             1\n",
       "1943             6\n",
       "1944             7\n",
       "1945             8\n",
       "1946            16\n",
       "1947            16\n",
       "1948            21\n",
       "1949            30\n",
       "1950            29\n",
       "1951            42\n",
       "1952            52\n",
       "1953            35\n",
       "1954            49\n",
       "1955            48\n",
       "1956            55\n",
       "1957            40\n",
       "1958            52\n",
       "1959            50\n",
       "1960            49\n",
       "1961            35\n",
       "1962            44\n",
       "1963            44\n",
       "1964            41\n",
       "1965            74\n",
       "1966            50\n",
       "1967            44\n",
       "1968            51\n",
       "1969            70\n",
       "1970            75\n",
       "1971            86\n",
       "1972            78\n",
       "1973            70\n",
       "1974            69\n",
       "1975            83\n",
       "1976            89\n",
       "1977            52\n",
       "1978            76\n",
       "1979            53\n",
       "1980            39\n",
       "1981            38\n",
       "1982            44\n",
       "1983            41\n",
       "1984            38\n",
       "1985            32\n",
       "1986            41\n",
       "1987            27\n",
       "1988            29\n",
       "1989            29\n",
       "1990            18\n",
       "1991            15\n",
       "1992            13\n",
       "1993             4\n",
       "1994             3\n",
       "1995             5\n",
       "1996             2"
      ]
     },
     "execution_count": 16,
     "metadata": {},
     "output_type": "execute_result"
    }
   ],
   "source": [
    "df.groupby(\"Ano_Nasc\").agg({\"Ano_Nasc\":\"count\"})"
   ]
  },
  {
   "cell_type": "markdown",
   "metadata": {
    "cell_id": "4158ae04-45df-482d-a7a5-93ed37807879",
    "deepnote_cell_type": "markdown",
    "tags": []
   },
   "source": [
    "#### Nascimentos anteriores a 1900 parecem estar relacionados a erros de digitação, uma vez que a tecla 8 fica ao lado da tecla 9.  Então é possível corrigir os dois anos de nascimento do céculo 19 que apareceram. \n",
    "\n",
    "\n",
    "#### Já a o ano de 1900, melhor remover a linha do dataset"
   ]
  },
  {
   "cell_type": "code",
   "execution_count": 17,
   "metadata": {
    "ExecuteTime": {
     "end_time": "2022-01-31T23:39:22.055725Z",
     "start_time": "2022-01-31T23:39:22.041761Z"
    },
    "cell_id": "cf468120-529a-4024-acf3-a7e0a9043eaa",
    "deepnote_cell_type": "code",
    "deepnote_output_heights": [
     21
    ],
    "deepnote_to_be_reexecuted": false,
    "execution_millis": 9,
    "execution_start": 1643669549165,
    "source_hash": "63e797af",
    "tags": []
   },
   "outputs": [
    {
     "data": {
      "text/plain": [
       "1940"
      ]
     },
     "execution_count": 17,
     "metadata": {},
     "output_type": "execute_result"
    }
   ],
   "source": [
    "# Corrigindo erros de digitação nos anos de nascimento\n",
    "df[\"Ano_Nasc\"] = (df[\"Ano_Nasc\"]<1900)*100+df[\"Ano_Nasc\"]\n",
    "\n",
    "# Excluindo ano de nascimento 1900\n",
    "df.drop(df[df[\"Ano_Nasc\"]==1900].index, inplace=True)\n",
    "\n",
    "#checando novamente ano de nascimento mínimo.\n",
    "df[\"Ano_Nasc\"].min()"
   ]
  },
  {
   "cell_type": "markdown",
   "metadata": {
    "cell_id": "58a7352d-f495-458b-9cda-c92b4a421d77",
    "deepnote_cell_type": "markdown",
    "tags": []
   },
   "source": [
    "#### Como algumas informações presentes no dataset estão na dimensão de '2 anos', convertemos o 'Renda_Familiar_Anual' para 'Renda_Familiar_Bienal' (nova coluna)"
   ]
  },
  {
   "cell_type": "code",
   "execution_count": 18,
   "metadata": {
    "ExecuteTime": {
     "end_time": "2022-01-31T23:39:22.087664Z",
     "start_time": "2022-01-31T23:39:22.056722Z"
    },
    "cell_id": "c5f52f11-6833-408e-9047-232c737d92ca",
    "deepnote_cell_type": "code",
    "deepnote_output_heights": [
     232
    ],
    "deepnote_table_loading": false,
    "deepnote_table_state": {
     "filters": [],
     "pageIndex": 0,
     "pageSize": 10,
     "sortBy": [
      {
       "id": "Cat_Cliente_Reclamou_Ult2Anos",
       "type": "desc"
      }
     ]
    },
    "deepnote_to_be_reexecuted": false,
    "execution_millis": 280,
    "execution_start": 1643669549166,
    "source_hash": "373236bb",
    "tags": []
   },
   "outputs": [
    {
     "data": {
      "text/html": [
       "<div>\n",
       "<style scoped>\n",
       "    .dataframe tbody tr th:only-of-type {\n",
       "        vertical-align: middle;\n",
       "    }\n",
       "\n",
       "    .dataframe tbody tr th {\n",
       "        vertical-align: top;\n",
       "    }\n",
       "\n",
       "    .dataframe thead th {\n",
       "        text-align: right;\n",
       "    }\n",
       "</style>\n",
       "<table border=\"1\" class=\"dataframe\">\n",
       "  <thead>\n",
       "    <tr style=\"text-align: right;\">\n",
       "      <th></th>\n",
       "      <th>Ano_Nasc</th>\n",
       "      <th>Escolaridade</th>\n",
       "      <th>Estado_Civil</th>\n",
       "      <th>Renda_Familiar_Anual</th>\n",
       "      <th>Qtd_Criancas</th>\n",
       "      <th>Qtd_Adolesc</th>\n",
       "      <th>Dt_Cadastro</th>\n",
       "      <th>Ult_Compra_EmDias</th>\n",
       "      <th>Gastos_Em_Vinho_Ult2Anos</th>\n",
       "      <th>Gastos_Em_Frutas_Ult2Anos</th>\n",
       "      <th>...</th>\n",
       "      <th>Qtd_Compras_Loja</th>\n",
       "      <th>Qtd_Acessos_AoSite_UltMes</th>\n",
       "      <th>Oferta_Aceita_3aCamp</th>\n",
       "      <th>Oferta_Aceita_4aCamp</th>\n",
       "      <th>Oferta_Aceita_5aCamp</th>\n",
       "      <th>Oferta_Aceita_1aCamp</th>\n",
       "      <th>Oferta_Aceita_2aCamp</th>\n",
       "      <th>Cat_Cliente_Reclamou_Ult2Anos</th>\n",
       "      <th>Oferta_Aceita_UltCamp</th>\n",
       "      <th>Renda_Familiar_Bienal</th>\n",
       "    </tr>\n",
       "  </thead>\n",
       "  <tbody>\n",
       "    <tr>\n",
       "      <th>0</th>\n",
       "      <td>1957</td>\n",
       "      <td>Graduation</td>\n",
       "      <td>Single</td>\n",
       "      <td>58,138.00</td>\n",
       "      <td>0</td>\n",
       "      <td>0</td>\n",
       "      <td>2012-04-09</td>\n",
       "      <td>58</td>\n",
       "      <td>635.00</td>\n",
       "      <td>88.00</td>\n",
       "      <td>...</td>\n",
       "      <td>4</td>\n",
       "      <td>7</td>\n",
       "      <td>0</td>\n",
       "      <td>0</td>\n",
       "      <td>0</td>\n",
       "      <td>0</td>\n",
       "      <td>0</td>\n",
       "      <td>0</td>\n",
       "      <td>1</td>\n",
       "      <td>116,276.00</td>\n",
       "    </tr>\n",
       "    <tr>\n",
       "      <th>1</th>\n",
       "      <td>1954</td>\n",
       "      <td>Graduation</td>\n",
       "      <td>Single</td>\n",
       "      <td>46,344.00</td>\n",
       "      <td>1</td>\n",
       "      <td>1</td>\n",
       "      <td>2014-08-03</td>\n",
       "      <td>38</td>\n",
       "      <td>11.00</td>\n",
       "      <td>1.00</td>\n",
       "      <td>...</td>\n",
       "      <td>2</td>\n",
       "      <td>5</td>\n",
       "      <td>0</td>\n",
       "      <td>0</td>\n",
       "      <td>0</td>\n",
       "      <td>0</td>\n",
       "      <td>0</td>\n",
       "      <td>0</td>\n",
       "      <td>0</td>\n",
       "      <td>92,688.00</td>\n",
       "    </tr>\n",
       "    <tr>\n",
       "      <th>2</th>\n",
       "      <td>1965</td>\n",
       "      <td>Graduation</td>\n",
       "      <td>Together</td>\n",
       "      <td>71,613.00</td>\n",
       "      <td>0</td>\n",
       "      <td>0</td>\n",
       "      <td>2013-08-21</td>\n",
       "      <td>26</td>\n",
       "      <td>426.00</td>\n",
       "      <td>49.00</td>\n",
       "      <td>...</td>\n",
       "      <td>10</td>\n",
       "      <td>4</td>\n",
       "      <td>0</td>\n",
       "      <td>0</td>\n",
       "      <td>0</td>\n",
       "      <td>0</td>\n",
       "      <td>0</td>\n",
       "      <td>0</td>\n",
       "      <td>0</td>\n",
       "      <td>143,226.00</td>\n",
       "    </tr>\n",
       "    <tr>\n",
       "      <th>3</th>\n",
       "      <td>1984</td>\n",
       "      <td>Graduation</td>\n",
       "      <td>Together</td>\n",
       "      <td>26,646.00</td>\n",
       "      <td>1</td>\n",
       "      <td>0</td>\n",
       "      <td>2014-10-02</td>\n",
       "      <td>26</td>\n",
       "      <td>11.00</td>\n",
       "      <td>4.00</td>\n",
       "      <td>...</td>\n",
       "      <td>4</td>\n",
       "      <td>6</td>\n",
       "      <td>0</td>\n",
       "      <td>0</td>\n",
       "      <td>0</td>\n",
       "      <td>0</td>\n",
       "      <td>0</td>\n",
       "      <td>0</td>\n",
       "      <td>0</td>\n",
       "      <td>53,292.00</td>\n",
       "    </tr>\n",
       "    <tr>\n",
       "      <th>4</th>\n",
       "      <td>1981</td>\n",
       "      <td>PhD</td>\n",
       "      <td>Married</td>\n",
       "      <td>58,293.00</td>\n",
       "      <td>1</td>\n",
       "      <td>0</td>\n",
       "      <td>2014-01-19</td>\n",
       "      <td>94</td>\n",
       "      <td>173.00</td>\n",
       "      <td>43.00</td>\n",
       "      <td>...</td>\n",
       "      <td>6</td>\n",
       "      <td>5</td>\n",
       "      <td>0</td>\n",
       "      <td>0</td>\n",
       "      <td>0</td>\n",
       "      <td>0</td>\n",
       "      <td>0</td>\n",
       "      <td>0</td>\n",
       "      <td>0</td>\n",
       "      <td>116,586.00</td>\n",
       "    </tr>\n",
       "    <tr>\n",
       "      <th>...</th>\n",
       "      <td>...</td>\n",
       "      <td>...</td>\n",
       "      <td>...</td>\n",
       "      <td>...</td>\n",
       "      <td>...</td>\n",
       "      <td>...</td>\n",
       "      <td>...</td>\n",
       "      <td>...</td>\n",
       "      <td>...</td>\n",
       "      <td>...</td>\n",
       "      <td>...</td>\n",
       "      <td>...</td>\n",
       "      <td>...</td>\n",
       "      <td>...</td>\n",
       "      <td>...</td>\n",
       "      <td>...</td>\n",
       "      <td>...</td>\n",
       "      <td>...</td>\n",
       "      <td>...</td>\n",
       "      <td>...</td>\n",
       "      <td>...</td>\n",
       "    </tr>\n",
       "    <tr>\n",
       "      <th>2235</th>\n",
       "      <td>1967</td>\n",
       "      <td>Graduation</td>\n",
       "      <td>Married</td>\n",
       "      <td>61,223.00</td>\n",
       "      <td>0</td>\n",
       "      <td>1</td>\n",
       "      <td>2013-06-13</td>\n",
       "      <td>46</td>\n",
       "      <td>709.00</td>\n",
       "      <td>43.00</td>\n",
       "      <td>...</td>\n",
       "      <td>4</td>\n",
       "      <td>5</td>\n",
       "      <td>0</td>\n",
       "      <td>0</td>\n",
       "      <td>0</td>\n",
       "      <td>0</td>\n",
       "      <td>0</td>\n",
       "      <td>0</td>\n",
       "      <td>0</td>\n",
       "      <td>122,446.00</td>\n",
       "    </tr>\n",
       "    <tr>\n",
       "      <th>2236</th>\n",
       "      <td>1946</td>\n",
       "      <td>PhD</td>\n",
       "      <td>Together</td>\n",
       "      <td>64,014.00</td>\n",
       "      <td>2</td>\n",
       "      <td>1</td>\n",
       "      <td>2014-10-06</td>\n",
       "      <td>56</td>\n",
       "      <td>406.00</td>\n",
       "      <td>0.00</td>\n",
       "      <td>...</td>\n",
       "      <td>5</td>\n",
       "      <td>7</td>\n",
       "      <td>0</td>\n",
       "      <td>0</td>\n",
       "      <td>0</td>\n",
       "      <td>1</td>\n",
       "      <td>0</td>\n",
       "      <td>0</td>\n",
       "      <td>0</td>\n",
       "      <td>128,028.00</td>\n",
       "    </tr>\n",
       "    <tr>\n",
       "      <th>2237</th>\n",
       "      <td>1981</td>\n",
       "      <td>Graduation</td>\n",
       "      <td>Divorced</td>\n",
       "      <td>56,981.00</td>\n",
       "      <td>0</td>\n",
       "      <td>0</td>\n",
       "      <td>2014-01-25</td>\n",
       "      <td>91</td>\n",
       "      <td>908.00</td>\n",
       "      <td>48.00</td>\n",
       "      <td>...</td>\n",
       "      <td>13</td>\n",
       "      <td>6</td>\n",
       "      <td>0</td>\n",
       "      <td>1</td>\n",
       "      <td>0</td>\n",
       "      <td>0</td>\n",
       "      <td>0</td>\n",
       "      <td>0</td>\n",
       "      <td>0</td>\n",
       "      <td>113,962.00</td>\n",
       "    </tr>\n",
       "    <tr>\n",
       "      <th>2238</th>\n",
       "      <td>1956</td>\n",
       "      <td>Master</td>\n",
       "      <td>Together</td>\n",
       "      <td>69,245.00</td>\n",
       "      <td>0</td>\n",
       "      <td>1</td>\n",
       "      <td>2014-01-24</td>\n",
       "      <td>8</td>\n",
       "      <td>428.00</td>\n",
       "      <td>30.00</td>\n",
       "      <td>...</td>\n",
       "      <td>10</td>\n",
       "      <td>3</td>\n",
       "      <td>0</td>\n",
       "      <td>0</td>\n",
       "      <td>0</td>\n",
       "      <td>0</td>\n",
       "      <td>0</td>\n",
       "      <td>0</td>\n",
       "      <td>0</td>\n",
       "      <td>138,490.00</td>\n",
       "    </tr>\n",
       "    <tr>\n",
       "      <th>2239</th>\n",
       "      <td>1954</td>\n",
       "      <td>PhD</td>\n",
       "      <td>Married</td>\n",
       "      <td>52,869.00</td>\n",
       "      <td>1</td>\n",
       "      <td>1</td>\n",
       "      <td>2012-10-15</td>\n",
       "      <td>40</td>\n",
       "      <td>84.00</td>\n",
       "      <td>3.00</td>\n",
       "      <td>...</td>\n",
       "      <td>4</td>\n",
       "      <td>7</td>\n",
       "      <td>0</td>\n",
       "      <td>0</td>\n",
       "      <td>0</td>\n",
       "      <td>0</td>\n",
       "      <td>0</td>\n",
       "      <td>0</td>\n",
       "      <td>1</td>\n",
       "      <td>105,738.00</td>\n",
       "    </tr>\n",
       "  </tbody>\n",
       "</table>\n",
       "<p>2211 rows × 27 columns</p>\n",
       "</div>"
      ],
      "text/plain": [
       "      Ano_Nasc Escolaridade Estado_Civil  Renda_Familiar_Anual  Qtd_Criancas  \\\n",
       "0         1957   Graduation       Single             58,138.00             0   \n",
       "1         1954   Graduation       Single             46,344.00             1   \n",
       "2         1965   Graduation     Together             71,613.00             0   \n",
       "3         1984   Graduation     Together             26,646.00             1   \n",
       "4         1981          PhD      Married             58,293.00             1   \n",
       "...        ...          ...          ...                   ...           ...   \n",
       "2235      1967   Graduation      Married             61,223.00             0   \n",
       "2236      1946          PhD     Together             64,014.00             2   \n",
       "2237      1981   Graduation     Divorced             56,981.00             0   \n",
       "2238      1956       Master     Together             69,245.00             0   \n",
       "2239      1954          PhD      Married             52,869.00             1   \n",
       "\n",
       "      Qtd_Adolesc Dt_Cadastro  Ult_Compra_EmDias  Gastos_Em_Vinho_Ult2Anos  \\\n",
       "0               0  2012-04-09                 58                    635.00   \n",
       "1               1  2014-08-03                 38                     11.00   \n",
       "2               0  2013-08-21                 26                    426.00   \n",
       "3               0  2014-10-02                 26                     11.00   \n",
       "4               0  2014-01-19                 94                    173.00   \n",
       "...           ...         ...                ...                       ...   \n",
       "2235            1  2013-06-13                 46                    709.00   \n",
       "2236            1  2014-10-06                 56                    406.00   \n",
       "2237            0  2014-01-25                 91                    908.00   \n",
       "2238            1  2014-01-24                  8                    428.00   \n",
       "2239            1  2012-10-15                 40                     84.00   \n",
       "\n",
       "      Gastos_Em_Frutas_Ult2Anos  ...  Qtd_Compras_Loja  \\\n",
       "0                         88.00  ...                 4   \n",
       "1                          1.00  ...                 2   \n",
       "2                         49.00  ...                10   \n",
       "3                          4.00  ...                 4   \n",
       "4                         43.00  ...                 6   \n",
       "...                         ...  ...               ...   \n",
       "2235                      43.00  ...                 4   \n",
       "2236                       0.00  ...                 5   \n",
       "2237                      48.00  ...                13   \n",
       "2238                      30.00  ...                10   \n",
       "2239                       3.00  ...                 4   \n",
       "\n",
       "      Qtd_Acessos_AoSite_UltMes  Oferta_Aceita_3aCamp  Oferta_Aceita_4aCamp  \\\n",
       "0                             7                     0                     0   \n",
       "1                             5                     0                     0   \n",
       "2                             4                     0                     0   \n",
       "3                             6                     0                     0   \n",
       "4                             5                     0                     0   \n",
       "...                         ...                   ...                   ...   \n",
       "2235                          5                     0                     0   \n",
       "2236                          7                     0                     0   \n",
       "2237                          6                     0                     1   \n",
       "2238                          3                     0                     0   \n",
       "2239                          7                     0                     0   \n",
       "\n",
       "      Oferta_Aceita_5aCamp  Oferta_Aceita_1aCamp  Oferta_Aceita_2aCamp  \\\n",
       "0                        0                     0                     0   \n",
       "1                        0                     0                     0   \n",
       "2                        0                     0                     0   \n",
       "3                        0                     0                     0   \n",
       "4                        0                     0                     0   \n",
       "...                    ...                   ...                   ...   \n",
       "2235                     0                     0                     0   \n",
       "2236                     0                     1                     0   \n",
       "2237                     0                     0                     0   \n",
       "2238                     0                     0                     0   \n",
       "2239                     0                     0                     0   \n",
       "\n",
       "      Cat_Cliente_Reclamou_Ult2Anos  Oferta_Aceita_UltCamp  \\\n",
       "0                                 0                      1   \n",
       "1                                 0                      0   \n",
       "2                                 0                      0   \n",
       "3                                 0                      0   \n",
       "4                                 0                      0   \n",
       "...                             ...                    ...   \n",
       "2235                              0                      0   \n",
       "2236                              0                      0   \n",
       "2237                              0                      0   \n",
       "2238                              0                      0   \n",
       "2239                              0                      1   \n",
       "\n",
       "      Renda_Familiar_Bienal  \n",
       "0                116,276.00  \n",
       "1                 92,688.00  \n",
       "2                143,226.00  \n",
       "3                 53,292.00  \n",
       "4                116,586.00  \n",
       "...                     ...  \n",
       "2235             122,446.00  \n",
       "2236             128,028.00  \n",
       "2237             113,962.00  \n",
       "2238             138,490.00  \n",
       "2239             105,738.00  \n",
       "\n",
       "[2211 rows x 27 columns]"
      ]
     },
     "execution_count": 18,
     "metadata": {},
     "output_type": "execute_result"
    }
   ],
   "source": [
    "df['Renda_Familiar_Bienal']=df['Renda_Familiar_Anual'] * 2\n",
    "df"
   ]
  },
  {
   "cell_type": "markdown",
   "metadata": {
    "cell_id": "72c9ff39-495c-45df-8c46-3ab97e4b04a7",
    "deepnote_cell_type": "markdown",
    "tags": []
   },
   "source": [
    "### Insights"
   ]
  },
  {
   "cell_type": "markdown",
   "metadata": {
    "cell_id": "6762d23e-4cf1-45e1-be42-cc5bc71ae692",
    "deepnote_cell_type": "markdown",
    "tags": []
   },
   "source": [
    "#### Verificando se a alta renda familiar está relacionada à escolaridade (João)"
   ]
  },
  {
   "cell_type": "code",
   "execution_count": 19,
   "metadata": {
    "ExecuteTime": {
     "end_time": "2022-01-31T23:39:22.102599Z",
     "start_time": "2022-01-31T23:39:22.088661Z"
    },
    "cell_id": "4b136ecd-d9b9-44b5-bcdf-3a8991039a3b",
    "deepnote_cell_type": "code",
    "deepnote_to_be_reexecuted": false,
    "execution_millis": 20,
    "execution_start": 1643669549454,
    "source_hash": "855d8c12",
    "tags": []
   },
   "outputs": [
    {
     "data": {
      "text/html": [
       "<div>\n",
       "<style scoped>\n",
       "    .dataframe tbody tr th:only-of-type {\n",
       "        vertical-align: middle;\n",
       "    }\n",
       "\n",
       "    .dataframe tbody tr th {\n",
       "        vertical-align: top;\n",
       "    }\n",
       "\n",
       "    .dataframe thead th {\n",
       "        text-align: right;\n",
       "    }\n",
       "</style>\n",
       "<table border=\"1\" class=\"dataframe\">\n",
       "  <thead>\n",
       "    <tr style=\"text-align: right;\">\n",
       "      <th></th>\n",
       "      <th>Renda_Media_Anual</th>\n",
       "    </tr>\n",
       "    <tr>\n",
       "      <th>Escolaridade</th>\n",
       "      <th></th>\n",
       "    </tr>\n",
       "  </thead>\n",
       "  <tbody>\n",
       "    <tr>\n",
       "      <th>Basic</th>\n",
       "      <td>20,306.26</td>\n",
       "    </tr>\n",
       "    <tr>\n",
       "      <th>Graduation</th>\n",
       "      <td>52,696.59</td>\n",
       "    </tr>\n",
       "    <tr>\n",
       "      <th>Master</th>\n",
       "      <td>51,046.91</td>\n",
       "    </tr>\n",
       "    <tr>\n",
       "      <th>PhD</th>\n",
       "      <td>56,177.52</td>\n",
       "    </tr>\n",
       "  </tbody>\n",
       "</table>\n",
       "</div>"
      ],
      "text/plain": [
       "              Renda_Media_Anual\n",
       "Escolaridade                   \n",
       "Basic                 20,306.26\n",
       "Graduation            52,696.59\n",
       "Master                51,046.91\n",
       "PhD                   56,177.52"
      ]
     },
     "execution_count": 19,
     "metadata": {},
     "output_type": "execute_result"
    }
   ],
   "source": [
    "df.groupby('Escolaridade')[['Renda_Familiar_Anual']].mean().rename(columns = {'Renda_Familiar_Anual':'Renda_Media_Anual'})"
   ]
  },
  {
   "cell_type": "code",
   "execution_count": 38,
   "metadata": {
    "ExecuteTime": {
     "end_time": "2022-01-31T23:40:00.023384Z",
     "start_time": "2022-01-31T23:39:59.913639Z"
    },
    "cell_id": "075c324a-ae36-4d32-af7e-db1b5c6e115a",
    "deepnote_cell_type": "code",
    "deepnote_output_heights": [
     263
    ],
    "deepnote_to_be_reexecuted": false,
    "execution_millis": 308,
    "execution_start": 1643669549472,
    "source_hash": "1cb0cde7",
    "tags": []
   },
   "outputs": [
    {
     "data": {
      "image/png": "[encoded data removed]",
      "text/plain": [
       "<Figure size 432x288 with 1 Axes>"
      ]
     },
     "metadata": {
      "needs_background": "light"
     },
     "output_type": "display_data"
    }
   ],
   "source": [
    "df_copy = df[['Escolaridade','Renda_Familiar_Anual']].copy()\n",
    "\n",
    "#removendo outliers\n",
    "df_copy = df_copy.loc[df_copy[\"Renda_Familiar_Anual\"] < 110000]\n",
    "plot1 = df_copy.boxplot(by = 'Escolaridade')\n",
    "\n",
    "plt.title('')\n",
    "plt.suptitle('')\n",
    "plot1.set_xlabel(\"Escolaridade\");\n",
    "plot1.set_ylabel(\"Renda Familiar Anual\");\n",
    "plot1 = plt.show()"
   ]
  },
  {
   "cell_type": "markdown",
   "metadata": {
    "cell_id": "c475c04d-30b8-4ae1-90f2-a17d8f4dcd36",
    "deepnote_cell_type": "markdown",
    "tags": []
   },
   "source": [
    "#### Quais faixas etárias consomem mais? (João)"
   ]
  },
  {
   "cell_type": "code",
   "execution_count": 21,
   "metadata": {
    "ExecuteTime": {
     "end_time": "2022-01-31T23:39:22.461928Z",
     "start_time": "2022-01-31T23:39:22.416998Z"
    },
    "cell_id": "c26b1e00-6cfb-4aa2-9333-75e534298317",
    "deepnote_cell_type": "code",
    "deepnote_output_heights": [
     21
    ],
    "deepnote_to_be_reexecuted": false,
    "execution_millis": 51,
    "execution_start": 1643669549781,
    "source_hash": "c24c9926",
    "tags": []
   },
   "outputs": [
    {
     "data": {
      "text/plain": [
       "2014"
      ]
     },
     "execution_count": 21,
     "metadata": {},
     "output_type": "execute_result"
    }
   ],
   "source": [
    "ano_base = df[['Dt_Cadastro']].apply(lambda x: x['Dt_Cadastro'].year, axis =1).unique().max()\n",
    "ano_base"
   ]
  },
  {
   "cell_type": "code",
   "execution_count": 22,
   "metadata": {
    "ExecuteTime": {
     "end_time": "2022-01-31T23:39:22.870614Z",
     "start_time": "2022-01-31T23:39:22.462875Z"
    },
    "cell_id": "752dfe52-67d4-4b80-ba2d-dae754a538a2",
    "deepnote_cell_type": "code",
    "deepnote_to_be_reexecuted": false,
    "execution_millis": 397,
    "execution_start": 1643669550166,
    "source_hash": "24d51bca",
    "tags": []
   },
   "outputs": [],
   "source": [
    "df['Total_Gastos_Ult2Anos'] = df.apply(lambda linha: linha['Gastos_Em_Vinho_Ult2Anos':'Gastos_Em_Prod_Ouro_Ult2Anos'].sum(), axis=1)\n",
    "df['Idade'] = ano_base - df['Ano_Nasc']"
   ]
  },
  {
   "cell_type": "code",
   "execution_count": 23,
   "metadata": {
    "ExecuteTime": {
     "end_time": "2022-01-31T23:39:22.916546Z",
     "start_time": "2022-01-31T23:39:22.871606Z"
    },
    "cell_id": "0374dbd6-6b1b-4761-8894-331b8a7b7716",
    "deepnote_cell_type": "code",
    "deepnote_output_heights": [
     232.25
    ],
    "deepnote_to_be_reexecuted": false,
    "execution_millis": 49,
    "execution_start": 1643669550568,
    "source_hash": "9435d3a0",
    "tags": []
   },
   "outputs": [],
   "source": [
    "# Agrupando as idades por faixas etárias\n",
    "faixas_etarias = { 0:'Abaixo de 20', 1:'De 20 à 39', 2:'De 40 à 59', 3:'De 60 à 79', 4:'De 80 à 99'}\n",
    "# Criando nova coluna contendo as faixas etárias\n",
    "df['Faixa_Etaria'] = df.apply(lambda faixa: faixas_etarias.get(faixa['Idade'] // 20), axis=1)"
   ]
  },
  {
   "cell_type": "code",
   "execution_count": 24,
   "metadata": {
    "ExecuteTime": {
     "end_time": "2022-01-31T23:39:22.932504Z",
     "start_time": "2022-01-31T23:39:22.917544Z"
    },
    "cell_id": "1926b8fa-e974-4598-88ca-f76831e8a44c",
    "deepnote_cell_type": "code",
    "deepnote_output_heights": [
     1
    ],
    "deepnote_to_be_reexecuted": false,
    "execution_millis": 5,
    "execution_start": 1643669550638,
    "source_hash": "67063122",
    "tags": []
   },
   "outputs": [
    {
     "data": {
      "text/html": [
       "<div>\n",
       "<style scoped>\n",
       "    .dataframe tbody tr th:only-of-type {\n",
       "        vertical-align: middle;\n",
       "    }\n",
       "\n",
       "    .dataframe tbody tr th {\n",
       "        vertical-align: top;\n",
       "    }\n",
       "\n",
       "    .dataframe thead th {\n",
       "        text-align: right;\n",
       "    }\n",
       "</style>\n",
       "<table border=\"1\" class=\"dataframe\">\n",
       "  <thead>\n",
       "    <tr style=\"text-align: right;\">\n",
       "      <th></th>\n",
       "      <th>Total_Gastos_Ult2Anos</th>\n",
       "    </tr>\n",
       "    <tr>\n",
       "      <th>Faixa_Etaria</th>\n",
       "      <th></th>\n",
       "    </tr>\n",
       "  </thead>\n",
       "  <tbody>\n",
       "    <tr>\n",
       "      <th>Abaixo de 20</th>\n",
       "      <td>724.62</td>\n",
       "    </tr>\n",
       "    <tr>\n",
       "      <th>De 20 à 39</th>\n",
       "      <td>542.30</td>\n",
       "    </tr>\n",
       "    <tr>\n",
       "      <th>De 40 à 59</th>\n",
       "      <td>610.16</td>\n",
       "    </tr>\n",
       "    <tr>\n",
       "      <th>De 60 à 79</th>\n",
       "      <td>750.45</td>\n",
       "    </tr>\n",
       "  </tbody>\n",
       "</table>\n",
       "</div>"
      ],
      "text/plain": [
       "              Total_Gastos_Ult2Anos\n",
       "Faixa_Etaria                       \n",
       "Abaixo de 20                 724.62\n",
       "De 20 à 39                   542.30\n",
       "De 40 à 59                   610.16\n",
       "De 60 à 79                   750.45"
      ]
     },
     "execution_count": 24,
     "metadata": {},
     "output_type": "execute_result"
    }
   ],
   "source": [
    "df_gastos = df.groupby(['Faixa_Etaria'])[['Total_Gastos_Ult2Anos']].mean()\n",
    "df_gastos"
   ]
  },
  {
   "cell_type": "code",
   "execution_count": 25,
   "metadata": {
    "ExecuteTime": {
     "end_time": "2022-01-31T23:39:23.039935Z",
     "start_time": "2022-01-31T23:39:22.933502Z"
    },
    "cell_id": "2783390e-d65c-42d3-94c0-c84e966ed206",
    "deepnote_cell_type": "code",
    "deepnote_output_heights": [
     21.1875,
     320
    ],
    "deepnote_to_be_reexecuted": false,
    "execution_millis": 244,
    "execution_start": 1643669550654,
    "source_hash": "35a7ba35",
    "tags": []
   },
   "outputs": [
    {
     "data": {
      "text/plain": [
       "<AxesSubplot:xlabel='Faixa_Etaria'>"
      ]
     },
     "execution_count": 25,
     "metadata": {},
     "output_type": "execute_result"
    },
    {
     "data": {
      "image/png": "[encoded data removed]",
      "text/plain": [
       "<Figure size 432x288 with 1 Axes>"
      ]
     },
     "metadata": {
      "needs_background": "light"
     },
     "output_type": "display_data"
    }
   ],
   "source": [
    "df_gastos = df.groupby(['Faixa_Etaria'])[['Total_Gastos_Ult2Anos']].mean()\n",
    "df_gastos.rename(columns = {'Total_Gastos_Ult2Anos':'Média de Gastos nos Últimos 2 Anos'}).plot.bar()"
   ]
  },
  {
   "cell_type": "markdown",
   "metadata": {
    "cell_id": "1849a0b9-84a4-40c2-8a28-7f9d4f882f90",
    "deepnote_cell_type": "markdown",
    "tags": []
   },
   "source": [
    "#### Os casados são mais comedidos com os gastos que os solteiros? (João)"
   ]
  },
  {
   "cell_type": "code",
   "execution_count": 26,
   "metadata": {
    "ExecuteTime": {
     "end_time": "2022-01-31T23:39:23.055868Z",
     "start_time": "2022-01-31T23:39:23.040883Z"
    },
    "cell_id": "c603f8f8-4640-4f4d-8b8a-d8084d2401c3",
    "deepnote_cell_type": "code",
    "deepnote_to_be_reexecuted": false,
    "execution_millis": 4,
    "execution_start": 1643669550966,
    "source_hash": "ed6232ac",
    "tags": []
   },
   "outputs": [
    {
     "data": {
      "text/html": [
       "<div>\n",
       "<style scoped>\n",
       "    .dataframe tbody tr th:only-of-type {\n",
       "        vertical-align: middle;\n",
       "    }\n",
       "\n",
       "    .dataframe tbody tr th {\n",
       "        vertical-align: top;\n",
       "    }\n",
       "\n",
       "    .dataframe thead th {\n",
       "        text-align: right;\n",
       "    }\n",
       "</style>\n",
       "<table border=\"1\" class=\"dataframe\">\n",
       "  <thead>\n",
       "    <tr style=\"text-align: right;\">\n",
       "      <th></th>\n",
       "      <th>Total_Gastos_Ult2Anos</th>\n",
       "    </tr>\n",
       "    <tr>\n",
       "      <th>Estado_Civil</th>\n",
       "      <th></th>\n",
       "    </tr>\n",
       "  </thead>\n",
       "  <tbody>\n",
       "    <tr>\n",
       "      <th>Married</th>\n",
       "      <td>591.46</td>\n",
       "    </tr>\n",
       "    <tr>\n",
       "      <th>Single</th>\n",
       "      <td>612.59</td>\n",
       "    </tr>\n",
       "  </tbody>\n",
       "</table>\n",
       "</div>"
      ],
      "text/plain": [
       "              Total_Gastos_Ult2Anos\n",
       "Estado_Civil                       \n",
       "Married                      591.46\n",
       "Single                       612.59"
      ]
     },
     "execution_count": 26,
     "metadata": {},
     "output_type": "execute_result"
    }
   ],
   "source": [
    "df.groupby('Estado_Civil')[['Total_Gastos_Ult2Anos']].mean().loc[['Married','Single']]"
   ]
  },
  {
   "cell_type": "code",
   "execution_count": 27,
   "metadata": {
    "ExecuteTime": {
     "end_time": "2022-01-31T23:39:23.149655Z",
     "start_time": "2022-01-31T23:39:23.056841Z"
    },
    "cell_id": "a8b4d297-74a8-4feb-8d80-09067ac551a6",
    "deepnote_cell_type": "code",
    "deepnote_output_heights": [
     263
    ],
    "deepnote_to_be_reexecuted": false,
    "execution_millis": 176,
    "execution_start": 1643669550967,
    "source_hash": "2eb2d1ac",
    "tags": []
   },
   "outputs": [
    {
     "data": {
      "image/png": "[encoded data removed]",
      "text/plain": [
       "<Figure size 432x288 with 1 Axes>"
      ]
     },
     "metadata": {
      "needs_background": "light"
     },
     "output_type": "display_data"
    }
   ],
   "source": [
    "df_copy = df[['Estado_Civil','Total_Gastos_Ult2Anos']].copy()\n",
    "df_copy = df_copy[df_copy['Estado_Civil'].isin(['Married','Single'])]\n",
    "\n",
    "df_copy.Estado_Civil = df_copy.Estado_Civil.cat.remove_unused_categories()\n",
    "plot = df_copy.boxplot(by = 'Estado_Civil')\n",
    "\n",
    "plt.title('')\n",
    "plt.suptitle('')\n",
    "plot.set_xlabel(\"Estado Civil\");\n",
    "plot.set_ylabel(\"Gastos nos ultimos 2 anos\");\n",
    "plot = plt.show()"
   ]
  },
  {
   "cell_type": "markdown",
   "metadata": {
    "cell_id": "f92e98f4-9a8f-4458-b658-8e27e165b515",
    "deepnote_cell_type": "markdown",
    "tags": []
   },
   "source": [
    "apresentação de túlio\n",
    "#### Apresentando os principais grupos de Faixa Etária por estilo de compra (online, loja física, etc)"
   ]
  },
  {
   "cell_type": "code",
   "execution_count": 28,
   "metadata": {
    "ExecuteTime": {
     "end_time": "2022-01-31T23:39:23.165587Z",
     "start_time": "2022-01-31T23:39:23.153622Z"
    },
    "cell_id": "995ffcaf-437d-4423-bbb7-808f8e781c04",
    "deepnote_cell_type": "code",
    "deepnote_output_heights": [
     1
    ],
    "deepnote_to_be_reexecuted": false,
    "execution_millis": 264,
    "execution_start": 1643669551146,
    "source_hash": "fca90ccd",
    "tags": []
   },
   "outputs": [
    {
     "data": {
      "text/html": [
       "<div>\n",
       "<style scoped>\n",
       "    .dataframe tbody tr th:only-of-type {\n",
       "        vertical-align: middle;\n",
       "    }\n",
       "\n",
       "    .dataframe tbody tr th {\n",
       "        vertical-align: top;\n",
       "    }\n",
       "\n",
       "    .dataframe thead th {\n",
       "        text-align: right;\n",
       "    }\n",
       "</style>\n",
       "<table border=\"1\" class=\"dataframe\">\n",
       "  <thead>\n",
       "    <tr style=\"text-align: right;\">\n",
       "      <th></th>\n",
       "      <th>Qtd_Compras_OnLine</th>\n",
       "      <th>Qtd_Compras_Catalogo</th>\n",
       "      <th>Qtd_Compras_Loja</th>\n",
       "    </tr>\n",
       "    <tr>\n",
       "      <th>Faixa_Etaria</th>\n",
       "      <th></th>\n",
       "      <th></th>\n",
       "      <th></th>\n",
       "    </tr>\n",
       "  </thead>\n",
       "  <tbody>\n",
       "    <tr>\n",
       "      <th>Abaixo de 20</th>\n",
       "      <td>22</td>\n",
       "      <td>31</td>\n",
       "      <td>45</td>\n",
       "    </tr>\n",
       "    <tr>\n",
       "      <th>De 20 à 39</th>\n",
       "      <td>2764</td>\n",
       "      <td>1794</td>\n",
       "      <td>4110</td>\n",
       "    </tr>\n",
       "    <tr>\n",
       "      <th>De 40 à 59</th>\n",
       "      <td>4782</td>\n",
       "      <td>3009</td>\n",
       "      <td>6634</td>\n",
       "    </tr>\n",
       "    <tr>\n",
       "      <th>De 60 à 79</th>\n",
       "      <td>1462</td>\n",
       "      <td>1067</td>\n",
       "      <td>2039</td>\n",
       "    </tr>\n",
       "  </tbody>\n",
       "</table>\n",
       "</div>"
      ],
      "text/plain": [
       "              Qtd_Compras_OnLine  Qtd_Compras_Catalogo  Qtd_Compras_Loja\n",
       "Faixa_Etaria                                                            \n",
       "Abaixo de 20                  22                    31                45\n",
       "De 20 à 39                  2764                  1794              4110\n",
       "De 40 à 59                  4782                  3009              6634\n",
       "De 60 à 79                  1462                  1067              2039"
      ]
     },
     "execution_count": 28,
     "metadata": {},
     "output_type": "execute_result"
    }
   ],
   "source": [
    "##################\n",
    "# Airton #########\n",
    "##################\n",
    "\n",
    "df_estilo_compra = df.groupby(['Faixa_Etaria'])[['Qtd_Compras_OnLine', 'Qtd_Compras_Catalogo', 'Qtd_Compras_Loja']].agg('sum')\n",
    "df_estilo_compra"
   ]
  },
  {
   "cell_type": "code",
   "execution_count": 29,
   "metadata": {
    "ExecuteTime": {
     "end_time": "2022-01-31T23:39:23.274317Z",
     "start_time": "2022-01-31T23:39:23.167585Z"
    },
    "cell_id": "0e95d11b-9c37-4d75-930e-e5f0f7748c45",
    "deepnote_cell_type": "code",
    "deepnote_output_heights": [
     21.1875,
     320
    ],
    "deepnote_to_be_reexecuted": false,
    "execution_millis": 286,
    "execution_start": 1643669551212,
    "source_hash": "5512292",
    "tags": []
   },
   "outputs": [
    {
     "data": {
      "text/plain": [
       "<AxesSubplot:xlabel='Faixa_Etaria'>"
      ]
     },
     "execution_count": 29,
     "metadata": {},
     "output_type": "execute_result"
    },
    {
     "data": {
      "image/png": "[encoded data removed]",
      "text/plain": [
       "<Figure size 432x288 with 1 Axes>"
      ]
     },
     "metadata": {
      "needs_background": "light"
     },
     "output_type": "display_data"
    }
   ],
   "source": [
    "df_estilo_compra.plot.bar()"
   ]
  },
  {
   "cell_type": "markdown",
   "metadata": {
    "cell_id": "31f9be25-eb64-4ecd-8671-6922f13db1f8",
    "deepnote_cell_type": "markdown",
    "tags": []
   },
   "source": [
    "#### Este comportamento também se reflete no acesso ao site da loja dos últimos 30 dias?"
   ]
  },
  {
   "cell_type": "code",
   "execution_count": 30,
   "metadata": {
    "ExecuteTime": {
     "end_time": "2022-01-31T23:39:23.290254Z",
     "start_time": "2022-01-31T23:39:23.275293Z"
    },
    "cell_id": "9b56d93e-5216-4efc-96f7-2165f6ba3ce7",
    "deepnote_cell_type": "code",
    "deepnote_to_be_reexecuted": false,
    "execution_millis": 21,
    "execution_start": 1643669551500,
    "source_hash": "7c04efa8",
    "tags": []
   },
   "outputs": [
    {
     "data": {
      "text/html": [
       "<div>\n",
       "<style scoped>\n",
       "    .dataframe tbody tr th:only-of-type {\n",
       "        vertical-align: middle;\n",
       "    }\n",
       "\n",
       "    .dataframe tbody tr th {\n",
       "        vertical-align: top;\n",
       "    }\n",
       "\n",
       "    .dataframe thead th {\n",
       "        text-align: right;\n",
       "    }\n",
       "</style>\n",
       "<table border=\"1\" class=\"dataframe\">\n",
       "  <thead>\n",
       "    <tr style=\"text-align: right;\">\n",
       "      <th></th>\n",
       "      <th>Qtd_Compras_OnLine</th>\n",
       "      <th>Qtd_Acessos_AoSite_UltMes</th>\n",
       "    </tr>\n",
       "    <tr>\n",
       "      <th>Faixa_Etaria</th>\n",
       "      <th></th>\n",
       "      <th></th>\n",
       "    </tr>\n",
       "  </thead>\n",
       "  <tbody>\n",
       "    <tr>\n",
       "      <th>Abaixo de 20</th>\n",
       "      <td>22</td>\n",
       "      <td>36</td>\n",
       "    </tr>\n",
       "    <tr>\n",
       "      <th>De 20 à 39</th>\n",
       "      <td>2764</td>\n",
       "      <td>4229</td>\n",
       "    </tr>\n",
       "    <tr>\n",
       "      <th>De 40 à 59</th>\n",
       "      <td>4782</td>\n",
       "      <td>6037</td>\n",
       "    </tr>\n",
       "    <tr>\n",
       "      <th>De 60 à 79</th>\n",
       "      <td>1462</td>\n",
       "      <td>1461</td>\n",
       "    </tr>\n",
       "  </tbody>\n",
       "</table>\n",
       "</div>"
      ],
      "text/plain": [
       "              Qtd_Compras_OnLine  Qtd_Acessos_AoSite_UltMes\n",
       "Faixa_Etaria                                               \n",
       "Abaixo de 20                  22                         36\n",
       "De 20 à 39                  2764                       4229\n",
       "De 40 à 59                  4782                       6037\n",
       "De 60 à 79                  1462                       1461"
      ]
     },
     "execution_count": 30,
     "metadata": {},
     "output_type": "execute_result"
    }
   ],
   "source": [
    "# Airton\n",
    "df_compras_30d = df.groupby(['Faixa_Etaria'])[['Qtd_Compras_OnLine', 'Qtd_Acessos_AoSite_UltMes']].agg('sum')\n",
    "df_compras_30d"
   ]
  },
  {
   "cell_type": "code",
   "execution_count": 31,
   "metadata": {
    "ExecuteTime": {
     "end_time": "2022-01-31T23:39:23.399033Z",
     "start_time": "2022-01-31T23:39:23.291251Z"
    },
    "cell_id": "2d0db197-16ec-4997-baa9-0545e0590299",
    "deepnote_cell_type": "code",
    "deepnote_output_heights": [
     21.1875,
     320
    ],
    "deepnote_to_be_reexecuted": false,
    "execution_millis": 305,
    "execution_start": 1643669551602,
    "source_hash": "9689f061",
    "tags": []
   },
   "outputs": [
    {
     "data": {
      "text/plain": [
       "<AxesSubplot:xlabel='Faixa_Etaria'>"
      ]
     },
     "execution_count": 31,
     "metadata": {},
     "output_type": "execute_result"
    },
    {
     "data": {
      "image/png": "[encoded data removed]",
      "text/plain": [
       "<Figure size 432x288 with 1 Axes>"
      ]
     },
     "metadata": {
      "needs_background": "light"
     },
     "output_type": "display_data"
    }
   ],
   "source": [
    "df_compras_30d.plot.bar()"
   ]
  },
  {
   "cell_type": "markdown",
   "metadata": {
    "cell_id": "9cae765a-8f96-4e75-85a5-1b0263eb8e50",
    "deepnote_cell_type": "markdown",
    "tags": []
   },
   "source": [
    "#### Apresentando o poder de alcance das campanhas (em qual campanha a pessoa costuma aderir) por Faixa Etária e Renda."
   ]
  },
  {
   "cell_type": "code",
   "execution_count": 32,
   "metadata": {
    "ExecuteTime": {
     "end_time": "2022-01-31T23:39:23.414991Z",
     "start_time": "2022-01-31T23:39:23.400030Z"
    },
    "cell_id": "6d944ad2-3855-4e38-95b4-513cf207452f",
    "deepnote_cell_type": "code",
    "deepnote_output_heights": [
     1
    ],
    "deepnote_to_be_reexecuted": false,
    "execution_millis": 75,
    "execution_start": 1643669551910,
    "source_hash": "bdcff818",
    "tags": []
   },
   "outputs": [
    {
     "data": {
      "text/html": [
       "<div>\n",
       "<style scoped>\n",
       "    .dataframe tbody tr th:only-of-type {\n",
       "        vertical-align: middle;\n",
       "    }\n",
       "\n",
       "    .dataframe tbody tr th {\n",
       "        vertical-align: top;\n",
       "    }\n",
       "\n",
       "    .dataframe thead th {\n",
       "        text-align: right;\n",
       "    }\n",
       "</style>\n",
       "<table border=\"1\" class=\"dataframe\">\n",
       "  <thead>\n",
       "    <tr style=\"text-align: right;\">\n",
       "      <th></th>\n",
       "      <th>Oferta_Aceita_1aCamp</th>\n",
       "      <th>Oferta_Aceita_2aCamp</th>\n",
       "      <th>Oferta_Aceita_3aCamp</th>\n",
       "      <th>Oferta_Aceita_4aCamp</th>\n",
       "      <th>Oferta_Aceita_5aCamp</th>\n",
       "    </tr>\n",
       "    <tr>\n",
       "      <th>Faixa_Etaria</th>\n",
       "      <th></th>\n",
       "      <th></th>\n",
       "      <th></th>\n",
       "      <th></th>\n",
       "      <th></th>\n",
       "    </tr>\n",
       "  </thead>\n",
       "  <tbody>\n",
       "    <tr>\n",
       "      <th>Abaixo de 20</th>\n",
       "      <td>0</td>\n",
       "      <td>0</td>\n",
       "      <td>2</td>\n",
       "      <td>0</td>\n",
       "      <td>2</td>\n",
       "    </tr>\n",
       "    <tr>\n",
       "      <th>De 20 à 39</th>\n",
       "      <td>54</td>\n",
       "      <td>7</td>\n",
       "      <td>72</td>\n",
       "      <td>36</td>\n",
       "      <td>60</td>\n",
       "    </tr>\n",
       "    <tr>\n",
       "      <th>De 40 à 59</th>\n",
       "      <td>62</td>\n",
       "      <td>21</td>\n",
       "      <td>70</td>\n",
       "      <td>100</td>\n",
       "      <td>69</td>\n",
       "    </tr>\n",
       "    <tr>\n",
       "      <th>De 60 à 79</th>\n",
       "      <td>25</td>\n",
       "      <td>2</td>\n",
       "      <td>19</td>\n",
       "      <td>28</td>\n",
       "      <td>30</td>\n",
       "    </tr>\n",
       "  </tbody>\n",
       "</table>\n",
       "</div>"
      ],
      "text/plain": [
       "              Oferta_Aceita_1aCamp  Oferta_Aceita_2aCamp  \\\n",
       "Faixa_Etaria                                               \n",
       "Abaixo de 20                     0                     0   \n",
       "De 20 à 39                      54                     7   \n",
       "De 40 à 59                      62                    21   \n",
       "De 60 à 79                      25                     2   \n",
       "\n",
       "              Oferta_Aceita_3aCamp  Oferta_Aceita_4aCamp  Oferta_Aceita_5aCamp  \n",
       "Faixa_Etaria                                                                    \n",
       "Abaixo de 20                     2                     0                     2  \n",
       "De 20 à 39                      72                    36                    60  \n",
       "De 40 à 59                      70                   100                    69  \n",
       "De 60 à 79                      19                    28                    30  "
      ]
     },
     "execution_count": 32,
     "metadata": {},
     "output_type": "execute_result"
    }
   ],
   "source": [
    "# Airton\n",
    "# alguém sabe fazer com que os números abaixo sejam representados por %?\n",
    "# tipo: A 'oferta_aceita_3aCamp' para 'Abaixo de 20' está como 2. Se temos 7 pessoas nesta faixa etária, então como mostraríamos 28%?\n",
    "df_campanhas = df.groupby(['Faixa_Etaria'])[['Oferta_Aceita_1aCamp', 'Oferta_Aceita_2aCamp', 'Oferta_Aceita_3aCamp',          'Oferta_Aceita_4aCamp',\n",
    "    'Oferta_Aceita_5aCamp',]].agg('sum')\n",
    "df_campanhas"
   ]
  },
  {
   "cell_type": "code",
   "execution_count": 33,
   "metadata": {
    "ExecuteTime": {
     "end_time": "2022-01-31T23:39:23.540010Z",
     "start_time": "2022-01-31T23:39:23.415988Z"
    },
    "cell_id": "cf6ebd29-57a0-4955-939e-bcd4f550c076",
    "deepnote_cell_type": "code",
    "deepnote_output_heights": [
     21.1875,
     320
    ],
    "deepnote_to_be_reexecuted": false,
    "execution_millis": 330,
    "execution_start": 1643669551992,
    "source_hash": "3426b6f5",
    "tags": []
   },
   "outputs": [
    {
     "data": {
      "text/plain": [
       "<AxesSubplot:xlabel='Faixa_Etaria'>"
      ]
     },
     "execution_count": 33,
     "metadata": {},
     "output_type": "execute_result"
    },
    {
     "data": {
      "image/png": "[encoded data removed]",
      "text/plain": [
       "<Figure size 432x288 with 1 Axes>"
      ]
     },
     "metadata": {
      "needs_background": "light"
     },
     "output_type": "display_data"
    }
   ],
   "source": [
    "df_campanhas.rename(columns = {coluna:coluna[-6:] for coluna in df_campanhas.columns})[['1aCamp','2aCamp','3aCamp','4aCamp','5aCamp']].plot.bar()"
   ]
  },
  {
   "cell_type": "markdown",
   "metadata": {
    "cell_id": "02a8acf7-b88a-4977-a925-08bf86fdc2a1",
    "deepnote_cell_type": "markdown",
    "tags": []
   },
   "source": [
    "#### Em média, de quantas campanhas os clientes pariticipam?"
   ]
  },
  {
   "cell_type": "code",
   "execution_count": 34,
   "metadata": {
    "ExecuteTime": {
     "end_time": "2022-01-31T23:39:24.243138Z",
     "start_time": "2022-01-31T23:39:23.540988Z"
    },
    "cell_id": "2d41447a-f773-4836-8830-458eba659e18",
    "deepnote_cell_type": "code",
    "deepnote_output_heights": [
     136.3125
    ],
    "deepnote_to_be_reexecuted": false,
    "execution_millis": 1115,
    "execution_start": 1643669552440,
    "source_hash": "78d00182",
    "tags": []
   },
   "outputs": [
    {
     "data": {
      "text/html": [
       "<div>\n",
       "<style scoped>\n",
       "    .dataframe tbody tr th:only-of-type {\n",
       "        vertical-align: middle;\n",
       "    }\n",
       "\n",
       "    .dataframe tbody tr th {\n",
       "        vertical-align: top;\n",
       "    }\n",
       "\n",
       "    .dataframe thead th {\n",
       "        text-align: right;\n",
       "    }\n",
       "</style>\n",
       "<table border=\"1\" class=\"dataframe\">\n",
       "  <thead>\n",
       "    <tr style=\"text-align: right;\">\n",
       "      <th></th>\n",
       "      <th>Total_Ofertas_Aceitas</th>\n",
       "    </tr>\n",
       "  </thead>\n",
       "  <tbody>\n",
       "    <tr>\n",
       "      <th>0</th>\n",
       "      <td>0.73</td>\n",
       "    </tr>\n",
       "    <tr>\n",
       "      <th>1</th>\n",
       "      <td>0.17</td>\n",
       "    </tr>\n",
       "    <tr>\n",
       "      <th>2</th>\n",
       "      <td>0.06</td>\n",
       "    </tr>\n",
       "    <tr>\n",
       "      <th>3</th>\n",
       "      <td>0.02</td>\n",
       "    </tr>\n",
       "    <tr>\n",
       "      <th>4</th>\n",
       "      <td>0.02</td>\n",
       "    </tr>\n",
       "    <tr>\n",
       "      <th>5</th>\n",
       "      <td>0.00</td>\n",
       "    </tr>\n",
       "  </tbody>\n",
       "</table>\n",
       "</div>"
      ],
      "text/plain": [
       "   Total_Ofertas_Aceitas\n",
       "0                   0.73\n",
       "1                   0.17\n",
       "2                   0.06\n",
       "3                   0.02\n",
       "4                   0.02\n",
       "5                   0.00"
      ]
     },
     "execution_count": 34,
     "metadata": {},
     "output_type": "execute_result"
    }
   ],
   "source": [
    "df['Total_Ofertas_Aceitas'] = df.apply(lambda linha: linha[['Oferta_Aceita_3aCamp','Oferta_Aceita_4aCamp','Oferta_Aceita_5aCamp','Oferta_Aceita_1aCamp','Oferta_Aceita_2aCamp', 'Oferta_Aceita_UltCamp' ]].sum(), axis=1)\n",
    "\n",
    "(df['Total_Ofertas_Aceitas'].value_counts()/df.shape[0]).to_frame()"
   ]
  },
  {
   "cell_type": "code",
   "execution_count": 35,
   "metadata": {
    "ExecuteTime": {
     "end_time": "2022-01-31T23:39:24.259068Z",
     "start_time": "2022-01-31T23:39:24.244108Z"
    },
    "cell_id": "331d4dd6-9e82-469e-a4e4-9b0031dda0c6",
    "deepnote_cell_type": "code",
    "deepnote_output_heights": [
     21.1875
    ],
    "deepnote_to_be_reexecuted": false,
    "execution_millis": 6,
    "execution_start": 1643669553560,
    "source_hash": "dcec1be7",
    "tags": []
   },
   "outputs": [
    {
     "data": {
      "text/plain": [
       "0.44776119402985076"
      ]
     },
     "execution_count": 35,
     "metadata": {},
     "output_type": "execute_result"
    }
   ],
   "source": [
    "media_part_camp = (df['Total_Ofertas_Aceitas'].value_counts()/df.shape[0]).to_frame().reset_index().apply(lambda x: x['Total_Ofertas_Aceitas']*x['index'], axis =1 ).sum()\n",
    "media_part_camp "
   ]
  },
  {
   "cell_type": "markdown",
   "metadata": {
    "cell_id": "e993ed49-4de5-4484-ab43-da6d73aaa69a",
    "deepnote_cell_type": "markdown",
    "tags": []
   },
   "source": [
    "#### Qual a média de gasto por número de campanhas aceitas? (Apresentação Luis)"
   ]
  },
  {
   "cell_type": "code",
   "execution_count": 36,
   "metadata": {
    "ExecuteTime": {
     "end_time": "2022-01-31T23:39:24.275025Z",
     "start_time": "2022-01-31T23:39:24.260066Z"
    },
    "cell_id": "3eeb46cc-3965-41ae-b529-f2a9df5bd26e",
    "deepnote_cell_type": "code",
    "deepnote_to_be_reexecuted": false,
    "execution_millis": 54,
    "execution_start": 1643669553568,
    "source_hash": "94ca2cc0",
    "tags": []
   },
   "outputs": [
    {
     "data": {
      "text/html": [
       "<div>\n",
       "<style scoped>\n",
       "    .dataframe tbody tr th:only-of-type {\n",
       "        vertical-align: middle;\n",
       "    }\n",
       "\n",
       "    .dataframe tbody tr th {\n",
       "        vertical-align: top;\n",
       "    }\n",
       "\n",
       "    .dataframe thead th {\n",
       "        text-align: right;\n",
       "    }\n",
       "</style>\n",
       "<table border=\"1\" class=\"dataframe\">\n",
       "  <thead>\n",
       "    <tr style=\"text-align: right;\">\n",
       "      <th></th>\n",
       "      <th>Qtd_Pessoas</th>\n",
       "      <th>Gastos_Em_Prod_Ouro_Ult2Anos</th>\n",
       "      <th>media_consumo_ofertas</th>\n",
       "    </tr>\n",
       "    <tr>\n",
       "      <th>Total_Ofertas_Aceitas</th>\n",
       "      <th></th>\n",
       "      <th></th>\n",
       "      <th></th>\n",
       "    </tr>\n",
       "  </thead>\n",
       "  <tbody>\n",
       "    <tr>\n",
       "      <th>0</th>\n",
       "      <td>1608</td>\n",
       "      <td>60,674.00</td>\n",
       "      <td>37.73</td>\n",
       "    </tr>\n",
       "    <tr>\n",
       "      <th>1</th>\n",
       "      <td>368</td>\n",
       "      <td>20,635.00</td>\n",
       "      <td>56.07</td>\n",
       "    </tr>\n",
       "    <tr>\n",
       "      <th>2</th>\n",
       "      <td>139</td>\n",
       "      <td>7,720.00</td>\n",
       "      <td>55.54</td>\n",
       "    </tr>\n",
       "    <tr>\n",
       "      <th>3</th>\n",
       "      <td>50</td>\n",
       "      <td>4,167.00</td>\n",
       "      <td>83.34</td>\n",
       "    </tr>\n",
       "    <tr>\n",
       "      <th>4</th>\n",
       "      <td>36</td>\n",
       "      <td>3,122.00</td>\n",
       "      <td>86.72</td>\n",
       "    </tr>\n",
       "    <tr>\n",
       "      <th>5</th>\n",
       "      <td>10</td>\n",
       "      <td>592.00</td>\n",
       "      <td>59.20</td>\n",
       "    </tr>\n",
       "  </tbody>\n",
       "</table>\n",
       "</div>"
      ],
      "text/plain": [
       "                       Qtd_Pessoas  Gastos_Em_Prod_Ouro_Ult2Anos  \\\n",
       "Total_Ofertas_Aceitas                                              \n",
       "0                             1608                     60,674.00   \n",
       "1                              368                     20,635.00   \n",
       "2                              139                      7,720.00   \n",
       "3                               50                      4,167.00   \n",
       "4                               36                      3,122.00   \n",
       "5                               10                        592.00   \n",
       "\n",
       "                       media_consumo_ofertas  \n",
       "Total_Ofertas_Aceitas                         \n",
       "0                                      37.73  \n",
       "1                                      56.07  \n",
       "2                                      55.54  \n",
       "3                                      83.34  \n",
       "4                                      86.72  \n",
       "5                                      59.20  "
      ]
     },
     "execution_count": 36,
     "metadata": {},
     "output_type": "execute_result"
    }
   ],
   "source": [
    "total_linhas = df[\"Ano_Nasc\"].size\n",
    "\n",
    "resumo = df.groupby(\"Total_Ofertas_Aceitas\").agg({\"Ano_Nasc\":\"count\", \"Gastos_Em_Prod_Ouro_Ult2Anos\":\"sum\"})\n",
    "\n",
    "resumo[\"media_consumo_ofertas\"] = resumo[\"Gastos_Em_Prod_Ouro_Ult2Anos\"]/resumo[\"Ano_Nasc\"]\n",
    "\n",
    "resumo.rename(columns={\"Ano_Nasc\":\"Qtd_Pessoas\"},inplace=True)\n",
    "\n",
    "resumo"
   ]
  },
  {
   "cell_type": "markdown",
   "metadata": {
    "cell_id": "3f790f31-4b50-443a-bca9-9453db666185",
    "deepnote_cell_type": "markdown",
    "tags": []
   },
   "source": [
    "### Tentando descobrir quando as campanhas aconteceram. (Apresentação Luis)"
   ]
  },
  {
   "cell_type": "code",
   "execution_count": 37,
   "metadata": {
    "ExecuteTime": {
     "end_time": "2022-01-31T23:39:37.196191Z",
     "start_time": "2022-01-31T23:39:37.169263Z"
    },
    "cell_id": "4dd604ac-6023-43cf-b689-37d6bc8bd178",
    "deepnote_cell_type": "code",
    "deepnote_to_be_reexecuted": false,
    "execution_millis": 47,
    "execution_start": 1643669553602,
    "source_hash": "c5348e30",
    "tags": []
   },
   "outputs": [
    {
     "name": "stdout",
     "output_type": "stream",
     "text": [
      "Cadastro mais antigo do dataframe original: 2012-01-08 00:00:00\n",
      "Cadastro mais recente do dataframe original: 2014-12-06 00:00:00\n",
      "Dentre os que aceitaram ofertas de cada campanha, o cadastro mais recente é da data...\n"
     ]
    },
    {
     "data": {
      "text/html": [
       "<div>\n",
       "<style scoped>\n",
       "    .dataframe tbody tr th:only-of-type {\n",
       "        vertical-align: middle;\n",
       "    }\n",
       "\n",
       "    .dataframe tbody tr th {\n",
       "        vertical-align: top;\n",
       "    }\n",
       "\n",
       "    .dataframe thead th {\n",
       "        text-align: right;\n",
       "    }\n",
       "</style>\n",
       "<table border=\"1\" class=\"dataframe\">\n",
       "  <thead>\n",
       "    <tr style=\"text-align: right;\">\n",
       "      <th></th>\n",
       "      <th>cadastro_mais_recente</th>\n",
       "    </tr>\n",
       "    <tr>\n",
       "      <th>camp_index</th>\n",
       "      <th></th>\n",
       "    </tr>\n",
       "  </thead>\n",
       "  <tbody>\n",
       "    <tr>\n",
       "      <th>2</th>\n",
       "      <td>2014-06-17</td>\n",
       "    </tr>\n",
       "    <tr>\n",
       "      <th>3</th>\n",
       "      <td>2014-11-02</td>\n",
       "    </tr>\n",
       "    <tr>\n",
       "      <th>1</th>\n",
       "      <td>2014-12-02</td>\n",
       "    </tr>\n",
       "    <tr>\n",
       "      <th>6</th>\n",
       "      <td>2014-12-02</td>\n",
       "    </tr>\n",
       "    <tr>\n",
       "      <th>4</th>\n",
       "      <td>2014-12-03</td>\n",
       "    </tr>\n",
       "    <tr>\n",
       "      <th>5</th>\n",
       "      <td>2014-12-05</td>\n",
       "    </tr>\n",
       "  </tbody>\n",
       "</table>\n",
       "</div>"
      ],
      "text/plain": [
       "           cadastro_mais_recente\n",
       "camp_index                      \n",
       "2                     2014-06-17\n",
       "3                     2014-11-02\n",
       "1                     2014-12-02\n",
       "6                     2014-12-02\n",
       "4                     2014-12-03\n",
       "5                     2014-12-05"
      ]
     },
     "execution_count": 37,
     "metadata": {},
     "output_type": "execute_result"
    }
   ],
   "source": [
    "# Lista para armazenar as datas mais recentes de cadastro \n",
    "# referente ao grupo de pessoas que aceitou oferta de determinada campanha.\n",
    "\n",
    "datas_maximas=[]\n",
    "\n",
    "indices = range(1,7)\n",
    "\n",
    "# Colocando na lista a data de cadastro mais recente dos participantes de cada campanha\n",
    "for indice in indices:\n",
    "    \n",
    "    if indice<6:\n",
    "        coluna = \"Oferta_Aceita_\"+str(indice)+\"aCamp\"\n",
    "\n",
    "    else:\n",
    "        coluna = \"Oferta_Aceita_UltCamp\"\n",
    "        pass\n",
    "    \n",
    "    datas_maximas.append(df[df[coluna]==1][\"Dt_Cadastro\"].max())\n",
    "        \n",
    "\n",
    "# Construindo um dataframe para os dados das campanhas\n",
    "\n",
    "df_campanhas = pd.DataFrame({\"camp_index\": indices,  \"cadastro_mais_recente\":datas_maximas})\n",
    "\n",
    "df_campanhas.set_index(\"camp_index\", inplace=True)\n",
    "\n",
    "df_campanhas.sort_values(\"cadastro_mais_recente\", inplace=True)\n",
    "\n",
    "\n",
    "\n",
    "print(f\"Cadastro mais antigo do dataframe original: {df['Dt_Cadastro'].min()}\")\n",
    "\n",
    "print(f\"Cadastro mais recente do dataframe original: {df['Dt_Cadastro'].max()}\")\n",
    "\n",
    "print(\"Dentre os que aceitaram ofertas de cada campanha, o cadastro mais recente é da data...\")\n",
    "\n",
    "df_campanhas"
   ]
  },
  {
   "cell_type": "markdown",
   "metadata": {
    "cell_id": "878f99e1-fba5-4da8-b391-1c76a18a1d36",
    "deepnote_cell_type": "markdown",
    "tags": []
   },
   "source": [
    "#### 1. Apresente as características do conjunto de dados fornecido, destacando sua visão geral acerca do conjunto de dados e tecendo críticas e comentários."
   ]
  },
  {
   "cell_type": "markdown",
   "metadata": {
    "cell_id": "a0ddfc59-d867-4cb8-b2c4-16cc334a5c3b",
    "deepnote_cell_type": "markdown",
    "tags": []
   },
   "source": [
    "#### 2. Faça uma análise detalhada das variáveis numéricas e categóricas da base de dados, discutindo sua distribuição e outras características relevantes."
   ]
  },
  {
   "cell_type": "markdown",
   "metadata": {
    "cell_id": "f806d658-9062-4482-a61a-fcfb7827875b",
    "deepnote_cell_type": "markdown",
    "tags": []
   },
   "source": [
    "#### 3. Limpeza de dados: Considere a avaliação da existência de valores ausentes e de possíveis outliers, discutindindo como estes podem ser tratados e eliminados;"
   ]
  },
  {
   "cell_type": "markdown",
   "metadata": {
    "cell_id": "644c0040-0e4c-4018-870c-2fe15332d675",
    "deepnote_cell_type": "markdown",
    "tags": []
   },
   "source": [
    "#### 4. Feature engineering: Quais variáveis você poderia criar para enriquecer a análise?"
   ]
  },
  {
   "cell_type": "markdown",
   "metadata": {
    "cell_id": "b57ce688-2d8c-4836-b006-42fd55b47793",
    "deepnote_cell_type": "markdown",
    "tags": []
   },
   "source": [
    "#### 5. Enriquecimento da base: Inclua qualquer outra informação/análise que achar importante."
   ]
  },
  {
   "cell_type": "markdown",
   "metadata": {
    "cell_id": "a5efe462-a7f2-4f95-adbf-2c9cb88d4923",
    "deepnote_cell_type": "markdown",
    "tags": []
   },
   "source": [
    "#### 6. Que outras bases externas ou internas você buscaria para enriquecer as análises?\n",
    "\n",
    "Uma base com dados das campanhas permitiria associar a taxa de penetração das campanhas com relação a datas comemorativas ou sazonalidade.\n",
    "\n",
    "Uma base de dados com gastos por faixa etária da população em geral com produtos similares, permitira verificar se estamos acima ou abaixo da média dos concorrentes. Poderia ser alguma base de dados de associação comercial, por exemplo.\n",
    "\n"
   ]
  },
  {
   "cell_type": "markdown",
   "metadata": {
    "created_in_deepnote_cell": true,
    "deepnote_cell_type": "markdown",
    "tags": []
   },
   "source": [
    "<a style='text-decoration:none;line-height:16px;display:flex;color:#5B5B62;padding:10px;justify-content:end;' href='https://deepnote.com?utm_source=created-in-deepnote-cell&projectId=1f826d52-8bc7-47a7-8f9d-9b5ff7245f3a' target=\"_blank\">\n",
    "<img alt='Created in deepnote.com' style='display:inline;max-height:16px;margin:0px;margin-right:7.5px;' src='data:image/svg+xml;base64,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' > </img>\n",
    "Created in <span style='font-weight:600;margin-left:4px;'>Deepnote</span></a>"
   ]
  }
 ],
 "metadata": {
  "deepnote": {
   "is_reactive": false
  },
  "deepnote_execution_queue": [],
  "deepnote_notebook_id": "9cd0d6b3-881f-4444-9edc-564d0224f91b",
  "kernelspec": {
   "display_name": "Python 3 (ipykernel)",
   "language": "python",
   "name": "python3"
  },
  "language_info": {
   "codemirror_mode": {
    "name": "ipython",
    "version": 3
   },
   "file_extension": ".py",
   "mimetype": "text/x-python",
   "name": "python",
   "nbconvert_exporter": "python",
   "pygments_lexer": "ipython3",
   "version": "3.9.7"
  }
 },
 "nbformat": 4,
 "nbformat_minor": 2
}
