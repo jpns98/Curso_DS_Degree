{
 "cells": [
  {
   "cell_type": "code",
   "execution_count": 109,
   "id": "29dcee71",
   "metadata": {
    "cell_id": "20bd259a-e209-4788-a072-31669844b73b",
    "deepnote_cell_type": "code",
    "deepnote_to_be_reexecuted": false,
    "execution_millis": 4,
    "execution_start": 1643412895228,
    "source_hash": "c76c7c51"
   },
   "outputs": [],
   "source": [
    "import pandas as pd\n",
    "import numpy as np"
   ]
  },
  {
   "cell_type": "code",
   "execution_count": 110,
   "id": "038bbe46",
   "metadata": {
    "cell_id": "00001-4b900fcf-c3fc-4867-91c3-0ff8bf4eb4b5",
    "deepnote_cell_type": "code",
    "deepnote_to_be_reexecuted": false,
    "execution_millis": 3,
    "execution_start": 1643412895234,
    "source_hash": "81c0e718"
   },
   "outputs": [],
   "source": [
    "pd.options.display.float_format = '{:,.2f}'.format"
   ]
  },
  {
   "cell_type": "markdown",
   "id": "36d43b1d",
   "metadata": {
    "cell_id": "00002-fe7f8c20-f3a1-4320-8353-f2812ac84f11",
    "deepnote_cell_type": "markdown"
   },
   "source": [
    "### Problema 1\n",
    "Vamos praticar gerar matrizes e fazer operações com as linhas e colunas:\n",
    "\n",
    "(a) Crie uma matriz A com as dimensões (5, 4) e elementos aleatórios variando entre 0 e 50, com o 50 incluso;\n",
    "\n",
    "__Dica:__ Utilize as funções `np.random.randint` e `np.reshape`\n",
    "\n",
    "(b) Retorne a média do vetor\n",
    "\n",
    "(c) Retorne os menores valores de cada coluna;\n",
    "\n",
    "(d) Retorne os maiores valores de cada linha."
   ]
  },
  {
   "cell_type": "code",
   "execution_count": 111,
   "id": "82d48004",
   "metadata": {
    "cell_id": "00003-9b4e48ca-4d29-4a83-812b-0d9dbcc75afa",
    "deepnote_cell_type": "code",
    "deepnote_output_heights": [
     97.984375
    ],
    "deepnote_to_be_reexecuted": false,
    "execution_millis": 4,
    "execution_start": 1643412895241,
    "source_hash": "9cc6834c"
   },
   "outputs": [],
   "source": [
    "# a)\n",
    "\n",
    "a = np.random.randint(0, 51, size=20 )\n",
    "\n",
    "\n",
    "a = a.reshape(5,4)"
   ]
  },
  {
   "cell_type": "code",
   "execution_count": 112,
   "id": "50209995",
   "metadata": {
    "cell_id": "6dd406a8-bad4-4825-9bac-e3d5c35bdc8b",
    "deepnote_cell_type": "code",
    "deepnote_output_heights": [
     1
    ],
    "deepnote_to_be_reexecuted": false,
    "execution_millis": 133,
    "execution_start": 1643412895247,
    "source_hash": "ff0aee37",
    "tags": []
   },
   "outputs": [
    {
     "data": {
      "text/plain": [
       "29.4"
      ]
     },
     "execution_count": 112,
     "metadata": {},
     "output_type": "execute_result"
    }
   ],
   "source": [
    "# b)\n",
    "a.mean()"
   ]
  },
  {
   "cell_type": "code",
   "execution_count": 113,
   "id": "b5b2ceaf",
   "metadata": {
    "cell_id": "53e63377-6e3a-4f15-9999-17c45fb08d0e",
    "deepnote_cell_type": "code",
    "deepnote_output_heights": [
     1
    ],
    "deepnote_to_be_reexecuted": false,
    "execution_millis": 127,
    "execution_start": 1643412895255,
    "source_hash": "596d3676",
    "tags": []
   },
   "outputs": [
    {
     "data": {
      "text/plain": [
       "array([ 5, 11, 17,  5])"
      ]
     },
     "execution_count": 113,
     "metadata": {},
     "output_type": "execute_result"
    }
   ],
   "source": [
    "# c)\n",
    "a.min(axis = 0)"
   ]
  },
  {
   "cell_type": "code",
   "execution_count": 114,
   "id": "496925a2",
   "metadata": {
    "cell_id": "4e622934-d168-4bfd-bf1c-1c7a9c45b30b",
    "deepnote_cell_type": "code",
    "deepnote_output_heights": [
     1
    ],
    "deepnote_to_be_reexecuted": false,
    "execution_millis": 120,
    "execution_start": 1643412895263,
    "source_hash": "3e08ac41",
    "tags": []
   },
   "outputs": [
    {
     "data": {
      "text/plain": [
       "array([43, 48, 31, 42, 47])"
      ]
     },
     "execution_count": 114,
     "metadata": {},
     "output_type": "execute_result"
    }
   ],
   "source": [
    "# d)\n",
    "a.max(axis = 1)"
   ]
  },
  {
   "cell_type": "markdown",
   "id": "7f2f1ae7",
   "metadata": {
    "cell_id": "00004-259499e4-e59a-4bbd-b047-81819adb7265",
    "deepnote_cell_type": "markdown"
   },
   "source": [
    "### Problema 2\n",
    "\n",
    "Crie um objeto DataFrame que contenha os dados da tabela abaixo, os quais se referem ao peso, altura e idade de cinco pessoas:\n",
    "\n",
    "\n",
    "| Peso (kg) | Altura (cm) | Idade (anos) |\n",
    "|-----------|-------------|--------------|\n",
    "|  47 | 161\t| 31 |\n",
    "|  80 | 170\t| 21 |\n",
    "|  60 | 175\t| 16 |\n",
    "|  90 | 162\t| 28 |\n",
    "| 100 | 185\t| 23 |\n",
    "| 147 | 189 | 32 |\n",
    "\n",
    "Com base no DataFrame criado, realize o que for pedido nos itens abaixo:\n",
    "\n",
    "(a) Visualize apenas os dados da coluna que contém a altura das pessoas;\n",
    "\n",
    "(b) Obtenha a idade média das pessoas;\n",
    "\n",
    "(c) Obtenha os dados das pessoas que estão abaixo da altura média;\n",
    "\n",
    "(d) Crie um nova coluna no DataFrame que contenha o IMC (Índice de Massa Corporal) de cada pessoa;\n",
    "\n",
    "__Obs.:__ A fórmula para o IMC é dada por IMC = Peso/(Altura)² com o peso em kg e a altura em metros.\n",
    "\n",
    "(e) Remova a coluna que contém a idade das pessoas;\n",
    "\n",
    "(f) Crie uma nova coluna chamada Classificação, que contenha a classificação de cada indivíduo, de acordo com o seu IMC. Para isso, consulte a tabela abaixo.\n",
    "\n",
    "| IMC             | Classificação |\n",
    "|-----------------|---------------|\n",
    "Menor que 18,5    | Subpeso |\n",
    "Entre 18,5 e 24,9 | Normal |\n",
    "Entre 25,0 e 29,9 | Sobrepeso |\n",
    "Entre 30,0 e 39,9 | Obesidade Grau I |\n",
    "Maior que 40,0    | Obesidade Grau II |\n",
    "\n",
    "(g) Salve esses dados do DataFrame em um arquivo csv."
   ]
  },
  {
   "cell_type": "code",
   "execution_count": 115,
   "id": "717c4f43",
   "metadata": {
    "cell_id": "4ffd6dfb-0d37-4ef7-add6-76941f21bb86",
    "deepnote_cell_type": "code",
    "deepnote_to_be_reexecuted": false,
    "execution_millis": 114,
    "execution_start": 1643412895270,
    "source_hash": "7dd6b949",
    "tags": []
   },
   "outputs": [
    {
     "data": {
      "application/vnd.deepnote.dataframe.v3+json": {
       "column_count": 3,
       "columns": [
        {
         "dtype": "int64",
         "name": "Peso",
         "stats": {
          "histogram": [
           {
            "bin_end": 57,
            "bin_start": 47,
            "count": 1
           },
           {
            "bin_end": 67,
            "bin_start": 57,
            "count": 1
           },
           {
            "bin_end": 77,
            "bin_start": 67,
            "count": 0
           },
           {
            "bin_end": 87,
            "bin_start": 77,
            "count": 1
           },
           {
            "bin_end": 97,
            "bin_start": 87,
            "count": 1
           },
           {
            "bin_end": 107,
            "bin_start": 97,
            "count": 1
           },
           {
            "bin_end": 117,
            "bin_start": 107,
            "count": 0
           },
           {
            "bin_end": 127,
            "bin_start": 117,
            "count": 0
           },
           {
            "bin_end": 137,
            "bin_start": 127,
            "count": 0
           },
           {
            "bin_end": 147,
            "bin_start": 137,
            "count": 1
           }
          ],
          "max": "147",
          "min": "47",
          "nan_count": 0,
          "unique_count": 6
         }
        },
        {
         "dtype": "int64",
         "name": "Altura",
         "stats": {
          "histogram": [
           {
            "bin_end": 163.8,
            "bin_start": 161,
            "count": 2
           },
           {
            "bin_end": 166.6,
            "bin_start": 163.8,
            "count": 0
           },
           {
            "bin_end": 169.4,
            "bin_start": 166.6,
            "count": 0
           },
           {
            "bin_end": 172.2,
            "bin_start": 169.4,
            "count": 1
           },
           {
            "bin_end": 175,
            "bin_start": 172.2,
            "count": 0
           },
           {
            "bin_end": 177.8,
            "bin_start": 175,
            "count": 1
           },
           {
            "bin_end": 180.6,
            "bin_start": 177.8,
            "count": 0
           },
           {
            "bin_end": 183.4,
            "bin_start": 180.6,
            "count": 0
           },
           {
            "bin_end": 186.2,
            "bin_start": 183.4,
            "count": 1
           },
           {
            "bin_end": 189,
            "bin_start": 186.2,
            "count": 1
           }
          ],
          "max": "189",
          "min": "161",
          "nan_count": 0,
          "unique_count": 6
         }
        },
        {
         "dtype": "int64",
         "name": "Idade",
         "stats": {
          "histogram": [
           {
            "bin_end": 17.6,
            "bin_start": 16,
            "count": 1
           },
           {
            "bin_end": 19.2,
            "bin_start": 17.6,
            "count": 0
           },
           {
            "bin_end": 20.8,
            "bin_start": 19.2,
            "count": 0
           },
           {
            "bin_end": 22.4,
            "bin_start": 20.8,
            "count": 1
           },
           {
            "bin_end": 24,
            "bin_start": 22.4,
            "count": 1
           },
           {
            "bin_end": 25.6,
            "bin_start": 24,
            "count": 0
           },
           {
            "bin_end": 27.200000000000003,
            "bin_start": 25.6,
            "count": 0
           },
           {
            "bin_end": 28.8,
            "bin_start": 27.200000000000003,
            "count": 1
           },
           {
            "bin_end": 30.4,
            "bin_start": 28.8,
            "count": 0
           },
           {
            "bin_end": 32,
            "bin_start": 30.4,
            "count": 2
           }
          ],
          "max": "32",
          "min": "16",
          "nan_count": 0,
          "unique_count": 6
         }
        },
        {
         "dtype": "int64",
         "name": "_deepnote_index_column"
        }
       ],
       "row_count": 6,
       "rows": [
        {
         "Altura": 161,
         "Idade": 31,
         "Peso": 47,
         "_deepnote_index_column": 0
        },
        {
         "Altura": 170,
         "Idade": 21,
         "Peso": 80,
         "_deepnote_index_column": 1
        },
        {
         "Altura": 175,
         "Idade": 16,
         "Peso": 60,
         "_deepnote_index_column": 2
        },
        {
         "Altura": 162,
         "Idade": 28,
         "Peso": 90,
         "_deepnote_index_column": 3
        },
        {
         "Altura": 185,
         "Idade": 23,
         "Peso": 100,
         "_deepnote_index_column": 4
        },
        {
         "Altura": 189,
         "Idade": 32,
         "Peso": 147,
         "_deepnote_index_column": 5
        }
       ]
      },
      "text/html": [
       "<div>\n",
       "<style scoped>\n",
       "    .dataframe tbody tr th:only-of-type {\n",
       "        vertical-align: middle;\n",
       "    }\n",
       "\n",
       "    .dataframe tbody tr th {\n",
       "        vertical-align: top;\n",
       "    }\n",
       "\n",
       "    .dataframe thead th {\n",
       "        text-align: right;\n",
       "    }\n",
       "</style>\n",
       "<table border=\"1\" class=\"dataframe\">\n",
       "  <thead>\n",
       "    <tr style=\"text-align: right;\">\n",
       "      <th></th>\n",
       "      <th>Peso</th>\n",
       "      <th>Altura</th>\n",
       "      <th>Idade</th>\n",
       "    </tr>\n",
       "  </thead>\n",
       "  <tbody>\n",
       "    <tr>\n",
       "      <th>0</th>\n",
       "      <td>47</td>\n",
       "      <td>161</td>\n",
       "      <td>31</td>\n",
       "    </tr>\n",
       "    <tr>\n",
       "      <th>1</th>\n",
       "      <td>80</td>\n",
       "      <td>170</td>\n",
       "      <td>21</td>\n",
       "    </tr>\n",
       "    <tr>\n",
       "      <th>2</th>\n",
       "      <td>60</td>\n",
       "      <td>175</td>\n",
       "      <td>16</td>\n",
       "    </tr>\n",
       "    <tr>\n",
       "      <th>3</th>\n",
       "      <td>90</td>\n",
       "      <td>162</td>\n",
       "      <td>28</td>\n",
       "    </tr>\n",
       "    <tr>\n",
       "      <th>4</th>\n",
       "      <td>100</td>\n",
       "      <td>185</td>\n",
       "      <td>23</td>\n",
       "    </tr>\n",
       "    <tr>\n",
       "      <th>5</th>\n",
       "      <td>147</td>\n",
       "      <td>189</td>\n",
       "      <td>32</td>\n",
       "    </tr>\n",
       "  </tbody>\n",
       "</table>\n",
       "</div>"
      ],
      "text/plain": [
       "   Peso  Altura  Idade\n",
       "0    47     161     31\n",
       "1    80     170     21\n",
       "2    60     175     16\n",
       "3    90     162     28\n",
       "4   100     185     23\n",
       "5   147     189     32"
      ]
     },
     "execution_count": 115,
     "metadata": {},
     "output_type": "execute_result"
    }
   ],
   "source": [
    "dict_prob2 = {'Peso':[47,80,60,90,100,147],\n",
    "              'Altura': [161,170,175,162,185,189],\n",
    "              'Idade': [31,21,16,28,23,32]\n",
    "            }\n",
    "\n",
    "df = pd.DataFrame(dict_prob2)\n",
    "\n",
    "df"
   ]
  },
  {
   "cell_type": "code",
   "execution_count": 116,
   "id": "64993bdc",
   "metadata": {
    "cell_id": "288c7d8b-ed4a-49d0-b121-e04ec269f16f",
    "deepnote_cell_type": "code",
    "deepnote_output_heights": [
     1
    ],
    "deepnote_to_be_reexecuted": false,
    "execution_millis": 83,
    "execution_start": 1643412895301,
    "source_hash": "1e4d4d3d",
    "tags": []
   },
   "outputs": [
    {
     "data": {
      "text/plain": [
       "0    161\n",
       "1    170\n",
       "2    175\n",
       "3    162\n",
       "4    185\n",
       "5    189\n",
       "Name: Altura, dtype: int64"
      ]
     },
     "execution_count": 116,
     "metadata": {},
     "output_type": "execute_result"
    }
   ],
   "source": [
    "# (a) Visualize apenas os dados da coluna que contém a altura das pessoas;\n",
    "df.Altura"
   ]
  },
  {
   "cell_type": "code",
   "execution_count": 117,
   "id": "ae84e74c",
   "metadata": {
    "cell_id": "1f5f2e46-234a-4186-9003-a942d52afa4b",
    "deepnote_cell_type": "code",
    "deepnote_output_heights": [
     21.1875
    ],
    "deepnote_to_be_reexecuted": false,
    "execution_millis": 3198464,
    "execution_start": 1643412895334,
    "source_hash": "cc182b6f",
    "tags": []
   },
   "outputs": [
    {
     "name": "stdout",
     "output_type": "stream",
     "text": [
      "Idade média = 25.166666666666668\n"
     ]
    }
   ],
   "source": [
    "# b) Obtenha a idade média das pessoas\n",
    "\n",
    "idade_media = df[\"Idade\"].mean()\n",
    "print(f\"Idade média = {idade_media}\")\n"
   ]
  },
  {
   "cell_type": "code",
   "execution_count": 118,
   "id": "6dcf802e",
   "metadata": {
    "cell_id": "a0ab5907-5777-4ada-ad59-3eb8eb122902",
    "deepnote_cell_type": "code",
    "deepnote_output_heights": [
     1
    ],
    "deepnote_to_be_reexecuted": false,
    "execution_millis": 50,
    "execution_start": 1643412895335,
    "source_hash": "c2e631fa",
    "tags": []
   },
   "outputs": [
    {
     "data": {
      "application/vnd.deepnote.dataframe.v3+json": {
       "column_count": 3,
       "columns": [
        {
         "dtype": "int64",
         "name": "Peso",
         "stats": {
          "histogram": [
           {
            "bin_end": 51.3,
            "bin_start": 47,
            "count": 1
           },
           {
            "bin_end": 55.6,
            "bin_start": 51.3,
            "count": 0
           },
           {
            "bin_end": 59.9,
            "bin_start": 55.6,
            "count": 0
           },
           {
            "bin_end": 64.2,
            "bin_start": 59.9,
            "count": 0
           },
           {
            "bin_end": 68.5,
            "bin_start": 64.2,
            "count": 0
           },
           {
            "bin_end": 72.8,
            "bin_start": 68.5,
            "count": 0
           },
           {
            "bin_end": 77.1,
            "bin_start": 72.8,
            "count": 0
           },
           {
            "bin_end": 81.4,
            "bin_start": 77.1,
            "count": 1
           },
           {
            "bin_end": 85.69999999999999,
            "bin_start": 81.4,
            "count": 0
           },
           {
            "bin_end": 90,
            "bin_start": 85.69999999999999,
            "count": 1
           }
          ],
          "max": "90",
          "min": "47",
          "nan_count": 0,
          "unique_count": 3
         }
        },
        {
         "dtype": "int64",
         "name": "Altura",
         "stats": {
          "histogram": [
           {
            "bin_end": 161.9,
            "bin_start": 161,
            "count": 1
           },
           {
            "bin_end": 162.8,
            "bin_start": 161.9,
            "count": 1
           },
           {
            "bin_end": 163.7,
            "bin_start": 162.8,
            "count": 0
           },
           {
            "bin_end": 164.6,
            "bin_start": 163.7,
            "count": 0
           },
           {
            "bin_end": 165.5,
            "bin_start": 164.6,
            "count": 0
           },
           {
            "bin_end": 166.4,
            "bin_start": 165.5,
            "count": 0
           },
           {
            "bin_end": 167.3,
            "bin_start": 166.4,
            "count": 0
           },
           {
            "bin_end": 168.2,
            "bin_start": 167.3,
            "count": 0
           },
           {
            "bin_end": 169.1,
            "bin_start": 168.2,
            "count": 0
           },
           {
            "bin_end": 170,
            "bin_start": 169.1,
            "count": 1
           }
          ],
          "max": "170",
          "min": "161",
          "nan_count": 0,
          "unique_count": 3
         }
        },
        {
         "dtype": "int64",
         "name": "Idade",
         "stats": {
          "histogram": [
           {
            "bin_end": 22,
            "bin_start": 21,
            "count": 1
           },
           {
            "bin_end": 23,
            "bin_start": 22,
            "count": 0
           },
           {
            "bin_end": 24,
            "bin_start": 23,
            "count": 0
           },
           {
            "bin_end": 25,
            "bin_start": 24,
            "count": 0
           },
           {
            "bin_end": 26,
            "bin_start": 25,
            "count": 0
           },
           {
            "bin_end": 27,
            "bin_start": 26,
            "count": 0
           },
           {
            "bin_end": 28,
            "bin_start": 27,
            "count": 0
           },
           {
            "bin_end": 29,
            "bin_start": 28,
            "count": 1
           },
           {
            "bin_end": 30,
            "bin_start": 29,
            "count": 0
           },
           {
            "bin_end": 31,
            "bin_start": 30,
            "count": 1
           }
          ],
          "max": "31",
          "min": "21",
          "nan_count": 0,
          "unique_count": 3
         }
        },
        {
         "dtype": "int64",
         "name": "_deepnote_index_column"
        }
       ],
       "row_count": 3,
       "rows": [
        {
         "Altura": 161,
         "Idade": 31,
         "Peso": 47,
         "_deepnote_index_column": 0
        },
        {
         "Altura": 170,
         "Idade": 21,
         "Peso": 80,
         "_deepnote_index_column": 1
        },
        {
         "Altura": 162,
         "Idade": 28,
         "Peso": 90,
         "_deepnote_index_column": 3
        }
       ]
      },
      "text/html": [
       "<div>\n",
       "<style scoped>\n",
       "    .dataframe tbody tr th:only-of-type {\n",
       "        vertical-align: middle;\n",
       "    }\n",
       "\n",
       "    .dataframe tbody tr th {\n",
       "        vertical-align: top;\n",
       "    }\n",
       "\n",
       "    .dataframe thead th {\n",
       "        text-align: right;\n",
       "    }\n",
       "</style>\n",
       "<table border=\"1\" class=\"dataframe\">\n",
       "  <thead>\n",
       "    <tr style=\"text-align: right;\">\n",
       "      <th></th>\n",
       "      <th>Peso</th>\n",
       "      <th>Altura</th>\n",
       "      <th>Idade</th>\n",
       "    </tr>\n",
       "  </thead>\n",
       "  <tbody>\n",
       "    <tr>\n",
       "      <th>0</th>\n",
       "      <td>47</td>\n",
       "      <td>161</td>\n",
       "      <td>31</td>\n",
       "    </tr>\n",
       "    <tr>\n",
       "      <th>1</th>\n",
       "      <td>80</td>\n",
       "      <td>170</td>\n",
       "      <td>21</td>\n",
       "    </tr>\n",
       "    <tr>\n",
       "      <th>3</th>\n",
       "      <td>90</td>\n",
       "      <td>162</td>\n",
       "      <td>28</td>\n",
       "    </tr>\n",
       "  </tbody>\n",
       "</table>\n",
       "</div>"
      ],
      "text/plain": [
       "   Peso  Altura  Idade\n",
       "0    47     161     31\n",
       "1    80     170     21\n",
       "3    90     162     28"
      ]
     },
     "execution_count": 118,
     "metadata": {},
     "output_type": "execute_result"
    }
   ],
   "source": [
    "# c) Obtenha os dados das pessoas que estão abaixo da altura média;\n",
    "altura_media = df['Altura'].mean()\n",
    "df[df['Altura'] < altura_media]"
   ]
  },
  {
   "cell_type": "code",
   "execution_count": 119,
   "id": "41f5efed",
   "metadata": {
    "cell_id": "f9a2312d-0df1-4423-8789-9f7e63e34fef",
    "deepnote_cell_type": "code",
    "deepnote_to_be_reexecuted": false,
    "execution_millis": 42,
    "execution_start": 1643412895345,
    "source_hash": "f8a48e5",
    "tags": []
   },
   "outputs": [
    {
     "data": {
      "application/vnd.deepnote.dataframe.v3+json": {
       "column_count": 4,
       "columns": [
        {
         "dtype": "int64",
         "name": "Peso",
         "stats": {
          "histogram": [
           {
            "bin_end": 57,
            "bin_start": 47,
            "count": 1
           },
           {
            "bin_end": 67,
            "bin_start": 57,
            "count": 1
           },
           {
            "bin_end": 77,
            "bin_start": 67,
            "count": 0
           },
           {
            "bin_end": 87,
            "bin_start": 77,
            "count": 1
           },
           {
            "bin_end": 97,
            "bin_start": 87,
            "count": 1
           },
           {
            "bin_end": 107,
            "bin_start": 97,
            "count": 1
           },
           {
            "bin_end": 117,
            "bin_start": 107,
            "count": 0
           },
           {
            "bin_end": 127,
            "bin_start": 117,
            "count": 0
           },
           {
            "bin_end": 137,
            "bin_start": 127,
            "count": 0
           },
           {
            "bin_end": 147,
            "bin_start": 137,
            "count": 1
           }
          ],
          "max": "147",
          "min": "47",
          "nan_count": 0,
          "unique_count": 6
         }
        },
        {
         "dtype": "int64",
         "name": "Altura",
         "stats": {
          "histogram": [
           {
            "bin_end": 163.8,
            "bin_start": 161,
            "count": 2
           },
           {
            "bin_end": 166.6,
            "bin_start": 163.8,
            "count": 0
           },
           {
            "bin_end": 169.4,
            "bin_start": 166.6,
            "count": 0
           },
           {
            "bin_end": 172.2,
            "bin_start": 169.4,
            "count": 1
           },
           {
            "bin_end": 175,
            "bin_start": 172.2,
            "count": 0
           },
           {
            "bin_end": 177.8,
            "bin_start": 175,
            "count": 1
           },
           {
            "bin_end": 180.6,
            "bin_start": 177.8,
            "count": 0
           },
           {
            "bin_end": 183.4,
            "bin_start": 180.6,
            "count": 0
           },
           {
            "bin_end": 186.2,
            "bin_start": 183.4,
            "count": 1
           },
           {
            "bin_end": 189,
            "bin_start": 186.2,
            "count": 1
           }
          ],
          "max": "189",
          "min": "161",
          "nan_count": 0,
          "unique_count": 6
         }
        },
        {
         "dtype": "int64",
         "name": "Idade",
         "stats": {
          "histogram": [
           {
            "bin_end": 17.6,
            "bin_start": 16,
            "count": 1
           },
           {
            "bin_end": 19.2,
            "bin_start": 17.6,
            "count": 0
           },
           {
            "bin_end": 20.8,
            "bin_start": 19.2,
            "count": 0
           },
           {
            "bin_end": 22.4,
            "bin_start": 20.8,
            "count": 1
           },
           {
            "bin_end": 24,
            "bin_start": 22.4,
            "count": 1
           },
           {
            "bin_end": 25.6,
            "bin_start": 24,
            "count": 0
           },
           {
            "bin_end": 27.200000000000003,
            "bin_start": 25.6,
            "count": 0
           },
           {
            "bin_end": 28.8,
            "bin_start": 27.200000000000003,
            "count": 1
           },
           {
            "bin_end": 30.4,
            "bin_start": 28.8,
            "count": 0
           },
           {
            "bin_end": 32,
            "bin_start": 30.4,
            "count": 2
           }
          ],
          "max": "32",
          "min": "16",
          "nan_count": 0,
          "unique_count": 6
         }
        },
        {
         "dtype": "float64",
         "name": "IMC",
         "stats": {
          "histogram": [
           {
            "bin_end": 20.434041197986346,
            "bin_start": 18.132016511708652,
            "count": 2
           },
           {
            "bin_end": 22.736065884264043,
            "bin_start": 20.434041197986346,
            "count": 0
           },
           {
            "bin_end": 25.038090570541737,
            "bin_start": 22.736065884264043,
            "count": 0
           },
           {
            "bin_end": 27.34011525681943,
            "bin_start": 25.038090570541737,
            "count": 0
           },
           {
            "bin_end": 29.642139943097124,
            "bin_start": 27.34011525681943,
            "count": 2
           },
           {
            "bin_end": 31.944164629374818,
            "bin_start": 29.642139943097124,
            "count": 0
           },
           {
            "bin_end": 34.246189315652515,
            "bin_start": 31.944164629374818,
            "count": 0
           },
           {
            "bin_end": 36.548214001930205,
            "bin_start": 34.246189315652515,
            "count": 1
           },
           {
            "bin_end": 38.8502386882079,
            "bin_start": 36.548214001930205,
            "count": 0
           },
           {
            "bin_end": 41.1522633744856,
            "bin_start": 38.8502386882079,
            "count": 1
           }
          ],
          "max": "41.1522633744856",
          "min": "18.132016511708652",
          "nan_count": 0,
          "unique_count": 6
         }
        },
        {
         "dtype": "int64",
         "name": "_deepnote_index_column"
        }
       ],
       "row_count": 6,
       "rows": [
        {
         "Altura": 161,
         "IMC": 18.132016511708652,
         "Idade": 31,
         "Peso": 47,
         "_deepnote_index_column": 0
        },
        {
         "Altura": 170,
         "IMC": 27.68166089965398,
         "Idade": 21,
         "Peso": 80,
         "_deepnote_index_column": 1
        },
        {
         "Altura": 175,
         "IMC": 19.591836734693878,
         "Idade": 16,
         "Peso": 60,
         "_deepnote_index_column": 2
        },
        {
         "Altura": 162,
         "IMC": 34.293552812071326,
         "Idade": 28,
         "Peso": 90,
         "_deepnote_index_column": 3
        },
        {
         "Altura": 185,
         "IMC": 29.218407596785973,
         "Idade": 23,
         "Peso": 100,
         "_deepnote_index_column": 4
        },
        {
         "Altura": 189,
         "IMC": 41.1522633744856,
         "Idade": 32,
         "Peso": 147,
         "_deepnote_index_column": 5
        }
       ]
      },
      "text/html": [
       "<div>\n",
       "<style scoped>\n",
       "    .dataframe tbody tr th:only-of-type {\n",
       "        vertical-align: middle;\n",
       "    }\n",
       "\n",
       "    .dataframe tbody tr th {\n",
       "        vertical-align: top;\n",
       "    }\n",
       "\n",
       "    .dataframe thead th {\n",
       "        text-align: right;\n",
       "    }\n",
       "</style>\n",
       "<table border=\"1\" class=\"dataframe\">\n",
       "  <thead>\n",
       "    <tr style=\"text-align: right;\">\n",
       "      <th></th>\n",
       "      <th>Peso</th>\n",
       "      <th>Altura</th>\n",
       "      <th>Idade</th>\n",
       "      <th>IMC</th>\n",
       "    </tr>\n",
       "  </thead>\n",
       "  <tbody>\n",
       "    <tr>\n",
       "      <th>0</th>\n",
       "      <td>47</td>\n",
       "      <td>161</td>\n",
       "      <td>31</td>\n",
       "      <td>18.13</td>\n",
       "    </tr>\n",
       "    <tr>\n",
       "      <th>1</th>\n",
       "      <td>80</td>\n",
       "      <td>170</td>\n",
       "      <td>21</td>\n",
       "      <td>27.68</td>\n",
       "    </tr>\n",
       "    <tr>\n",
       "      <th>2</th>\n",
       "      <td>60</td>\n",
       "      <td>175</td>\n",
       "      <td>16</td>\n",
       "      <td>19.59</td>\n",
       "    </tr>\n",
       "    <tr>\n",
       "      <th>3</th>\n",
       "      <td>90</td>\n",
       "      <td>162</td>\n",
       "      <td>28</td>\n",
       "      <td>34.29</td>\n",
       "    </tr>\n",
       "    <tr>\n",
       "      <th>4</th>\n",
       "      <td>100</td>\n",
       "      <td>185</td>\n",
       "      <td>23</td>\n",
       "      <td>29.22</td>\n",
       "    </tr>\n",
       "    <tr>\n",
       "      <th>5</th>\n",
       "      <td>147</td>\n",
       "      <td>189</td>\n",
       "      <td>32</td>\n",
       "      <td>41.15</td>\n",
       "    </tr>\n",
       "  </tbody>\n",
       "</table>\n",
       "</div>"
      ],
      "text/plain": [
       "   Peso  Altura  Idade   IMC\n",
       "0    47     161     31 18.13\n",
       "1    80     170     21 27.68\n",
       "2    60     175     16 19.59\n",
       "3    90     162     28 34.29\n",
       "4   100     185     23 29.22\n",
       "5   147     189     32 41.15"
      ]
     },
     "execution_count": 119,
     "metadata": {},
     "output_type": "execute_result"
    }
   ],
   "source": [
    "# d) Crie um nova coluna no DataFrame que contenha o IMC (Índice de Massa Corporal) de cada pessoa\n",
    "df['IMC'] = df['Peso']/(df['Altura']/100)**2\n",
    "df"
   ]
  },
  {
   "cell_type": "code",
   "execution_count": 120,
   "id": "34dbff1e",
   "metadata": {
    "cell_id": "ae97f841-41cd-4a29-993a-1c993d242146",
    "deepnote_cell_type": "code",
    "deepnote_to_be_reexecuted": false,
    "execution_millis": 6,
    "execution_start": 1643412895398,
    "source_hash": "c77d139d",
    "tags": []
   },
   "outputs": [
    {
     "data": {
      "application/vnd.deepnote.dataframe.v3+json": {
       "column_count": 3,
       "columns": [
        {
         "dtype": "int64",
         "name": "Peso",
         "stats": {
          "histogram": [
           {
            "bin_end": 57,
            "bin_start": 47,
            "count": 1
           },
           {
            "bin_end": 67,
            "bin_start": 57,
            "count": 1
           },
           {
            "bin_end": 77,
            "bin_start": 67,
            "count": 0
           },
           {
            "bin_end": 87,
            "bin_start": 77,
            "count": 1
           },
           {
            "bin_end": 97,
            "bin_start": 87,
            "count": 1
           },
           {
            "bin_end": 107,
            "bin_start": 97,
            "count": 1
           },
           {
            "bin_end": 117,
            "bin_start": 107,
            "count": 0
           },
           {
            "bin_end": 127,
            "bin_start": 117,
            "count": 0
           },
           {
            "bin_end": 137,
            "bin_start": 127,
            "count": 0
           },
           {
            "bin_end": 147,
            "bin_start": 137,
            "count": 1
           }
          ],
          "max": "147",
          "min": "47",
          "nan_count": 0,
          "unique_count": 6
         }
        },
        {
         "dtype": "int64",
         "name": "Altura",
         "stats": {
          "histogram": [
           {
            "bin_end": 163.8,
            "bin_start": 161,
            "count": 2
           },
           {
            "bin_end": 166.6,
            "bin_start": 163.8,
            "count": 0
           },
           {
            "bin_end": 169.4,
            "bin_start": 166.6,
            "count": 0
           },
           {
            "bin_end": 172.2,
            "bin_start": 169.4,
            "count": 1
           },
           {
            "bin_end": 175,
            "bin_start": 172.2,
            "count": 0
           },
           {
            "bin_end": 177.8,
            "bin_start": 175,
            "count": 1
           },
           {
            "bin_end": 180.6,
            "bin_start": 177.8,
            "count": 0
           },
           {
            "bin_end": 183.4,
            "bin_start": 180.6,
            "count": 0
           },
           {
            "bin_end": 186.2,
            "bin_start": 183.4,
            "count": 1
           },
           {
            "bin_end": 189,
            "bin_start": 186.2,
            "count": 1
           }
          ],
          "max": "189",
          "min": "161",
          "nan_count": 0,
          "unique_count": 6
         }
        },
        {
         "dtype": "float64",
         "name": "IMC",
         "stats": {
          "histogram": [
           {
            "bin_end": 20.434041197986346,
            "bin_start": 18.132016511708652,
            "count": 2
           },
           {
            "bin_end": 22.736065884264043,
            "bin_start": 20.434041197986346,
            "count": 0
           },
           {
            "bin_end": 25.038090570541737,
            "bin_start": 22.736065884264043,
            "count": 0
           },
           {
            "bin_end": 27.34011525681943,
            "bin_start": 25.038090570541737,
            "count": 0
           },
           {
            "bin_end": 29.642139943097124,
            "bin_start": 27.34011525681943,
            "count": 2
           },
           {
            "bin_end": 31.944164629374818,
            "bin_start": 29.642139943097124,
            "count": 0
           },
           {
            "bin_end": 34.246189315652515,
            "bin_start": 31.944164629374818,
            "count": 0
           },
           {
            "bin_end": 36.548214001930205,
            "bin_start": 34.246189315652515,
            "count": 1
           },
           {
            "bin_end": 38.8502386882079,
            "bin_start": 36.548214001930205,
            "count": 0
           },
           {
            "bin_end": 41.1522633744856,
            "bin_start": 38.8502386882079,
            "count": 1
           }
          ],
          "max": "41.1522633744856",
          "min": "18.132016511708652",
          "nan_count": 0,
          "unique_count": 6
         }
        },
        {
         "dtype": "int64",
         "name": "_deepnote_index_column"
        }
       ],
       "row_count": 6,
       "rows": [
        {
         "Altura": 161,
         "IMC": 18.132016511708652,
         "Peso": 47,
         "_deepnote_index_column": 0
        },
        {
         "Altura": 170,
         "IMC": 27.68166089965398,
         "Peso": 80,
         "_deepnote_index_column": 1
        },
        {
         "Altura": 175,
         "IMC": 19.591836734693878,
         "Peso": 60,
         "_deepnote_index_column": 2
        },
        {
         "Altura": 162,
         "IMC": 34.293552812071326,
         "Peso": 90,
         "_deepnote_index_column": 3
        },
        {
         "Altura": 185,
         "IMC": 29.218407596785973,
         "Peso": 100,
         "_deepnote_index_column": 4
        },
        {
         "Altura": 189,
         "IMC": 41.1522633744856,
         "Peso": 147,
         "_deepnote_index_column": 5
        }
       ]
      },
      "text/html": [
       "<div>\n",
       "<style scoped>\n",
       "    .dataframe tbody tr th:only-of-type {\n",
       "        vertical-align: middle;\n",
       "    }\n",
       "\n",
       "    .dataframe tbody tr th {\n",
       "        vertical-align: top;\n",
       "    }\n",
       "\n",
       "    .dataframe thead th {\n",
       "        text-align: right;\n",
       "    }\n",
       "</style>\n",
       "<table border=\"1\" class=\"dataframe\">\n",
       "  <thead>\n",
       "    <tr style=\"text-align: right;\">\n",
       "      <th></th>\n",
       "      <th>Peso</th>\n",
       "      <th>Altura</th>\n",
       "      <th>IMC</th>\n",
       "    </tr>\n",
       "  </thead>\n",
       "  <tbody>\n",
       "    <tr>\n",
       "      <th>0</th>\n",
       "      <td>47</td>\n",
       "      <td>161</td>\n",
       "      <td>18.13</td>\n",
       "    </tr>\n",
       "    <tr>\n",
       "      <th>1</th>\n",
       "      <td>80</td>\n",
       "      <td>170</td>\n",
       "      <td>27.68</td>\n",
       "    </tr>\n",
       "    <tr>\n",
       "      <th>2</th>\n",
       "      <td>60</td>\n",
       "      <td>175</td>\n",
       "      <td>19.59</td>\n",
       "    </tr>\n",
       "    <tr>\n",
       "      <th>3</th>\n",
       "      <td>90</td>\n",
       "      <td>162</td>\n",
       "      <td>34.29</td>\n",
       "    </tr>\n",
       "    <tr>\n",
       "      <th>4</th>\n",
       "      <td>100</td>\n",
       "      <td>185</td>\n",
       "      <td>29.22</td>\n",
       "    </tr>\n",
       "    <tr>\n",
       "      <th>5</th>\n",
       "      <td>147</td>\n",
       "      <td>189</td>\n",
       "      <td>41.15</td>\n",
       "    </tr>\n",
       "  </tbody>\n",
       "</table>\n",
       "</div>"
      ],
      "text/plain": [
       "   Peso  Altura   IMC\n",
       "0    47     161 18.13\n",
       "1    80     170 27.68\n",
       "2    60     175 19.59\n",
       "3    90     162 34.29\n",
       "4   100     185 29.22\n",
       "5   147     189 41.15"
      ]
     },
     "execution_count": 120,
     "metadata": {},
     "output_type": "execute_result"
    }
   ],
   "source": [
    "# e) Remova a coluna que contém a idade das pessoas;\n",
    "df.drop('Idade', axis=1)"
   ]
  },
  {
   "cell_type": "code",
   "execution_count": 121,
   "id": "4aa9de4c",
   "metadata": {
    "cell_id": "116572e2-36da-4265-8459-09596ce8f352",
    "deepnote_cell_type": "code",
    "deepnote_output_heights": [
     136.390625
    ],
    "deepnote_to_be_reexecuted": false,
    "execution_millis": 43,
    "execution_start": 1643412895403,
    "source_hash": "e8ccaa0f",
    "tags": []
   },
   "outputs": [
    {
     "data": {
      "application/vnd.deepnote.dataframe.v3+json": {
       "column_count": 5,
       "columns": [
        {
         "dtype": "int64",
         "name": "Peso",
         "stats": {
          "histogram": [
           {
            "bin_end": 57,
            "bin_start": 47,
            "count": 1
           },
           {
            "bin_end": 67,
            "bin_start": 57,
            "count": 1
           },
           {
            "bin_end": 77,
            "bin_start": 67,
            "count": 0
           },
           {
            "bin_end": 87,
            "bin_start": 77,
            "count": 1
           },
           {
            "bin_end": 97,
            "bin_start": 87,
            "count": 1
           },
           {
            "bin_end": 107,
            "bin_start": 97,
            "count": 1
           },
           {
            "bin_end": 117,
            "bin_start": 107,
            "count": 0
           },
           {
            "bin_end": 127,
            "bin_start": 117,
            "count": 0
           },
           {
            "bin_end": 137,
            "bin_start": 127,
            "count": 0
           },
           {
            "bin_end": 147,
            "bin_start": 137,
            "count": 1
           }
          ],
          "max": "147",
          "min": "47",
          "nan_count": 0,
          "unique_count": 6
         }
        },
        {
         "dtype": "int64",
         "name": "Altura",
         "stats": {
          "histogram": [
           {
            "bin_end": 163.8,
            "bin_start": 161,
            "count": 2
           },
           {
            "bin_end": 166.6,
            "bin_start": 163.8,
            "count": 0
           },
           {
            "bin_end": 169.4,
            "bin_start": 166.6,
            "count": 0
           },
           {
            "bin_end": 172.2,
            "bin_start": 169.4,
            "count": 1
           },
           {
            "bin_end": 175,
            "bin_start": 172.2,
            "count": 0
           },
           {
            "bin_end": 177.8,
            "bin_start": 175,
            "count": 1
           },
           {
            "bin_end": 180.6,
            "bin_start": 177.8,
            "count": 0
           },
           {
            "bin_end": 183.4,
            "bin_start": 180.6,
            "count": 0
           },
           {
            "bin_end": 186.2,
            "bin_start": 183.4,
            "count": 1
           },
           {
            "bin_end": 189,
            "bin_start": 186.2,
            "count": 1
           }
          ],
          "max": "189",
          "min": "161",
          "nan_count": 0,
          "unique_count": 6
         }
        },
        {
         "dtype": "int64",
         "name": "Idade",
         "stats": {
          "histogram": [
           {
            "bin_end": 17.6,
            "bin_start": 16,
            "count": 1
           },
           {
            "bin_end": 19.2,
            "bin_start": 17.6,
            "count": 0
           },
           {
            "bin_end": 20.8,
            "bin_start": 19.2,
            "count": 0
           },
           {
            "bin_end": 22.4,
            "bin_start": 20.8,
            "count": 1
           },
           {
            "bin_end": 24,
            "bin_start": 22.4,
            "count": 1
           },
           {
            "bin_end": 25.6,
            "bin_start": 24,
            "count": 0
           },
           {
            "bin_end": 27.200000000000003,
            "bin_start": 25.6,
            "count": 0
           },
           {
            "bin_end": 28.8,
            "bin_start": 27.200000000000003,
            "count": 1
           },
           {
            "bin_end": 30.4,
            "bin_start": 28.8,
            "count": 0
           },
           {
            "bin_end": 32,
            "bin_start": 30.4,
            "count": 2
           }
          ],
          "max": "32",
          "min": "16",
          "nan_count": 0,
          "unique_count": 6
         }
        },
        {
         "dtype": "float64",
         "name": "IMC",
         "stats": {
          "histogram": [
           {
            "bin_end": 20.434041197986346,
            "bin_start": 18.132016511708652,
            "count": 2
           },
           {
            "bin_end": 22.736065884264043,
            "bin_start": 20.434041197986346,
            "count": 0
           },
           {
            "bin_end": 25.038090570541737,
            "bin_start": 22.736065884264043,
            "count": 0
           },
           {
            "bin_end": 27.34011525681943,
            "bin_start": 25.038090570541737,
            "count": 0
           },
           {
            "bin_end": 29.642139943097124,
            "bin_start": 27.34011525681943,
            "count": 2
           },
           {
            "bin_end": 31.944164629374818,
            "bin_start": 29.642139943097124,
            "count": 0
           },
           {
            "bin_end": 34.246189315652515,
            "bin_start": 31.944164629374818,
            "count": 0
           },
           {
            "bin_end": 36.548214001930205,
            "bin_start": 34.246189315652515,
            "count": 1
           },
           {
            "bin_end": 38.8502386882079,
            "bin_start": 36.548214001930205,
            "count": 0
           },
           {
            "bin_end": 41.1522633744856,
            "bin_start": 38.8502386882079,
            "count": 1
           }
          ],
          "max": "41.1522633744856",
          "min": "18.132016511708652",
          "nan_count": 0,
          "unique_count": 6
         }
        },
        {
         "dtype": "object",
         "name": "Classificação",
         "stats": {
          "categories": [
           {
            "count": 2,
            "name": "Sobrepeso"
           },
           {
            "count": 1,
            "name": "Subpeso"
           },
           {
            "count": 3,
            "name": "3 others"
           }
          ],
          "nan_count": 0,
          "unique_count": 5
         }
        },
        {
         "dtype": "int64",
         "name": "_deepnote_index_column"
        }
       ],
       "row_count": 6,
       "rows": [
        {
         "Altura": 161,
         "Classificação": "Subpeso",
         "IMC": 18.132016511708652,
         "Idade": 31,
         "Peso": 47,
         "_deepnote_index_column": 0
        },
        {
         "Altura": 170,
         "Classificação": "Sobrepeso",
         "IMC": 27.68166089965398,
         "Idade": 21,
         "Peso": 80,
         "_deepnote_index_column": 1
        },
        {
         "Altura": 175,
         "Classificação": "Normal",
         "IMC": 19.591836734693878,
         "Idade": 16,
         "Peso": 60,
         "_deepnote_index_column": 2
        },
        {
         "Altura": 162,
         "Classificação": "Obesidade Grau I",
         "IMC": 34.293552812071326,
         "Idade": 28,
         "Peso": 90,
         "_deepnote_index_column": 3
        },
        {
         "Altura": 185,
         "Classificação": "Sobrepeso",
         "IMC": 29.218407596785973,
         "Idade": 23,
         "Peso": 100,
         "_deepnote_index_column": 4
        },
        {
         "Altura": 189,
         "Classificação": "Obesidade Grau II",
         "IMC": 41.1522633744856,
         "Idade": 32,
         "Peso": 147,
         "_deepnote_index_column": 5
        }
       ]
      },
      "text/html": [
       "<div>\n",
       "<style scoped>\n",
       "    .dataframe tbody tr th:only-of-type {\n",
       "        vertical-align: middle;\n",
       "    }\n",
       "\n",
       "    .dataframe tbody tr th {\n",
       "        vertical-align: top;\n",
       "    }\n",
       "\n",
       "    .dataframe thead th {\n",
       "        text-align: right;\n",
       "    }\n",
       "</style>\n",
       "<table border=\"1\" class=\"dataframe\">\n",
       "  <thead>\n",
       "    <tr style=\"text-align: right;\">\n",
       "      <th></th>\n",
       "      <th>Peso</th>\n",
       "      <th>Altura</th>\n",
       "      <th>Idade</th>\n",
       "      <th>IMC</th>\n",
       "      <th>Classificação</th>\n",
       "    </tr>\n",
       "  </thead>\n",
       "  <tbody>\n",
       "    <tr>\n",
       "      <th>0</th>\n",
       "      <td>47</td>\n",
       "      <td>161</td>\n",
       "      <td>31</td>\n",
       "      <td>18.13</td>\n",
       "      <td>Subpeso</td>\n",
       "    </tr>\n",
       "    <tr>\n",
       "      <th>1</th>\n",
       "      <td>80</td>\n",
       "      <td>170</td>\n",
       "      <td>21</td>\n",
       "      <td>27.68</td>\n",
       "      <td>Sobrepeso</td>\n",
       "    </tr>\n",
       "    <tr>\n",
       "      <th>2</th>\n",
       "      <td>60</td>\n",
       "      <td>175</td>\n",
       "      <td>16</td>\n",
       "      <td>19.59</td>\n",
       "      <td>Normal</td>\n",
       "    </tr>\n",
       "    <tr>\n",
       "      <th>3</th>\n",
       "      <td>90</td>\n",
       "      <td>162</td>\n",
       "      <td>28</td>\n",
       "      <td>34.29</td>\n",
       "      <td>Obesidade Grau I</td>\n",
       "    </tr>\n",
       "    <tr>\n",
       "      <th>4</th>\n",
       "      <td>100</td>\n",
       "      <td>185</td>\n",
       "      <td>23</td>\n",
       "      <td>29.22</td>\n",
       "      <td>Sobrepeso</td>\n",
       "    </tr>\n",
       "    <tr>\n",
       "      <th>5</th>\n",
       "      <td>147</td>\n",
       "      <td>189</td>\n",
       "      <td>32</td>\n",
       "      <td>41.15</td>\n",
       "      <td>Obesidade Grau II</td>\n",
       "    </tr>\n",
       "  </tbody>\n",
       "</table>\n",
       "</div>"
      ],
      "text/plain": [
       "   Peso  Altura  Idade   IMC      Classificação\n",
       "0    47     161     31 18.13            Subpeso\n",
       "1    80     170     21 27.68          Sobrepeso\n",
       "2    60     175     16 19.59             Normal\n",
       "3    90     162     28 34.29   Obesidade Grau I\n",
       "4   100     185     23 29.22          Sobrepeso\n",
       "5   147     189     32 41.15  Obesidade Grau II"
      ]
     },
     "execution_count": 121,
     "metadata": {},
     "output_type": "execute_result"
    }
   ],
   "source": [
    "# f)\n",
    "df['Classificação'] = df.apply(lambda linha: 'Subpeso' if linha['IMC']<18.5 else 'Normal' if linha['IMC']< 24.9 else 'Sobrepeso' if linha['IMC']< 29.9 else 'Obesidade Grau I' if linha['IMC']< 39.9 else 'Obesidade Grau II', axis = 1)\n",
    "df"
   ]
  },
  {
   "cell_type": "code",
   "execution_count": 122,
   "id": "6cf5f11b",
   "metadata": {
    "cell_id": "dbf47fe0-f6fe-404f-b3a4-8de117debbf2",
    "deepnote_cell_type": "code",
    "deepnote_output_heights": [
     79
    ],
    "deepnote_to_be_reexecuted": false,
    "execution_millis": 1925,
    "execution_start": 1643412895441,
    "source_hash": "2832971f",
    "tags": []
   },
   "outputs": [],
   "source": [
    "#g)\n",
    "df.to_csv('./data/output.csv', index=False)"
   ]
  },
  {
   "cell_type": "markdown",
   "id": "eed2808b",
   "metadata": {
    "cell_id": "00006-85ff49b7-67b7-432a-b21d-eb2e23579ff1",
    "deepnote_cell_type": "markdown"
   },
   "source": [
    "### Problema 3\n",
    "\n",
    "O arquivo avocado.xlsx consiste em um dataset que contém dados sobre vendas de abacates  em diversas regiões dos Estados Unidos. Essa dataset contém as seguintes colunas:\n",
    "\n",
    "| Coluna | Descrição |\n",
    "|--------|-----------|\n",
    "| Date | data da observação |\n",
    "| AveragePrice | preço médio de um único abacate |\n",
    "| year | ano |\n",
    "| region | cidade ou região da observação |\n",
    "| Total Volume | volume total de abacates vendidos |\n",
    "\n",
    "Além das informações acima, contidas no arquivo avocado.xlsx, o tipo do abacate (convencional ou orgânico) também seria uma informação importante para a sua análise. Suponhamos que você conseguiu essas informações para cada uma das observações do arquivo avocado.csv, na mesma ordem, e salvou-as no arquivo avocado_type.xlsx. Portanto, tudo o que você precisa é juntar esses dois arquivos em um mesmo DataFrame.\n",
    "\n",
    "Com o DataFrame criado, obtenha o que é solicitado nos itens elencados abaixo:\n",
    "\n",
    "\n"
   ]
  },
  {
   "cell_type": "code",
   "execution_count": 123,
   "id": "0c5e53b7",
   "metadata": {
    "cell_id": "b96f9b5f-0d36-4019-8984-853237126b41",
    "deepnote_cell_type": "code",
    "deepnote_to_be_reexecuted": false,
    "execution_millis": 4703,
    "execution_start": 1643412897372,
    "source_hash": "64233c53",
    "tags": []
   },
   "outputs": [
    {
     "name": "stdout",
     "output_type": "stream",
     "text": [
      "\u001b[33mWARNING: Skipping xlrd as it is not installed.\u001b[0m\n",
      "Requirement already satisfied: openpyxl in /root/venv/lib/python3.7/site-packages (3.0.9)\n",
      "Requirement already satisfied: et-xmlfile in /root/venv/lib/python3.7/site-packages (from openpyxl) (1.1.0)\n"
     ]
    }
   ],
   "source": [
    "#!python -m pip install --upgrade pip\n",
    "#!pip install xlrd\n",
    "!pip uninstall xlrd --yes\n",
    "! pip install openpyxl "
   ]
  },
  {
   "cell_type": "code",
   "execution_count": 124,
   "id": "b83e5a33",
   "metadata": {
    "cell_id": "00009-751e75a8-0727-4493-8cae-4e1c1070c717",
    "deepnote_cell_type": "code",
    "deepnote_to_be_reexecuted": false,
    "execution_millis": 669,
    "execution_start": 1643412902078,
    "source_hash": "49e435ef"
   },
   "outputs": [
    {
     "data": {
      "application/vnd.deepnote.dataframe.v3+json": {
       "column_count": 1,
       "columns": [
        {
         "dtype": "object",
         "name": "type",
         "stats": {
          "categories": [
           {
            "count": 9135,
            "name": "orgânico"
           },
           {
            "count": 9114,
            "name": "convencional"
           }
          ],
          "nan_count": 0,
          "unique_count": 2
         }
        },
        {
         "dtype": "int64",
         "name": "_deepnote_index_column"
        }
       ],
       "row_count": 18249,
       "rows": [
        {
         "_deepnote_index_column": 0,
         "type": "orgânico"
        },
        {
         "_deepnote_index_column": 1,
         "type": "convencional"
        },
        {
         "_deepnote_index_column": 2,
         "type": "convencional"
        },
        {
         "_deepnote_index_column": 3,
         "type": "orgânico"
        },
        {
         "_deepnote_index_column": 4,
         "type": "orgânico"
        },
        {
         "_deepnote_index_column": 5,
         "type": "convencional"
        },
        {
         "_deepnote_index_column": 6,
         "type": "orgânico"
        },
        {
         "_deepnote_index_column": 7,
         "type": "convencional"
        },
        {
         "_deepnote_index_column": 8,
         "type": "convencional"
        },
        {
         "_deepnote_index_column": 9,
         "type": "orgânico"
        }
       ]
      },
      "text/html": [
       "<div>\n",
       "<style scoped>\n",
       "    .dataframe tbody tr th:only-of-type {\n",
       "        vertical-align: middle;\n",
       "    }\n",
       "\n",
       "    .dataframe tbody tr th {\n",
       "        vertical-align: top;\n",
       "    }\n",
       "\n",
       "    .dataframe thead th {\n",
       "        text-align: right;\n",
       "    }\n",
       "</style>\n",
       "<table border=\"1\" class=\"dataframe\">\n",
       "  <thead>\n",
       "    <tr style=\"text-align: right;\">\n",
       "      <th></th>\n",
       "      <th>type</th>\n",
       "    </tr>\n",
       "  </thead>\n",
       "  <tbody>\n",
       "    <tr>\n",
       "      <th>0</th>\n",
       "      <td>orgânico</td>\n",
       "    </tr>\n",
       "    <tr>\n",
       "      <th>1</th>\n",
       "      <td>convencional</td>\n",
       "    </tr>\n",
       "    <tr>\n",
       "      <th>2</th>\n",
       "      <td>convencional</td>\n",
       "    </tr>\n",
       "    <tr>\n",
       "      <th>3</th>\n",
       "      <td>orgânico</td>\n",
       "    </tr>\n",
       "    <tr>\n",
       "      <th>4</th>\n",
       "      <td>orgânico</td>\n",
       "    </tr>\n",
       "    <tr>\n",
       "      <th>...</th>\n",
       "      <td>...</td>\n",
       "    </tr>\n",
       "    <tr>\n",
       "      <th>18244</th>\n",
       "      <td>convencional</td>\n",
       "    </tr>\n",
       "    <tr>\n",
       "      <th>18245</th>\n",
       "      <td>convencional</td>\n",
       "    </tr>\n",
       "    <tr>\n",
       "      <th>18246</th>\n",
       "      <td>convencional</td>\n",
       "    </tr>\n",
       "    <tr>\n",
       "      <th>18247</th>\n",
       "      <td>convencional</td>\n",
       "    </tr>\n",
       "    <tr>\n",
       "      <th>18248</th>\n",
       "      <td>convencional</td>\n",
       "    </tr>\n",
       "  </tbody>\n",
       "</table>\n",
       "<p>18249 rows × 1 columns</p>\n",
       "</div>"
      ],
      "text/plain": [
       "               type\n",
       "0          orgânico\n",
       "1      convencional\n",
       "2      convencional\n",
       "3          orgânico\n",
       "4          orgânico\n",
       "...             ...\n",
       "18244  convencional\n",
       "18245  convencional\n",
       "18246  convencional\n",
       "18247  convencional\n",
       "18248  convencional\n",
       "\n",
       "[18249 rows x 1 columns]"
      ]
     },
     "execution_count": 124,
     "metadata": {},
     "output_type": "execute_result"
    }
   ],
   "source": [
    "df_avocado_type = pd.read_excel(\"./data/avocado_type.xlsx\")\n",
    "df_avocado_type"
   ]
  },
  {
   "cell_type": "code",
   "execution_count": 125,
   "id": "9d376daa",
   "metadata": {
    "cell_id": "1c4a6813-8c3e-4d1d-bd99-a0846952dc06",
    "deepnote_cell_type": "code",
    "deepnote_to_be_reexecuted": false,
    "execution_millis": 13,
    "execution_start": 1643412902748,
    "source_hash": "29b3856d",
    "tags": []
   },
   "outputs": [],
   "source": [
    "df_avocado = pd.read_csv('./data/avocado.csv', sep =';')"
   ]
  },
  {
   "cell_type": "code",
   "execution_count": 126,
   "id": "a40762cb",
   "metadata": {
    "cell_id": "97eed8e8-0151-4138-bc7d-4b4953b64d63",
    "deepnote_cell_type": "code",
    "deepnote_to_be_reexecuted": false,
    "execution_millis": 166,
    "execution_start": 1643412902768,
    "source_hash": "719739c1",
    "tags": []
   },
   "outputs": [
    {
     "data": {
      "application/vnd.deepnote.dataframe.v3+json": {
       "column_count": 6,
       "columns": [
        {
         "dtype": "object",
         "name": "Date",
         "stats": {
          "categories": [
           {
            "count": 108,
            "name": "2015-12-27"
           },
           {
            "count": 108,
            "name": "2015-12-20"
           },
           {
            "count": 18033,
            "name": "167 others"
           }
          ],
          "nan_count": 0,
          "unique_count": 169
         }
        },
        {
         "dtype": "float64",
         "name": "AveragePrice",
         "stats": {
          "histogram": [
           {
            "bin_end": 0.7210000000000001,
            "bin_start": 0.44,
            "count": 331
           },
           {
            "bin_end": 1.002,
            "bin_start": 0.7210000000000001,
            "count": 2632
           },
           {
            "bin_end": 1.2830000000000001,
            "bin_start": 1.002,
            "count": 4824
           },
           {
            "bin_end": 1.564,
            "bin_start": 1.2830000000000001,
            "count": 4506
           },
           {
            "bin_end": 1.8450000000000002,
            "bin_start": 1.564,
            "count": 3412
           },
           {
            "bin_end": 2.1260000000000003,
            "bin_start": 1.8450000000000002,
            "count": 1672
           },
           {
            "bin_end": 2.407,
            "bin_start": 2.1260000000000003,
            "count": 598
           },
           {
            "bin_end": 2.688,
            "bin_start": 2.407,
            "count": 177
           },
           {
            "bin_end": 2.9690000000000003,
            "bin_start": 2.688,
            "count": 86
           },
           {
            "bin_end": 3.25,
            "bin_start": 2.9690000000000003,
            "count": 11
           }
          ],
          "max": "3.25",
          "min": "0.44",
          "nan_count": 0,
          "unique_count": 259
         }
        },
        {
         "dtype": "float64",
         "name": "Total Volume",
         "stats": {
          "histogram": [
           {
            "bin_end": 6250640.756,
            "bin_start": 84.56,
            "count": 17879
           },
           {
            "bin_end": 12501196.952000001,
            "bin_start": 6250640.756,
            "count": 201
           },
           {
            "bin_end": 18751753.148,
            "bin_start": 12501196.952000001,
            "count": 0
           },
           {
            "bin_end": 25002309.344,
            "bin_start": 18751753.148,
            "count": 11
           },
           {
            "bin_end": 31252865.540000003,
            "bin_start": 25002309.344,
            "count": 47
           },
           {
            "bin_end": 37503421.736,
            "bin_start": 31252865.540000003,
            "count": 76
           },
           {
            "bin_end": 43753977.932000004,
            "bin_start": 37503421.736,
            "count": 29
           },
           {
            "bin_end": 50004534.128000006,
            "bin_start": 43753977.932000004,
            "count": 3
           },
           {
            "bin_end": 56255090.32400001,
            "bin_start": 50004534.128000006,
            "count": 1
           },
           {
            "bin_end": 62505646.52,
            "bin_start": 56255090.32400001,
            "count": 2
           }
          ],
          "max": "62505646.52",
          "min": "84.56",
          "nan_count": 0,
          "unique_count": 18237
         }
        },
        {
         "dtype": "int64",
         "name": "year",
         "stats": {
          "histogram": [
           {
            "bin_end": 2015.3,
            "bin_start": 2015,
            "count": 5615
           },
           {
            "bin_end": 2015.6,
            "bin_start": 2015.3,
            "count": 0
           },
           {
            "bin_end": 2015.9,
            "bin_start": 2015.6,
            "count": 0
           },
           {
            "bin_end": 2016.2,
            "bin_start": 2015.9,
            "count": 5616
           },
           {
            "bin_end": 2016.5,
            "bin_start": 2016.2,
            "count": 0
           },
           {
            "bin_end": 2016.8,
            "bin_start": 2016.5,
            "count": 0
           },
           {
            "bin_end": 2017.1,
            "bin_start": 2016.8,
            "count": 5722
           },
           {
            "bin_end": 2017.4,
            "bin_start": 2017.1,
            "count": 0
           },
           {
            "bin_end": 2017.7,
            "bin_start": 2017.4,
            "count": 0
           },
           {
            "bin_end": 2018,
            "bin_start": 2017.7,
            "count": 1296
           }
          ],
          "max": "2018",
          "min": "2015",
          "nan_count": 0,
          "unique_count": 4
         }
        },
        {
         "dtype": "object",
         "name": "region",
         "stats": {
          "categories": [
           {
            "count": 338,
            "name": "Albany"
           },
           {
            "count": 338,
            "name": "Atlanta"
           },
           {
            "count": 17573,
            "name": "52 others"
           }
          ],
          "nan_count": 0,
          "unique_count": 54
         }
        },
        {
         "dtype": "object",
         "name": "type"
        },
        {
         "dtype": "int64",
         "name": "_deepnote_index_column"
        }
       ],
       "row_count": 18249,
       "rows": [
        {
         "AveragePrice": 1.33,
         "Date": "2015-12-27",
         "Total Volume": 64236.62,
         "_deepnote_index_column": 0,
         "region": "Albany",
         "type": "orgânico",
         "year": 2015
        },
        {
         "AveragePrice": 1.35,
         "Date": "2015-12-20",
         "Total Volume": 54876.98,
         "_deepnote_index_column": 1,
         "region": "Albany",
         "type": "convencional",
         "year": 2015
        },
        {
         "AveragePrice": 0.93,
         "Date": "2015-12-13",
         "Total Volume": 118220.22,
         "_deepnote_index_column": 2,
         "region": "Albany",
         "type": "convencional",
         "year": 2015
        },
        {
         "AveragePrice": 1.08,
         "Date": "2015-12-06",
         "Total Volume": 78992.15,
         "_deepnote_index_column": 3,
         "region": "Albany",
         "type": "orgânico",
         "year": 2015
        },
        {
         "AveragePrice": 1.28,
         "Date": "2015-11-29",
         "Total Volume": 51039.6,
         "_deepnote_index_column": 4,
         "region": "Albany",
         "type": "orgânico",
         "year": 2015
        },
        {
         "AveragePrice": 1.26,
         "Date": "2015-11-22",
         "Total Volume": 55979.78,
         "_deepnote_index_column": 5,
         "region": "Albany",
         "type": "convencional",
         "year": 2015
        },
        {
         "AveragePrice": 0.99,
         "Date": "2015-11-15",
         "Total Volume": 83453.76,
         "_deepnote_index_column": 6,
         "region": "Albany",
         "type": "orgânico",
         "year": 2015
        },
        {
         "AveragePrice": 0.98,
         "Date": "2015-11-08",
         "Total Volume": 109428.33,
         "_deepnote_index_column": 7,
         "region": "Albany",
         "type": "convencional",
         "year": 2015
        },
        {
         "AveragePrice": 1.02,
         "Date": "2015-11-01",
         "Total Volume": 99811.42,
         "_deepnote_index_column": 8,
         "region": "Albany",
         "type": "convencional",
         "year": 2015
        },
        {
         "AveragePrice": 1.07,
         "Date": "2015-10-25",
         "Total Volume": 74338.76,
         "_deepnote_index_column": 9,
         "region": "Albany",
         "type": "orgânico",
         "year": 2015
        }
       ]
      },
      "text/html": [
       "<div>\n",
       "<style scoped>\n",
       "    .dataframe tbody tr th:only-of-type {\n",
       "        vertical-align: middle;\n",
       "    }\n",
       "\n",
       "    .dataframe tbody tr th {\n",
       "        vertical-align: top;\n",
       "    }\n",
       "\n",
       "    .dataframe thead th {\n",
       "        text-align: right;\n",
       "    }\n",
       "</style>\n",
       "<table border=\"1\" class=\"dataframe\">\n",
       "  <thead>\n",
       "    <tr style=\"text-align: right;\">\n",
       "      <th></th>\n",
       "      <th>Date</th>\n",
       "      <th>AveragePrice</th>\n",
       "      <th>Total Volume</th>\n",
       "      <th>year</th>\n",
       "      <th>region</th>\n",
       "      <th>type</th>\n",
       "    </tr>\n",
       "  </thead>\n",
       "  <tbody>\n",
       "    <tr>\n",
       "      <th>0</th>\n",
       "      <td>2015-12-27</td>\n",
       "      <td>1.33</td>\n",
       "      <td>64,236.62</td>\n",
       "      <td>2015</td>\n",
       "      <td>Albany</td>\n",
       "      <td>orgânico</td>\n",
       "    </tr>\n",
       "    <tr>\n",
       "      <th>1</th>\n",
       "      <td>2015-12-20</td>\n",
       "      <td>1.35</td>\n",
       "      <td>54,876.98</td>\n",
       "      <td>2015</td>\n",
       "      <td>Albany</td>\n",
       "      <td>convencional</td>\n",
       "    </tr>\n",
       "    <tr>\n",
       "      <th>2</th>\n",
       "      <td>2015-12-13</td>\n",
       "      <td>0.93</td>\n",
       "      <td>118,220.22</td>\n",
       "      <td>2015</td>\n",
       "      <td>Albany</td>\n",
       "      <td>convencional</td>\n",
       "    </tr>\n",
       "    <tr>\n",
       "      <th>3</th>\n",
       "      <td>2015-12-06</td>\n",
       "      <td>1.08</td>\n",
       "      <td>78,992.15</td>\n",
       "      <td>2015</td>\n",
       "      <td>Albany</td>\n",
       "      <td>orgânico</td>\n",
       "    </tr>\n",
       "    <tr>\n",
       "      <th>4</th>\n",
       "      <td>2015-11-29</td>\n",
       "      <td>1.28</td>\n",
       "      <td>51,039.60</td>\n",
       "      <td>2015</td>\n",
       "      <td>Albany</td>\n",
       "      <td>orgânico</td>\n",
       "    </tr>\n",
       "    <tr>\n",
       "      <th>...</th>\n",
       "      <td>...</td>\n",
       "      <td>...</td>\n",
       "      <td>...</td>\n",
       "      <td>...</td>\n",
       "      <td>...</td>\n",
       "      <td>...</td>\n",
       "    </tr>\n",
       "    <tr>\n",
       "      <th>18244</th>\n",
       "      <td>2018-02-04</td>\n",
       "      <td>1.63</td>\n",
       "      <td>17,074.83</td>\n",
       "      <td>2018</td>\n",
       "      <td>WestTexNewMexico</td>\n",
       "      <td>convencional</td>\n",
       "    </tr>\n",
       "    <tr>\n",
       "      <th>18245</th>\n",
       "      <td>2018-01-28</td>\n",
       "      <td>1.71</td>\n",
       "      <td>13,888.04</td>\n",
       "      <td>2018</td>\n",
       "      <td>WestTexNewMexico</td>\n",
       "      <td>convencional</td>\n",
       "    </tr>\n",
       "    <tr>\n",
       "      <th>18246</th>\n",
       "      <td>2018-01-21</td>\n",
       "      <td>1.87</td>\n",
       "      <td>13,766.76</td>\n",
       "      <td>2018</td>\n",
       "      <td>WestTexNewMexico</td>\n",
       "      <td>convencional</td>\n",
       "    </tr>\n",
       "    <tr>\n",
       "      <th>18247</th>\n",
       "      <td>2018-01-14</td>\n",
       "      <td>1.93</td>\n",
       "      <td>16,205.22</td>\n",
       "      <td>2018</td>\n",
       "      <td>WestTexNewMexico</td>\n",
       "      <td>convencional</td>\n",
       "    </tr>\n",
       "    <tr>\n",
       "      <th>18248</th>\n",
       "      <td>2018-01-07</td>\n",
       "      <td>1.62</td>\n",
       "      <td>17,489.58</td>\n",
       "      <td>2018</td>\n",
       "      <td>WestTexNewMexico</td>\n",
       "      <td>convencional</td>\n",
       "    </tr>\n",
       "  </tbody>\n",
       "</table>\n",
       "<p>18249 rows × 6 columns</p>\n",
       "</div>"
      ],
      "text/plain": [
       "             Date  AveragePrice  Total Volume  year            region  \\\n",
       "0      2015-12-27          1.33     64,236.62  2015            Albany   \n",
       "1      2015-12-20          1.35     54,876.98  2015            Albany   \n",
       "2      2015-12-13          0.93    118,220.22  2015            Albany   \n",
       "3      2015-12-06          1.08     78,992.15  2015            Albany   \n",
       "4      2015-11-29          1.28     51,039.60  2015            Albany   \n",
       "...           ...           ...           ...   ...               ...   \n",
       "18244  2018-02-04          1.63     17,074.83  2018  WestTexNewMexico   \n",
       "18245  2018-01-28          1.71     13,888.04  2018  WestTexNewMexico   \n",
       "18246  2018-01-21          1.87     13,766.76  2018  WestTexNewMexico   \n",
       "18247  2018-01-14          1.93     16,205.22  2018  WestTexNewMexico   \n",
       "18248  2018-01-07          1.62     17,489.58  2018  WestTexNewMexico   \n",
       "\n",
       "               type  \n",
       "0          orgânico  \n",
       "1      convencional  \n",
       "2      convencional  \n",
       "3          orgânico  \n",
       "4          orgânico  \n",
       "...             ...  \n",
       "18244  convencional  \n",
       "18245  convencional  \n",
       "18246  convencional  \n",
       "18247  convencional  \n",
       "18248  convencional  \n",
       "\n",
       "[18249 rows x 6 columns]"
      ]
     },
     "execution_count": 126,
     "metadata": {},
     "output_type": "execute_result"
    }
   ],
   "source": [
    " df_avocado['type'] = df_avocado_type\n",
    " df_avocado"
   ]
  },
  {
   "cell_type": "markdown",
   "id": "674ff662",
   "metadata": {
    "cell_id": "00008-468cf031-0f21-44d1-bc22-5f6fbe9ad5aa",
    "deepnote_cell_type": "markdown"
   },
   "source": [
    "(a) A quantidade de abacates do tipo convecional e do tipo orgânico."
   ]
  },
  {
   "cell_type": "code",
   "execution_count": 127,
   "id": "bf3d114d",
   "metadata": {
    "cell_id": "ad3c20ff-9286-4acb-a99c-396193c79542",
    "deepnote_cell_type": "code",
    "deepnote_output_heights": [
     78.78125
    ],
    "deepnote_to_be_reexecuted": false,
    "execution_millis": 21,
    "execution_start": 1643412902941,
    "source_hash": "ecfaad6",
    "tags": []
   },
   "outputs": [
    {
     "data": {
      "application/vnd.deepnote.dataframe.v3+json": {
       "column_count": 1,
       "columns": [
        {
         "dtype": "float64",
         "name": "Total Volume",
         "stats": {
          "histogram": [
           {
            "bin_end": 7619013791.860016,
            "bin_start": 7583341915.6500225,
            "count": 1
           },
           {
            "bin_end": 7654685668.07001,
            "bin_start": 7619013791.860016,
            "count": 0
           },
           {
            "bin_end": 7690357544.280004,
            "bin_start": 7654685668.07001,
            "count": 0
           },
           {
            "bin_end": 7726029420.489997,
            "bin_start": 7690357544.280004,
            "count": 0
           },
           {
            "bin_end": 7761701296.699991,
            "bin_start": 7726029420.489997,
            "count": 0
           },
           {
            "bin_end": 7797373172.909985,
            "bin_start": 7761701296.699991,
            "count": 0
           },
           {
            "bin_end": 7833045049.119978,
            "bin_start": 7797373172.909985,
            "count": 0
           },
           {
            "bin_end": 7868716925.329971,
            "bin_start": 7833045049.119978,
            "count": 0
           },
           {
            "bin_end": 7904388801.539966,
            "bin_start": 7868716925.329971,
            "count": 0
           },
           {
            "bin_end": 7940060677.749959,
            "bin_start": 7904388801.539966,
            "count": 1
           }
          ],
          "max": "7940060677.749959",
          "min": "7583341915.6500225",
          "nan_count": 0,
          "unique_count": 2
         }
        },
        {
         "dtype": "object",
         "name": "_deepnote_index_column"
        }
       ],
       "row_count": 2,
       "rows": [
        {
         "Total Volume": 7940060677.749959,
         "_deepnote_index_column": "convencional"
        },
        {
         "Total Volume": 7583341915.6500225,
         "_deepnote_index_column": "orgânico"
        }
       ]
      },
      "text/html": [
       "<div>\n",
       "<style scoped>\n",
       "    .dataframe tbody tr th:only-of-type {\n",
       "        vertical-align: middle;\n",
       "    }\n",
       "\n",
       "    .dataframe tbody tr th {\n",
       "        vertical-align: top;\n",
       "    }\n",
       "\n",
       "    .dataframe thead th {\n",
       "        text-align: right;\n",
       "    }\n",
       "</style>\n",
       "<table border=\"1\" class=\"dataframe\">\n",
       "  <thead>\n",
       "    <tr style=\"text-align: right;\">\n",
       "      <th></th>\n",
       "      <th>Total Volume</th>\n",
       "    </tr>\n",
       "    <tr>\n",
       "      <th>type</th>\n",
       "      <th></th>\n",
       "    </tr>\n",
       "  </thead>\n",
       "  <tbody>\n",
       "    <tr>\n",
       "      <th>convencional</th>\n",
       "      <td>7,940,060,677.75</td>\n",
       "    </tr>\n",
       "    <tr>\n",
       "      <th>orgânico</th>\n",
       "      <td>7,583,341,915.65</td>\n",
       "    </tr>\n",
       "  </tbody>\n",
       "</table>\n",
       "</div>"
      ],
      "text/plain": [
       "                 Total Volume\n",
       "type                         \n",
       "convencional 7,940,060,677.75\n",
       "orgânico     7,583,341,915.65"
      ]
     },
     "execution_count": 127,
     "metadata": {},
     "output_type": "execute_result"
    }
   ],
   "source": [
    "df_avocado.groupby('type')[['Total Volume']].sum()"
   ]
  },
  {
   "cell_type": "markdown",
   "id": "091687fd",
   "metadata": {
    "cell_id": "00010-867afaf4-418b-4dbe-911e-d357e955c6b5",
    "deepnote_cell_type": "markdown"
   },
   "source": [
    "\n",
    "(b) A quantidade de registros (linhas) de abacates vendidos para cada região ordenada da maior venda para a menor."
   ]
  },
  {
   "cell_type": "code",
   "execution_count": 128,
   "id": "f5e7af7d",
   "metadata": {
    "cell_id": "00011-1955ea44-4eb8-4e6a-a137-445ea6d4e13f",
    "deepnote_cell_type": "code",
    "deepnote_output_heights": [
     21.1875
    ],
    "deepnote_to_be_reexecuted": false,
    "execution_millis": 15,
    "execution_start": 1643412902963,
    "source_hash": "83a1cad0"
   },
   "outputs": [
    {
     "ename": "AttributeError",
     "evalue": "'DataFrameGroupBy' object has no attribute 'sort_values'",
     "output_type": "error",
     "traceback": [
      "\u001b[0;31m---------------------------------------------------------------------------\u001b[0m",
      "\u001b[0;31mAttributeError\u001b[0m                            Traceback (most recent call last)",
      "\u001b[0;32m<ipython-input-128-f88b4b57a8dd>\u001b[0m in \u001b[0;36m<module>\u001b[0;34m\u001b[0m\n\u001b[0;32m----> 1\u001b[0;31m \u001b[0mdf_avocado\u001b[0m\u001b[0;34m.\u001b[0m\u001b[0mgroupby\u001b[0m\u001b[0;34m(\u001b[0m\u001b[0;34m'region'\u001b[0m\u001b[0;34m)\u001b[0m\u001b[0;34m.\u001b[0m\u001b[0msort_values\u001b[0m\u001b[0;34m(\u001b[0m\u001b[0mby\u001b[0m\u001b[0;34m=\u001b[0m\u001b[0;34m[\u001b[0m\u001b[0;34m'Total Volume'\u001b[0m\u001b[0;34m]\u001b[0m\u001b[0;34m,\u001b[0m \u001b[0mascending\u001b[0m\u001b[0;34m=\u001b[0m\u001b[0;32mFalse\u001b[0m\u001b[0;34m,\u001b[0m \u001b[0maxis\u001b[0m\u001b[0;34m=\u001b[0m\u001b[0;36m0\u001b[0m\u001b[0;34m)\u001b[0m\u001b[0;34m\u001b[0m\u001b[0;34m\u001b[0m\u001b[0m\n\u001b[0m",
      "\u001b[0;32m/shared-libs/python3.7/py/lib/python3.7/site-packages/pandas/core/groupby/groupby.py\u001b[0m in \u001b[0;36m__getattr__\u001b[0;34m(self, attr)\u001b[0m\n\u001b[1;32m    751\u001b[0m \u001b[0;34m\u001b[0m\u001b[0m\n\u001b[1;32m    752\u001b[0m         raise AttributeError(\n\u001b[0;32m--> 753\u001b[0;31m             \u001b[0;34mf\"'{type(self).__name__}' object has no attribute '{attr}'\"\u001b[0m\u001b[0;34m\u001b[0m\u001b[0;34m\u001b[0m\u001b[0m\n\u001b[0m\u001b[1;32m    754\u001b[0m         )\n\u001b[1;32m    755\u001b[0m \u001b[0;34m\u001b[0m\u001b[0m\n",
      "\u001b[0;31mAttributeError\u001b[0m: 'DataFrameGroupBy' object has no attribute 'sort_values'"
     ]
    }
   ],
   "source": [
    "df_avocado.groupby('region').sort_values(by=['Total Volume'], ascending=False, axis=0)"
   ]
  },
  {
   "cell_type": "code",
   "execution_count": 81,
   "id": "0fe0e18b",
   "metadata": {
    "cell_id": "af79126e-2dd3-48da-94c6-e10045942ba9",
    "deepnote_cell_type": "code",
    "deepnote_output_heights": [
     1
    ],
    "deepnote_table_loading": false,
    "deepnote_table_state": {
     "filters": [],
     "pageIndex": 1,
     "pageSize": 10,
     "sortBy": []
    },
    "deepnote_to_be_reexecuted": true,
    "execution_millis": 6,
    "execution_start": 1643411838998,
    "source_hash": "63ae9815",
    "tags": []
   },
   "outputs": [
    {
     "data": {
      "text/plain": [
       "(18249, 6)"
      ]
     },
     "execution_count": 81,
     "metadata": {},
     "output_type": "execute_result"
    }
   ],
   "source": [
    "#df_avocado.groupby(\"region\").agg({\"region\":\"count\"}).sum()\n",
    "df_avocado.shape"
   ]
  },
  {
   "cell_type": "code",
   "execution_count": 85,
   "id": "104fbb3f",
   "metadata": {
    "cell_id": "208aeb97-e4ee-49ce-9b7b-d0b0a01a75b4",
    "deepnote_cell_type": "code",
    "deepnote_output_heights": [
     1
    ],
    "deepnote_to_be_reexecuted": true,
    "execution_millis": 15,
    "execution_start": 1643411853913,
    "source_hash": "81254883",
    "tags": []
   },
   "outputs": [
    {
     "data": {
      "text/plain": [
       "region             \n",
       "Albany                 338\n",
       "Denver                 338\n",
       "Midsouth               338\n",
       "BaltimoreWashington    338\n",
       "Boise                  338\n",
       "Boston                 338\n",
       "BuffaloRochester       338\n",
       "California             338\n",
       "Charlotte              338\n",
       "Chicago                338\n",
       "CincinnatiDayton       338\n",
       "Columbus               338\n",
       "DallasFtWorth          338\n",
       "Detroit                338\n",
       "Sacramento             338\n",
       "GrandRapids            338\n",
       "GreatLakes             338\n",
       "HarrisburgScranton     338\n",
       "HartfordSpringfield    338\n",
       "Houston                338\n",
       "Indianapolis           338\n",
       "Jacksonville           338\n",
       "LasVegas               338\n",
       "LosAngeles             338\n",
       "Louisville             338\n",
       "MiamiFtLauderdale      338\n",
       "Nashville              338\n",
       "NewOrleansMobile       338\n",
       "NewYork                338\n",
       "West                   338\n",
       "Northeast              338\n",
       "NorthernNewEngland     338\n",
       "Orlando                338\n",
       "Philadelphia           338\n",
       "PhoenixTucson          338\n",
       "Pittsburgh             338\n",
       "Plains                 338\n",
       "Portland               338\n",
       "RaleighGreensboro      338\n",
       "RichmondNorfolk        338\n",
       "Roanoke                338\n",
       "SanDiego               338\n",
       "Atlanta                338\n",
       "SanFrancisco           338\n",
       "Seattle                338\n",
       "SouthCarolina          338\n",
       "SouthCentral           338\n",
       "Southeast              338\n",
       "Spokane                338\n",
       "StLouis                338\n",
       "Syracuse               338\n",
       "Tampa                  338\n",
       "TotalUS                338\n",
       "WestTexNewMexico       335\n",
       "dtype: int64"
      ]
     },
     "execution_count": 85,
     "metadata": {},
     "output_type": "execute_result"
    }
   ],
   "source": [
    "df_avocado[['region']].value_counts().sort_values(ascending = False)"
   ]
  },
  {
   "cell_type": "markdown",
   "id": "5a7f0a6e",
   "metadata": {
    "cell_id": "00012-c512287b-c681-45dd-b653-3ca0e5fa3b09",
    "deepnote_cell_type": "markdown"
   },
   "source": [
    "(c) Para que todos os labels das colunas fiquem padronizados, renomeie aqueles que estão iniciando em letra minúscula para que iniciem em letra maiúscula, trocando espaço por _ e adicionando _ como separação de texto."
   ]
  },
  {
   "cell_type": "code",
   "execution_count": 129,
   "id": "6bc1f424",
   "metadata": {
    "cell_id": "00013-c9e85d55-1bd3-4d3f-9d03-0818f9898bea",
    "deepnote_cell_type": "code",
    "deepnote_output_heights": [
     78.796875
    ],
    "deepnote_to_be_reexecuted": false,
    "execution_millis": 126,
    "execution_start": 1643412915678,
    "source_hash": "1750064e"
   },
   "outputs": [
    {
     "data": {
      "application/vnd.deepnote.dataframe.v3+json": {
       "column_count": 6,
       "columns": [
        {
         "dtype": "object",
         "name": "Date",
         "stats": {
          "categories": [
           {
            "count": 108,
            "name": "2015-12-27"
           },
           {
            "count": 108,
            "name": "2015-12-20"
           },
           {
            "count": 18033,
            "name": "167 others"
           }
          ],
          "nan_count": 0,
          "unique_count": 169
         }
        },
        {
         "dtype": "float64",
         "name": "Average_Price",
         "stats": {
          "histogram": [
           {
            "bin_end": 0.7210000000000001,
            "bin_start": 0.44,
            "count": 331
           },
           {
            "bin_end": 1.002,
            "bin_start": 0.7210000000000001,
            "count": 2632
           },
           {
            "bin_end": 1.2830000000000001,
            "bin_start": 1.002,
            "count": 4824
           },
           {
            "bin_end": 1.564,
            "bin_start": 1.2830000000000001,
            "count": 4506
           },
           {
            "bin_end": 1.8450000000000002,
            "bin_start": 1.564,
            "count": 3412
           },
           {
            "bin_end": 2.1260000000000003,
            "bin_start": 1.8450000000000002,
            "count": 1672
           },
           {
            "bin_end": 2.407,
            "bin_start": 2.1260000000000003,
            "count": 598
           },
           {
            "bin_end": 2.688,
            "bin_start": 2.407,
            "count": 177
           },
           {
            "bin_end": 2.9690000000000003,
            "bin_start": 2.688,
            "count": 86
           },
           {
            "bin_end": 3.25,
            "bin_start": 2.9690000000000003,
            "count": 11
           }
          ],
          "max": "3.25",
          "min": "0.44",
          "nan_count": 0,
          "unique_count": 259
         }
        },
        {
         "dtype": "float64",
         "name": "Total_Volume",
         "stats": {
          "histogram": [
           {
            "bin_end": 6250640.756,
            "bin_start": 84.56,
            "count": 17879
           },
           {
            "bin_end": 12501196.952000001,
            "bin_start": 6250640.756,
            "count": 201
           },
           {
            "bin_end": 18751753.148,
            "bin_start": 12501196.952000001,
            "count": 0
           },
           {
            "bin_end": 25002309.344,
            "bin_start": 18751753.148,
            "count": 11
           },
           {
            "bin_end": 31252865.540000003,
            "bin_start": 25002309.344,
            "count": 47
           },
           {
            "bin_end": 37503421.736,
            "bin_start": 31252865.540000003,
            "count": 76
           },
           {
            "bin_end": 43753977.932000004,
            "bin_start": 37503421.736,
            "count": 29
           },
           {
            "bin_end": 50004534.128000006,
            "bin_start": 43753977.932000004,
            "count": 3
           },
           {
            "bin_end": 56255090.32400001,
            "bin_start": 50004534.128000006,
            "count": 1
           },
           {
            "bin_end": 62505646.52,
            "bin_start": 56255090.32400001,
            "count": 2
           }
          ],
          "max": "62505646.52",
          "min": "84.56",
          "nan_count": 0,
          "unique_count": 18237
         }
        },
        {
         "dtype": "int64",
         "name": "Year",
         "stats": {
          "histogram": [
           {
            "bin_end": 2015.3,
            "bin_start": 2015,
            "count": 5615
           },
           {
            "bin_end": 2015.6,
            "bin_start": 2015.3,
            "count": 0
           },
           {
            "bin_end": 2015.9,
            "bin_start": 2015.6,
            "count": 0
           },
           {
            "bin_end": 2016.2,
            "bin_start": 2015.9,
            "count": 5616
           },
           {
            "bin_end": 2016.5,
            "bin_start": 2016.2,
            "count": 0
           },
           {
            "bin_end": 2016.8,
            "bin_start": 2016.5,
            "count": 0
           },
           {
            "bin_end": 2017.1,
            "bin_start": 2016.8,
            "count": 5722
           },
           {
            "bin_end": 2017.4,
            "bin_start": 2017.1,
            "count": 0
           },
           {
            "bin_end": 2017.7,
            "bin_start": 2017.4,
            "count": 0
           },
           {
            "bin_end": 2018,
            "bin_start": 2017.7,
            "count": 1296
           }
          ],
          "max": "2018",
          "min": "2015",
          "nan_count": 0,
          "unique_count": 4
         }
        },
        {
         "dtype": "object",
         "name": "Region",
         "stats": {
          "categories": [
           {
            "count": 338,
            "name": "Albany"
           },
           {
            "count": 338,
            "name": "Atlanta"
           },
           {
            "count": 17573,
            "name": "52 others"
           }
          ],
          "nan_count": 0,
          "unique_count": 54
         }
        },
        {
         "dtype": "object",
         "name": "Type"
        },
        {
         "dtype": "int64",
         "name": "_deepnote_index_column"
        }
       ],
       "row_count": 18249,
       "rows": [
        {
         "Average_Price": 1.33,
         "Date": "2015-12-27",
         "Region": "Albany",
         "Total_Volume": 64236.62,
         "Type": "orgânico",
         "Year": 2015,
         "_deepnote_index_column": 0
        },
        {
         "Average_Price": 1.35,
         "Date": "2015-12-20",
         "Region": "Albany",
         "Total_Volume": 54876.98,
         "Type": "convencional",
         "Year": 2015,
         "_deepnote_index_column": 1
        },
        {
         "Average_Price": 0.93,
         "Date": "2015-12-13",
         "Region": "Albany",
         "Total_Volume": 118220.22,
         "Type": "convencional",
         "Year": 2015,
         "_deepnote_index_column": 2
        },
        {
         "Average_Price": 1.08,
         "Date": "2015-12-06",
         "Region": "Albany",
         "Total_Volume": 78992.15,
         "Type": "orgânico",
         "Year": 2015,
         "_deepnote_index_column": 3
        },
        {
         "Average_Price": 1.28,
         "Date": "2015-11-29",
         "Region": "Albany",
         "Total_Volume": 51039.6,
         "Type": "orgânico",
         "Year": 2015,
         "_deepnote_index_column": 4
        },
        {
         "Average_Price": 1.26,
         "Date": "2015-11-22",
         "Region": "Albany",
         "Total_Volume": 55979.78,
         "Type": "convencional",
         "Year": 2015,
         "_deepnote_index_column": 5
        },
        {
         "Average_Price": 0.99,
         "Date": "2015-11-15",
         "Region": "Albany",
         "Total_Volume": 83453.76,
         "Type": "orgânico",
         "Year": 2015,
         "_deepnote_index_column": 6
        },
        {
         "Average_Price": 0.98,
         "Date": "2015-11-08",
         "Region": "Albany",
         "Total_Volume": 109428.33,
         "Type": "convencional",
         "Year": 2015,
         "_deepnote_index_column": 7
        },
        {
         "Average_Price": 1.02,
         "Date": "2015-11-01",
         "Region": "Albany",
         "Total_Volume": 99811.42,
         "Type": "convencional",
         "Year": 2015,
         "_deepnote_index_column": 8
        },
        {
         "Average_Price": 1.07,
         "Date": "2015-10-25",
         "Region": "Albany",
         "Total_Volume": 74338.76,
         "Type": "orgânico",
         "Year": 2015,
         "_deepnote_index_column": 9
        }
       ]
      },
      "text/html": [
       "<div>\n",
       "<style scoped>\n",
       "    .dataframe tbody tr th:only-of-type {\n",
       "        vertical-align: middle;\n",
       "    }\n",
       "\n",
       "    .dataframe tbody tr th {\n",
       "        vertical-align: top;\n",
       "    }\n",
       "\n",
       "    .dataframe thead th {\n",
       "        text-align: right;\n",
       "    }\n",
       "</style>\n",
       "<table border=\"1\" class=\"dataframe\">\n",
       "  <thead>\n",
       "    <tr style=\"text-align: right;\">\n",
       "      <th></th>\n",
       "      <th>Date</th>\n",
       "      <th>Average_Price</th>\n",
       "      <th>Total_Volume</th>\n",
       "      <th>Year</th>\n",
       "      <th>Region</th>\n",
       "      <th>Type</th>\n",
       "    </tr>\n",
       "  </thead>\n",
       "  <tbody>\n",
       "    <tr>\n",
       "      <th>0</th>\n",
       "      <td>2015-12-27</td>\n",
       "      <td>1.33</td>\n",
       "      <td>64,236.62</td>\n",
       "      <td>2015</td>\n",
       "      <td>Albany</td>\n",
       "      <td>orgânico</td>\n",
       "    </tr>\n",
       "    <tr>\n",
       "      <th>1</th>\n",
       "      <td>2015-12-20</td>\n",
       "      <td>1.35</td>\n",
       "      <td>54,876.98</td>\n",
       "      <td>2015</td>\n",
       "      <td>Albany</td>\n",
       "      <td>convencional</td>\n",
       "    </tr>\n",
       "    <tr>\n",
       "      <th>2</th>\n",
       "      <td>2015-12-13</td>\n",
       "      <td>0.93</td>\n",
       "      <td>118,220.22</td>\n",
       "      <td>2015</td>\n",
       "      <td>Albany</td>\n",
       "      <td>convencional</td>\n",
       "    </tr>\n",
       "    <tr>\n",
       "      <th>3</th>\n",
       "      <td>2015-12-06</td>\n",
       "      <td>1.08</td>\n",
       "      <td>78,992.15</td>\n",
       "      <td>2015</td>\n",
       "      <td>Albany</td>\n",
       "      <td>orgânico</td>\n",
       "    </tr>\n",
       "    <tr>\n",
       "      <th>4</th>\n",
       "      <td>2015-11-29</td>\n",
       "      <td>1.28</td>\n",
       "      <td>51,039.60</td>\n",
       "      <td>2015</td>\n",
       "      <td>Albany</td>\n",
       "      <td>orgânico</td>\n",
       "    </tr>\n",
       "    <tr>\n",
       "      <th>...</th>\n",
       "      <td>...</td>\n",
       "      <td>...</td>\n",
       "      <td>...</td>\n",
       "      <td>...</td>\n",
       "      <td>...</td>\n",
       "      <td>...</td>\n",
       "    </tr>\n",
       "    <tr>\n",
       "      <th>18244</th>\n",
       "      <td>2018-02-04</td>\n",
       "      <td>1.63</td>\n",
       "      <td>17,074.83</td>\n",
       "      <td>2018</td>\n",
       "      <td>WestTexNewMexico</td>\n",
       "      <td>convencional</td>\n",
       "    </tr>\n",
       "    <tr>\n",
       "      <th>18245</th>\n",
       "      <td>2018-01-28</td>\n",
       "      <td>1.71</td>\n",
       "      <td>13,888.04</td>\n",
       "      <td>2018</td>\n",
       "      <td>WestTexNewMexico</td>\n",
       "      <td>convencional</td>\n",
       "    </tr>\n",
       "    <tr>\n",
       "      <th>18246</th>\n",
       "      <td>2018-01-21</td>\n",
       "      <td>1.87</td>\n",
       "      <td>13,766.76</td>\n",
       "      <td>2018</td>\n",
       "      <td>WestTexNewMexico</td>\n",
       "      <td>convencional</td>\n",
       "    </tr>\n",
       "    <tr>\n",
       "      <th>18247</th>\n",
       "      <td>2018-01-14</td>\n",
       "      <td>1.93</td>\n",
       "      <td>16,205.22</td>\n",
       "      <td>2018</td>\n",
       "      <td>WestTexNewMexico</td>\n",
       "      <td>convencional</td>\n",
       "    </tr>\n",
       "    <tr>\n",
       "      <th>18248</th>\n",
       "      <td>2018-01-07</td>\n",
       "      <td>1.62</td>\n",
       "      <td>17,489.58</td>\n",
       "      <td>2018</td>\n",
       "      <td>WestTexNewMexico</td>\n",
       "      <td>convencional</td>\n",
       "    </tr>\n",
       "  </tbody>\n",
       "</table>\n",
       "<p>18249 rows × 6 columns</p>\n",
       "</div>"
      ],
      "text/plain": [
       "             Date  Average_Price  Total_Volume  Year            Region  \\\n",
       "0      2015-12-27           1.33     64,236.62  2015            Albany   \n",
       "1      2015-12-20           1.35     54,876.98  2015            Albany   \n",
       "2      2015-12-13           0.93    118,220.22  2015            Albany   \n",
       "3      2015-12-06           1.08     78,992.15  2015            Albany   \n",
       "4      2015-11-29           1.28     51,039.60  2015            Albany   \n",
       "...           ...            ...           ...   ...               ...   \n",
       "18244  2018-02-04           1.63     17,074.83  2018  WestTexNewMexico   \n",
       "18245  2018-01-28           1.71     13,888.04  2018  WestTexNewMexico   \n",
       "18246  2018-01-21           1.87     13,766.76  2018  WestTexNewMexico   \n",
       "18247  2018-01-14           1.93     16,205.22  2018  WestTexNewMexico   \n",
       "18248  2018-01-07           1.62     17,489.58  2018  WestTexNewMexico   \n",
       "\n",
       "               Type  \n",
       "0          orgânico  \n",
       "1      convencional  \n",
       "2      convencional  \n",
       "3          orgânico  \n",
       "4          orgânico  \n",
       "...             ...  \n",
       "18244  convencional  \n",
       "18245  convencional  \n",
       "18246  convencional  \n",
       "18247  convencional  \n",
       "18248  convencional  \n",
       "\n",
       "[18249 rows x 6 columns]"
      ]
     },
     "execution_count": 129,
     "metadata": {},
     "output_type": "execute_result"
    }
   ],
   "source": [
    "# df_avocado.rename({coluna:coluna.capitalize() for coluna in df_avocado.columns},axis = 1) , inplace = True)\n",
    "df_avocado.rename({'region':'Region', 'Total Volume':'Total_Volume', 'AveragePrice':'Average_Price', 'year':'Year', 'type':'Type'},axis = 1, inplace = True)\n",
    "df_avocado"
   ]
  },
  {
   "cell_type": "code",
   "execution_count": 130,
   "id": "6c2f2fff",
   "metadata": {
    "cell_id": "6a103c8f-2bd0-4920-9376-e7a69cf639b1",
    "deepnote_cell_type": "code",
    "deepnote_to_be_reexecuted": false,
    "execution_millis": 48,
    "execution_start": 1643412952508,
    "source_hash": "4f06b2af",
    "tags": []
   },
   "outputs": [
    {
     "data": {
      "application/vnd.deepnote.dataframe.v3+json": {
       "column_count": 6,
       "columns": [
        {
         "dtype": "object",
         "name": "Date",
         "stats": {
          "categories": [
           {
            "count": 1,
            "name": "2015-12-27"
           },
           {
            "count": 1,
            "name": "2015-12-20"
           },
           {
            "count": 3,
            "name": "3 others"
           }
          ],
          "nan_count": 0,
          "unique_count": 5
         }
        },
        {
         "dtype": "float64",
         "name": "Average_Price",
         "stats": {
          "histogram": [
           {
            "bin_end": 0.9720000000000001,
            "bin_start": 0.93,
            "count": 1
           },
           {
            "bin_end": 1.014,
            "bin_start": 0.9720000000000001,
            "count": 0
           },
           {
            "bin_end": 1.056,
            "bin_start": 1.014,
            "count": 0
           },
           {
            "bin_end": 1.098,
            "bin_start": 1.056,
            "count": 1
           },
           {
            "bin_end": 1.1400000000000001,
            "bin_start": 1.098,
            "count": 0
           },
           {
            "bin_end": 1.182,
            "bin_start": 1.1400000000000001,
            "count": 0
           },
           {
            "bin_end": 1.2240000000000002,
            "bin_start": 1.182,
            "count": 0
           },
           {
            "bin_end": 1.266,
            "bin_start": 1.2240000000000002,
            "count": 0
           },
           {
            "bin_end": 1.308,
            "bin_start": 1.266,
            "count": 1
           },
           {
            "bin_end": 1.35,
            "bin_start": 1.308,
            "count": 2
           }
          ],
          "max": "1.35",
          "min": "0.93",
          "nan_count": 0,
          "unique_count": 5
         }
        },
        {
         "dtype": "float64",
         "name": "Total_Volume",
         "stats": {
          "histogram": [
           {
            "bin_end": 57757.662,
            "bin_start": 51039.6,
            "count": 2
           },
           {
            "bin_end": 64475.724,
            "bin_start": 57757.662,
            "count": 1
           },
           {
            "bin_end": 71193.786,
            "bin_start": 64475.724,
            "count": 0
           },
           {
            "bin_end": 77911.848,
            "bin_start": 71193.786,
            "count": 0
           },
           {
            "bin_end": 84629.91,
            "bin_start": 77911.848,
            "count": 1
           },
           {
            "bin_end": 91347.97200000001,
            "bin_start": 84629.91,
            "count": 0
           },
           {
            "bin_end": 98066.034,
            "bin_start": 91347.97200000001,
            "count": 0
           },
           {
            "bin_end": 104784.09599999999,
            "bin_start": 98066.034,
            "count": 0
           },
           {
            "bin_end": 111502.158,
            "bin_start": 104784.09599999999,
            "count": 0
           },
           {
            "bin_end": 118220.22,
            "bin_start": 111502.158,
            "count": 1
           }
          ],
          "max": "118220.22",
          "min": "51039.6",
          "nan_count": 0,
          "unique_count": 5
         }
        },
        {
         "dtype": "int64",
         "name": "Year",
         "stats": {
          "histogram": [
           {
            "bin_end": 2014.6,
            "bin_start": 2014.5,
            "count": 0
           },
           {
            "bin_end": 2014.7,
            "bin_start": 2014.6,
            "count": 0
           },
           {
            "bin_end": 2014.8,
            "bin_start": 2014.7,
            "count": 0
           },
           {
            "bin_end": 2014.9,
            "bin_start": 2014.8,
            "count": 0
           },
           {
            "bin_end": 2015,
            "bin_start": 2014.9,
            "count": 0
           },
           {
            "bin_end": 2015.1,
            "bin_start": 2015,
            "count": 5
           },
           {
            "bin_end": 2015.2,
            "bin_start": 2015.1,
            "count": 0
           },
           {
            "bin_end": 2015.3,
            "bin_start": 2015.2,
            "count": 0
           },
           {
            "bin_end": 2015.4,
            "bin_start": 2015.3,
            "count": 0
           },
           {
            "bin_end": 2015.5,
            "bin_start": 2015.4,
            "count": 0
           }
          ],
          "max": "2015",
          "min": "2015",
          "nan_count": 0,
          "unique_count": 1
         }
        },
        {
         "dtype": "object",
         "name": "Region",
         "stats": {
          "categories": [
           {
            "count": 5,
            "name": "Albany"
           }
          ],
          "nan_count": 0,
          "unique_count": 1
         }
        },
        {
         "dtype": "object",
         "name": "Type",
         "stats": {
          "categories": [
           {
            "count": 3,
            "name": "orgânico"
           },
           {
            "count": 2,
            "name": "convencional"
           }
          ],
          "nan_count": 0,
          "unique_count": 2
         }
        },
        {
         "dtype": "int64",
         "name": "_deepnote_index_column"
        }
       ],
       "row_count": 5,
       "rows": [
        {
         "Average_Price": 1.33,
         "Date": "2015-12-27",
         "Region": "Albany",
         "Total_Volume": 64236.62,
         "Type": "orgânico",
         "Year": 2015,
         "_deepnote_index_column": 0
        },
        {
         "Average_Price": 1.35,
         "Date": "2015-12-20",
         "Region": "Albany",
         "Total_Volume": 54876.98,
         "Type": "convencional",
         "Year": 2015,
         "_deepnote_index_column": 1
        },
        {
         "Average_Price": 0.93,
         "Date": "2015-12-13",
         "Region": "Albany",
         "Total_Volume": 118220.22,
         "Type": "convencional",
         "Year": 2015,
         "_deepnote_index_column": 2
        },
        {
         "Average_Price": 1.08,
         "Date": "2015-12-06",
         "Region": "Albany",
         "Total_Volume": 78992.15,
         "Type": "orgânico",
         "Year": 2015,
         "_deepnote_index_column": 3
        },
        {
         "Average_Price": 1.28,
         "Date": "2015-11-29",
         "Region": "Albany",
         "Total_Volume": 51039.6,
         "Type": "orgânico",
         "Year": 2015,
         "_deepnote_index_column": 4
        }
       ]
      },
      "text/html": [
       "<div>\n",
       "<style scoped>\n",
       "    .dataframe tbody tr th:only-of-type {\n",
       "        vertical-align: middle;\n",
       "    }\n",
       "\n",
       "    .dataframe tbody tr th {\n",
       "        vertical-align: top;\n",
       "    }\n",
       "\n",
       "    .dataframe thead th {\n",
       "        text-align: right;\n",
       "    }\n",
       "</style>\n",
       "<table border=\"1\" class=\"dataframe\">\n",
       "  <thead>\n",
       "    <tr style=\"text-align: right;\">\n",
       "      <th></th>\n",
       "      <th>Date</th>\n",
       "      <th>Average_Price</th>\n",
       "      <th>Total_Volume</th>\n",
       "      <th>Year</th>\n",
       "      <th>Region</th>\n",
       "      <th>Type</th>\n",
       "    </tr>\n",
       "  </thead>\n",
       "  <tbody>\n",
       "    <tr>\n",
       "      <th>0</th>\n",
       "      <td>2015-12-27</td>\n",
       "      <td>1.33</td>\n",
       "      <td>64,236.62</td>\n",
       "      <td>2015</td>\n",
       "      <td>Albany</td>\n",
       "      <td>orgânico</td>\n",
       "    </tr>\n",
       "    <tr>\n",
       "      <th>1</th>\n",
       "      <td>2015-12-20</td>\n",
       "      <td>1.35</td>\n",
       "      <td>54,876.98</td>\n",
       "      <td>2015</td>\n",
       "      <td>Albany</td>\n",
       "      <td>convencional</td>\n",
       "    </tr>\n",
       "    <tr>\n",
       "      <th>2</th>\n",
       "      <td>2015-12-13</td>\n",
       "      <td>0.93</td>\n",
       "      <td>118,220.22</td>\n",
       "      <td>2015</td>\n",
       "      <td>Albany</td>\n",
       "      <td>convencional</td>\n",
       "    </tr>\n",
       "    <tr>\n",
       "      <th>3</th>\n",
       "      <td>2015-12-06</td>\n",
       "      <td>1.08</td>\n",
       "      <td>78,992.15</td>\n",
       "      <td>2015</td>\n",
       "      <td>Albany</td>\n",
       "      <td>orgânico</td>\n",
       "    </tr>\n",
       "    <tr>\n",
       "      <th>4</th>\n",
       "      <td>2015-11-29</td>\n",
       "      <td>1.28</td>\n",
       "      <td>51,039.60</td>\n",
       "      <td>2015</td>\n",
       "      <td>Albany</td>\n",
       "      <td>orgânico</td>\n",
       "    </tr>\n",
       "  </tbody>\n",
       "</table>\n",
       "</div>"
      ],
      "text/plain": [
       "         Date  Average_Price  Total_Volume  Year  Region          Type\n",
       "0  2015-12-27           1.33     64,236.62  2015  Albany      orgânico\n",
       "1  2015-12-20           1.35     54,876.98  2015  Albany  convencional\n",
       "2  2015-12-13           0.93    118,220.22  2015  Albany  convencional\n",
       "3  2015-12-06           1.08     78,992.15  2015  Albany      orgânico\n",
       "4  2015-11-29           1.28     51,039.60  2015  Albany      orgânico"
      ]
     },
     "execution_count": 130,
     "metadata": {},
     "output_type": "execute_result"
    }
   ],
   "source": [
    "df_avocado.head()"
   ]
  },
  {
   "cell_type": "code",
   "execution_count": 131,
   "id": "f372300b",
   "metadata": {
    "cell_id": "307d0b31-181f-489c-bfca-4c546f4d64a1",
    "deepnote_cell_type": "code",
    "deepnote_output_heights": [
     1
    ],
    "deepnote_to_be_reexecuted": false,
    "execution_millis": 5,
    "execution_start": 1643412959856,
    "source_hash": "3bd9ff80",
    "tags": []
   },
   "outputs": [
    {
     "data": {
      "text/plain": [
       "{'Date': 'Date',\n",
       " 'Average_Price': 'Average_price',\n",
       " 'Total_Volume': 'Total_volume',\n",
       " 'Year': 'Year',\n",
       " 'Region': 'Region',\n",
       " 'Type': 'Type'}"
      ]
     },
     "execution_count": 131,
     "metadata": {},
     "output_type": "execute_result"
    }
   ],
   "source": [
    "{coluna:coluna.capitalize() for coluna in df_avocado.columns }"
   ]
  },
  {
   "cell_type": "markdown",
   "id": "14885b56",
   "metadata": {
    "cell_id": "00014-d2a1b7da-9ea2-41ce-bd0e-0f6d3345c3ad",
    "deepnote_cell_type": "markdown"
   },
   "source": [
    "(d) Essa dado possui duplicados? Se sim, remova-os do dataset."
   ]
  },
  {
   "cell_type": "code",
   "execution_count": 132,
   "id": "687a450f",
   "metadata": {
    "cell_id": "00015-b717cadd-15a7-4ea5-a1fe-0d822d7c9fdf",
    "deepnote_cell_type": "code",
    "deepnote_output_heights": [
     1
    ],
    "deepnote_to_be_reexecuted": false,
    "execution_millis": 105,
    "execution_start": 1643412965131,
    "source_hash": "f7611910"
   },
   "outputs": [
    {
     "data": {
      "text/plain": [
       "0"
      ]
     },
     "execution_count": 132,
     "metadata": {},
     "output_type": "execute_result"
    }
   ],
   "source": [
    "df_avocado.duplicated().sum()"
   ]
  },
  {
   "cell_type": "markdown",
   "id": "87776ed5",
   "metadata": {
    "cell_id": "00016-9125a4df-5581-4307-9264-b813dd298924",
    "deepnote_cell_type": "markdown"
   },
   "source": [
    "(e) Retire dos dados a região 'TotalUS'"
   ]
  },
  {
   "cell_type": "code",
   "execution_count": 133,
   "id": "0548e4a8",
   "metadata": {
    "cell_id": "00017-a32e2b7d-401e-474a-8477-944030b4ae87",
    "deepnote_cell_type": "code",
    "deepnote_to_be_reexecuted": false,
    "execution_millis": 3,
    "execution_start": 1643413006738,
    "source_hash": "1db7b6bf"
   },
   "outputs": [],
   "source": [
    "df_avocado = df_avocado[df_avocado['Region'] != 'TotalUS']\n"
   ]
  },
  {
   "cell_type": "code",
   "execution_count": 138,
   "id": "17ec938d",
   "metadata": {
    "cell_id": "8b9ad3f6-ad93-4f65-98e5-f23991be5a7b",
    "deepnote_cell_type": "code",
    "deepnote_output_heights": [
     1
    ],
    "deepnote_to_be_reexecuted": false,
    "execution_millis": 6,
    "execution_start": 1643413150210,
    "source_hash": "5d050eb4",
    "tags": []
   },
   "outputs": [
    {
     "data": {
      "text/plain": [
       "array(['Albany', 'Atlanta', 'BaltimoreWashington', 'Boise', 'Boston',\n",
       "       'BuffaloRochester', 'California', 'Charlotte', 'Chicago',\n",
       "       'CincinnatiDayton', 'Columbus', 'DallasFtWorth', 'Denver',\n",
       "       'Detroit', 'GrandRapids', 'GreatLakes', 'HarrisburgScranton',\n",
       "       'HartfordSpringfield', 'Houston', 'Indianapolis', 'Jacksonville',\n",
       "       'LasVegas', 'LosAngeles', 'Louisville', 'MiamiFtLauderdale',\n",
       "       'Midsouth', 'Nashville', 'NewOrleansMobile', 'NewYork',\n",
       "       'Northeast', 'NorthernNewEngland', 'Orlando', 'Philadelphia',\n",
       "       'PhoenixTucson', 'Pittsburgh', 'Plains', 'Portland',\n",
       "       'RaleighGreensboro', 'RichmondNorfolk', 'Roanoke', 'Sacramento',\n",
       "       'SanDiego', 'SanFrancisco', 'Seattle', 'SouthCarolina',\n",
       "       'SouthCentral', 'Southeast', 'Spokane', 'StLouis', 'Syracuse',\n",
       "       'Tampa', 'West', 'WestTexNewMexico'], dtype=object)"
      ]
     },
     "execution_count": 138,
     "metadata": {},
     "output_type": "execute_result"
    }
   ],
   "source": [
    "np.sort(df_avocado['Region'].unique())"
   ]
  },
  {
   "cell_type": "markdown",
   "id": "14d7f0a0",
   "metadata": {
    "cell_id": "00018-400468f7-9019-4693-9011-0d09980ab8a6",
    "deepnote_cell_type": "markdown"
   },
   "source": [
    "(g) Apresente as regiões que mais venderam abacate em todo o período em ordem decrescente."
   ]
  },
  {
   "cell_type": "code",
   "execution_count": 134,
   "id": "75d6dd52",
   "metadata": {
    "cell_id": "00019-8a792d9b-868b-4ffb-b247-5c26ed2d98b3",
    "deepnote_cell_type": "code",
    "deepnote_to_be_reexecuted": false,
    "execution_millis": 49,
    "execution_start": 1643413025430,
    "source_hash": "afc84a18"
   },
   "outputs": [
    {
     "data": {
      "application/vnd.deepnote.dataframe.v3+json": {
       "column_count": 1,
       "columns": [
        {
         "dtype": "float64",
         "name": "Total_Volume",
         "stats": {
          "histogram": [
           {
            "bin_end": 118526316.48699993,
            "bin_start": 10942667.680000002,
            "count": 35
           },
           {
            "bin_end": 226109965.29399985,
            "bin_start": 118526316.48699993,
            "count": 8
           },
           {
            "bin_end": 333693614.1009998,
            "bin_start": 226109965.29399985,
            "count": 2
           },
           {
            "bin_end": 441277262.9079997,
            "bin_start": 333693614.1009998,
            "count": 0
           },
           {
            "bin_end": 548860911.7149996,
            "bin_start": 441277262.9079997,
            "count": 2
           },
           {
            "bin_end": 656444560.5219995,
            "bin_start": 548860911.7149996,
            "count": 2
           },
           {
            "bin_end": 764028209.3289994,
            "bin_start": 656444560.5219995,
            "count": 1
           },
           {
            "bin_end": 871611858.1359993,
            "bin_start": 764028209.3289994,
            "count": 0
           },
           {
            "bin_end": 979195506.9429992,
            "bin_start": 871611858.1359993,
            "count": 0
           },
           {
            "bin_end": 1086779155.7499993,
            "bin_start": 979195506.9429992,
            "count": 3
           }
          ],
          "max": "1086779155.7499993",
          "min": "10942667.680000002",
          "nan_count": 0,
          "unique_count": 53
         }
        },
        {
         "dtype": "object",
         "name": "_deepnote_index_column"
        }
       ],
       "row_count": 53,
       "rows": [
        {
         "Total_Volume": 1086779155.7499993,
         "_deepnote_index_column": "West"
        },
        {
         "Total_Volume": 1028981653.1699995,
         "_deepnote_index_column": "California"
        },
        {
         "Total_Volume": 1011279618.8299996,
         "_deepnote_index_column": "SouthCentral"
        },
        {
         "Total_Volume": 713280909.5600004,
         "_deepnote_index_column": "Northeast"
        },
        {
         "Total_Volume": 615238409.110001,
         "_deepnote_index_column": "Southeast"
        },
        {
         "Total_Volume": 589642549.2900001,
         "_deepnote_index_column": "GreatLakes"
        },
        {
         "Total_Volume": 508349357.2000003,
         "_deepnote_index_column": "Midsouth"
        },
        {
         "Total_Volume": 507896547.6300007,
         "_deepnote_index_column": "LosAngeles"
        },
        {
         "Total_Volume": 311188529.11,
         "_deepnote_index_column": "Plains"
        },
        {
         "Total_Volume": 240734127.53000015,
         "_deepnote_index_column": "NewYork"
        }
       ]
      },
      "text/html": [
       "<div>\n",
       "<style scoped>\n",
       "    .dataframe tbody tr th:only-of-type {\n",
       "        vertical-align: middle;\n",
       "    }\n",
       "\n",
       "    .dataframe tbody tr th {\n",
       "        vertical-align: top;\n",
       "    }\n",
       "\n",
       "    .dataframe thead th {\n",
       "        text-align: right;\n",
       "    }\n",
       "</style>\n",
       "<table border=\"1\" class=\"dataframe\">\n",
       "  <thead>\n",
       "    <tr style=\"text-align: right;\">\n",
       "      <th></th>\n",
       "      <th>Total_Volume</th>\n",
       "    </tr>\n",
       "    <tr>\n",
       "      <th>Region</th>\n",
       "      <th></th>\n",
       "    </tr>\n",
       "  </thead>\n",
       "  <tbody>\n",
       "    <tr>\n",
       "      <th>West</th>\n",
       "      <td>1,086,779,155.75</td>\n",
       "    </tr>\n",
       "    <tr>\n",
       "      <th>California</th>\n",
       "      <td>1,028,981,653.17</td>\n",
       "    </tr>\n",
       "    <tr>\n",
       "      <th>SouthCentral</th>\n",
       "      <td>1,011,279,618.83</td>\n",
       "    </tr>\n",
       "    <tr>\n",
       "      <th>Northeast</th>\n",
       "      <td>713,280,909.56</td>\n",
       "    </tr>\n",
       "    <tr>\n",
       "      <th>Southeast</th>\n",
       "      <td>615,238,409.11</td>\n",
       "    </tr>\n",
       "    <tr>\n",
       "      <th>GreatLakes</th>\n",
       "      <td>589,642,549.29</td>\n",
       "    </tr>\n",
       "    <tr>\n",
       "      <th>Midsouth</th>\n",
       "      <td>508,349,357.20</td>\n",
       "    </tr>\n",
       "    <tr>\n",
       "      <th>LosAngeles</th>\n",
       "      <td>507,896,547.63</td>\n",
       "    </tr>\n",
       "    <tr>\n",
       "      <th>Plains</th>\n",
       "      <td>311,188,529.11</td>\n",
       "    </tr>\n",
       "    <tr>\n",
       "      <th>NewYork</th>\n",
       "      <td>240,734,127.53</td>\n",
       "    </tr>\n",
       "    <tr>\n",
       "      <th>DallasFtWorth</th>\n",
       "      <td>208,419,286.55</td>\n",
       "    </tr>\n",
       "    <tr>\n",
       "      <th>Houston</th>\n",
       "      <td>203,167,867.80</td>\n",
       "    </tr>\n",
       "    <tr>\n",
       "      <th>PhoenixTucson</th>\n",
       "      <td>195,643,312.50</td>\n",
       "    </tr>\n",
       "    <tr>\n",
       "      <th>WestTexNewMexico</th>\n",
       "      <td>144,521,839.78</td>\n",
       "    </tr>\n",
       "    <tr>\n",
       "      <th>Denver</th>\n",
       "      <td>138,902,535.99</td>\n",
       "    </tr>\n",
       "    <tr>\n",
       "      <th>SanFrancisco</th>\n",
       "      <td>135,830,191.78</td>\n",
       "    </tr>\n",
       "    <tr>\n",
       "      <th>BaltimoreWashington</th>\n",
       "      <td>134,713,919.32</td>\n",
       "    </tr>\n",
       "    <tr>\n",
       "      <th>Chicago</th>\n",
       "      <td>133,702,338.51</td>\n",
       "    </tr>\n",
       "    <tr>\n",
       "      <th>Portland</th>\n",
       "      <td>110,552,211.60</td>\n",
       "    </tr>\n",
       "    <tr>\n",
       "      <th>Seattle</th>\n",
       "      <td>109,214,177.96</td>\n",
       "    </tr>\n",
       "    <tr>\n",
       "      <th>MiamiFtLauderdale</th>\n",
       "      <td>97,673,224.03</td>\n",
       "    </tr>\n",
       "    <tr>\n",
       "      <th>Boston</th>\n",
       "      <td>97,273,984.83</td>\n",
       "    </tr>\n",
       "    <tr>\n",
       "      <th>SanDiego</th>\n",
       "      <td>89,791,919.69</td>\n",
       "    </tr>\n",
       "    <tr>\n",
       "      <th>Atlanta</th>\n",
       "      <td>88,605,118.85</td>\n",
       "    </tr>\n",
       "    <tr>\n",
       "      <th>Sacramento</th>\n",
       "      <td>75,163,746.86</td>\n",
       "    </tr>\n",
       "    <tr>\n",
       "      <th>Philadelphia</th>\n",
       "      <td>71,838,798.18</td>\n",
       "    </tr>\n",
       "    <tr>\n",
       "      <th>NorthernNewEngland</th>\n",
       "      <td>71,532,894.11</td>\n",
       "    </tr>\n",
       "    <tr>\n",
       "      <th>Tampa</th>\n",
       "      <td>66,004,539.31</td>\n",
       "    </tr>\n",
       "    <tr>\n",
       "      <th>Detroit</th>\n",
       "      <td>63,422,419.38</td>\n",
       "    </tr>\n",
       "    <tr>\n",
       "      <th>SouthCarolina</th>\n",
       "      <td>60,753,772.90</td>\n",
       "    </tr>\n",
       "    <tr>\n",
       "      <th>Orlando</th>\n",
       "      <td>58,660,703.89</td>\n",
       "    </tr>\n",
       "    <tr>\n",
       "      <th>LasVegas</th>\n",
       "      <td>54,376,906.40</td>\n",
       "    </tr>\n",
       "    <tr>\n",
       "      <th>HartfordSpringfield</th>\n",
       "      <td>50,670,537.46</td>\n",
       "    </tr>\n",
       "    <tr>\n",
       "      <th>RaleighGreensboro</th>\n",
       "      <td>48,202,731.66</td>\n",
       "    </tr>\n",
       "    <tr>\n",
       "      <th>NewOrleansMobile</th>\n",
       "      <td>45,695,136.58</td>\n",
       "    </tr>\n",
       "    <tr>\n",
       "      <th>CincinnatiDayton</th>\n",
       "      <td>44,522,007.57</td>\n",
       "    </tr>\n",
       "    <tr>\n",
       "      <th>RichmondNorfolk</th>\n",
       "      <td>42,230,851.45</td>\n",
       "    </tr>\n",
       "    <tr>\n",
       "      <th>HarrisburgScranton</th>\n",
       "      <td>41,808,858.68</td>\n",
       "    </tr>\n",
       "    <tr>\n",
       "      <th>Nashville</th>\n",
       "      <td>35,612,089.23</td>\n",
       "    </tr>\n",
       "    <tr>\n",
       "      <th>Charlotte</th>\n",
       "      <td>35,555,544.42</td>\n",
       "    </tr>\n",
       "    <tr>\n",
       "      <th>StLouis</th>\n",
       "      <td>32,072,833.33</td>\n",
       "    </tr>\n",
       "    <tr>\n",
       "      <th>Indianapolis</th>\n",
       "      <td>30,263,391.43</td>\n",
       "    </tr>\n",
       "    <tr>\n",
       "      <th>GrandRapids</th>\n",
       "      <td>30,211,735.93</td>\n",
       "    </tr>\n",
       "    <tr>\n",
       "      <th>Columbus</th>\n",
       "      <td>29,993,361.42</td>\n",
       "    </tr>\n",
       "    <tr>\n",
       "      <th>Jacksonville</th>\n",
       "      <td>28,790,004.74</td>\n",
       "    </tr>\n",
       "    <tr>\n",
       "      <th>Roanoke</th>\n",
       "      <td>25,042,010.81</td>\n",
       "    </tr>\n",
       "    <tr>\n",
       "      <th>BuffaloRochester</th>\n",
       "      <td>22,962,470.40</td>\n",
       "    </tr>\n",
       "    <tr>\n",
       "      <th>Pittsburgh</th>\n",
       "      <td>18,806,345.81</td>\n",
       "    </tr>\n",
       "    <tr>\n",
       "      <th>Louisville</th>\n",
       "      <td>16,097,002.40</td>\n",
       "    </tr>\n",
       "    <tr>\n",
       "      <th>Albany</th>\n",
       "      <td>16,067,799.97</td>\n",
       "    </tr>\n",
       "    <tr>\n",
       "      <th>Spokane</th>\n",
       "      <td>15,565,275.48</td>\n",
       "    </tr>\n",
       "    <tr>\n",
       "      <th>Boise</th>\n",
       "      <td>14,413,187.75</td>\n",
       "    </tr>\n",
       "    <tr>\n",
       "      <th>Syracuse</th>\n",
       "      <td>10,942,667.68</td>\n",
       "    </tr>\n",
       "  </tbody>\n",
       "</table>\n",
       "</div>"
      ],
      "text/plain": [
       "                        Total_Volume\n",
       "Region                              \n",
       "West                1,086,779,155.75\n",
       "California          1,028,981,653.17\n",
       "SouthCentral        1,011,279,618.83\n",
       "Northeast             713,280,909.56\n",
       "Southeast             615,238,409.11\n",
       "GreatLakes            589,642,549.29\n",
       "Midsouth              508,349,357.20\n",
       "LosAngeles            507,896,547.63\n",
       "Plains                311,188,529.11\n",
       "NewYork               240,734,127.53\n",
       "DallasFtWorth         208,419,286.55\n",
       "Houston               203,167,867.80\n",
       "PhoenixTucson         195,643,312.50\n",
       "WestTexNewMexico      144,521,839.78\n",
       "Denver                138,902,535.99\n",
       "SanFrancisco          135,830,191.78\n",
       "BaltimoreWashington   134,713,919.32\n",
       "Chicago               133,702,338.51\n",
       "Portland              110,552,211.60\n",
       "Seattle               109,214,177.96\n",
       "MiamiFtLauderdale      97,673,224.03\n",
       "Boston                 97,273,984.83\n",
       "SanDiego               89,791,919.69\n",
       "Atlanta                88,605,118.85\n",
       "Sacramento             75,163,746.86\n",
       "Philadelphia           71,838,798.18\n",
       "NorthernNewEngland     71,532,894.11\n",
       "Tampa                  66,004,539.31\n",
       "Detroit                63,422,419.38\n",
       "SouthCarolina          60,753,772.90\n",
       "Orlando                58,660,703.89\n",
       "LasVegas               54,376,906.40\n",
       "HartfordSpringfield    50,670,537.46\n",
       "RaleighGreensboro      48,202,731.66\n",
       "NewOrleansMobile       45,695,136.58\n",
       "CincinnatiDayton       44,522,007.57\n",
       "RichmondNorfolk        42,230,851.45\n",
       "HarrisburgScranton     41,808,858.68\n",
       "Nashville              35,612,089.23\n",
       "Charlotte              35,555,544.42\n",
       "StLouis                32,072,833.33\n",
       "Indianapolis           30,263,391.43\n",
       "GrandRapids            30,211,735.93\n",
       "Columbus               29,993,361.42\n",
       "Jacksonville           28,790,004.74\n",
       "Roanoke                25,042,010.81\n",
       "BuffaloRochester       22,962,470.40\n",
       "Pittsburgh             18,806,345.81\n",
       "Louisville             16,097,002.40\n",
       "Albany                 16,067,799.97\n",
       "Spokane                15,565,275.48\n",
       "Boise                  14,413,187.75\n",
       "Syracuse               10,942,667.68"
      ]
     },
     "execution_count": 134,
     "metadata": {},
     "output_type": "execute_result"
    }
   ],
   "source": [
    "df_avocado.groupby('Region')[['Total_Volume']].sum().sort_values(by = 'Total_Volume', ascending = False)"
   ]
  },
  {
   "cell_type": "markdown",
   "id": "c633f3b9",
   "metadata": {
    "cell_id": "00020-120c2f46-f643-4068-b848-54efc11540a7",
    "deepnote_cell_type": "markdown"
   },
   "source": [
    "(h) Calcule o volume total de abacates vendidos para cada tipo e ano."
   ]
  },
  {
   "cell_type": "code",
   "execution_count": 156,
   "id": "0c02f044",
   "metadata": {
    "cell_id": "00021-dd8b3c8c-709d-4e3d-9ef2-a6ca8e2f639e",
    "deepnote_cell_type": "code",
    "deepnote_to_be_reexecuted": false,
    "execution_millis": 33,
    "execution_start": 1643413875134,
    "source_hash": "3e4d3297"
   },
   "outputs": [
    {
     "data": {
      "application/vnd.deepnote.dataframe.v3+json": {
       "column_count": 1,
       "columns": [
        {
         "dtype": "float64",
         "name": "Total_Volume",
         "stats": {
          "histogram": [
           {
            "bin_end": 0.1,
            "bin_start": 0,
            "count": 0
           },
           {
            "bin_end": 0.2,
            "bin_start": 0.1,
            "count": 0
           },
           {
            "bin_end": 0.30000000000000004,
            "bin_start": 0.2,
            "count": 0
           },
           {
            "bin_end": 0.4,
            "bin_start": 0.30000000000000004,
            "count": 0
           },
           {
            "bin_end": 0.5,
            "bin_start": 0.4,
            "count": 0
           },
           {
            "bin_end": 0.6000000000000001,
            "bin_start": 0.5,
            "count": 0
           },
           {
            "bin_end": 0.7000000000000001,
            "bin_start": 0.6000000000000001,
            "count": 0
           },
           {
            "bin_end": 0.8,
            "bin_start": 0.7000000000000001,
            "count": 0
           },
           {
            "bin_end": 0.9,
            "bin_start": 0.8,
            "count": 0
           },
           {
            "bin_end": 1,
            "bin_start": 0.9,
            "count": 0
           }
          ],
          "max": null,
          "min": null,
          "nan_count": 0,
          "unique_count": 0
         }
        },
        {
         "dtype": "object",
         "name": "_deepnote_index_column"
        }
       ],
       "row_count": 0,
       "rows": []
      },
      "text/html": [
       "<div>\n",
       "<style scoped>\n",
       "    .dataframe tbody tr th:only-of-type {\n",
       "        vertical-align: middle;\n",
       "    }\n",
       "\n",
       "    .dataframe tbody tr th {\n",
       "        vertical-align: top;\n",
       "    }\n",
       "\n",
       "    .dataframe thead th {\n",
       "        text-align: right;\n",
       "    }\n",
       "</style>\n",
       "<table border=\"1\" class=\"dataframe\">\n",
       "  <thead>\n",
       "    <tr style=\"text-align: right;\">\n",
       "      <th></th>\n",
       "      <th></th>\n",
       "      <th>Total_Volume</th>\n",
       "    </tr>\n",
       "    <tr>\n",
       "      <th>Region</th>\n",
       "      <th>Year</th>\n",
       "      <th></th>\n",
       "    </tr>\n",
       "  </thead>\n",
       "  <tbody>\n",
       "  </tbody>\n",
       "</table>\n",
       "</div>"
      ],
      "text/plain": [
       "Empty DataFrame\n",
       "Columns: [Total_Volume]\n",
       "Index: []"
      ]
     },
     "execution_count": 156,
     "metadata": {},
     "output_type": "execute_result"
    }
   ],
   "source": [
    "df_avocado[(df_avocado['Year']==2018)|df_avocado['Year']==2017].groupby([\"Region\", \"Year\"]).agg({\"Total_Volume\":\"sum\"})"
   ]
  },
  {
   "cell_type": "markdown",
   "id": "9065e100",
   "metadata": {
    "cell_id": "00022-0c087825-bd85-43a9-b237-2b4dc1e8b39d",
    "deepnote_cell_type": "markdown"
   },
   "source": [
    "(f) existe alguma região que foi a maior responsável pela queda na produção de 2018?"
   ]
  },
  {
   "cell_type": "code",
   "execution_count": 143,
   "id": "fd906953",
   "metadata": {
    "cell_id": "00023-941498ed-a31c-4a0c-b7ff-3dc7bbea8094",
    "deepnote_cell_type": "code",
    "deepnote_to_be_reexecuted": false,
    "execution_millis": 46,
    "execution_start": 1643413724101,
    "source_hash": "b0dcf6b2"
   },
   "outputs": [
    {
     "data": {
      "application/vnd.deepnote.dataframe.v3+json": {
       "column_count": 1,
       "columns": [
        {
         "dtype": "float64",
         "name": "Total_Volume",
         "stats": {
          "histogram": [
           {
            "bin_end": 35447730.50400002,
            "bin_start": 1046987.6599999999,
            "count": 147
           },
           {
            "bin_end": 69848473.34800005,
            "bin_start": 35447730.50400002,
            "count": 32
           },
           {
            "bin_end": 104249216.19200008,
            "bin_start": 69848473.34800005,
            "count": 9
           },
           {
            "bin_end": 138649959.0360001,
            "bin_start": 104249216.19200008,
            "count": 0
           },
           {
            "bin_end": 173050701.88000014,
            "bin_start": 138649959.0360001,
            "count": 8
           },
           {
            "bin_end": 207451444.72400016,
            "bin_start": 173050701.88000014,
            "count": 5
           },
           {
            "bin_end": 241852187.56800017,
            "bin_start": 207451444.72400016,
            "count": 2
           },
           {
            "bin_end": 276252930.41200024,
            "bin_start": 241852187.56800017,
            "count": 0
           },
           {
            "bin_end": 310653673.2560003,
            "bin_start": 276252930.41200024,
            "count": 4
           },
           {
            "bin_end": 345054416.10000026,
            "bin_start": 310653673.2560003,
            "count": 5
           }
          ],
          "max": "345054416.10000026",
          "min": "1046987.6599999999",
          "nan_count": 0,
          "unique_count": 212
         }
        },
        {
         "dtype": "object",
         "name": "_deepnote_index_column"
        }
       ],
       "row_count": 212,
       "rows": [
        {
         "Total_Volume": 4029896.430000001,
         "_deepnote_index_column": "('Albany', 2015)"
        },
        {
         "Total_Volume": 5264335.590000004,
         "_deepnote_index_column": "('Albany', 2016)"
        },
        {
         "Total_Volume": 5231581.78,
         "_deepnote_index_column": "('Albany', 2017)"
        },
        {
         "Total_Volume": 1541986.17,
         "_deepnote_index_column": "('Albany', 2018)"
        },
        {
         "Total_Volume": 23231698.119999997,
         "_deepnote_index_column": "('Atlanta', 2015)"
        },
        {
         "Total_Volume": 28326878.299999997,
         "_deepnote_index_column": "('Atlanta', 2016)"
        },
        {
         "Total_Volume": 28815119.980000008,
         "_deepnote_index_column": "('Atlanta', 2017)"
        },
        {
         "Total_Volume": 8231422.45,
         "_deepnote_index_column": "('Atlanta', 2018)"
        },
        {
         "Total_Volume": 40645579.540000044,
         "_deepnote_index_column": "('BaltimoreWashington', 2015)"
        },
        {
         "Total_Volume": 40893802.32,
         "_deepnote_index_column": "('BaltimoreWashington', 2016)"
        }
       ]
      },
      "text/html": [
       "<div>\n",
       "<style scoped>\n",
       "    .dataframe tbody tr th:only-of-type {\n",
       "        vertical-align: middle;\n",
       "    }\n",
       "\n",
       "    .dataframe tbody tr th {\n",
       "        vertical-align: top;\n",
       "    }\n",
       "\n",
       "    .dataframe thead th {\n",
       "        text-align: right;\n",
       "    }\n",
       "</style>\n",
       "<table border=\"1\" class=\"dataframe\">\n",
       "  <thead>\n",
       "    <tr style=\"text-align: right;\">\n",
       "      <th></th>\n",
       "      <th></th>\n",
       "      <th>Total_Volume</th>\n",
       "    </tr>\n",
       "    <tr>\n",
       "      <th>Region</th>\n",
       "      <th>Year</th>\n",
       "      <th></th>\n",
       "    </tr>\n",
       "  </thead>\n",
       "  <tbody>\n",
       "    <tr>\n",
       "      <th rowspan=\"4\" valign=\"top\">Albany</th>\n",
       "      <th>2015</th>\n",
       "      <td>4,029,896.43</td>\n",
       "    </tr>\n",
       "    <tr>\n",
       "      <th>2016</th>\n",
       "      <td>5,264,335.59</td>\n",
       "    </tr>\n",
       "    <tr>\n",
       "      <th>2017</th>\n",
       "      <td>5,231,581.78</td>\n",
       "    </tr>\n",
       "    <tr>\n",
       "      <th>2018</th>\n",
       "      <td>1,541,986.17</td>\n",
       "    </tr>\n",
       "    <tr>\n",
       "      <th>Atlanta</th>\n",
       "      <th>2015</th>\n",
       "      <td>23,231,698.12</td>\n",
       "    </tr>\n",
       "    <tr>\n",
       "      <th>...</th>\n",
       "      <th>...</th>\n",
       "      <td>...</td>\n",
       "    </tr>\n",
       "    <tr>\n",
       "      <th>West</th>\n",
       "      <th>2018</th>\n",
       "      <td>92,477,085.01</td>\n",
       "    </tr>\n",
       "    <tr>\n",
       "      <th rowspan=\"4\" valign=\"top\">WestTexNewMexico</th>\n",
       "      <th>2015</th>\n",
       "      <td>41,523,998.11</td>\n",
       "    </tr>\n",
       "    <tr>\n",
       "      <th>2016</th>\n",
       "      <td>43,807,431.60</td>\n",
       "    </tr>\n",
       "    <tr>\n",
       "      <th>2017</th>\n",
       "      <td>47,389,589.29</td>\n",
       "    </tr>\n",
       "    <tr>\n",
       "      <th>2018</th>\n",
       "      <td>11,800,820.78</td>\n",
       "    </tr>\n",
       "  </tbody>\n",
       "</table>\n",
       "<p>212 rows × 1 columns</p>\n",
       "</div>"
      ],
      "text/plain": [
       "                       Total_Volume\n",
       "Region           Year              \n",
       "Albany           2015  4,029,896.43\n",
       "                 2016  5,264,335.59\n",
       "                 2017  5,231,581.78\n",
       "                 2018  1,541,986.17\n",
       "Atlanta          2015 23,231,698.12\n",
       "...                             ...\n",
       "West             2018 92,477,085.01\n",
       "WestTexNewMexico 2015 41,523,998.11\n",
       "                 2016 43,807,431.60\n",
       "                 2017 47,389,589.29\n",
       "                 2018 11,800,820.78\n",
       "\n",
       "[212 rows x 1 columns]"
      ]
     },
     "execution_count": 143,
     "metadata": {},
     "output_type": "execute_result"
    }
   ],
   "source": [
    "df_avocado.groupby(['Region', 'Year'])[['Total_Volume']].sum()"
   ]
  },
  {
   "cell_type": "code",
   "execution_count": 163,
   "id": "7a6866d6",
   "metadata": {
    "cell_id": "c1f4f6b5-06b9-4f4a-8a6c-c5f1b272d636",
    "deepnote_cell_type": "code",
    "deepnote_output_heights": [
     611
    ],
    "deepnote_to_be_reexecuted": false,
    "execution_millis": 25,
    "execution_start": 1643414312113,
    "source_hash": "ef78e715",
    "tags": []
   },
   "outputs": [
    {
     "data": {
      "application/vnd.deepnote.dataframe.v3+json": {
       "column_count": 1,
       "columns": [
        {
         "dtype": "float64",
         "name": "Total_Volume",
         "stats": {
          "histogram": [
           {
            "bin_end": -227588097.01700026,
            "bin_start": -252577331.09000027,
            "count": 3
           },
           {
            "bin_end": -202598862.9440002,
            "bin_start": -227588097.01700026,
            "count": 0
           },
           {
            "bin_end": -177609628.87100017,
            "bin_start": -202598862.9440002,
            "count": 0
           },
           {
            "bin_end": -152620394.79800016,
            "bin_start": -177609628.87100017,
            "count": 1
           },
           {
            "bin_end": -127631160.72500013,
            "bin_start": -152620394.79800016,
            "count": 2
           },
           {
            "bin_end": -102641926.6520001,
            "bin_start": -127631160.72500013,
            "count": 2
           },
           {
            "bin_end": -77652692.57900006,
            "bin_start": -102641926.6520001,
            "count": 0
           },
           {
            "bin_end": -52663458.50600004,
            "bin_start": -77652692.57900006,
            "count": 1
           },
           {
            "bin_end": -27674224.433000028,
            "bin_start": -52663458.50600004,
            "count": 10
           },
           {
            "bin_end": -2684990.3599999985,
            "bin_start": -27674224.433000028,
            "count": 34
           }
          ],
          "max": "-2684990.3599999985",
          "min": "-252577331.09000027",
          "nan_count": 0,
          "unique_count": 53
         }
        },
        {
         "dtype": "object",
         "name": "_deepnote_index_column"
        }
       ],
       "row_count": 53,
       "rows": [
        {
         "Total_Volume": -252577331.09000027,
         "_deepnote_index_column": "West"
        },
        {
         "Total_Volume": -234118906.28999984,
         "_deepnote_index_column": "SouthCentral"
        },
        {
         "Total_Volume": -233903219.26999992,
         "_deepnote_index_column": "California"
        },
        {
         "Total_Volume": -158323764.36999992,
         "_deepnote_index_column": "Northeast"
        },
        {
         "Total_Volume": -136452781.31999987,
         "_deepnote_index_column": "Southeast"
        },
        {
         "Total_Volume": -136193188.33000007,
         "_deepnote_index_column": "GreatLakes"
        },
        {
         "Total_Volume": -120428796.64999996,
         "_deepnote_index_column": "LosAngeles"
        },
        {
         "Total_Volume": -117240159.09000006,
         "_deepnote_index_column": "Midsouth"
        },
        {
         "Total_Volume": -72251958.45,
         "_deepnote_index_column": "Plains"
        },
        {
         "Total_Volume": -51121418.140000015,
         "_deepnote_index_column": "NewYork"
        }
       ]
      },
      "text/html": [
       "<div>\n",
       "<style scoped>\n",
       "    .dataframe tbody tr th:only-of-type {\n",
       "        vertical-align: middle;\n",
       "    }\n",
       "\n",
       "    .dataframe tbody tr th {\n",
       "        vertical-align: top;\n",
       "    }\n",
       "\n",
       "    .dataframe thead th {\n",
       "        text-align: right;\n",
       "    }\n",
       "</style>\n",
       "<table border=\"1\" class=\"dataframe\">\n",
       "  <thead>\n",
       "    <tr style=\"text-align: right;\">\n",
       "      <th></th>\n",
       "      <th>Total_Volume</th>\n",
       "    </tr>\n",
       "    <tr>\n",
       "      <th>Region</th>\n",
       "      <th></th>\n",
       "    </tr>\n",
       "  </thead>\n",
       "  <tbody>\n",
       "    <tr>\n",
       "      <th>West</th>\n",
       "      <td>-252,577,331.09</td>\n",
       "    </tr>\n",
       "    <tr>\n",
       "      <th>SouthCentral</th>\n",
       "      <td>-234,118,906.29</td>\n",
       "    </tr>\n",
       "    <tr>\n",
       "      <th>California</th>\n",
       "      <td>-233,903,219.27</td>\n",
       "    </tr>\n",
       "    <tr>\n",
       "      <th>Northeast</th>\n",
       "      <td>-158,323,764.37</td>\n",
       "    </tr>\n",
       "    <tr>\n",
       "      <th>Southeast</th>\n",
       "      <td>-136,452,781.32</td>\n",
       "    </tr>\n",
       "    <tr>\n",
       "      <th>GreatLakes</th>\n",
       "      <td>-136,193,188.33</td>\n",
       "    </tr>\n",
       "    <tr>\n",
       "      <th>LosAngeles</th>\n",
       "      <td>-120,428,796.65</td>\n",
       "    </tr>\n",
       "    <tr>\n",
       "      <th>Midsouth</th>\n",
       "      <td>-117,240,159.09</td>\n",
       "    </tr>\n",
       "    <tr>\n",
       "      <th>Plains</th>\n",
       "      <td>-72,251,958.45</td>\n",
       "    </tr>\n",
       "    <tr>\n",
       "      <th>NewYork</th>\n",
       "      <td>-51,121,418.14</td>\n",
       "    </tr>\n",
       "    <tr>\n",
       "      <th>Houston</th>\n",
       "      <td>-49,110,575.78</td>\n",
       "    </tr>\n",
       "    <tr>\n",
       "      <th>DallasFtWorth</th>\n",
       "      <td>-48,069,237.38</td>\n",
       "    </tr>\n",
       "    <tr>\n",
       "      <th>PhoenixTucson</th>\n",
       "      <td>-43,157,728.73</td>\n",
       "    </tr>\n",
       "    <tr>\n",
       "      <th>WestTexNewMexico</th>\n",
       "      <td>-35,588,768.51</td>\n",
       "    </tr>\n",
       "    <tr>\n",
       "      <th>Denver</th>\n",
       "      <td>-30,713,723.72</td>\n",
       "    </tr>\n",
       "    <tr>\n",
       "      <th>Chicago</th>\n",
       "      <td>-29,366,522.74</td>\n",
       "    </tr>\n",
       "    <tr>\n",
       "      <th>SanFrancisco</th>\n",
       "      <td>-28,888,243.62</td>\n",
       "    </tr>\n",
       "    <tr>\n",
       "      <th>BaltimoreWashington</th>\n",
       "      <td>-28,856,731.46</td>\n",
       "    </tr>\n",
       "    <tr>\n",
       "      <th>Portland</th>\n",
       "      <td>-28,501,663.45</td>\n",
       "    </tr>\n",
       "    <tr>\n",
       "      <th>Seattle</th>\n",
       "      <td>-27,086,471.39</td>\n",
       "    </tr>\n",
       "    <tr>\n",
       "      <th>Boston</th>\n",
       "      <td>-21,973,666.20</td>\n",
       "    </tr>\n",
       "    <tr>\n",
       "      <th>MiamiFtLauderdale</th>\n",
       "      <td>-21,138,810.40</td>\n",
       "    </tr>\n",
       "    <tr>\n",
       "      <th>Atlanta</th>\n",
       "      <td>-20,583,697.53</td>\n",
       "    </tr>\n",
       "    <tr>\n",
       "      <th>SanDiego</th>\n",
       "      <td>-20,520,441.82</td>\n",
       "    </tr>\n",
       "    <tr>\n",
       "      <th>Sacramento</th>\n",
       "      <td>-16,324,679.08</td>\n",
       "    </tr>\n",
       "    <tr>\n",
       "      <th>NorthernNewEngland</th>\n",
       "      <td>-16,024,122.63</td>\n",
       "    </tr>\n",
       "    <tr>\n",
       "      <th>Philadelphia</th>\n",
       "      <td>-15,704,007.93</td>\n",
       "    </tr>\n",
       "    <tr>\n",
       "      <th>Detroit</th>\n",
       "      <td>-14,489,466.84</td>\n",
       "    </tr>\n",
       "    <tr>\n",
       "      <th>SouthCarolina</th>\n",
       "      <td>-14,132,885.56</td>\n",
       "    </tr>\n",
       "    <tr>\n",
       "      <th>Tampa</th>\n",
       "      <td>-13,908,082.10</td>\n",
       "    </tr>\n",
       "    <tr>\n",
       "      <th>LasVegas</th>\n",
       "      <td>-12,940,201.18</td>\n",
       "    </tr>\n",
       "    <tr>\n",
       "      <th>Orlando</th>\n",
       "      <td>-12,896,463.06</td>\n",
       "    </tr>\n",
       "    <tr>\n",
       "      <th>CincinnatiDayton</th>\n",
       "      <td>-11,548,390.61</td>\n",
       "    </tr>\n",
       "    <tr>\n",
       "      <th>RaleighGreensboro</th>\n",
       "      <td>-11,239,752.52</td>\n",
       "    </tr>\n",
       "    <tr>\n",
       "      <th>HartfordSpringfield</th>\n",
       "      <td>-10,834,863.37</td>\n",
       "    </tr>\n",
       "    <tr>\n",
       "      <th>NewOrleansMobile</th>\n",
       "      <td>-10,262,541.22</td>\n",
       "    </tr>\n",
       "    <tr>\n",
       "      <th>RichmondNorfolk</th>\n",
       "      <td>-9,652,100.89</td>\n",
       "    </tr>\n",
       "    <tr>\n",
       "      <th>Nashville</th>\n",
       "      <td>-9,426,291.48</td>\n",
       "    </tr>\n",
       "    <tr>\n",
       "      <th>HarrisburgScranton</th>\n",
       "      <td>-9,242,506.14</td>\n",
       "    </tr>\n",
       "    <tr>\n",
       "      <th>Charlotte</th>\n",
       "      <td>-8,309,700.80</td>\n",
       "    </tr>\n",
       "    <tr>\n",
       "      <th>Columbus</th>\n",
       "      <td>-7,396,312.77</td>\n",
       "    </tr>\n",
       "    <tr>\n",
       "      <th>Indianapolis</th>\n",
       "      <td>-7,092,526.30</td>\n",
       "    </tr>\n",
       "    <tr>\n",
       "      <th>Jacksonville</th>\n",
       "      <td>-6,484,883.27</td>\n",
       "    </tr>\n",
       "    <tr>\n",
       "      <th>StLouis</th>\n",
       "      <td>-6,450,462.51</td>\n",
       "    </tr>\n",
       "    <tr>\n",
       "      <th>GrandRapids</th>\n",
       "      <td>-6,184,994.33</td>\n",
       "    </tr>\n",
       "    <tr>\n",
       "      <th>BuffaloRochester</th>\n",
       "      <td>-5,616,487.71</td>\n",
       "    </tr>\n",
       "    <tr>\n",
       "      <th>Roanoke</th>\n",
       "      <td>-5,594,841.91</td>\n",
       "    </tr>\n",
       "    <tr>\n",
       "      <th>Pittsburgh</th>\n",
       "      <td>-4,947,108.94</td>\n",
       "    </tr>\n",
       "    <tr>\n",
       "      <th>Spokane</th>\n",
       "      <td>-3,925,634.83</td>\n",
       "    </tr>\n",
       "    <tr>\n",
       "      <th>Louisville</th>\n",
       "      <td>-3,788,548.43</td>\n",
       "    </tr>\n",
       "    <tr>\n",
       "      <th>Albany</th>\n",
       "      <td>-3,689,595.61</td>\n",
       "    </tr>\n",
       "    <tr>\n",
       "      <th>Boise</th>\n",
       "      <td>-3,545,801.74</td>\n",
       "    </tr>\n",
       "    <tr>\n",
       "      <th>Syracuse</th>\n",
       "      <td>-2,684,990.36</td>\n",
       "    </tr>\n",
       "  </tbody>\n",
       "</table>\n",
       "</div>"
      ],
      "text/plain": [
       "                       Total_Volume\n",
       "Region                             \n",
       "West                -252,577,331.09\n",
       "SouthCentral        -234,118,906.29\n",
       "California          -233,903,219.27\n",
       "Northeast           -158,323,764.37\n",
       "Southeast           -136,452,781.32\n",
       "GreatLakes          -136,193,188.33\n",
       "LosAngeles          -120,428,796.65\n",
       "Midsouth            -117,240,159.09\n",
       "Plains               -72,251,958.45\n",
       "NewYork              -51,121,418.14\n",
       "Houston              -49,110,575.78\n",
       "DallasFtWorth        -48,069,237.38\n",
       "PhoenixTucson        -43,157,728.73\n",
       "WestTexNewMexico     -35,588,768.51\n",
       "Denver               -30,713,723.72\n",
       "Chicago              -29,366,522.74\n",
       "SanFrancisco         -28,888,243.62\n",
       "BaltimoreWashington  -28,856,731.46\n",
       "Portland             -28,501,663.45\n",
       "Seattle              -27,086,471.39\n",
       "Boston               -21,973,666.20\n",
       "MiamiFtLauderdale    -21,138,810.40\n",
       "Atlanta              -20,583,697.53\n",
       "SanDiego             -20,520,441.82\n",
       "Sacramento           -16,324,679.08\n",
       "NorthernNewEngland   -16,024,122.63\n",
       "Philadelphia         -15,704,007.93\n",
       "Detroit              -14,489,466.84\n",
       "SouthCarolina        -14,132,885.56\n",
       "Tampa                -13,908,082.10\n",
       "LasVegas             -12,940,201.18\n",
       "Orlando              -12,896,463.06\n",
       "CincinnatiDayton     -11,548,390.61\n",
       "RaleighGreensboro    -11,239,752.52\n",
       "HartfordSpringfield  -10,834,863.37\n",
       "NewOrleansMobile     -10,262,541.22\n",
       "RichmondNorfolk       -9,652,100.89\n",
       "Nashville             -9,426,291.48\n",
       "HarrisburgScranton    -9,242,506.14\n",
       "Charlotte             -8,309,700.80\n",
       "Columbus              -7,396,312.77\n",
       "Indianapolis          -7,092,526.30\n",
       "Jacksonville          -6,484,883.27\n",
       "StLouis               -6,450,462.51\n",
       "GrandRapids           -6,184,994.33\n",
       "BuffaloRochester      -5,616,487.71\n",
       "Roanoke               -5,594,841.91\n",
       "Pittsburgh            -4,947,108.94\n",
       "Spokane               -3,925,634.83\n",
       "Louisville            -3,788,548.43\n",
       "Albany                -3,689,595.61\n",
       "Boise                 -3,545,801.74\n",
       "Syracuse              -2,684,990.36"
      ]
     },
     "execution_count": 163,
     "metadata": {},
     "output_type": "execute_result"
    }
   ],
   "source": [
    "df_prod = df_avocado[df_avocado['Year']==2018].groupby(['Region'])[['Total_Volume']].sum() - df_avocado[df_avocado['Year']==2017].groupby(['Region'])[['Total_Volume']].sum()\n",
    "df_prod.sort_values(by = 'Total_Volume')"
   ]
  },
  {
   "cell_type": "code",
   "execution_count": 171,
   "id": "5c8b2bda",
   "metadata": {
    "cell_id": "c6667c2d-a680-4f1c-a3f1-a9a6420e2294",
    "deepnote_cell_type": "code",
    "deepnote_output_heights": [
     1
    ],
    "deepnote_to_be_reexecuted": false,
    "execution_millis": 3,
    "execution_start": 1643414549564,
    "source_hash": "a5faaaf",
    "tags": []
   },
   "outputs": [
    {
     "data": {
      "text/plain": [
       "Year\n",
       "2017    5616\n",
       "2018    1272\n",
       "dtype: int64"
      ]
     },
     "execution_count": 171,
     "metadata": {},
     "output_type": "execute_result"
    }
   ],
   "source": [
    "df_avocado[df_avocado['Year'].isin([2017,2018])][['Year']].value_counts()"
   ]
  },
  {
   "cell_type": "markdown",
   "id": "2b0c8154",
   "metadata": {
    "cell_id": "00024-c3e00329-9cd1-4253-957b-be647c6da9bc",
    "deepnote_cell_type": "markdown"
   },
   "source": [
    "(g) Qual cidade menos faturou com a venda de abacates?"
   ]
  },
  {
   "cell_type": "code",
   "execution_count": 173,
   "id": "8dc866ba",
   "metadata": {
    "cell_id": "00025-2609abff-4403-4852-8e16-add34dcd062d",
    "deepnote_cell_type": "code",
    "deepnote_to_be_reexecuted": false,
    "execution_millis": 7,
    "execution_start": 1643414740027,
    "source_hash": "40bef04e"
   },
   "outputs": [
    {
     "name": "stderr",
     "output_type": "stream",
     "text": [
      "/shared-libs/python3.7/py-core/lib/python3.7/site-packages/ipykernel_launcher.py:1: SettingWithCopyWarning: \n",
      "A value is trying to be set on a copy of a slice from a DataFrame.\n",
      "Try using .loc[row_indexer,col_indexer] = value instead\n",
      "\n",
      "See the caveats in the documentation: https://pandas.pydata.org/pandas-docs/stable/user_guide/indexing.html#returning-a-view-versus-a-copy\n",
      "  \"\"\"Entry point for launching an IPython kernel.\n"
     ]
    }
   ],
   "source": [
    "df_avocado['Faturamento'] = df_avocado['Average_Price']*df_avocado['Total_Volume']"
   ]
  },
  {
   "cell_type": "code",
   "execution_count": 177,
   "id": "1364c492",
   "metadata": {
    "cell_id": "7edb69bd-89d6-49c7-9d16-32a2ffb2b7fd",
    "deepnote_cell_type": "code",
    "deepnote_to_be_reexecuted": false,
    "execution_millis": 102,
    "execution_start": 1643414939786,
    "source_hash": "16fc41",
    "tags": []
   },
   "outputs": [
    {
     "data": {
      "application/vnd.deepnote.dataframe.v3+json": {
       "column_count": 7,
       "columns": [
        {
         "dtype": "object",
         "name": "Date",
         "stats": {
          "categories": [
           {
            "count": 1,
            "name": "2015-11-08"
           }
          ],
          "nan_count": 0,
          "unique_count": 1
         }
        },
        {
         "dtype": "float64",
         "name": "Average_Price",
         "stats": {
          "histogram": [
           {
            "bin_end": 1.19,
            "bin_start": 1.09,
            "count": 0
           },
           {
            "bin_end": 1.29,
            "bin_start": 1.19,
            "count": 0
           },
           {
            "bin_end": 1.3900000000000001,
            "bin_start": 1.29,
            "count": 0
           },
           {
            "bin_end": 1.49,
            "bin_start": 1.3900000000000001,
            "count": 0
           },
           {
            "bin_end": 1.5899999999999999,
            "bin_start": 1.49,
            "count": 0
           },
           {
            "bin_end": 1.69,
            "bin_start": 1.5899999999999999,
            "count": 1
           },
           {
            "bin_end": 1.79,
            "bin_start": 1.69,
            "count": 0
           },
           {
            "bin_end": 1.89,
            "bin_start": 1.79,
            "count": 0
           },
           {
            "bin_end": 1.9899999999999998,
            "bin_start": 1.89,
            "count": 0
           },
           {
            "bin_end": 2.09,
            "bin_start": 1.9899999999999998,
            "count": 0
           }
          ],
          "max": "1.59",
          "min": "1.59",
          "nan_count": 0,
          "unique_count": 1
         }
        },
        {
         "dtype": "float64",
         "name": "Total_Volume",
         "stats": {
          "histogram": [
           {
            "bin_end": 84.16,
            "bin_start": 84.06,
            "count": 0
           },
           {
            "bin_end": 84.26,
            "bin_start": 84.16,
            "count": 0
           },
           {
            "bin_end": 84.36,
            "bin_start": 84.26,
            "count": 0
           },
           {
            "bin_end": 84.46000000000001,
            "bin_start": 84.36,
            "count": 0
           },
           {
            "bin_end": 84.56,
            "bin_start": 84.46000000000001,
            "count": 0
           },
           {
            "bin_end": 84.66,
            "bin_start": 84.56,
            "count": 1
           },
           {
            "bin_end": 84.76,
            "bin_start": 84.66,
            "count": 0
           },
           {
            "bin_end": 84.86,
            "bin_start": 84.76,
            "count": 0
           },
           {
            "bin_end": 84.96000000000001,
            "bin_start": 84.86,
            "count": 0
           },
           {
            "bin_end": 85.06,
            "bin_start": 84.96000000000001,
            "count": 0
           }
          ],
          "max": "84.56",
          "min": "84.56",
          "nan_count": 0,
          "unique_count": 1
         }
        },
        {
         "dtype": "int64",
         "name": "Year",
         "stats": {
          "histogram": [
           {
            "bin_end": 2014.6,
            "bin_start": 2014.5,
            "count": 0
           },
           {
            "bin_end": 2014.7,
            "bin_start": 2014.6,
            "count": 0
           },
           {
            "bin_end": 2014.8,
            "bin_start": 2014.7,
            "count": 0
           },
           {
            "bin_end": 2014.9,
            "bin_start": 2014.8,
            "count": 0
           },
           {
            "bin_end": 2015,
            "bin_start": 2014.9,
            "count": 0
           },
           {
            "bin_end": 2015.1,
            "bin_start": 2015,
            "count": 1
           },
           {
            "bin_end": 2015.2,
            "bin_start": 2015.1,
            "count": 0
           },
           {
            "bin_end": 2015.3,
            "bin_start": 2015.2,
            "count": 0
           },
           {
            "bin_end": 2015.4,
            "bin_start": 2015.3,
            "count": 0
           },
           {
            "bin_end": 2015.5,
            "bin_start": 2015.4,
            "count": 0
           }
          ],
          "max": "2015",
          "min": "2015",
          "nan_count": 0,
          "unique_count": 1
         }
        },
        {
         "dtype": "object",
         "name": "Region",
         "stats": {
          "categories": [
           {
            "count": 1,
            "name": "MiamiFtLauderdale"
           }
          ],
          "nan_count": 0,
          "unique_count": 1
         }
        },
        {
         "dtype": "object",
         "name": "Type",
         "stats": {
          "categories": [
           {
            "count": 1,
            "name": "orgânico"
           }
          ],
          "nan_count": 0,
          "unique_count": 1
         }
        },
        {
         "dtype": "float64",
         "name": "Faturamento",
         "stats": {
          "histogram": [
           {
            "bin_end": 134.0504,
            "bin_start": 133.9504,
            "count": 0
           },
           {
            "bin_end": 134.1504,
            "bin_start": 134.0504,
            "count": 0
           },
           {
            "bin_end": 134.2504,
            "bin_start": 134.1504,
            "count": 0
           },
           {
            "bin_end": 134.3504,
            "bin_start": 134.2504,
            "count": 0
           },
           {
            "bin_end": 134.4504,
            "bin_start": 134.3504,
            "count": 0
           },
           {
            "bin_end": 134.5504,
            "bin_start": 134.4504,
            "count": 1
           },
           {
            "bin_end": 134.6504,
            "bin_start": 134.5504,
            "count": 0
           },
           {
            "bin_end": 134.7504,
            "bin_start": 134.6504,
            "count": 0
           },
           {
            "bin_end": 134.8504,
            "bin_start": 134.7504,
            "count": 0
           },
           {
            "bin_end": 134.9504,
            "bin_start": 134.8504,
            "count": 0
           }
          ],
          "max": "134.4504",
          "min": "134.4504",
          "nan_count": 0,
          "unique_count": 1
         }
        },
        {
         "dtype": "int64",
         "name": "_deepnote_index_column"
        }
       ],
       "row_count": 1,
       "rows": [
        {
         "Average_Price": 1.59,
         "Date": "2015-11-08",
         "Faturamento": 134.4504,
         "Region": "MiamiFtLauderdale",
         "Total_Volume": 84.56,
         "Type": "orgânico",
         "Year": 2015,
         "_deepnote_index_column": 10381
        }
       ]
      },
      "text/html": [
       "<div>\n",
       "<style scoped>\n",
       "    .dataframe tbody tr th:only-of-type {\n",
       "        vertical-align: middle;\n",
       "    }\n",
       "\n",
       "    .dataframe tbody tr th {\n",
       "        vertical-align: top;\n",
       "    }\n",
       "\n",
       "    .dataframe thead th {\n",
       "        text-align: right;\n",
       "    }\n",
       "</style>\n",
       "<table border=\"1\" class=\"dataframe\">\n",
       "  <thead>\n",
       "    <tr style=\"text-align: right;\">\n",
       "      <th></th>\n",
       "      <th>Date</th>\n",
       "      <th>Average_Price</th>\n",
       "      <th>Total_Volume</th>\n",
       "      <th>Year</th>\n",
       "      <th>Region</th>\n",
       "      <th>Type</th>\n",
       "      <th>Faturamento</th>\n",
       "    </tr>\n",
       "  </thead>\n",
       "  <tbody>\n",
       "    <tr>\n",
       "      <th>10381</th>\n",
       "      <td>2015-11-08</td>\n",
       "      <td>1.59</td>\n",
       "      <td>84.56</td>\n",
       "      <td>2015</td>\n",
       "      <td>MiamiFtLauderdale</td>\n",
       "      <td>orgânico</td>\n",
       "      <td>134.45</td>\n",
       "    </tr>\n",
       "  </tbody>\n",
       "</table>\n",
       "</div>"
      ],
      "text/plain": [
       "             Date  Average_Price  Total_Volume  Year             Region  \\\n",
       "10381  2015-11-08           1.59         84.56  2015  MiamiFtLauderdale   \n",
       "\n",
       "           Type  Faturamento  \n",
       "10381  orgânico       134.45  "
      ]
     },
     "execution_count": 177,
     "metadata": {},
     "output_type": "execute_result"
    }
   ],
   "source": [
    "df_avocado[df_avocado['Faturamento']==np.min(df_avocado['Faturamento'])]"
   ]
  },
  {
   "cell_type": "markdown",
   "id": "607512e2",
   "metadata": {
    "cell_id": "00026-64521b15-bdc3-4519-9eee-465187115541",
    "deepnote_cell_type": "markdown"
   },
   "source": [
    "### Problema 4\n",
    "\n",
    "Com base no dataset 'Video_Games_Sales.csv' responda:\n"
   ]
  },
  {
   "cell_type": "code",
   "execution_count": 184,
   "id": "c5b036e7",
   "metadata": {
    "cell_id": "a827a570-e1b6-4f70-b3d5-546488f17bf3",
    "deepnote_cell_type": "code",
    "deepnote_to_be_reexecuted": false,
    "execution_millis": 317,
    "execution_start": 1643415259815,
    "source_hash": "cbb4d8d5",
    "tags": []
   },
   "outputs": [
    {
     "data": {
      "application/vnd.deepnote.dataframe.v3+json": {
       "column_count": 16,
       "columns": [
        {
         "dtype": "object",
         "name": "Name",
         "stats": {
          "categories": [
           {
            "count": 12,
            "name": "Need for Speed: Most Wanted"
           },
           {
            "count": 16705,
            "name": "11561 others"
           },
           {
            "count": 2,
            "name": "Missing"
           }
          ],
          "nan_count": 2,
          "unique_count": 11562
         }
        },
        {
         "dtype": "object",
         "name": "Platform",
         "stats": {
          "categories": [
           {
            "count": 2161,
            "name": "PS2"
           },
           {
            "count": 2152,
            "name": "DS"
           },
           {
            "count": 12406,
            "name": "29 others"
           }
          ],
          "nan_count": 0,
          "unique_count": 31
         }
        },
        {
         "dtype": "float64",
         "name": "Year_of_Release",
         "stats": {
          "histogram": [
           {
            "bin_end": 1984,
            "bin_start": 1980,
            "count": 108
           },
           {
            "bin_end": 1988,
            "bin_start": 1984,
            "count": 65
           },
           {
            "bin_end": 1992,
            "bin_start": 1988,
            "count": 89
           },
           {
            "bin_end": 1996,
            "bin_start": 1992,
            "count": 445
           },
           {
            "bin_end": 2000,
            "bin_start": 1996,
            "count": 1269
           },
           {
            "bin_end": 2004,
            "bin_start": 2000,
            "count": 2436
           },
           {
            "bin_end": 2008,
            "bin_start": 2004,
            "count": 3904
           },
           {
            "bin_end": 2012,
            "bin_start": 2008,
            "count": 5244
           },
           {
            "bin_end": 2016,
            "bin_start": 2012,
            "count": 2384
           },
           {
            "bin_end": 2020,
            "bin_start": 2016,
            "count": 506
           }
          ],
          "max": "2020.0",
          "min": "1980.0",
          "nan_count": 269,
          "unique_count": 39
         }
        },
        {
         "dtype": "object",
         "name": "Genre",
         "stats": {
          "categories": [
           {
            "count": 3370,
            "name": "Action"
           },
           {
            "count": 13347,
            "name": "11 others"
           },
           {
            "count": 2,
            "name": "Missing"
           }
          ],
          "nan_count": 2,
          "unique_count": 12
         }
        },
        {
         "dtype": "object",
         "name": "Publisher",
         "stats": {
          "categories": [
           {
            "count": 1356,
            "name": "Electronic Arts"
           },
           {
            "count": 15309,
            "name": "580 others"
           },
           {
            "count": 54,
            "name": "Missing"
           }
          ],
          "nan_count": 54,
          "unique_count": 581
         }
        },
        {
         "dtype": "float64",
         "name": "NA_Sales"
        },
        {
         "dtype": "float64",
         "name": "EU_Sales"
        },
        {
         "dtype": "float64",
         "name": "JP_Sales"
        },
        {
         "dtype": "float64",
         "name": "Other_Sales"
        },
        {
         "dtype": "float64",
         "name": "Global_Sales"
        },
        {
         "dtype": "float64",
         "name": "Critic_Score"
        },
        {
         "dtype": "float64",
         "name": "Critic_Count"
        },
        {
         "dtype": "float64",
         "name": "User_Score"
        },
        {
         "dtype": "float64",
         "name": "User_Count"
        },
        {
         "dtype": "object",
         "name": "Developer"
        },
        {
         "dtype": "object",
         "name": "Rating"
        },
        {
         "dtype": "int64",
         "name": "_deepnote_index_column"
        }
       ],
       "row_count": 16719,
       "rows": [
        {
         "Critic_Count": 51,
         "Critic_Score": 76,
         "Developer": "Nintendo",
         "EU_Sales": 28.96,
         "Genre": "Sports",
         "Global_Sales": 82.53,
         "JP_Sales": 3.77,
         "NA_Sales": 41.36,
         "Name": "Wii Sports",
         "Other_Sales": 8.45,
         "Platform": "Wii",
         "Publisher": "Nintendo",
         "Rating": "E",
         "User_Count": 322,
         "User_Score": 8,
         "Year_of_Release": 2006,
         "_deepnote_index_column": 0
        },
        {
         "Critic_Count": "nan",
         "Critic_Score": "nan",
         "Developer": "nan",
         "EU_Sales": 3.58,
         "Genre": "Platform",
         "Global_Sales": 40.24,
         "JP_Sales": 6.81,
         "NA_Sales": 29.08,
         "Name": "Super Mario Bros.",
         "Other_Sales": 0.77,
         "Platform": "NES",
         "Publisher": "Nintendo",
         "Rating": "nan",
         "User_Count": "nan",
         "User_Score": "nan",
         "Year_of_Release": 1985,
         "_deepnote_index_column": 1
        },
        {
         "Critic_Count": 73,
         "Critic_Score": 82,
         "Developer": "Nintendo",
         "EU_Sales": 12.76,
         "Genre": "Racing",
         "Global_Sales": 35.52,
         "JP_Sales": 3.79,
         "NA_Sales": 15.68,
         "Name": "Mario Kart Wii",
         "Other_Sales": 3.29,
         "Platform": "Wii",
         "Publisher": "Nintendo",
         "Rating": "E",
         "User_Count": 709,
         "User_Score": 8.3,
         "Year_of_Release": 2008,
         "_deepnote_index_column": 2
        },
        {
         "Critic_Count": 73,
         "Critic_Score": 80,
         "Developer": "Nintendo",
         "EU_Sales": 10.93,
         "Genre": "Sports",
         "Global_Sales": 32.77,
         "JP_Sales": 3.28,
         "NA_Sales": 15.61,
         "Name": "Wii Sports Resort",
         "Other_Sales": 2.95,
         "Platform": "Wii",
         "Publisher": "Nintendo",
         "Rating": "E",
         "User_Count": 192,
         "User_Score": 8,
         "Year_of_Release": 2009,
         "_deepnote_index_column": 3
        },
        {
         "Critic_Count": "nan",
         "Critic_Score": "nan",
         "Developer": "nan",
         "EU_Sales": 8.89,
         "Genre": "Role-Playing",
         "Global_Sales": 31.37,
         "JP_Sales": 10.22,
         "NA_Sales": 11.27,
         "Name": "Pokemon Red/Pokemon Blue",
         "Other_Sales": 1,
         "Platform": "GB",
         "Publisher": "Nintendo",
         "Rating": "nan",
         "User_Count": "nan",
         "User_Score": "nan",
         "Year_of_Release": 1996,
         "_deepnote_index_column": 4
        },
        {
         "Critic_Count": "nan",
         "Critic_Score": "nan",
         "Developer": "nan",
         "EU_Sales": 2.26,
         "Genre": "Puzzle",
         "Global_Sales": 30.26,
         "JP_Sales": 4.22,
         "NA_Sales": 23.2,
         "Name": "Tetris",
         "Other_Sales": 0.58,
         "Platform": "GB",
         "Publisher": "Nintendo",
         "Rating": "nan",
         "User_Count": "nan",
         "User_Score": "nan",
         "Year_of_Release": 1989,
         "_deepnote_index_column": 5
        },
        {
         "Critic_Count": 65,
         "Critic_Score": 89,
         "Developer": "Nintendo",
         "EU_Sales": 9.14,
         "Genre": "Platform",
         "Global_Sales": 29.8,
         "JP_Sales": 6.5,
         "NA_Sales": 11.28,
         "Name": "New Super Mario Bros.",
         "Other_Sales": 2.88,
         "Platform": "DS",
         "Publisher": "Nintendo",
         "Rating": "E",
         "User_Count": 431,
         "User_Score": 8.5,
         "Year_of_Release": 2006,
         "_deepnote_index_column": 6
        },
        {
         "Critic_Count": 41,
         "Critic_Score": 58,
         "Developer": "Nintendo",
         "EU_Sales": 9.18,
         "Genre": "Misc",
         "Global_Sales": 28.92,
         "JP_Sales": 2.93,
         "NA_Sales": 13.96,
         "Name": "Wii Play",
         "Other_Sales": 2.84,
         "Platform": "Wii",
         "Publisher": "Nintendo",
         "Rating": "E",
         "User_Count": 129,
         "User_Score": 6.6,
         "Year_of_Release": 2006,
         "_deepnote_index_column": 7
        },
        {
         "Critic_Count": 80,
         "Critic_Score": 87,
         "Developer": "Nintendo",
         "EU_Sales": 6.94,
         "Genre": "Platform",
         "Global_Sales": 28.32,
         "JP_Sales": 4.7,
         "NA_Sales": 14.44,
         "Name": "New Super Mario Bros. Wii",
         "Other_Sales": 2.24,
         "Platform": "Wii",
         "Publisher": "Nintendo",
         "Rating": "E",
         "User_Count": 594,
         "User_Score": 8.4,
         "Year_of_Release": 2009,
         "_deepnote_index_column": 8
        },
        {
         "Critic_Count": "nan",
         "Critic_Score": "nan",
         "Developer": "nan",
         "EU_Sales": 0.63,
         "Genre": "Shooter",
         "Global_Sales": 28.31,
         "JP_Sales": 0.28,
         "NA_Sales": 26.93,
         "Name": "Duck Hunt",
         "Other_Sales": 0.47,
         "Platform": "NES",
         "Publisher": "Nintendo",
         "Rating": "nan",
         "User_Count": "nan",
         "User_Score": "nan",
         "Year_of_Release": 1984,
         "_deepnote_index_column": 9
        }
       ]
      },
      "text/html": [
       "<div>\n",
       "<style scoped>\n",
       "    .dataframe tbody tr th:only-of-type {\n",
       "        vertical-align: middle;\n",
       "    }\n",
       "\n",
       "    .dataframe tbody tr th {\n",
       "        vertical-align: top;\n",
       "    }\n",
       "\n",
       "    .dataframe thead th {\n",
       "        text-align: right;\n",
       "    }\n",
       "</style>\n",
       "<table border=\"1\" class=\"dataframe\">\n",
       "  <thead>\n",
       "    <tr style=\"text-align: right;\">\n",
       "      <th></th>\n",
       "      <th>Name</th>\n",
       "      <th>Platform</th>\n",
       "      <th>Year_of_Release</th>\n",
       "      <th>Genre</th>\n",
       "      <th>Publisher</th>\n",
       "      <th>NA_Sales</th>\n",
       "      <th>EU_Sales</th>\n",
       "      <th>JP_Sales</th>\n",
       "      <th>Other_Sales</th>\n",
       "      <th>Global_Sales</th>\n",
       "      <th>Critic_Score</th>\n",
       "      <th>Critic_Count</th>\n",
       "      <th>User_Score</th>\n",
       "      <th>User_Count</th>\n",
       "      <th>Developer</th>\n",
       "      <th>Rating</th>\n",
       "    </tr>\n",
       "  </thead>\n",
       "  <tbody>\n",
       "    <tr>\n",
       "      <th>0</th>\n",
       "      <td>Wii Sports</td>\n",
       "      <td>Wii</td>\n",
       "      <td>2,006.00</td>\n",
       "      <td>Sports</td>\n",
       "      <td>Nintendo</td>\n",
       "      <td>41.36</td>\n",
       "      <td>28.96</td>\n",
       "      <td>3.77</td>\n",
       "      <td>8.45</td>\n",
       "      <td>82.53</td>\n",
       "      <td>76.00</td>\n",
       "      <td>51.00</td>\n",
       "      <td>8.00</td>\n",
       "      <td>322.00</td>\n",
       "      <td>Nintendo</td>\n",
       "      <td>E</td>\n",
       "    </tr>\n",
       "    <tr>\n",
       "      <th>1</th>\n",
       "      <td>Super Mario Bros.</td>\n",
       "      <td>NES</td>\n",
       "      <td>1,985.00</td>\n",
       "      <td>Platform</td>\n",
       "      <td>Nintendo</td>\n",
       "      <td>29.08</td>\n",
       "      <td>3.58</td>\n",
       "      <td>6.81</td>\n",
       "      <td>0.77</td>\n",
       "      <td>40.24</td>\n",
       "      <td>NaN</td>\n",
       "      <td>NaN</td>\n",
       "      <td>NaN</td>\n",
       "      <td>NaN</td>\n",
       "      <td>NaN</td>\n",
       "      <td>NaN</td>\n",
       "    </tr>\n",
       "    <tr>\n",
       "      <th>2</th>\n",
       "      <td>Mario Kart Wii</td>\n",
       "      <td>Wii</td>\n",
       "      <td>2,008.00</td>\n",
       "      <td>Racing</td>\n",
       "      <td>Nintendo</td>\n",
       "      <td>15.68</td>\n",
       "      <td>12.76</td>\n",
       "      <td>3.79</td>\n",
       "      <td>3.29</td>\n",
       "      <td>35.52</td>\n",
       "      <td>82.00</td>\n",
       "      <td>73.00</td>\n",
       "      <td>8.30</td>\n",
       "      <td>709.00</td>\n",
       "      <td>Nintendo</td>\n",
       "      <td>E</td>\n",
       "    </tr>\n",
       "    <tr>\n",
       "      <th>3</th>\n",
       "      <td>Wii Sports Resort</td>\n",
       "      <td>Wii</td>\n",
       "      <td>2,009.00</td>\n",
       "      <td>Sports</td>\n",
       "      <td>Nintendo</td>\n",
       "      <td>15.61</td>\n",
       "      <td>10.93</td>\n",
       "      <td>3.28</td>\n",
       "      <td>2.95</td>\n",
       "      <td>32.77</td>\n",
       "      <td>80.00</td>\n",
       "      <td>73.00</td>\n",
       "      <td>8.00</td>\n",
       "      <td>192.00</td>\n",
       "      <td>Nintendo</td>\n",
       "      <td>E</td>\n",
       "    </tr>\n",
       "    <tr>\n",
       "      <th>4</th>\n",
       "      <td>Pokemon Red/Pokemon Blue</td>\n",
       "      <td>GB</td>\n",
       "      <td>1,996.00</td>\n",
       "      <td>Role-Playing</td>\n",
       "      <td>Nintendo</td>\n",
       "      <td>11.27</td>\n",
       "      <td>8.89</td>\n",
       "      <td>10.22</td>\n",
       "      <td>1.00</td>\n",
       "      <td>31.37</td>\n",
       "      <td>NaN</td>\n",
       "      <td>NaN</td>\n",
       "      <td>NaN</td>\n",
       "      <td>NaN</td>\n",
       "      <td>NaN</td>\n",
       "      <td>NaN</td>\n",
       "    </tr>\n",
       "    <tr>\n",
       "      <th>...</th>\n",
       "      <td>...</td>\n",
       "      <td>...</td>\n",
       "      <td>...</td>\n",
       "      <td>...</td>\n",
       "      <td>...</td>\n",
       "      <td>...</td>\n",
       "      <td>...</td>\n",
       "      <td>...</td>\n",
       "      <td>...</td>\n",
       "      <td>...</td>\n",
       "      <td>...</td>\n",
       "      <td>...</td>\n",
       "      <td>...</td>\n",
       "      <td>...</td>\n",
       "      <td>...</td>\n",
       "      <td>...</td>\n",
       "    </tr>\n",
       "    <tr>\n",
       "      <th>16714</th>\n",
       "      <td>Samurai Warriors: Sanada Maru</td>\n",
       "      <td>PS3</td>\n",
       "      <td>2,016.00</td>\n",
       "      <td>Action</td>\n",
       "      <td>Tecmo Koei</td>\n",
       "      <td>0.00</td>\n",
       "      <td>0.00</td>\n",
       "      <td>0.01</td>\n",
       "      <td>0.00</td>\n",
       "      <td>0.01</td>\n",
       "      <td>NaN</td>\n",
       "      <td>NaN</td>\n",
       "      <td>NaN</td>\n",
       "      <td>NaN</td>\n",
       "      <td>NaN</td>\n",
       "      <td>NaN</td>\n",
       "    </tr>\n",
       "    <tr>\n",
       "      <th>16715</th>\n",
       "      <td>LMA Manager 2007</td>\n",
       "      <td>X360</td>\n",
       "      <td>2,006.00</td>\n",
       "      <td>Sports</td>\n",
       "      <td>Codemasters</td>\n",
       "      <td>0.00</td>\n",
       "      <td>0.01</td>\n",
       "      <td>0.00</td>\n",
       "      <td>0.00</td>\n",
       "      <td>0.01</td>\n",
       "      <td>NaN</td>\n",
       "      <td>NaN</td>\n",
       "      <td>NaN</td>\n",
       "      <td>NaN</td>\n",
       "      <td>NaN</td>\n",
       "      <td>NaN</td>\n",
       "    </tr>\n",
       "    <tr>\n",
       "      <th>16716</th>\n",
       "      <td>Haitaka no Psychedelica</td>\n",
       "      <td>PSV</td>\n",
       "      <td>2,016.00</td>\n",
       "      <td>Adventure</td>\n",
       "      <td>Idea Factory</td>\n",
       "      <td>0.00</td>\n",
       "      <td>0.00</td>\n",
       "      <td>0.01</td>\n",
       "      <td>0.00</td>\n",
       "      <td>0.01</td>\n",
       "      <td>NaN</td>\n",
       "      <td>NaN</td>\n",
       "      <td>NaN</td>\n",
       "      <td>NaN</td>\n",
       "      <td>NaN</td>\n",
       "      <td>NaN</td>\n",
       "    </tr>\n",
       "    <tr>\n",
       "      <th>16717</th>\n",
       "      <td>Spirits &amp; Spells</td>\n",
       "      <td>GBA</td>\n",
       "      <td>2,003.00</td>\n",
       "      <td>Platform</td>\n",
       "      <td>Wanadoo</td>\n",
       "      <td>0.01</td>\n",
       "      <td>0.00</td>\n",
       "      <td>0.00</td>\n",
       "      <td>0.00</td>\n",
       "      <td>0.01</td>\n",
       "      <td>NaN</td>\n",
       "      <td>NaN</td>\n",
       "      <td>NaN</td>\n",
       "      <td>NaN</td>\n",
       "      <td>NaN</td>\n",
       "      <td>NaN</td>\n",
       "    </tr>\n",
       "    <tr>\n",
       "      <th>16718</th>\n",
       "      <td>Winning Post 8 2016</td>\n",
       "      <td>PSV</td>\n",
       "      <td>2,016.00</td>\n",
       "      <td>Simulation</td>\n",
       "      <td>Tecmo Koei</td>\n",
       "      <td>0.00</td>\n",
       "      <td>0.00</td>\n",
       "      <td>0.01</td>\n",
       "      <td>0.00</td>\n",
       "      <td>0.01</td>\n",
       "      <td>NaN</td>\n",
       "      <td>NaN</td>\n",
       "      <td>NaN</td>\n",
       "      <td>NaN</td>\n",
       "      <td>NaN</td>\n",
       "      <td>NaN</td>\n",
       "    </tr>\n",
       "  </tbody>\n",
       "</table>\n",
       "<p>16719 rows × 16 columns</p>\n",
       "</div>"
      ],
      "text/plain": [
       "                                Name Platform  Year_of_Release         Genre  \\\n",
       "0                         Wii Sports      Wii         2,006.00        Sports   \n",
       "1                  Super Mario Bros.      NES         1,985.00      Platform   \n",
       "2                     Mario Kart Wii      Wii         2,008.00        Racing   \n",
       "3                  Wii Sports Resort      Wii         2,009.00        Sports   \n",
       "4           Pokemon Red/Pokemon Blue       GB         1,996.00  Role-Playing   \n",
       "...                              ...      ...              ...           ...   \n",
       "16714  Samurai Warriors: Sanada Maru      PS3         2,016.00        Action   \n",
       "16715               LMA Manager 2007     X360         2,006.00        Sports   \n",
       "16716        Haitaka no Psychedelica      PSV         2,016.00     Adventure   \n",
       "16717               Spirits & Spells      GBA         2,003.00      Platform   \n",
       "16718            Winning Post 8 2016      PSV         2,016.00    Simulation   \n",
       "\n",
       "          Publisher  NA_Sales  EU_Sales  JP_Sales  Other_Sales  Global_Sales  \\\n",
       "0          Nintendo     41.36     28.96      3.77         8.45         82.53   \n",
       "1          Nintendo     29.08      3.58      6.81         0.77         40.24   \n",
       "2          Nintendo     15.68     12.76      3.79         3.29         35.52   \n",
       "3          Nintendo     15.61     10.93      3.28         2.95         32.77   \n",
       "4          Nintendo     11.27      8.89     10.22         1.00         31.37   \n",
       "...             ...       ...       ...       ...          ...           ...   \n",
       "16714    Tecmo Koei      0.00      0.00      0.01         0.00          0.01   \n",
       "16715   Codemasters      0.00      0.01      0.00         0.00          0.01   \n",
       "16716  Idea Factory      0.00      0.00      0.01         0.00          0.01   \n",
       "16717       Wanadoo      0.01      0.00      0.00         0.00          0.01   \n",
       "16718    Tecmo Koei      0.00      0.00      0.01         0.00          0.01   \n",
       "\n",
       "       Critic_Score  Critic_Count  User_Score  User_Count Developer Rating  \n",
       "0             76.00         51.00        8.00      322.00  Nintendo      E  \n",
       "1               NaN           NaN         NaN         NaN       NaN    NaN  \n",
       "2             82.00         73.00        8.30      709.00  Nintendo      E  \n",
       "3             80.00         73.00        8.00      192.00  Nintendo      E  \n",
       "4               NaN           NaN         NaN         NaN       NaN    NaN  \n",
       "...             ...           ...         ...         ...       ...    ...  \n",
       "16714           NaN           NaN         NaN         NaN       NaN    NaN  \n",
       "16715           NaN           NaN         NaN         NaN       NaN    NaN  \n",
       "16716           NaN           NaN         NaN         NaN       NaN    NaN  \n",
       "16717           NaN           NaN         NaN         NaN       NaN    NaN  \n",
       "16718           NaN           NaN         NaN         NaN       NaN    NaN  \n",
       "\n",
       "[16719 rows x 16 columns]"
      ]
     },
     "execution_count": 184,
     "metadata": {},
     "output_type": "execute_result"
    }
   ],
   "source": [
    "df_video = pd.read_csv(\"./data/Video_Games_Sales.csv\", encoding='UTF8', sep = ';')\n",
    "df_video"
   ]
  },
  {
   "cell_type": "markdown",
   "id": "c363579a",
   "metadata": {
    "cell_id": "00027-f032e4d3-a4d9-469e-bb29-71f27601a76d",
    "deepnote_cell_type": "markdown"
   },
   "source": [
    "\n",
    "(a) Quantos jogos existem em cada genero?\n"
   ]
  },
  {
   "cell_type": "code",
   "execution_count": 185,
   "id": "2c101561",
   "metadata": {
    "cell_id": "00028-2e7cbf09-c2f0-4cab-a598-e00d6c6311a4",
    "deepnote_cell_type": "code",
    "deepnote_output_heights": [
     606.703125
    ],
    "deepnote_to_be_reexecuted": false,
    "execution_millis": 24,
    "execution_start": 1643415328133,
    "source_hash": "fc60525f"
   },
   "outputs": [
    {
     "data": {
      "application/vnd.deepnote.dataframe.v3+json": {
       "column_count": 1,
       "columns": [
        {
         "dtype": "int64",
         "name": "Name",
         "stats": {
          "histogram": [
           {
            "bin_end": 859,
            "bin_start": 580,
            "count": 3
           },
           {
            "bin_end": 1138,
            "bin_start": 859,
            "count": 2
           },
           {
            "bin_end": 1417,
            "bin_start": 1138,
            "count": 3
           },
           {
            "bin_end": 1696,
            "bin_start": 1417,
            "count": 1
           },
           {
            "bin_end": 1975,
            "bin_start": 1696,
            "count": 1
           },
           {
            "bin_end": 2254,
            "bin_start": 1975,
            "count": 0
           },
           {
            "bin_end": 2533,
            "bin_start": 2254,
            "count": 1
           },
           {
            "bin_end": 2812,
            "bin_start": 2533,
            "count": 0
           },
           {
            "bin_end": 3091,
            "bin_start": 2812,
            "count": 0
           },
           {
            "bin_end": 3370,
            "bin_start": 3091,
            "count": 1
           }
          ],
          "max": "3370",
          "min": "580",
          "nan_count": 0,
          "unique_count": 12
         }
        },
        {
         "dtype": "object",
         "name": "_deepnote_index_column"
        }
       ],
       "row_count": 12,
       "rows": [
        {
         "Name": 3370,
         "_deepnote_index_column": "Action"
        },
        {
         "Name": 1303,
         "_deepnote_index_column": "Adventure"
        },
        {
         "Name": 849,
         "_deepnote_index_column": "Fighting"
        },
        {
         "Name": 1750,
         "_deepnote_index_column": "Misc"
        },
        {
         "Name": 888,
         "_deepnote_index_column": "Platform"
        },
        {
         "Name": 580,
         "_deepnote_index_column": "Puzzle"
        },
        {
         "Name": 1249,
         "_deepnote_index_column": "Racing"
        },
        {
         "Name": 1500,
         "_deepnote_index_column": "Role-Playing"
        },
        {
         "Name": 1323,
         "_deepnote_index_column": "Shooter"
        },
        {
         "Name": 874,
         "_deepnote_index_column": "Simulation"
        }
       ]
      },
      "text/html": [
       "<div>\n",
       "<style scoped>\n",
       "    .dataframe tbody tr th:only-of-type {\n",
       "        vertical-align: middle;\n",
       "    }\n",
       "\n",
       "    .dataframe tbody tr th {\n",
       "        vertical-align: top;\n",
       "    }\n",
       "\n",
       "    .dataframe thead th {\n",
       "        text-align: right;\n",
       "    }\n",
       "</style>\n",
       "<table border=\"1\" class=\"dataframe\">\n",
       "  <thead>\n",
       "    <tr style=\"text-align: right;\">\n",
       "      <th></th>\n",
       "      <th>Name</th>\n",
       "    </tr>\n",
       "    <tr>\n",
       "      <th>Genre</th>\n",
       "      <th></th>\n",
       "    </tr>\n",
       "  </thead>\n",
       "  <tbody>\n",
       "    <tr>\n",
       "      <th>Action</th>\n",
       "      <td>3370</td>\n",
       "    </tr>\n",
       "    <tr>\n",
       "      <th>Adventure</th>\n",
       "      <td>1303</td>\n",
       "    </tr>\n",
       "    <tr>\n",
       "      <th>Fighting</th>\n",
       "      <td>849</td>\n",
       "    </tr>\n",
       "    <tr>\n",
       "      <th>Misc</th>\n",
       "      <td>1750</td>\n",
       "    </tr>\n",
       "    <tr>\n",
       "      <th>Platform</th>\n",
       "      <td>888</td>\n",
       "    </tr>\n",
       "    <tr>\n",
       "      <th>Puzzle</th>\n",
       "      <td>580</td>\n",
       "    </tr>\n",
       "    <tr>\n",
       "      <th>Racing</th>\n",
       "      <td>1249</td>\n",
       "    </tr>\n",
       "    <tr>\n",
       "      <th>Role-Playing</th>\n",
       "      <td>1500</td>\n",
       "    </tr>\n",
       "    <tr>\n",
       "      <th>Shooter</th>\n",
       "      <td>1323</td>\n",
       "    </tr>\n",
       "    <tr>\n",
       "      <th>Simulation</th>\n",
       "      <td>874</td>\n",
       "    </tr>\n",
       "    <tr>\n",
       "      <th>Sports</th>\n",
       "      <td>2348</td>\n",
       "    </tr>\n",
       "    <tr>\n",
       "      <th>Strategy</th>\n",
       "      <td>683</td>\n",
       "    </tr>\n",
       "  </tbody>\n",
       "</table>\n",
       "</div>"
      ],
      "text/plain": [
       "              Name\n",
       "Genre             \n",
       "Action        3370\n",
       "Adventure     1303\n",
       "Fighting       849\n",
       "Misc          1750\n",
       "Platform       888\n",
       "Puzzle         580\n",
       "Racing        1249\n",
       "Role-Playing  1500\n",
       "Shooter       1323\n",
       "Simulation     874\n",
       "Sports        2348\n",
       "Strategy       683"
      ]
     },
     "execution_count": 185,
     "metadata": {},
     "output_type": "execute_result"
    }
   ],
   "source": [
    "df_video.groupby('Genre').agg({\"Name\":\"count\"})"
   ]
  },
  {
   "cell_type": "markdown",
   "id": "8da3d04d",
   "metadata": {
    "cell_id": "00029-843aec5e-ccbb-4b3b-8c76-b601ec034bb1",
    "deepnote_cell_type": "markdown"
   },
   "source": [
    "(b) Temos duplicados nesses dados? E nulos?"
   ]
  },
  {
   "cell_type": "code",
   "execution_count": 182,
   "id": "e0d6cfce",
   "metadata": {
    "cell_id": "00030-75481da2-2b21-4954-b39b-be711a173f86",
    "deepnote_cell_type": "code",
    "deepnote_output_heights": [
     21.1875
    ],
    "deepnote_to_be_reexecuted": false,
    "execution_millis": 23,
    "execution_start": 1643415197878,
    "source_hash": "37a542b8"
   },
   "outputs": [
    {
     "data": {
      "text/plain": [
       "0"
      ]
     },
     "execution_count": 182,
     "metadata": {},
     "output_type": "execute_result"
    }
   ],
   "source": [
    "df_video.duplicated().sum()"
   ]
  },
  {
   "cell_type": "code",
   "execution_count": 183,
   "id": "346cffd6",
   "metadata": {
    "cell_id": "bafbf9aa-235f-4844-8e81-17e8462c44bf",
    "deepnote_cell_type": "code",
    "deepnote_output_heights": [
     328.390625
    ],
    "deepnote_to_be_reexecuted": false,
    "execution_millis": 11,
    "execution_start": 1643415250268,
    "source_hash": "3b86a9ea",
    "tags": []
   },
   "outputs": [
    {
     "data": {
      "text/plain": [
       "Name                  2\n",
       "Platform              0\n",
       "Year_of_Release     269\n",
       "Genre                 2\n",
       "Publisher            54\n",
       "NA_Sales              0\n",
       "EU_Sales              0\n",
       "JP_Sales              0\n",
       "Other_Sales           0\n",
       "Global_Sales          0\n",
       "Critic_Score       8582\n",
       "Critic_Count       8582\n",
       "User_Score         9129\n",
       "User_Count         9129\n",
       "Developer          6623\n",
       "Rating             6769\n",
       "dtype: int64"
      ]
     },
     "execution_count": 183,
     "metadata": {},
     "output_type": "execute_result"
    }
   ],
   "source": [
    "df_video.isnull().sum()"
   ]
  },
  {
   "cell_type": "markdown",
   "id": "8efb7af9",
   "metadata": {
    "cell_id": "00031-f4e9bca5-c4c5-4401-8e67-736b34703287",
    "deepnote_cell_type": "markdown"
   },
   "source": [
    "(b) Quantos jogos de cada publisher receberam nota acima de 9 na avaliação dos usuarios?"
   ]
  },
  {
   "cell_type": "code",
   "execution_count": 194,
   "id": "a55f261a",
   "metadata": {
    "cell_id": "00032-74591dee-797a-4f9b-87e0-f09649dd5f4a",
    "deepnote_cell_type": "code",
    "deepnote_output_heights": [
     610.984375
    ],
    "deepnote_to_be_reexecuted": false,
    "execution_millis": 27,
    "execution_start": 1643416008331,
    "source_hash": "4fd59614"
   },
   "outputs": [
    {
     "data": {
      "application/vnd.deepnote.dataframe.v3+json": {
       "column_count": 1,
       "columns": [
        {
         "dtype": "int64",
         "name": "Qty",
         "stats": {
          "histogram": [
           {
            "bin_end": 2.9,
            "bin_start": 1,
            "count": 28
           },
           {
            "bin_end": 4.8,
            "bin_start": 2.9,
            "count": 2
           },
           {
            "bin_end": 6.699999999999999,
            "bin_start": 4.8,
            "count": 4
           },
           {
            "bin_end": 8.6,
            "bin_start": 6.699999999999999,
            "count": 4
           },
           {
            "bin_end": 10.5,
            "bin_start": 8.6,
            "count": 4
           },
           {
            "bin_end": 12.399999999999999,
            "bin_start": 10.5,
            "count": 0
           },
           {
            "bin_end": 14.299999999999999,
            "bin_start": 12.399999999999999,
            "count": 0
           },
           {
            "bin_end": 16.2,
            "bin_start": 14.299999999999999,
            "count": 1
           },
           {
            "bin_end": 18.099999999999998,
            "bin_start": 16.2,
            "count": 0
           },
           {
            "bin_end": 20,
            "bin_start": 18.099999999999998,
            "count": 2
           }
          ],
          "max": "20",
          "min": "1",
          "nan_count": 0,
          "unique_count": 13
         }
        },
        {
         "dtype": "object",
         "name": "_deepnote_index_column"
        }
       ],
       "row_count": 45,
       "rows": [
        {
         "Qty": 20,
         "_deepnote_index_column": "Nintendo"
        },
        {
         "Qty": 19,
         "_deepnote_index_column": "Electronic Arts"
        },
        {
         "Qty": 16,
         "_deepnote_index_column": "Activision"
        },
        {
         "Qty": 10,
         "_deepnote_index_column": "Konami Digital Entertainment"
        },
        {
         "Qty": 10,
         "_deepnote_index_column": "THQ"
        },
        {
         "Qty": 9,
         "_deepnote_index_column": "Tecmo Koei"
        },
        {
         "Qty": 9,
         "_deepnote_index_column": "Capcom"
        },
        {
         "Qty": 8,
         "_deepnote_index_column": "Vivendi Games"
        },
        {
         "Qty": 7,
         "_deepnote_index_column": "Atari"
        },
        {
         "Qty": 7,
         "_deepnote_index_column": "Sony Computer Entertainment"
        }
       ]
      },
      "text/html": [
       "<div>\n",
       "<style scoped>\n",
       "    .dataframe tbody tr th:only-of-type {\n",
       "        vertical-align: middle;\n",
       "    }\n",
       "\n",
       "    .dataframe tbody tr th {\n",
       "        vertical-align: top;\n",
       "    }\n",
       "\n",
       "    .dataframe thead th {\n",
       "        text-align: right;\n",
       "    }\n",
       "</style>\n",
       "<table border=\"1\" class=\"dataframe\">\n",
       "  <thead>\n",
       "    <tr style=\"text-align: right;\">\n",
       "      <th></th>\n",
       "      <th>Qty</th>\n",
       "    </tr>\n",
       "    <tr>\n",
       "      <th>Publisher</th>\n",
       "      <th></th>\n",
       "    </tr>\n",
       "  </thead>\n",
       "  <tbody>\n",
       "    <tr>\n",
       "      <th>Nintendo</th>\n",
       "      <td>20</td>\n",
       "    </tr>\n",
       "    <tr>\n",
       "      <th>Electronic Arts</th>\n",
       "      <td>19</td>\n",
       "    </tr>\n",
       "    <tr>\n",
       "      <th>Activision</th>\n",
       "      <td>16</td>\n",
       "    </tr>\n",
       "    <tr>\n",
       "      <th>Konami Digital Entertainment</th>\n",
       "      <td>10</td>\n",
       "    </tr>\n",
       "    <tr>\n",
       "      <th>THQ</th>\n",
       "      <td>10</td>\n",
       "    </tr>\n",
       "    <tr>\n",
       "      <th>Tecmo Koei</th>\n",
       "      <td>9</td>\n",
       "    </tr>\n",
       "    <tr>\n",
       "      <th>Capcom</th>\n",
       "      <td>9</td>\n",
       "    </tr>\n",
       "    <tr>\n",
       "      <th>Vivendi Games</th>\n",
       "      <td>8</td>\n",
       "    </tr>\n",
       "    <tr>\n",
       "      <th>Atari</th>\n",
       "      <td>7</td>\n",
       "    </tr>\n",
       "    <tr>\n",
       "      <th>Sony Computer Entertainment</th>\n",
       "      <td>7</td>\n",
       "    </tr>\n",
       "    <tr>\n",
       "      <th>Sega</th>\n",
       "      <td>7</td>\n",
       "    </tr>\n",
       "    <tr>\n",
       "      <th>Namco Bandai Games</th>\n",
       "      <td>6</td>\n",
       "    </tr>\n",
       "    <tr>\n",
       "      <th>Ubisoft</th>\n",
       "      <td>5</td>\n",
       "    </tr>\n",
       "    <tr>\n",
       "      <th>Midway Games</th>\n",
       "      <td>5</td>\n",
       "    </tr>\n",
       "    <tr>\n",
       "      <th>Eidos Interactive</th>\n",
       "      <td>5</td>\n",
       "    </tr>\n",
       "    <tr>\n",
       "      <th>Take-Two Interactive</th>\n",
       "      <td>4</td>\n",
       "    </tr>\n",
       "    <tr>\n",
       "      <th>Sony Computer Entertainment Europe</th>\n",
       "      <td>3</td>\n",
       "    </tr>\n",
       "    <tr>\n",
       "      <th>PQube</th>\n",
       "      <td>2</td>\n",
       "    </tr>\n",
       "    <tr>\n",
       "      <th>Acclaim Entertainment</th>\n",
       "      <td>2</td>\n",
       "    </tr>\n",
       "    <tr>\n",
       "      <th>Microsoft Game Studios</th>\n",
       "      <td>2</td>\n",
       "    </tr>\n",
       "    <tr>\n",
       "      <th>Marvelous Interactive</th>\n",
       "      <td>2</td>\n",
       "    </tr>\n",
       "    <tr>\n",
       "      <th>Zoo Digital Publishing</th>\n",
       "      <td>2</td>\n",
       "    </tr>\n",
       "    <tr>\n",
       "      <th>Atlus</th>\n",
       "      <td>2</td>\n",
       "    </tr>\n",
       "    <tr>\n",
       "      <th>LucasArts</th>\n",
       "      <td>1</td>\n",
       "    </tr>\n",
       "    <tr>\n",
       "      <th>Sting</th>\n",
       "      <td>1</td>\n",
       "    </tr>\n",
       "    <tr>\n",
       "      <th>Activision Value</th>\n",
       "      <td>1</td>\n",
       "    </tr>\n",
       "    <tr>\n",
       "      <th>Virgin Interactive</th>\n",
       "      <td>1</td>\n",
       "    </tr>\n",
       "    <tr>\n",
       "      <th>ValuSoft</th>\n",
       "      <td>1</td>\n",
       "    </tr>\n",
       "    <tr>\n",
       "      <th>Telegames</th>\n",
       "      <td>1</td>\n",
       "    </tr>\n",
       "    <tr>\n",
       "      <th>Bethesda Softworks</th>\n",
       "      <td>1</td>\n",
       "    </tr>\n",
       "    <tr>\n",
       "      <th>Codemasters</th>\n",
       "      <td>1</td>\n",
       "    </tr>\n",
       "    <tr>\n",
       "      <th>Destination Software, Inc</th>\n",
       "      <td>1</td>\n",
       "    </tr>\n",
       "    <tr>\n",
       "      <th>Sunflowers</th>\n",
       "      <td>1</td>\n",
       "    </tr>\n",
       "    <tr>\n",
       "      <th>Square Enix</th>\n",
       "      <td>1</td>\n",
       "    </tr>\n",
       "    <tr>\n",
       "      <th>Metro 3D</th>\n",
       "      <td>1</td>\n",
       "    </tr>\n",
       "    <tr>\n",
       "      <th>Square</th>\n",
       "      <td>1</td>\n",
       "    </tr>\n",
       "    <tr>\n",
       "      <th>Disney Interactive Studios</th>\n",
       "      <td>1</td>\n",
       "    </tr>\n",
       "    <tr>\n",
       "      <th>GT Interactive</th>\n",
       "      <td>1</td>\n",
       "    </tr>\n",
       "    <tr>\n",
       "      <th>Ignition Entertainment</th>\n",
       "      <td>1</td>\n",
       "    </tr>\n",
       "    <tr>\n",
       "      <th>Infogrames</th>\n",
       "      <td>1</td>\n",
       "    </tr>\n",
       "    <tr>\n",
       "      <th>Interplay</th>\n",
       "      <td>1</td>\n",
       "    </tr>\n",
       "    <tr>\n",
       "      <th>Jaleco</th>\n",
       "      <td>1</td>\n",
       "    </tr>\n",
       "    <tr>\n",
       "      <th>Kadokawa Shoten</th>\n",
       "      <td>1</td>\n",
       "    </tr>\n",
       "    <tr>\n",
       "      <th>Kemco</th>\n",
       "      <td>1</td>\n",
       "    </tr>\n",
       "    <tr>\n",
       "      <th>505 Games</th>\n",
       "      <td>1</td>\n",
       "    </tr>\n",
       "  </tbody>\n",
       "</table>\n",
       "</div>"
      ],
      "text/plain": [
       "                                    Qty\n",
       "Publisher                              \n",
       "Nintendo                             20\n",
       "Electronic Arts                      19\n",
       "Activision                           16\n",
       "Konami Digital Entertainment         10\n",
       "THQ                                  10\n",
       "Tecmo Koei                            9\n",
       "Capcom                                9\n",
       "Vivendi Games                         8\n",
       "Atari                                 7\n",
       "Sony Computer Entertainment           7\n",
       "Sega                                  7\n",
       "Namco Bandai Games                    6\n",
       "Ubisoft                               5\n",
       "Midway Games                          5\n",
       "Eidos Interactive                     5\n",
       "Take-Two Interactive                  4\n",
       "Sony Computer Entertainment Europe    3\n",
       "PQube                                 2\n",
       "Acclaim Entertainment                 2\n",
       "Microsoft Game Studios                2\n",
       "Marvelous Interactive                 2\n",
       "Zoo Digital Publishing                2\n",
       "Atlus                                 2\n",
       "LucasArts                             1\n",
       "Sting                                 1\n",
       "Activision Value                      1\n",
       "Virgin Interactive                    1\n",
       "ValuSoft                              1\n",
       "Telegames                             1\n",
       "Bethesda Softworks                    1\n",
       "Codemasters                           1\n",
       "Destination Software, Inc             1\n",
       "Sunflowers                            1\n",
       "Square Enix                           1\n",
       "Metro 3D                              1\n",
       "Square                                1\n",
       "Disney Interactive Studios            1\n",
       "GT Interactive                        1\n",
       "Ignition Entertainment                1\n",
       "Infogrames                            1\n",
       "Interplay                             1\n",
       "Jaleco                                1\n",
       "Kadokawa Shoten                       1\n",
       "Kemco                                 1\n",
       "505 Games                             1"
      ]
     },
     "execution_count": 194,
     "metadata": {},
     "output_type": "execute_result"
    }
   ],
   "source": [
    "\n",
    "df_video[df_video['User_Score']>9].groupby(\"Publisher\")[['Name']].count().sort_values(\"Name\", ascending=False).rename({'Name':'Qty'},axis=1)\n"
   ]
  },
  {
   "cell_type": "markdown",
   "id": "4e35c126",
   "metadata": {
    "cell_id": "00033-e4cd779e-a3a5-42b7-addd-524a280afa5b",
    "deepnote_cell_type": "markdown"
   },
   "source": [
    "\n",
    "(c) Faça uma tabela que mostre o total vendido por ano por pais/globalmente de cada publisher? Você consegue observar algum padrão? Com se comportaram as vendas na América do Norte (NA) ao longo do tempo? O mesmo foi visto nos demais lugares? \n"
   ]
  },
  {
   "cell_type": "code",
   "execution_count": 218,
   "id": "a55746d3",
   "metadata": {
    "cell_id": "00034-ab9c4488-da2a-4c30-8fe0-89c349ba7d17",
    "deepnote_cell_type": "code",
    "deepnote_output_heights": [
     270.78125
    ],
    "deepnote_table_loading": false,
    "deepnote_table_state": {
     "filters": [],
     "pageIndex": 4,
     "pageSize": 10,
     "sortBy": []
    },
    "deepnote_to_be_reexecuted": false,
    "execution_millis": 120,
    "execution_start": 1643417305347,
    "source_hash": "ad852779"
   },
   "outputs": [
    {
     "data": {
      "application/vnd.deepnote.dataframe.v3+json": {
       "column_count": 4,
       "columns": [
        {
         "dtype": "float64",
         "name": "NA_Sales%",
         "stats": {
          "histogram": [
           {
            "bin_end": 0.1,
            "bin_start": 0,
            "count": 800
           },
           {
            "bin_end": 0.2,
            "bin_start": 0.1,
            "count": 75
           },
           {
            "bin_end": 0.30000000000000004,
            "bin_start": 0.2,
            "count": 102
           },
           {
            "bin_end": 0.4,
            "bin_start": 0.30000000000000004,
            "count": 154
           },
           {
            "bin_end": 0.5,
            "bin_start": 0.4,
            "count": 187
           },
           {
            "bin_end": 0.6000000000000001,
            "bin_start": 0.5,
            "count": 369
           },
           {
            "bin_end": 0.7000000000000001,
            "bin_start": 0.6000000000000001,
            "count": 210
           },
           {
            "bin_end": 0.8,
            "bin_start": 0.7000000000000001,
            "count": 152
           },
           {
            "bin_end": 0.9,
            "bin_start": 0.8,
            "count": 80
           },
           {
            "bin_end": 1,
            "bin_start": 0.9,
            "count": 208
           }
          ],
          "max": "1.0",
          "min": "0.0",
          "nan_count": 0,
          "unique_count": 1094
         }
        },
        {
         "dtype": "float64",
         "name": "JP_Sales%",
         "stats": {
          "histogram": [
           {
            "bin_end": 0.1,
            "bin_start": 0,
            "count": 1283
           },
           {
            "bin_end": 0.2,
            "bin_start": 0.1,
            "count": 71
           },
           {
            "bin_end": 0.30000000000000004,
            "bin_start": 0.2,
            "count": 78
           },
           {
            "bin_end": 0.4,
            "bin_start": 0.30000000000000004,
            "count": 60
           },
           {
            "bin_end": 0.5,
            "bin_start": 0.4,
            "count": 64
           },
           {
            "bin_end": 0.6000000000000001,
            "bin_start": 0.5,
            "count": 58
           },
           {
            "bin_end": 0.7000000000000001,
            "bin_start": 0.6000000000000001,
            "count": 26
           },
           {
            "bin_end": 0.8,
            "bin_start": 0.7000000000000001,
            "count": 30
           },
           {
            "bin_end": 0.9,
            "bin_start": 0.8,
            "count": 35
           },
           {
            "bin_end": 1,
            "bin_start": 0.9,
            "count": 632
           }
          ],
          "max": "1.0",
          "min": "0.0",
          "nan_count": 0,
          "unique_count": 715
         }
        },
        {
         "dtype": "float64",
         "name": "EU_Sales%",
         "stats": {
          "histogram": [
           {
            "bin_end": 0.1,
            "bin_start": 0,
            "count": 1068
           },
           {
            "bin_end": 0.2,
            "bin_start": 0.1,
            "count": 224
           },
           {
            "bin_end": 0.30000000000000004,
            "bin_start": 0.2,
            "count": 307
           },
           {
            "bin_end": 0.4,
            "bin_start": 0.30000000000000004,
            "count": 408
           },
           {
            "bin_end": 0.5,
            "bin_start": 0.4,
            "count": 84
           },
           {
            "bin_end": 0.6000000000000001,
            "bin_start": 0.5,
            "count": 70
           },
           {
            "bin_end": 0.7000000000000001,
            "bin_start": 0.6000000000000001,
            "count": 43
           },
           {
            "bin_end": 0.8,
            "bin_start": 0.7000000000000001,
            "count": 25
           },
           {
            "bin_end": 0.9,
            "bin_start": 0.8,
            "count": 34
           },
           {
            "bin_end": 1,
            "bin_start": 0.9,
            "count": 74
           }
          ],
          "max": "1.0",
          "min": "0.0",
          "nan_count": 0,
          "unique_count": 1013
         }
        },
        {
         "dtype": "float64",
         "name": "Other_Sales%",
         "stats": {
          "histogram": [
           {
            "bin_end": 0.04500207382828701,
            "bin_start": 0,
            "count": 1224
           },
           {
            "bin_end": 0.09000414765657402,
            "bin_start": 0.04500207382828701,
            "count": 565
           },
           {
            "bin_end": 0.13500622148486102,
            "bin_start": 0.09000414765657402,
            "count": 380
           },
           {
            "bin_end": 0.18000829531314805,
            "bin_start": 0.13500622148486102,
            "count": 114
           },
           {
            "bin_end": 0.22501036914143507,
            "bin_start": 0.18000829531314805,
            "count": 30
           },
           {
            "bin_end": 0.27001244296972204,
            "bin_start": 0.22501036914143507,
            "count": 11
           },
           {
            "bin_end": 0.31501451679800907,
            "bin_start": 0.27001244296972204,
            "count": 2
           },
           {
            "bin_end": 0.3600165906262961,
            "bin_start": 0.31501451679800907,
            "count": 9
           },
           {
            "bin_end": 0.4050186644545831,
            "bin_start": 0.3600165906262961,
            "count": 1
           },
           {
            "bin_end": 0.4500207382828701,
            "bin_start": 0.4050186644545831,
            "count": 1
           }
          ],
          "max": "0.4500207382828701",
          "min": "0.0",
          "nan_count": 0,
          "unique_count": 884
         }
        },
        {
         "dtype": "object",
         "name": "_deepnote_index_column"
        }
       ],
       "row_count": 2337,
       "rows": [
        {
         "EU_Sales%": 0.04081632653061225,
         "JP_Sales%": 0.8192419825072886,
         "NA_Sales%": 0.13119533527696792,
         "Other_Sales%": 0.008746355685131194,
         "_deepnote_index_column": "(1984.0, 'Namco Bandai Games')"
        },
        {
         "EU_Sales%": 0.04280070237050043,
         "JP_Sales%": 0.22739244951712023,
         "NA_Sales%": 0.7148814749780508,
         "Other_Sales%": 0.014705882352941176,
         "_deepnote_index_column": "(1984.0, 'Nintendo')"
        },
        {
         "EU_Sales%": 0.125,
         "JP_Sales%": 0,
         "NA_Sales%": 0.875,
         "Other_Sales%": 0.020833333333333336,
         "_deepnote_index_column": "(1985.0, 'Activision')"
        },
        {
         "EU_Sales%": 0.14,
         "JP_Sales%": 0.21,
         "NA_Sales%": 0.65,
         "Other_Sales%": 0,
         "_deepnote_index_column": "(1985.0, 'Capcom')"
        },
        {
         "EU_Sales%": 0,
         "JP_Sales%": 0.8252427184466019,
         "NA_Sales%": 0.17475728155339804,
         "Other_Sales%": 0,
         "_deepnote_index_column": "(1985.0, 'Hudson Soft')"
        },
        {
         "EU_Sales%": 0,
         "JP_Sales%": 1,
         "NA_Sales%": 0,
         "Other_Sales%": 0,
         "_deepnote_index_column": "(1985.0, 'Mycom')"
        },
        {
         "EU_Sales%": 0,
         "JP_Sales%": 1,
         "NA_Sales%": 0,
         "Other_Sales%": 0,
         "_deepnote_index_column": "(1985.0, 'Namco Bandai Games')"
        },
        {
         "EU_Sales%": 0.09089089089089089,
         "JP_Sales%": 0.2406406406406406,
         "NA_Sales%": 0.6502502502502502,
         "Other_Sales%": 0.01821821821821822,
         "_deepnote_index_column": "(1985.0, 'Nintendo')"
        },
        {
         "EU_Sales%": 0.060606060606060615,
         "JP_Sales%": 0,
         "NA_Sales%": 0.9545454545454547,
         "Other_Sales%": 0,
         "_deepnote_index_column": "(1986.0, 'Atari')"
        },
        {
         "EU_Sales%": 0.07924528301886793,
         "JP_Sales%": 0.26037735849056604,
         "NA_Sales%": 0.36603773584905663,
         "Other_Sales%": 0.29622641509433967,
         "_deepnote_index_column": "(1986.0, 'Capcom')"
        }
       ]
      },
      "text/html": [
       "<div>\n",
       "<style scoped>\n",
       "    .dataframe tbody tr th:only-of-type {\n",
       "        vertical-align: middle;\n",
       "    }\n",
       "\n",
       "    .dataframe tbody tr th {\n",
       "        vertical-align: top;\n",
       "    }\n",
       "\n",
       "    .dataframe thead th {\n",
       "        text-align: right;\n",
       "    }\n",
       "</style>\n",
       "<table border=\"1\" class=\"dataframe\">\n",
       "  <thead>\n",
       "    <tr style=\"text-align: right;\">\n",
       "      <th></th>\n",
       "      <th></th>\n",
       "      <th>NA_Sales%</th>\n",
       "      <th>JP_Sales%</th>\n",
       "      <th>EU_Sales%</th>\n",
       "      <th>Other_Sales%</th>\n",
       "    </tr>\n",
       "    <tr>\n",
       "      <th>Year_of_Release</th>\n",
       "      <th>Publisher</th>\n",
       "      <th></th>\n",
       "      <th></th>\n",
       "      <th></th>\n",
       "      <th></th>\n",
       "    </tr>\n",
       "  </thead>\n",
       "  <tbody>\n",
       "    <tr>\n",
       "      <th rowspan=\"2\" valign=\"top\">1,980.00</th>\n",
       "      <th>Activision</th>\n",
       "      <td>0.93</td>\n",
       "      <td>0.00</td>\n",
       "      <td>0.06</td>\n",
       "      <td>0.01</td>\n",
       "    </tr>\n",
       "    <tr>\n",
       "      <th>Atari</th>\n",
       "      <td>0.93</td>\n",
       "      <td>0.00</td>\n",
       "      <td>0.06</td>\n",
       "      <td>0.01</td>\n",
       "    </tr>\n",
       "    <tr>\n",
       "      <th rowspan=\"3\" valign=\"top\">1,981.00</th>\n",
       "      <th>20th Century Fox Video Games</th>\n",
       "      <td>0.94</td>\n",
       "      <td>0.00</td>\n",
       "      <td>0.05</td>\n",
       "      <td>0.01</td>\n",
       "    </tr>\n",
       "    <tr>\n",
       "      <th>Activision</th>\n",
       "      <td>0.94</td>\n",
       "      <td>0.00</td>\n",
       "      <td>0.05</td>\n",
       "      <td>0.01</td>\n",
       "    </tr>\n",
       "    <tr>\n",
       "      <th>Atari</th>\n",
       "      <td>0.93</td>\n",
       "      <td>0.00</td>\n",
       "      <td>0.06</td>\n",
       "      <td>0.01</td>\n",
       "    </tr>\n",
       "    <tr>\n",
       "      <th>...</th>\n",
       "      <th>...</th>\n",
       "      <td>...</td>\n",
       "      <td>...</td>\n",
       "      <td>...</td>\n",
       "      <td>...</td>\n",
       "    </tr>\n",
       "    <tr>\n",
       "      <th rowspan=\"2\" valign=\"top\">2,016.00</th>\n",
       "      <th>Yeti</th>\n",
       "      <td>0.00</td>\n",
       "      <td>1.00</td>\n",
       "      <td>0.00</td>\n",
       "      <td>0.00</td>\n",
       "    </tr>\n",
       "    <tr>\n",
       "      <th>dramatic create</th>\n",
       "      <td>0.00</td>\n",
       "      <td>1.00</td>\n",
       "      <td>0.00</td>\n",
       "      <td>0.00</td>\n",
       "    </tr>\n",
       "    <tr>\n",
       "      <th rowspan=\"2\" valign=\"top\">2,017.00</th>\n",
       "      <th>Idea Factory</th>\n",
       "      <td>0.00</td>\n",
       "      <td>1.00</td>\n",
       "      <td>0.00</td>\n",
       "      <td>0.00</td>\n",
       "    </tr>\n",
       "    <tr>\n",
       "      <th>Sega</th>\n",
       "      <td>0.00</td>\n",
       "      <td>1.00</td>\n",
       "      <td>0.00</td>\n",
       "      <td>0.00</td>\n",
       "    </tr>\n",
       "    <tr>\n",
       "      <th>2,020.00</th>\n",
       "      <th>Ubisoft</th>\n",
       "      <td>0.93</td>\n",
       "      <td>0.00</td>\n",
       "      <td>0.00</td>\n",
       "      <td>0.07</td>\n",
       "    </tr>\n",
       "  </tbody>\n",
       "</table>\n",
       "<p>2337 rows × 4 columns</p>\n",
       "</div>"
      ],
      "text/plain": [
       "                                              NA_Sales%  JP_Sales%  EU_Sales%  \\\n",
       "Year_of_Release Publisher                                                       \n",
       "1,980.00        Activision                         0.93       0.00       0.06   \n",
       "                Atari                              0.93       0.00       0.06   \n",
       "1,981.00        20th Century Fox Video Games       0.94       0.00       0.05   \n",
       "                Activision                         0.94       0.00       0.05   \n",
       "                Atari                              0.93       0.00       0.06   \n",
       "...                                                 ...        ...        ...   \n",
       "2,016.00        Yeti                               0.00       1.00       0.00   \n",
       "                dramatic create                    0.00       1.00       0.00   \n",
       "2,017.00        Idea Factory                       0.00       1.00       0.00   \n",
       "                Sega                               0.00       1.00       0.00   \n",
       "2,020.00        Ubisoft                            0.93       0.00       0.00   \n",
       "\n",
       "                                              Other_Sales%  \n",
       "Year_of_Release Publisher                                   \n",
       "1,980.00        Activision                            0.01  \n",
       "                Atari                                 0.01  \n",
       "1,981.00        20th Century Fox Video Games          0.01  \n",
       "                Activision                            0.01  \n",
       "                Atari                                 0.01  \n",
       "...                                                    ...  \n",
       "2,016.00        Yeti                                  0.00  \n",
       "                dramatic create                       0.00  \n",
       "2,017.00        Idea Factory                          0.00  \n",
       "                Sega                                  0.00  \n",
       "2,020.00        Ubisoft                               0.07  \n",
       "\n",
       "[2337 rows x 4 columns]"
      ]
     },
     "execution_count": 219,
     "metadata": {},
     "output_type": "execute_result"
    }
   ],
   "source": [
    "teste = df_video.groupby([\"Year_of_Release\",\"Publisher\"]).agg({\"NA_Sales\":\"sum\", \"EU_Sales\":\"sum\", \"JP_Sales\":\"sum\", \"Other_Sales\":\"sum\", \"Global_Sales\":\"sum\" })\n",
    "a = pd.DataFrame()\n",
    "a[\"NA_Sales%\"]= teste[\"NA_Sales\"]/teste[\"Global_Sales\"]\n",
    "a[\"JP_Sales%\"]= teste[\"JP_Sales\"]/teste[\"Global_Sales\"]\n",
    "a[\"EU_Sales%\"]= teste[\"EU_Sales\"]/teste[\"Global_Sales\"]\n",
    "a[\"Other_Sales%\"]= teste[\"Other_Sales\"]/teste[\"Global_Sales\"]\n",
    "a"
   ]
  },
  {
   "cell_type": "markdown",
   "id": "d0c18c41",
   "metadata": {
    "cell_id": "00035-5d5a9b9d-fd14-4e6f-8e6e-e125bfd21736",
    "deepnote_cell_type": "markdown"
   },
   "source": [
    "\n",
    "(d) Qual foi jogo mais vendido na união européia? De que ano ele é e qual a editora?\n"
   ]
  },
  {
   "cell_type": "code",
   "execution_count": 223,
   "id": "2d7bb1d1",
   "metadata": {
    "cell_id": "693dc4fb-f3fe-4102-9f4d-751e2856216a",
    "deepnote_cell_type": "code",
    "deepnote_output_heights": [
     21.1875
    ],
    "deepnote_to_be_reexecuted": false,
    "execution_millis": 77,
    "execution_start": 1643417803332,
    "source_hash": "c6b26b9d",
    "tags": []
   },
   "outputs": [
    {
     "data": {
      "application/vnd.deepnote.dataframe.v3+json": {
       "column_count": 16,
       "columns": [
        {
         "dtype": "object",
         "name": "Name",
         "stats": {
          "categories": [
           {
            "count": 1,
            "name": "Wii Sports"
           }
          ],
          "nan_count": 0,
          "unique_count": 1
         }
        },
        {
         "dtype": "object",
         "name": "Platform",
         "stats": {
          "categories": [
           {
            "count": 1,
            "name": "Wii"
           }
          ],
          "nan_count": 0,
          "unique_count": 1
         }
        },
        {
         "dtype": "float64",
         "name": "Year_of_Release",
         "stats": {
          "histogram": [
           {
            "bin_end": 2005.6,
            "bin_start": 2005.5,
            "count": 0
           },
           {
            "bin_end": 2005.7,
            "bin_start": 2005.6,
            "count": 0
           },
           {
            "bin_end": 2005.8,
            "bin_start": 2005.7,
            "count": 0
           },
           {
            "bin_end": 2005.9,
            "bin_start": 2005.8,
            "count": 0
           },
           {
            "bin_end": 2006,
            "bin_start": 2005.9,
            "count": 0
           },
           {
            "bin_end": 2006.1,
            "bin_start": 2006,
            "count": 1
           },
           {
            "bin_end": 2006.2,
            "bin_start": 2006.1,
            "count": 0
           },
           {
            "bin_end": 2006.3,
            "bin_start": 2006.2,
            "count": 0
           },
           {
            "bin_end": 2006.4,
            "bin_start": 2006.3,
            "count": 0
           },
           {
            "bin_end": 2006.5,
            "bin_start": 2006.4,
            "count": 0
           }
          ],
          "max": "2006.0",
          "min": "2006.0",
          "nan_count": 0,
          "unique_count": 1
         }
        },
        {
         "dtype": "object",
         "name": "Genre",
         "stats": {
          "categories": [
           {
            "count": 1,
            "name": "Sports"
           }
          ],
          "nan_count": 0,
          "unique_count": 1
         }
        },
        {
         "dtype": "object",
         "name": "Publisher",
         "stats": {
          "categories": [
           {
            "count": 1,
            "name": "Nintendo"
           }
          ],
          "nan_count": 0,
          "unique_count": 1
         }
        },
        {
         "dtype": "float64",
         "name": "NA_Sales",
         "stats": {
          "histogram": [
           {
            "bin_end": 40.96,
            "bin_start": 40.86,
            "count": 0
           },
           {
            "bin_end": 41.06,
            "bin_start": 40.96,
            "count": 0
           },
           {
            "bin_end": 41.16,
            "bin_start": 41.06,
            "count": 0
           },
           {
            "bin_end": 41.26,
            "bin_start": 41.16,
            "count": 0
           },
           {
            "bin_end": 41.36,
            "bin_start": 41.26,
            "count": 0
           },
           {
            "bin_end": 41.46,
            "bin_start": 41.36,
            "count": 1
           },
           {
            "bin_end": 41.56,
            "bin_start": 41.46,
            "count": 0
           },
           {
            "bin_end": 41.66,
            "bin_start": 41.56,
            "count": 0
           },
           {
            "bin_end": 41.76,
            "bin_start": 41.66,
            "count": 0
           },
           {
            "bin_end": 41.86,
            "bin_start": 41.76,
            "count": 0
           }
          ],
          "max": "41.36",
          "min": "41.36",
          "nan_count": 0,
          "unique_count": 1
         }
        },
        {
         "dtype": "float64",
         "name": "EU_Sales",
         "stats": {
          "histogram": [
           {
            "bin_end": 28.560000000000002,
            "bin_start": 28.46,
            "count": 0
           },
           {
            "bin_end": 28.66,
            "bin_start": 28.560000000000002,
            "count": 0
           },
           {
            "bin_end": 28.76,
            "bin_start": 28.66,
            "count": 0
           },
           {
            "bin_end": 28.86,
            "bin_start": 28.76,
            "count": 0
           },
           {
            "bin_end": 28.96,
            "bin_start": 28.86,
            "count": 0
           },
           {
            "bin_end": 29.060000000000002,
            "bin_start": 28.96,
            "count": 1
           },
           {
            "bin_end": 29.16,
            "bin_start": 29.060000000000002,
            "count": 0
           },
           {
            "bin_end": 29.26,
            "bin_start": 29.16,
            "count": 0
           },
           {
            "bin_end": 29.36,
            "bin_start": 29.26,
            "count": 0
           },
           {
            "bin_end": 29.46,
            "bin_start": 29.36,
            "count": 0
           }
          ],
          "max": "28.96",
          "min": "28.96",
          "nan_count": 0,
          "unique_count": 1
         }
        },
        {
         "dtype": "float64",
         "name": "JP_Sales",
         "stats": {
          "histogram": [
           {
            "bin_end": 3.37,
            "bin_start": 3.27,
            "count": 0
           },
           {
            "bin_end": 3.4699999999999998,
            "bin_start": 3.37,
            "count": 0
           },
           {
            "bin_end": 3.57,
            "bin_start": 3.4699999999999998,
            "count": 0
           },
           {
            "bin_end": 3.67,
            "bin_start": 3.57,
            "count": 0
           },
           {
            "bin_end": 3.7699999999999996,
            "bin_start": 3.67,
            "count": 0
           },
           {
            "bin_end": 3.8699999999999997,
            "bin_start": 3.7699999999999996,
            "count": 1
           },
           {
            "bin_end": 3.9699999999999998,
            "bin_start": 3.8699999999999997,
            "count": 0
           },
           {
            "bin_end": 4.069999999999999,
            "bin_start": 3.9699999999999998,
            "count": 0
           },
           {
            "bin_end": 4.17,
            "bin_start": 4.069999999999999,
            "count": 0
           },
           {
            "bin_end": 4.27,
            "bin_start": 4.17,
            "count": 0
           }
          ],
          "max": "3.77",
          "min": "3.77",
          "nan_count": 0,
          "unique_count": 1
         }
        },
        {
         "dtype": "float64",
         "name": "Other_Sales",
         "stats": {
          "histogram": [
           {
            "bin_end": 8.049999999999999,
            "bin_start": 7.949999999999999,
            "count": 0
           },
           {
            "bin_end": 8.149999999999999,
            "bin_start": 8.049999999999999,
            "count": 0
           },
           {
            "bin_end": 8.25,
            "bin_start": 8.149999999999999,
            "count": 0
           },
           {
            "bin_end": 8.35,
            "bin_start": 8.25,
            "count": 0
           },
           {
            "bin_end": 8.45,
            "bin_start": 8.35,
            "count": 0
           },
           {
            "bin_end": 8.549999999999999,
            "bin_start": 8.45,
            "count": 1
           },
           {
            "bin_end": 8.649999999999999,
            "bin_start": 8.549999999999999,
            "count": 0
           },
           {
            "bin_end": 8.75,
            "bin_start": 8.649999999999999,
            "count": 0
           },
           {
            "bin_end": 8.85,
            "bin_start": 8.75,
            "count": 0
           },
           {
            "bin_end": 8.95,
            "bin_start": 8.85,
            "count": 0
           }
          ],
          "max": "8.45",
          "min": "8.45",
          "nan_count": 0,
          "unique_count": 1
         }
        },
        {
         "dtype": "float64",
         "name": "Global_Sales",
         "stats": {
          "histogram": [
           {
            "bin_end": 82.13,
            "bin_start": 82.03,
            "count": 0
           },
           {
            "bin_end": 82.23,
            "bin_start": 82.13,
            "count": 0
           },
           {
            "bin_end": 82.33,
            "bin_start": 82.23,
            "count": 0
           },
           {
            "bin_end": 82.43,
            "bin_start": 82.33,
            "count": 0
           },
           {
            "bin_end": 82.53,
            "bin_start": 82.43,
            "count": 0
           },
           {
            "bin_end": 82.63,
            "bin_start": 82.53,
            "count": 1
           },
           {
            "bin_end": 82.73,
            "bin_start": 82.63,
            "count": 0
           },
           {
            "bin_end": 82.83,
            "bin_start": 82.73,
            "count": 0
           },
           {
            "bin_end": 82.93,
            "bin_start": 82.83,
            "count": 0
           },
           {
            "bin_end": 83.03,
            "bin_start": 82.93,
            "count": 0
           }
          ],
          "max": "82.53",
          "min": "82.53",
          "nan_count": 0,
          "unique_count": 1
         }
        },
        {
         "dtype": "float64",
         "name": "Critic_Score",
         "stats": {
          "histogram": [
           {
            "bin_end": 75.6,
            "bin_start": 75.5,
            "count": 0
           },
           {
            "bin_end": 75.7,
            "bin_start": 75.6,
            "count": 0
           },
           {
            "bin_end": 75.8,
            "bin_start": 75.7,
            "count": 0
           },
           {
            "bin_end": 75.9,
            "bin_start": 75.8,
            "count": 0
           },
           {
            "bin_end": 76,
            "bin_start": 75.9,
            "count": 0
           },
           {
            "bin_end": 76.1,
            "bin_start": 76,
            "count": 1
           },
           {
            "bin_end": 76.2,
            "bin_start": 76.1,
            "count": 0
           },
           {
            "bin_end": 76.3,
            "bin_start": 76.2,
            "count": 0
           },
           {
            "bin_end": 76.4,
            "bin_start": 76.3,
            "count": 0
           },
           {
            "bin_end": 76.5,
            "bin_start": 76.4,
            "count": 0
           }
          ],
          "max": "76.0",
          "min": "76.0",
          "nan_count": 0,
          "unique_count": 1
         }
        },
        {
         "dtype": "float64",
         "name": "Critic_Count",
         "stats": {
          "histogram": [
           {
            "bin_end": 50.6,
            "bin_start": 50.5,
            "count": 0
           },
           {
            "bin_end": 50.7,
            "bin_start": 50.6,
            "count": 0
           },
           {
            "bin_end": 50.8,
            "bin_start": 50.7,
            "count": 0
           },
           {
            "bin_end": 50.9,
            "bin_start": 50.8,
            "count": 0
           },
           {
            "bin_end": 51,
            "bin_start": 50.9,
            "count": 0
           },
           {
            "bin_end": 51.1,
            "bin_start": 51,
            "count": 1
           },
           {
            "bin_end": 51.2,
            "bin_start": 51.1,
            "count": 0
           },
           {
            "bin_end": 51.3,
            "bin_start": 51.2,
            "count": 0
           },
           {
            "bin_end": 51.4,
            "bin_start": 51.3,
            "count": 0
           },
           {
            "bin_end": 51.5,
            "bin_start": 51.4,
            "count": 0
           }
          ],
          "max": "51.0",
          "min": "51.0",
          "nan_count": 0,
          "unique_count": 1
         }
        },
        {
         "dtype": "float64",
         "name": "User_Score",
         "stats": {
          "histogram": [
           {
            "bin_end": 7.6,
            "bin_start": 7.5,
            "count": 0
           },
           {
            "bin_end": 7.7,
            "bin_start": 7.6,
            "count": 0
           },
           {
            "bin_end": 7.8,
            "bin_start": 7.7,
            "count": 0
           },
           {
            "bin_end": 7.9,
            "bin_start": 7.8,
            "count": 0
           },
           {
            "bin_end": 8,
            "bin_start": 7.9,
            "count": 0
           },
           {
            "bin_end": 8.1,
            "bin_start": 8,
            "count": 1
           },
           {
            "bin_end": 8.2,
            "bin_start": 8.1,
            "count": 0
           },
           {
            "bin_end": 8.3,
            "bin_start": 8.2,
            "count": 0
           },
           {
            "bin_end": 8.4,
            "bin_start": 8.3,
            "count": 0
           },
           {
            "bin_end": 8.5,
            "bin_start": 8.4,
            "count": 0
           }
          ],
          "max": "8.0",
          "min": "8.0",
          "nan_count": 0,
          "unique_count": 1
         }
        },
        {
         "dtype": "float64",
         "name": "User_Count",
         "stats": {
          "histogram": [
           {
            "bin_end": 321.6,
            "bin_start": 321.5,
            "count": 0
           },
           {
            "bin_end": 321.7,
            "bin_start": 321.6,
            "count": 0
           },
           {
            "bin_end": 321.8,
            "bin_start": 321.7,
            "count": 0
           },
           {
            "bin_end": 321.9,
            "bin_start": 321.8,
            "count": 0
           },
           {
            "bin_end": 322,
            "bin_start": 321.9,
            "count": 0
           },
           {
            "bin_end": 322.1,
            "bin_start": 322,
            "count": 1
           },
           {
            "bin_end": 322.2,
            "bin_start": 322.1,
            "count": 0
           },
           {
            "bin_end": 322.3,
            "bin_start": 322.2,
            "count": 0
           },
           {
            "bin_end": 322.4,
            "bin_start": 322.3,
            "count": 0
           },
           {
            "bin_end": 322.5,
            "bin_start": 322.4,
            "count": 0
           }
          ],
          "max": "322.0",
          "min": "322.0",
          "nan_count": 0,
          "unique_count": 1
         }
        },
        {
         "dtype": "object",
         "name": "Developer",
         "stats": {
          "categories": [
           {
            "count": 1,
            "name": "Nintendo"
           }
          ],
          "nan_count": 0,
          "unique_count": 1
         }
        },
        {
         "dtype": "object",
         "name": "Rating",
         "stats": {
          "categories": [
           {
            "count": 1,
            "name": "E"
           }
          ],
          "nan_count": 0,
          "unique_count": 1
         }
        },
        {
         "dtype": "int64",
         "name": "_deepnote_index_column"
        }
       ],
       "row_count": 1,
       "rows": [
        {
         "Critic_Count": 51,
         "Critic_Score": 76,
         "Developer": "Nintendo",
         "EU_Sales": 28.96,
         "Genre": "Sports",
         "Global_Sales": 82.53,
         "JP_Sales": 3.77,
         "NA_Sales": 41.36,
         "Name": "Wii Sports",
         "Other_Sales": 8.45,
         "Platform": "Wii",
         "Publisher": "Nintendo",
         "Rating": "E",
         "User_Count": 322,
         "User_Score": 8,
         "Year_of_Release": 2006,
         "_deepnote_index_column": 0
        }
       ]
      },
      "text/html": [
       "<div>\n",
       "<style scoped>\n",
       "    .dataframe tbody tr th:only-of-type {\n",
       "        vertical-align: middle;\n",
       "    }\n",
       "\n",
       "    .dataframe tbody tr th {\n",
       "        vertical-align: top;\n",
       "    }\n",
       "\n",
       "    .dataframe thead th {\n",
       "        text-align: right;\n",
       "    }\n",
       "</style>\n",
       "<table border=\"1\" class=\"dataframe\">\n",
       "  <thead>\n",
       "    <tr style=\"text-align: right;\">\n",
       "      <th></th>\n",
       "      <th>Name</th>\n",
       "      <th>Platform</th>\n",
       "      <th>Year_of_Release</th>\n",
       "      <th>Genre</th>\n",
       "      <th>Publisher</th>\n",
       "      <th>NA_Sales</th>\n",
       "      <th>EU_Sales</th>\n",
       "      <th>JP_Sales</th>\n",
       "      <th>Other_Sales</th>\n",
       "      <th>Global_Sales</th>\n",
       "      <th>Critic_Score</th>\n",
       "      <th>Critic_Count</th>\n",
       "      <th>User_Score</th>\n",
       "      <th>User_Count</th>\n",
       "      <th>Developer</th>\n",
       "      <th>Rating</th>\n",
       "    </tr>\n",
       "  </thead>\n",
       "  <tbody>\n",
       "    <tr>\n",
       "      <th>0</th>\n",
       "      <td>Wii Sports</td>\n",
       "      <td>Wii</td>\n",
       "      <td>2,006.00</td>\n",
       "      <td>Sports</td>\n",
       "      <td>Nintendo</td>\n",
       "      <td>41.36</td>\n",
       "      <td>28.96</td>\n",
       "      <td>3.77</td>\n",
       "      <td>8.45</td>\n",
       "      <td>82.53</td>\n",
       "      <td>76.00</td>\n",
       "      <td>51.00</td>\n",
       "      <td>8.00</td>\n",
       "      <td>322.00</td>\n",
       "      <td>Nintendo</td>\n",
       "      <td>E</td>\n",
       "    </tr>\n",
       "  </tbody>\n",
       "</table>\n",
       "</div>"
      ],
      "text/plain": [
       "         Name Platform  Year_of_Release   Genre Publisher  NA_Sales  EU_Sales  \\\n",
       "0  Wii Sports      Wii         2,006.00  Sports  Nintendo     41.36     28.96   \n",
       "\n",
       "   JP_Sales  Other_Sales  Global_Sales  Critic_Score  Critic_Count  \\\n",
       "0      3.77         8.45         82.53         76.00         51.00   \n",
       "\n",
       "   User_Score  User_Count Developer Rating  \n",
       "0        8.00      322.00  Nintendo      E  "
      ]
     },
     "execution_count": 223,
     "metadata": {},
     "output_type": "execute_result"
    }
   ],
   "source": [
    "df_video[df_video[\"EU_Sales\"]==df_video[\"EU_Sales\"].max()]"
   ]
  },
  {
   "cell_type": "code",
   "execution_count": 216,
   "id": "2644dde3",
   "metadata": {
    "cell_id": "00036-e5057a7e-5b2d-43fe-9178-3f27ea6c6dc3",
    "deepnote_cell_type": "code",
    "deepnote_output_heights": [
     78.78125
    ],
    "deepnote_to_be_reexecuted": false,
    "execution_millis": 6,
    "execution_start": 1643417246288,
    "source_hash": "50879b40"
   },
   "outputs": [
    {
     "data": {
      "text/plain": [
       "Index(['Name', 'Platform', 'Year_of_Release', 'Genre', 'Publisher', 'NA_Sales',\n",
       "       'EU_Sales', 'JP_Sales', 'Other_Sales', 'Global_Sales', 'Critic_Score',\n",
       "       'Critic_Count', 'User_Score', 'User_Count', 'Developer', 'Rating'],\n",
       "      dtype='object')"
      ]
     },
     "execution_count": 216,
     "metadata": {},
     "output_type": "execute_result"
    }
   ],
   "source": [
    "df_video.columns"
   ]
  },
  {
   "cell_type": "markdown",
   "id": "c08583d4",
   "metadata": {
    "cell_id": "00037-e04c4140-d2ec-454f-a439-aecf6150e9c0",
    "deepnote_cell_type": "markdown"
   },
   "source": [
    "\n",
    "(e) Quantos % os generos ['Racing', 'Sports', 'Shooter'] representam na base de dados? "
   ]
  },
  {
   "cell_type": "code",
   "execution_count": 224,
   "id": "36c9a050",
   "metadata": {
    "cell_id": "00038-c8389fcf-9752-4646-9d11-b6bd2da298f9",
    "deepnote_cell_type": "code",
    "deepnote_output_heights": [
     21.1875
    ],
    "deepnote_to_be_reexecuted": false,
    "execution_millis": 3,
    "execution_start": 1643417918024,
    "source_hash": "ec5a6dd"
   },
   "outputs": [
    {
     "data": {
      "text/plain": [
       "29.427597344338775"
      ]
     },
     "execution_count": 224,
     "metadata": {},
     "output_type": "execute_result"
    }
   ],
   "source": [
    "df_video[df_video['Genre'].isin(['Racing', 'Sports', 'Shooter'])].shape[0]/df_video.shape[0]*100"
   ]
  },
  {
   "cell_type": "markdown",
   "id": "62892314",
   "metadata": {
    "cell_id": "00039-23ef74be-0f87-447a-baab-4a62d487e92f",
    "deepnote_cell_type": "markdown"
   },
   "source": [
    "(f) Qual plataforma vendeu menos globalmente? obs: imprimir somente o nome"
   ]
  },
  {
   "cell_type": "code",
   "execution_count": 231,
   "id": "f597459f",
   "metadata": {
    "cell_id": "164b1877-e47b-4020-9e6d-451518a162af",
    "deepnote_cell_type": "code",
    "deepnote_output_heights": [
     21.1875
    ],
    "deepnote_to_be_reexecuted": false,
    "execution_millis": 19,
    "execution_start": 1643418126059,
    "source_hash": "f651356f",
    "tags": []
   },
   "outputs": [
    {
     "data": {
      "text/plain": [
       "'PCFX'"
      ]
     },
     "execution_count": 231,
     "metadata": {},
     "output_type": "execute_result"
    }
   ],
   "source": [
    "df_video.groupby('Platform')[['Global_Sales']].sum().idxmin()[0]"
   ]
  },
  {
   "cell_type": "markdown",
   "id": "9c2ca235",
   "metadata": {
    "cell_id": "00041-dfa14e56-7144-4849-8382-2ee50f6213d1",
    "deepnote_cell_type": "markdown"
   },
   "source": [
    "### Problema 5\n",
    "A pasta 'data/datasus' contém informações sobre casos de dengue e tabelas auxiliares. <br>\n",
    "\n",
    "| Tabela | Conteúdo |\n",
    "|--------|----------|\n",
    "| Dengue | Quantidade de casos por município |\n",
    "| Agua | Quantidade de residências em cada município por tipo o abastecimento de água |\n",
    "| InstalacoesSanitarias | Quantidade de residências em cada município por tipo de rede de esgoto |\n",
    "| Pib | PIB per capita de cada município |\n",
    "| Municipios | Relaciona o id_municipio com seu nome e estado |\n",
    "| Populacao | Quantidade de pessoas morando em áreas urbanas, rurais e população total por município |\n",
    "| Sexo | Quantidade de pessoas por sexo em cada município |\n",
    "\n",
    "(a) Calcular o número de casos de dengue por cada estado apresentando os dados em ordem decrescente.\n"
   ]
  },
  {
   "cell_type": "code",
   "execution_count": 6,
   "id": "433ff009",
   "metadata": {
    "cell_id": "00042-9151e731-72c0-497d-96ff-97ce72c959d8",
    "deepnote_cell_type": "code",
    "deepnote_to_be_reexecuted": false,
    "execution_millis": 289130,
    "execution_start": 1643409092323,
    "source_hash": "b623e53d"
   },
   "outputs": [],
   "source": []
  },
  {
   "cell_type": "markdown",
   "id": "65bb1f93",
   "metadata": {
    "cell_id": "00043-5fa03af4-ee83-4349-8ba5-c0d24010e1f1",
    "deepnote_cell_type": "markdown"
   },
   "source": [
    "(b) Utilizando o dataset InstalacoesSanitarias.csv, determine o número de pessoas que não possuem meio sanitário algum de descarte de dejetos por estado."
   ]
  },
  {
   "cell_type": "code",
   "execution_count": 6,
   "id": "80d4deab",
   "metadata": {
    "cell_id": "00044-020c8689-cfc9-4ca0-9138-f833b4bb122a",
    "deepnote_cell_type": "code",
    "deepnote_to_be_reexecuted": false,
    "execution_millis": 289111,
    "execution_start": 1643409092341,
    "source_hash": "b623e53d"
   },
   "outputs": [],
   "source": []
  },
  {
   "cell_type": "markdown",
   "id": "7b464010",
   "metadata": {
    "cell_id": "00045-f8b0457b-ef4a-4bf0-9cca-95489edf6163",
    "deepnote_cell_type": "markdown"
   },
   "source": [
    "(c) Crie uma coluna com a posição de ranking considerando o PIB. Os maiores PIB devem ter os menores valores de ranking."
   ]
  },
  {
   "cell_type": "code",
   "execution_count": 6,
   "id": "9858ac28",
   "metadata": {
    "cell_id": "00046-ba98875c-efd7-45ac-9392-a827349f14c1",
    "deepnote_cell_type": "code",
    "deepnote_to_be_reexecuted": false,
    "execution_millis": 289112,
    "execution_start": 1643409092342,
    "source_hash": "b623e53d"
   },
   "outputs": [],
   "source": []
  },
  {
   "cell_type": "markdown",
   "id": "d7d672cb",
   "metadata": {
    "cell_id": "00047-0d35c3ec-bc14-4f55-b517-8e0817c6fe35",
    "deepnote_cell_type": "markdown"
   },
   "source": [
    "(d) Qual o PIB dos 5 municípios com mais casos de dengue e sua posição no ranking?"
   ]
  },
  {
   "cell_type": "code",
   "execution_count": 6,
   "id": "041b0575",
   "metadata": {
    "cell_id": "00048-7641877b-325a-4484-a59f-e79f57245100",
    "deepnote_cell_type": "code",
    "deepnote_to_be_reexecuted": false,
    "execution_millis": 289112,
    "execution_start": 1643409092352,
    "source_hash": "b623e53d"
   },
   "outputs": [],
   "source": []
  },
  {
   "cell_type": "markdown",
   "id": "dcb418ac",
   "metadata": {
    "created_in_deepnote_cell": true,
    "deepnote_cell_type": "markdown",
    "tags": []
   },
   "source": [
    "<a style='text-decoration:none;line-height:16px;display:flex;color:#5B5B62;padding:10px;justify-content:end;' href='https://deepnote.com?utm_source=created-in-deepnote-cell&projectId=1f826d52-8bc7-47a7-8f9d-9b5ff7245f3a' target=\"_blank\">\n",
    "<img alt='Created in deepnote.com' style='display:inline;max-height:16px;margin:0px;margin-right:7.5px;' src='data:image/svg+xml;base64,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' > </img>\n",
    "Created in <span style='font-weight:600;margin-left:4px;'>Deepnote</span></a>"
   ]
  }
 ],
 "metadata": {
  "deepnote": {},
  "deepnote_execution_queue": [],
  "deepnote_notebook_id": "a19b6eaa-dcb4-404f-97c7-007f42560bba",
  "kernelspec": {
   "display_name": "Python 3 (ipykernel)",
   "language": "python",
   "name": "python3"
  },
  "language_info": {
   "codemirror_mode": {
    "name": "ipython",
    "version": 3
   },
   "file_extension": ".py",
   "mimetype": "text/x-python",
   "name": "python",
   "nbconvert_exporter": "python",
   "pygments_lexer": "ipython3",
   "version": "3.9.7"
  }
 },
 "nbformat": 4,
 "nbformat_minor": 5
}
