{
 "cells": [
  {
   "cell_type": "code",
   "execution_count": 65,
   "metadata": {
    "ExecuteTime": {
     "end_time": "2022-01-17T21:31:37.018448Z",
     "start_time": "2022-01-17T21:31:37.010446Z"
    }
   },
   "outputs": [],
   "source": [
    "import numpy as np"
   ]
  },
  {
   "cell_type": "markdown",
   "metadata": {},
   "source": [
    "## Exercícios"
   ]
  },
  {
   "cell_type": "markdown",
   "metadata": {},
   "source": [
    "1 - Selecione todos os valores ímpares do seguinte array:  <br>\n",
    "array = [1, 2, 3, 4, 5, 6, 7, 8, 9] <br>\n"
   ]
  },
  {
   "cell_type": "code",
   "execution_count": 66,
   "metadata": {
    "ExecuteTime": {
     "end_time": "2022-01-17T21:31:40.075325Z",
     "start_time": "2022-01-17T21:31:40.057342Z"
    }
   },
   "outputs": [
    {
     "data": {
      "text/plain": [
       "array([1, 3, 5, 7, 9])"
      ]
     },
     "execution_count": 66,
     "metadata": {},
     "output_type": "execute_result"
    }
   ],
   "source": [
    "array = np.arange(1,10)\n",
    "array[array%2==1] "
   ]
  },
  {
   "cell_type": "markdown",
   "metadata": {},
   "source": [
    "2 - Substitua os valores ímpares do seguinte array por 0:  <br>\n",
    "array = [1, 2, 3, 4, 5, 6, 7, 8, 9] <br>\n"
   ]
  },
  {
   "cell_type": "code",
   "execution_count": 67,
   "metadata": {
    "ExecuteTime": {
     "end_time": "2022-01-17T21:31:40.546070Z",
     "start_time": "2022-01-17T21:31:40.539146Z"
    }
   },
   "outputs": [
    {
     "data": {
      "text/plain": [
       "array([0, 2, 0, 4, 0, 6, 0, 8, 0])"
      ]
     },
     "execution_count": 67,
     "metadata": {},
     "output_type": "execute_result"
    }
   ],
   "source": [
    "np.where(array%2==1,0,array)"
   ]
  },
  {
   "cell_type": "markdown",
   "metadata": {},
   "source": [
    "3 - Considere o dataset da iris disponível em: \n",
    "url = 'https://archive.ics.uci.edu/ml/machine-learning-databases/iris/iris.data'<br> \n",
    "Nesse dataset temos as seguintes informações:<br> \n",
    "   * Coluna 1. sepal length em cm<br> \n",
    "   * Coluna 2. sepal width em cm<br> \n",
    "   * Coluna 3. petal length em cm<br> \n",
    "   * Coluna 4. petal width em cm<br> \n",
    "   * Coluna 5. classe: \n",
    "                -- Iris Setosa \n",
    "                -- Iris Versicolour \n",
    "                -- Iris Virginica \n",
    "                \n",
    "Utilizando o método `np.genfromtxt()`, importe as 4 primeiras colunas do dataset do íris e print as 10 primeiras linhas <br>"
   ]
  },
  {
   "cell_type": "code",
   "execution_count": 68,
   "metadata": {
    "ExecuteTime": {
     "end_time": "2022-01-17T21:31:40.875041Z",
     "start_time": "2022-01-17T21:31:40.864041Z"
    }
   },
   "outputs": [
    {
     "name": "stdout",
     "output_type": "stream",
     "text": [
      "[[5.1 3.5 1.4 0.2]\n",
      " [4.9 3.  1.4 0.2]\n",
      " [4.7 3.2 1.3 0.2]\n",
      " [4.6 3.1 1.5 0.2]\n",
      " [5.  3.6 1.4 0.2]\n",
      " [5.4 3.9 1.7 0.4]\n",
      " [4.6 3.4 1.4 0.3]\n",
      " [5.  3.4 1.5 0.2]\n",
      " [4.4 2.9 1.4 0.2]\n",
      " [4.9 3.1 1.5 0.1]]\n"
     ]
    }
   ],
   "source": [
    "url = 'https://archive.ics.uci.edu/ml/machine-learning-databases/iris/iris.data'\n",
    "temp = np.genfromtxt(url, delimiter=',')\n",
    "iris = temp[:,:4]\n",
    "print(iris[:10,:])"
   ]
  },
  {
   "cell_type": "markdown",
   "metadata": {},
   "source": [
    "4 - Calcule a média, mediana e desvio padrão da coluna sepallenght"
   ]
  },
  {
   "cell_type": "code",
   "execution_count": 69,
   "metadata": {
    "ExecuteTime": {
     "end_time": "2022-01-17T21:31:41.202159Z",
     "start_time": "2022-01-17T21:31:41.193183Z"
    }
   },
   "outputs": [
    {
     "data": {
      "text/plain": [
       "5.843333333333334"
      ]
     },
     "execution_count": 69,
     "metadata": {},
     "output_type": "execute_result"
    }
   ],
   "source": [
    "#Média\n",
    "iris[:,0].mean()"
   ]
  },
  {
   "cell_type": "code",
   "execution_count": 70,
   "metadata": {
    "ExecuteTime": {
     "end_time": "2022-01-17T21:31:41.372047Z",
     "start_time": "2022-01-17T21:31:41.362073Z"
    }
   },
   "outputs": [
    {
     "data": {
      "text/plain": [
       "5.8"
      ]
     },
     "execution_count": 70,
     "metadata": {},
     "output_type": "execute_result"
    }
   ],
   "source": [
    "#Mediana\n",
    "np.median(iris[:,0])"
   ]
  },
  {
   "cell_type": "code",
   "execution_count": 71,
   "metadata": {
    "ExecuteTime": {
     "end_time": "2022-01-17T21:31:41.541521Z",
     "start_time": "2022-01-17T21:31:41.523189Z"
    }
   },
   "outputs": [
    {
     "data": {
      "text/plain": [
       "0.8253012917851409"
      ]
     },
     "execution_count": 71,
     "metadata": {},
     "output_type": "execute_result"
    }
   ],
   "source": [
    "#Desvio padrão\n",
    "iris[:,0].std()"
   ]
  },
  {
   "cell_type": "markdown",
   "metadata": {},
   "source": [
    "5 - Filtre a matriz para conter apenas dados nos quais petallength (3ª coluna) > 1.5 e sepallength (1ª coluna) < 5.0"
   ]
  },
  {
   "cell_type": "code",
   "execution_count": 72,
   "metadata": {
    "ExecuteTime": {
     "end_time": "2022-01-17T21:31:41.852334Z",
     "start_time": "2022-01-17T21:31:41.836330Z"
    }
   },
   "outputs": [
    {
     "data": {
      "text/plain": [
       "array([[4.8, 3.4, 1.6, 0.2],\n",
       "       [4.8, 3.4, 1.9, 0.2],\n",
       "       [4.7, 3.2, 1.6, 0.2],\n",
       "       [4.8, 3.1, 1.6, 0.2],\n",
       "       [4.9, 2.4, 3.3, 1. ],\n",
       "       [4.9, 2.5, 4.5, 1.7]])"
      ]
     },
     "execution_count": 72,
     "metadata": {},
     "output_type": "execute_result"
    }
   ],
   "source": [
    "iris[(iris[:,2]>1.5) & (iris[:,0]<5)]"
   ]
  },
  {
   "cell_type": "markdown",
   "metadata": {},
   "source": [
    "6 - Esse dataset possui nans?"
   ]
  },
  {
   "cell_type": "code",
   "execution_count": 73,
   "metadata": {
    "ExecuteTime": {
     "end_time": "2022-01-17T21:31:42.865549Z",
     "start_time": "2022-01-17T21:31:42.846483Z"
    }
   },
   "outputs": [
    {
     "data": {
      "text/plain": [
       "0"
      ]
     },
     "execution_count": 73,
     "metadata": {},
     "output_type": "execute_result"
    }
   ],
   "source": [
    "np.isnan(iris).sum()\n",
    "#Não possui 'nans'"
   ]
  },
  {
   "cell_type": "markdown",
   "metadata": {},
   "source": [
    "7 - Crie uma coluna de volume sabendo que ele pode ser calculado por (pi x petallength x sepal_length^2)/3"
   ]
  },
  {
   "cell_type": "code",
   "execution_count": 74,
   "metadata": {
    "ExecuteTime": {
     "end_time": "2022-01-17T21:31:43.440914Z",
     "start_time": "2022-01-17T21:31:43.429942Z"
    }
   },
   "outputs": [],
   "source": [
    "np.set_printoptions(precision=2)"
   ]
  },
  {
   "cell_type": "code",
   "execution_count": 75,
   "metadata": {
    "ExecuteTime": {
     "end_time": "2022-01-17T21:31:43.830390Z",
     "start_time": "2022-01-17T21:31:43.812441Z"
    }
   },
   "outputs": [
    {
     "name": "stdout",
     "output_type": "stream",
     "text": [
      "[[ 5.1   3.5   1.4   0.2  38.13]\n",
      " [ 4.9   3.    1.4   0.2  35.2 ]\n",
      " [ 4.7   3.2   1.3   0.2  30.07]\n",
      " [ 4.6   3.1   1.5   0.2  33.24]\n",
      " [ 5.    3.6   1.4   0.2  36.65]\n",
      " [ 5.4   3.9   1.7   0.4  51.91]\n",
      " [ 4.6   3.4   1.4   0.3  31.02]\n",
      " [ 5.    3.4   1.5   0.2  39.27]\n",
      " [ 4.4   2.9   1.4   0.2  28.38]\n",
      " [ 4.9   3.1   1.5   0.1  37.71]]\n"
     ]
    }
   ],
   "source": [
    "volume = np.pi*iris[:,2]*iris[:,0]**2/3\n",
    "\n",
    "volume = volume.reshape(150,1)\n",
    "\n",
    "iris = np.hstack([iris, volume])\n",
    "print(iris[:10])"
   ]
  }
 ],
 "metadata": {
  "kernelspec": {
   "display_name": "Python 3 (ipykernel)",
   "language": "python",
   "name": "python3"
  },
  "language_info": {
   "codemirror_mode": {
    "name": "ipython",
    "version": 3
   },
   "file_extension": ".py",
   "mimetype": "text/x-python",
   "name": "python",
   "nbconvert_exporter": "python",
   "pygments_lexer": "ipython3",
   "version": "3.9.7"
  }
 },
 "nbformat": 4,
 "nbformat_minor": 2
}
