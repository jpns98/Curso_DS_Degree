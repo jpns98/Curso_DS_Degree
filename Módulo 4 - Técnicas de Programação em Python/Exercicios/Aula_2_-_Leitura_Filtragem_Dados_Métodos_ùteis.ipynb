{
 "cells": [
  {
   "cell_type": "code",
   "execution_count": 1,
   "metadata": {
    "ExecuteTime": {
     "end_time": "2022-01-26T21:26:15.893111Z",
     "start_time": "2022-01-26T21:26:15.585743Z"
    }
   },
   "outputs": [],
   "source": [
    "import numpy as np\n",
    "import pandas as pd"
   ]
  },
  {
   "cell_type": "markdown",
   "metadata": {},
   "source": [
    "## Exercícios"
   ]
  },
  {
   "cell_type": "markdown",
   "metadata": {},
   "source": [
    "1. Considere a existência de três tabelas distintas:\n",
    "* customer.csv : Possui a informação dos clientes em duas colunas: customer id  customer name\n",
    "* products.csv : Contém informação dos produtos vendidos pela empresa em três colunas - p_id (product id), product (name) e price\n",
    "* sales.csv : Contém informações das vendas realizadas em seis colunas - sale_id, c_id (customer id), p_id (product_id), qty (quantity sold), store (name)\n",
    "\n",
    "Conhecendo as bases responda:\n",
    "\n",
    "a) Quais foram os produtos vendidos? \n"
   ]
  },
  {
   "cell_type": "code",
   "execution_count": 2,
   "metadata": {
    "ExecuteTime": {
     "end_time": "2022-01-26T21:26:16.127429Z",
     "start_time": "2022-01-26T21:26:16.097546Z"
    }
   },
   "outputs": [
    {
     "data": {
      "text/html": [
       "<div>\n",
       "<style scoped>\n",
       "    .dataframe tbody tr th:only-of-type {\n",
       "        vertical-align: middle;\n",
       "    }\n",
       "\n",
       "    .dataframe tbody tr th {\n",
       "        vertical-align: top;\n",
       "    }\n",
       "\n",
       "    .dataframe thead th {\n",
       "        text-align: right;\n",
       "    }\n",
       "</style>\n",
       "<table border=\"1\" class=\"dataframe\">\n",
       "  <thead>\n",
       "    <tr style=\"text-align: right;\">\n",
       "      <th></th>\n",
       "      <th>product</th>\n",
       "    </tr>\n",
       "  </thead>\n",
       "  <tbody>\n",
       "    <tr>\n",
       "      <th>1</th>\n",
       "      <td>RAM</td>\n",
       "    </tr>\n",
       "    <tr>\n",
       "      <th>2</th>\n",
       "      <td>Monitor</td>\n",
       "    </tr>\n",
       "    <tr>\n",
       "      <th>3</th>\n",
       "      <td>CPU</td>\n",
       "    </tr>\n",
       "  </tbody>\n",
       "</table>\n",
       "</div>"
      ],
      "text/plain": [
       "   product\n",
       "1      RAM\n",
       "2  Monitor\n",
       "3      CPU"
      ]
     },
     "execution_count": 2,
     "metadata": {},
     "output_type": "execute_result"
    }
   ],
   "source": [
    "customer = pd.read_csv(\"./data/customer.csv\")\n",
    "products = pd.read_csv(\"./data/products.csv\")\n",
    "sales = pd.read_csv(\"./data/sales.csv\")\n",
    "\n",
    "products[products['product'].isin(sales['product'].unique())][['product']]"
   ]
  },
  {
   "cell_type": "markdown",
   "metadata": {},
   "source": [
    "b) E os não vendidos?"
   ]
  },
  {
   "cell_type": "code",
   "execution_count": 3,
   "metadata": {
    "ExecuteTime": {
     "end_time": "2022-01-26T21:26:16.435421Z",
     "start_time": "2022-01-26T21:26:16.415361Z"
    }
   },
   "outputs": [
    {
     "data": {
      "text/plain": [
       "['Hard Disk', 'Keyboard', 'Mouse', 'Motherboard', 'Power supply']"
      ]
     },
     "execution_count": 3,
     "metadata": {},
     "output_type": "execute_result"
    }
   ],
   "source": [
    "products[~products['product'].isin(sales['product'].unique())][['product']]\n",
    "\n",
    "[i for i in products['product'] if i not in sales['product'].unique()]"
   ]
  },
  {
   "cell_type": "markdown",
   "metadata": {},
   "source": [
    "c) Quais foram as cinco maiores vendas? Salve essas vendas em um arquivo excel."
   ]
  },
  {
   "cell_type": "code",
   "execution_count": 4,
   "metadata": {
    "ExecuteTime": {
     "end_time": "2022-01-26T21:26:17.180686Z",
     "start_time": "2022-01-26T21:26:16.717970Z"
    }
   },
   "outputs": [],
   "source": [
    "maiores_vendas  = sales.sort_values('qty', ascending = False).head(5)\n",
    "maiores_vendas.to_excel('./data/maiores_vendas.xlsx', index = False)"
   ]
  },
  {
   "cell_type": "markdown",
   "metadata": {},
   "source": [
    "d) Liste a quantidade vendida de cada produto. Utilize um loop for para isso."
   ]
  },
  {
   "cell_type": "code",
   "execution_count": 5,
   "metadata": {
    "ExecuteTime": {
     "end_time": "2022-01-26T21:26:17.211778Z",
     "start_time": "2022-01-26T21:26:17.182706Z"
    },
    "scrolled": true
   },
   "outputs": [
    {
     "name": "stdout",
     "output_type": "stream",
     "text": [
      "Hard Disk :  0\n",
      "RAM :  7\n",
      "Monitor :  12\n",
      "CPU :  1\n",
      "Keyboard :  0\n",
      "Mouse :  0\n",
      "Motherboard :  0\n",
      "Power supply :  0\n"
     ]
    }
   ],
   "source": [
    "for produto in products['product'].unique():\n",
    "    qtd = sales[sales['product'] == produto][['qty']].sum()[0]\n",
    "    print(produto, \": \", int(qtd))"
   ]
  },
  {
   "cell_type": "markdown",
   "metadata": {},
   "source": [
    "e) Liste a quantidade vendida de cada loja."
   ]
  },
  {
   "cell_type": "code",
   "execution_count": 6,
   "metadata": {
    "ExecuteTime": {
     "end_time": "2022-01-26T21:26:17.350867Z",
     "start_time": "2022-01-26T21:26:17.331763Z"
    }
   },
   "outputs": [
    {
     "name": "stdout",
     "output_type": "stream",
     "text": [
      "ABC :  13\n",
      "DEF :  7\n"
     ]
    }
   ],
   "source": [
    "for loja in sales['store'].unique():\n",
    "    qtd = sales[sales['store'] == loja][['qty']].sum()[0]\n",
    "    print(loja, \": \", int(qtd))"
   ]
  },
  {
   "cell_type": "markdown",
   "metadata": {},
   "source": [
    "f) Liste a quantidade vendida de cada produto por loja."
   ]
  },
  {
   "cell_type": "code",
   "execution_count": 7,
   "metadata": {
    "ExecuteTime": {
     "end_time": "2022-01-26T21:26:17.691102Z",
     "start_time": "2022-01-26T21:26:17.652034Z"
    }
   },
   "outputs": [
    {
     "name": "stdout",
     "output_type": "stream",
     "text": [
      "ABC :\n",
      "\t Hard Disk :  0\n",
      "\t RAM :  3\n",
      "\t Monitor :  10\n",
      "\t CPU :  0\n",
      "\t Keyboard :  0\n",
      "\t Mouse :  0\n",
      "\t Motherboard :  0\n",
      "\t Power supply :  0\n",
      "DEF :\n",
      "\t Hard Disk :  0\n",
      "\t RAM :  4\n",
      "\t Monitor :  2\n",
      "\t CPU :  1\n",
      "\t Keyboard :  0\n",
      "\t Mouse :  0\n",
      "\t Motherboard :  0\n",
      "\t Power supply :  0\n"
     ]
    }
   ],
   "source": [
    "for loja in sales['store'].unique():\n",
    "    print(loja, \":\")\n",
    "    for produto in products['product'].unique():\n",
    "        qtd = sales[(sales['product'] == produto) & (sales['store'] == loja)][['qty']].sum()[0]\n",
    "        print('\\t',produto, \": \", int(qtd))"
   ]
  }
 ],
 "metadata": {
  "kernelspec": {
   "display_name": "Python 3 (ipykernel)",
   "language": "python",
   "name": "python3"
  },
  "language_info": {
   "codemirror_mode": {
    "name": "ipython",
    "version": 3
   },
   "file_extension": ".py",
   "mimetype": "text/x-python",
   "name": "python",
   "nbconvert_exporter": "python",
   "pygments_lexer": "ipython3",
   "version": "3.9.7"
  }
 },
 "nbformat": 4,
 "nbformat_minor": 4
}
