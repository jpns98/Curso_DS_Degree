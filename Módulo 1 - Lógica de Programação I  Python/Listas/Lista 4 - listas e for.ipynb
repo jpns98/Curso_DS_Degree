{
 "cells": [
  {
   "cell_type": "markdown",
   "metadata": {},
   "source": [
    "# Lista 4 - listas e for"
   ]
  },
  {
   "cell_type": "markdown",
   "metadata": {},
   "source": [
    "1.Crie uma lista qualquer e faça um programa que imprima cada elemento da lista usando o for."
   ]
  },
  {
   "cell_type": "code",
   "execution_count": 2,
   "metadata": {
    "ExecuteTime": {
     "end_time": "2021-10-26T16:07:54.642386Z",
     "start_time": "2021-10-26T16:07:54.635405Z"
    }
   },
   "outputs": [
    {
     "name": "stdout",
     "output_type": "stream",
     "text": [
      "1\n",
      "2\n",
      "3\n",
      "4\n",
      "5\n"
     ]
    }
   ],
   "source": [
    "lista =[1,2,3,4,5]\n",
    "\n",
    "for i in lista:\n",
    "    print(i)"
   ]
  },
  {
   "cell_type": "markdown",
   "metadata": {},
   "source": [
    "2.Faça um programa que imprima todos os itens de uma lista usando while e compare com o exercício 1. \n"
   ]
  },
  {
   "cell_type": "code",
   "execution_count": 4,
   "metadata": {
    "ExecuteTime": {
     "end_time": "2021-10-26T16:08:48.981710Z",
     "start_time": "2021-10-26T16:08:48.972734Z"
    }
   },
   "outputs": [
    {
     "name": "stdout",
     "output_type": "stream",
     "text": [
      "1\n",
      "2\n",
      "3\n",
      "4\n",
      "5\n"
     ]
    }
   ],
   "source": [
    "lista =[1,2,3,4,5]\n",
    "n=0\n",
    "\n",
    "while n< len(lista):\n",
    "    print(lista[n])\n",
    "    n+=1"
   ]
  },
  {
   "cell_type": "markdown",
   "metadata": {},
   "source": [
    "\n",
    "3.Faça um programa que peça para o usuário digitar um número n e imprima uma lista com todos os números de 0 a n-1. Exemplo: se o usuário digitar 5, o programa deve imprimir [0, 1, 2, 3, 4] \n",
    "\n"
   ]
  },
  {
   "cell_type": "code",
   "execution_count": 6,
   "metadata": {
    "ExecuteTime": {
     "end_time": "2021-10-26T16:11:07.779508Z",
     "start_time": "2021-10-26T16:11:06.400298Z"
    }
   },
   "outputs": [
    {
     "name": "stdout",
     "output_type": "stream",
     "text": [
      "Digite um número inteiro: 5\n",
      "[0, 1, 2, 3, 4]\n"
     ]
    }
   ],
   "source": [
    "num = int(input(\"Digite um número inteiro: \"))\n",
    "lista_num = []\n",
    "for i in range(0,num):\n",
    "    lista_num.append(i)\n",
    "    \n",
    "print(lista_num)"
   ]
  },
  {
   "cell_type": "markdown",
   "metadata": {},
   "source": [
    "4.Faça um programa que olhe todos os itens de uma lista e diga quantos deles são pares. \n",
    "\n"
   ]
  },
  {
   "cell_type": "code",
   "execution_count": 47,
   "metadata": {
    "ExecuteTime": {
     "end_time": "2021-10-26T17:05:47.686432Z",
     "start_time": "2021-10-26T17:05:47.679426Z"
    }
   },
   "outputs": [
    {
     "name": "stdout",
     "output_type": "stream",
     "text": [
      "4 são pares\n"
     ]
    }
   ],
   "source": [
    "lista =[1,2,3,4,5,6,7,8]\n",
    "count = 0\n",
    "\n",
    "for i in lista:\n",
    "    count += 0 if i%2 else 1\n",
    "\n",
    "print(f\"{count} são pares\")"
   ]
  },
  {
   "cell_type": "markdown",
   "metadata": {},
   "source": [
    "5.Faça um programa que imprima o maior número de uma lista, sem usar o método max().\n"
   ]
  },
  {
   "cell_type": "code",
   "execution_count": 11,
   "metadata": {
    "ExecuteTime": {
     "end_time": "2021-10-26T16:14:34.864563Z",
     "start_time": "2021-10-26T16:14:34.855615Z"
    }
   },
   "outputs": [
    {
     "name": "stdout",
     "output_type": "stream",
     "text": [
      "5\n"
     ]
    }
   ],
   "source": [
    "lista =[1,2,3,4,5]\n",
    "maior_elemento = 0\n",
    "\n",
    "for i in lista:\n",
    "    if i > maior_elemento:\n",
    "        maior_elemento = i\n",
    "print(maior_elemento)"
   ]
  },
  {
   "cell_type": "markdown",
   "metadata": {},
   "source": [
    "\n",
    "6.Agora usando o método max() faça um programa que imprima os três maiores números de uma lista.  Dica: Use o método próprio de listas .remove(). \n",
    "\n"
   ]
  },
  {
   "cell_type": "code",
   "execution_count": 14,
   "metadata": {
    "ExecuteTime": {
     "end_time": "2021-10-26T16:18:36.845077Z",
     "start_time": "2021-10-26T16:18:36.839066Z"
    }
   },
   "outputs": [
    {
     "name": "stdout",
     "output_type": "stream",
     "text": [
      "[5, 4, 3]\n"
     ]
    }
   ],
   "source": [
    "lista =[1,2,3,4,5]\n",
    "\n",
    "maiores_numeros = []\n",
    "\n",
    "for i in range(0,3):\n",
    "\n",
    "    maiores_numeros.append(max(lista))\n",
    "    \n",
    "    lista.remove(max(lista))\n",
    "    \n",
    "print(maiores_numeros)"
   ]
  },
  {
   "cell_type": "markdown",
   "metadata": {},
   "source": [
    "7.Faça um programa que, dadas duas listas de mesmo tamanho, crie uma nova lista com cada elemento igual a soma dos elementos da lista 1 com os da lista 2, na mesma posição.  Exemplo: dadas lista1 = [1, 4, 5] e lista2 = [2, 2, 3], então lista3 = [1+2, 4+2, 5+3] = [3, 6, 8] \n",
    "\n"
   ]
  },
  {
   "cell_type": "code",
   "execution_count": 15,
   "metadata": {
    "ExecuteTime": {
     "end_time": "2021-10-26T16:19:39.617156Z",
     "start_time": "2021-10-26T16:19:39.611173Z"
    }
   },
   "outputs": [
    {
     "data": {
      "text/plain": [
       "[3, 6, 8]"
      ]
     },
     "execution_count": 15,
     "metadata": {},
     "output_type": "execute_result"
    }
   ],
   "source": [
    "lista1 = [1, 4, 5] \n",
    "lista2 = [2, 2, 3]\n",
    "\n",
    "[i+j for i,j in zip(lista1,lista2)]"
   ]
  },
  {
   "cell_type": "markdown",
   "metadata": {},
   "source": [
    "8.Faça  um  programa  que  dadas  duas  listas  de  mesmo  tamanho, imprima o produto escalar entre elas.  OBS: produto escalar é a soma do resultado da multiplicação entre o número na posição i da lista1 pelo número na posição i da lista2, com i variando de 0 ao tamanho da lista. \n"
   ]
  },
  {
   "cell_type": "code",
   "execution_count": 16,
   "metadata": {
    "ExecuteTime": {
     "end_time": "2021-10-26T16:20:02.366771Z",
     "start_time": "2021-10-26T16:20:02.348773Z"
    },
    "scrolled": true
   },
   "outputs": [
    {
     "data": {
      "text/plain": [
       "[2, 8, 15]"
      ]
     },
     "execution_count": 16,
     "metadata": {},
     "output_type": "execute_result"
    }
   ],
   "source": [
    "lista1 = [1, 4, 5] \n",
    "lista2 = [2, 2, 3]\n",
    "\n",
    "[i*j for i,j in zip(lista1,lista2)]"
   ]
  },
  {
   "cell_type": "markdown",
   "metadata": {},
   "source": [
    "\n",
    "9.Faça um programa que pede para o usuário digitar 5 números e, ao final, imprime uma lista com os 5 números digitados pelo usuário (sem converter os números para int ou float).  Exemplo: Se o usuário digitar 1, 5, 2, 3, 6, o programa deve imprimir a lista ['1','5','2','3','6']  \n"
   ]
  },
  {
   "cell_type": "code",
   "execution_count": 19,
   "metadata": {
    "ExecuteTime": {
     "end_time": "2021-10-26T16:22:13.080746Z",
     "start_time": "2021-10-26T16:22:06.290349Z"
    }
   },
   "outputs": [
    {
     "name": "stdout",
     "output_type": "stream",
     "text": [
      "Digite o 1º numero: 1\n",
      "Digite o 2º numero: 5\n",
      "Digite o 3º numero: 2\n",
      "Digite o 4º numero: 3\n",
      "Digite o 5º numero: 6\n"
     ]
    },
    {
     "data": {
      "text/plain": [
       "['1', '5', '2', '3', '6']"
      ]
     },
     "execution_count": 19,
     "metadata": {},
     "output_type": "execute_result"
    }
   ],
   "source": [
    "[input(f\"Digite o {i}º numero: \") for i in range(1,6)]"
   ]
  },
  {
   "cell_type": "markdown",
   "metadata": {},
   "source": [
    "\n",
    "10.Pegue a lista gerada no exercício anterior e transforme cada um dos itens dessa lista em um float.  OBS: Não é para alterar o programa anterior, mas sim a lista gerada por ele. \n",
    "\n"
   ]
  },
  {
   "cell_type": "code",
   "execution_count": 20,
   "metadata": {
    "ExecuteTime": {
     "end_time": "2021-10-26T16:22:36.664323Z",
     "start_time": "2021-10-26T16:22:33.669624Z"
    }
   },
   "outputs": [
    {
     "name": "stdout",
     "output_type": "stream",
     "text": [
      "Digite o 1º numero: 1\n",
      "Digite o 2º numero: 2\n",
      "Digite o 3º numero: 3\n",
      "Digite o 4º numero: 4\n",
      "Digite o 5º numero: 5\n"
     ]
    },
    {
     "data": {
      "text/plain": [
       "[1.0, 2.0, 3.0, 4.0, 5.0]"
      ]
     },
     "execution_count": 20,
     "metadata": {},
     "output_type": "execute_result"
    }
   ],
   "source": [
    "[float(input(f\"Digite o {i}º numero: \")) for i in range(1,6)]"
   ]
  },
  {
   "cell_type": "markdown",
   "metadata": {},
   "source": [
    "11.Faça um Programa que peça as 4 notas bimestrais e mostre a média aritmética delas, usando listas.  \n",
    "\n"
   ]
  },
  {
   "cell_type": "code",
   "execution_count": 22,
   "metadata": {
    "ExecuteTime": {
     "end_time": "2021-10-26T16:24:19.758585Z",
     "start_time": "2021-10-26T16:24:14.445573Z"
    }
   },
   "outputs": [
    {
     "name": "stdout",
     "output_type": "stream",
     "text": [
      "Digite o 1ª nota: 9\n",
      "Digite o 2ª nota: 8\n",
      "Digite o 3ª nota: 7\n",
      "Digite o 4ª nota: 9\n",
      "8.25\n"
     ]
    }
   ],
   "source": [
    "notas = [float(input(f\"Digite o {i}ª nota: \")) for i in range(1,5)]\n",
    "\n",
    "media = sum(notas)/len(notas)\n",
    "\n",
    "print(media)"
   ]
  },
  {
   "cell_type": "markdown",
   "metadata": {},
   "source": [
    "12.Sorteie uma lista de 10 números e imprima: \n",
    "\n",
    "- a.uma lista com os 4 primeiros números; \n",
    "- b.uma lista com os 5 últimos números; \n",
    "- c.uma lista contendo apenas os elementos das posições pares; \n",
    "- d.uma lista contendo apenas os elementos das posições ímpares; \n",
    "- e.a lista inversa da lista sorteada (isto é, uma lista que começa com o último elemento da lista sorteada e termina com o primeiro); \n",
    "- f.uma lista inversa dos 5 primeiros números; \n",
    "- g.uma lista inversa dos 5 últimos números. \n",
    "\n"
   ]
  },
  {
   "cell_type": "code",
   "execution_count": 36,
   "metadata": {
    "ExecuteTime": {
     "end_time": "2021-10-26T16:43:48.586485Z",
     "start_time": "2021-10-26T16:43:48.568756Z"
    }
   },
   "outputs": [
    {
     "name": "stdout",
     "output_type": "stream",
     "text": [
      "lista = [62, 31, 35, 1, 79, 14, 85, 95, 55, 73]\n",
      "lista com os 4 primeiros números = [62, 31, 35, 1]\n",
      "lista com os 5 últimos números = [14, 85, 95, 55, 73]\n",
      "lista contendo apenas os elementos das posições pares = [31, 1, 14, 95, 73]\n",
      "lista contendo apenas os elementos das posições ímpares = [62, 35, 79, 85, 55]\n",
      "lista inversa da lista sorteada = [73, 55, 95, 85, 14, 79, 1, 35, 31, 62]\n",
      "lista inversa dos 5 primeiros números = [79, 1, 35, 31, 62]\n",
      "lista inversa dos 5 últimos números =  [73, 55, 95, 85, 14]\n",
      "\n"
     ]
    }
   ],
   "source": [
    "import numpy as np\n",
    "rng =  [np.random.default_rng().integers(100) for i in range(0,10)]\n",
    "print(f'''lista = {rng}\n",
    "lista com os 4 primeiros números = {rng[:4]}\n",
    "lista com os 5 últimos números = {rng[5:]}\n",
    "lista contendo apenas os elementos das posições pares = {rng[1::2]}\n",
    "lista contendo apenas os elementos das posições ímpares = {rng[::2]}\n",
    "lista inversa da lista sorteada = {rng[::-1]}\n",
    "lista inversa dos 5 primeiros números = {rng[4::-1]}\n",
    "lista inversa dos 5 últimos números =  {rng[:4:-1]}\n",
    "''')"
   ]
  },
  {
   "cell_type": "markdown",
   "metadata": {},
   "source": [
    "13.Faça  um programa que sorteia 10 números entre 0 e 100 e conte quantos números sorteados são maiores que 50. \n"
   ]
  },
  {
   "cell_type": "code",
   "execution_count": 44,
   "metadata": {
    "ExecuteTime": {
     "end_time": "2021-10-26T17:02:16.392074Z",
     "start_time": "2021-10-26T17:02:16.381102Z"
    }
   },
   "outputs": [
    {
     "name": "stdout",
     "output_type": "stream",
     "text": [
      "[10, 81, 15, 89, 87, 61, 93, 10, 21, 63]\n",
      "6\n"
     ]
    }
   ],
   "source": [
    "rng =  [np.random.default_rng().integers(100) for i in range(0,10)]\n",
    "count = 0\n",
    "\n",
    "for i in rng:\n",
    "    count+=1 if i>50 else 0\n",
    "\n",
    "print(rng)  \n",
    "print(count)"
   ]
  },
  {
   "cell_type": "markdown",
   "metadata": {},
   "source": [
    "\n",
    "14.Faça um programa que sorteie 10 números entre 0 e 100 e imprima: \n",
    "\n",
    "- a.o maior número sorteado;\n",
    "- b.o menor número sorteado; \n",
    "- c.a média dos números sorteados; \n",
    "- d.a soma dos números sorteados."
   ]
  },
  {
   "cell_type": "code",
   "execution_count": 45,
   "metadata": {
    "ExecuteTime": {
     "end_time": "2021-10-26T17:04:46.169496Z",
     "start_time": "2021-10-26T17:04:46.161518Z"
    }
   },
   "outputs": [
    {
     "name": "stdout",
     "output_type": "stream",
     "text": [
      "\n",
      "lista = [68, 33, 97, 36, 29, 22, 48, 26, 44, 15]\n",
      "a.maior número sorteado = 97\n",
      "b.menor número sorteado = 15\n",
      "c.média dos números sorteados = 41.8\n",
      "d.soma dos números sorteados = 418\n",
      "\n"
     ]
    }
   ],
   "source": [
    "rng =  [np.random.default_rng().integers(100) for i in range(0,10)]\n",
    "\n",
    "print(f'''\n",
    "lista = {rng}\n",
    "a.maior número sorteado = {max(rng)}\n",
    "b.menor número sorteado = {min(rng)}\n",
    "c.média dos números sorteados = {sum(rng)/len(rng)}\n",
    "d.soma dos números sorteados = {sum(rng)}\n",
    "''')"
   ]
  },
  {
   "cell_type": "markdown",
   "metadata": {},
   "source": [
    "_____\n",
    "____\n",
    "_____\n",
    "____"
   ]
  },
  {
   "cell_type": "markdown",
   "metadata": {},
   "source": [
    "# DESAFIOS"
   ]
  },
  {
   "cell_type": "markdown",
   "metadata": {},
   "source": [
    "1.Faça um programa que peça para o usuário digitar o nome e a idade de um aluno e o número de provas que esse aluno fez. Depois, o programa deve pedir para o usuário digitar as notas de cada prova do aluno. Ao final o programa deve imprimir uma lista contendo: \n",
    "\n",
    "- a.Nome do aluno na posição 0 \n",
    "- b.Idade do aluno na posição 1 \n",
    "- c.Uma lista com todas as notas na posição 2  \n",
    "- d.A média do aluno na posição 3 \n",
    "- e.True ou False, caso a média seja maior que 5 ou não, na posição 4\n",
    "\n",
    "Dica: Use o que você fez nos exercícios anteriores para criar esse programa. "
   ]
  },
  {
   "cell_type": "code",
   "execution_count": 24,
   "metadata": {
    "ExecuteTime": {
     "end_time": "2021-10-28T00:39:16.765758Z",
     "start_time": "2021-10-28T00:39:07.824136Z"
    }
   },
   "outputs": [
    {
     "name": "stdout",
     "output_type": "stream",
     "text": [
      "Digite o nome do aluno: abc\n",
      "Digite a idade do aluno: 10\n",
      "Digite o número de provas: 3\n",
      "Digite a nota da 1ª prova: 9\n",
      "Digite a nota da 2ª prova: 8\n",
      "Digite a nota da 3ª prova: 7\n",
      "['abc', '10', [9.0, 8.0, 7.0], 8.0, True]\n"
     ]
    }
   ],
   "source": [
    "nome = input(\"Digite o nome do aluno: \")\n",
    "idade = input(\"Digite a idade do aluno: \")\n",
    "num_provas = int(input(\"Digite o número de provas: \"))\n",
    "provas = [float(input(f\"Digite a nota da {i}ª prova: \")) for i in range(1,num_provas+1)]\n",
    "\n",
    "media = sum(provas)/num_provas\n",
    "\n",
    "print([nome,\n",
    " idade,\n",
    " provas,\n",
    " media,\n",
    " media >5\n",
    "])"
   ]
  },
  {
   "cell_type": "markdown",
   "metadata": {},
   "source": [
    "\n",
    "2.Faça um programa como o do item anterior, porém que imprima a média sem considerar a maior e menor nota do aluno (nesse caso o número de provas precisa ser obrigatoriamente maior que dois).  Dica: crie uma cópia com a lista de todas as notas antes de fazer a média. \n",
    "\n"
   ]
  },
  {
   "cell_type": "code",
   "execution_count": 67,
   "metadata": {
    "ExecuteTime": {
     "end_time": "2021-10-26T17:34:36.536737Z",
     "start_time": "2021-10-26T17:34:30.089721Z"
    }
   },
   "outputs": [
    {
     "name": "stdout",
     "output_type": "stream",
     "text": [
      "Digite o nome do aluno: abc\n",
      "Digite a idade do aluno: 10\n",
      "Digite o número de provas(>2): 3\n",
      "Digite a nota da 1ª prova: 10\n",
      "Digite a nota da 2ª prova: 0\n",
      "Digite a nota da 3ª prova: 7\n"
     ]
    },
    {
     "data": {
      "text/plain": [
       "['abc', '10', [10.0, 0.0, 7.0], 7.0, True]"
      ]
     },
     "execution_count": 67,
     "metadata": {},
     "output_type": "execute_result"
    }
   ],
   "source": [
    "nome = input(\"Digite o nome do aluno: \")\n",
    "idade = input(\"Digite a idade do aluno: \")\n",
    "num_provas = int(input(\"Digite o número de provas(>2): \"))\n",
    "provas = [float(input(f\"Digite a nota da {i}ª prova: \")) for i in range(1,num_provas+1)]\n",
    "\n",
    "provas_ord = sorted(provas)\n",
    "media = sum(provas_ord[1:-1])/(num_provas-2)\n",
    "\n",
    "[nome,\n",
    " idade,\n",
    " provas,\n",
    " media,\n",
    " media >5\n",
    "]"
   ]
  },
  {
   "cell_type": "code",
   "execution_count": 70,
   "metadata": {
    "ExecuteTime": {
     "end_time": "2021-10-26T17:37:24.232876Z",
     "start_time": "2021-10-26T17:37:17.210811Z"
    }
   },
   "outputs": [
    {
     "name": "stdout",
     "output_type": "stream",
     "text": [
      "Digite o nome do aluno: abc\n",
      "Digite a idade do aluno: 10\n",
      "Digite o número de provas(>2): 3\n",
      "Digite a nota da 1ª prova: 10\n",
      "Digite a nota da 2ª prova: 0\n",
      "Digite a nota da 3ª prova: 7\n"
     ]
    },
    {
     "data": {
      "text/plain": [
       "['abc', '10', [10.0, 0.0, 7.0], 7.0, True]"
      ]
     },
     "execution_count": 70,
     "metadata": {},
     "output_type": "execute_result"
    }
   ],
   "source": [
    "nome = input(\"Digite o nome do aluno: \")\n",
    "idade = input(\"Digite a idade do aluno: \")\n",
    "num_provas = int(input(\"Digite o número de provas(>2): \"))\n",
    "provas = [float(input(f\"Digite a nota da {i}ª prova: \")) for i in range(1,num_provas+1)]\n",
    "\n",
    "provas_copia = provas.copy()\n",
    "provas_copia.remove(max(provas))\n",
    "provas_copia.remove(min(provas))\n",
    "media = sum(provas_copia)/(num_provas-2)\n",
    "\n",
    "[nome,\n",
    " idade,\n",
    " provas,\n",
    " media,\n",
    " media >5\n",
    "]"
   ]
  },
  {
   "cell_type": "markdown",
   "metadata": {},
   "source": [
    "\n",
    "3.Faça um programa que pede para o usuário digitar o CPF e verifica se ele é válido. Para isso, primeiramente o programa deve multiplicar cada um dos 9 primeiros dígitos do CPF pelos números de 10 a 2 e somar todas as respostas. O resultado deve ser multiplicado por 10 e dividido por 11. O resto dessa divisão deve ser igual ao primeiro dígito verificador (10º dígito). Em seguida, o programa deve multiplicar cada \n",
    "um dos 10 primeiros dígitos do CPF pelos números de 11 a 2 e repetir o procedimento anterior para verificar o segundo dígito verificador. \n",
    "\n",
    "Exemplo:Se o CPF for 286.255.878-87 o programa deve fazer primeiro:\n",
    "\n",
    "- x = (2\\*10 + 8\\*9 + 6\\*8 + 2\\*7 + 5\\*6 + 5\\*5 + 8\\*4 + 7\\*3 + 8\\*2).  \n",
    "\n",
    "Em seguida o programa deve testar se x\\*10%11 == 8 (o décimo número do CPF).  \n",
    "\n",
    "Se sim, o programa deve calcular  \n",
    "\n",
    "- x = (2\\*11 + 8\\*10 + 6\\*9 + 2\\*8 + 5\\*7 + 5\\*6 + 8\\*5 + 7\\*4 + 8\\*3 + 8\\*2)\n",
    "\n",
    "e verificar se x\\*10%11 == 7 (o décimo primeiro número do CPF)\n",
    "\n",
    "**Observação Importante: Se o resto da divisão for igual a 10, nós o consideramos como 0**"
   ]
  },
  {
   "cell_type": "code",
   "execution_count": 23,
   "metadata": {
    "ExecuteTime": {
     "end_time": "2021-10-28T00:37:57.378368Z",
     "start_time": "2021-10-28T00:37:57.371387Z"
    }
   },
   "outputs": [
    {
     "name": "stdout",
     "output_type": "stream",
     "text": [
      "CPF válido!\n"
     ]
    }
   ],
   "source": [
    "cpf_str  = \"286.255.878-87\"\n",
    "cpf = list(cpf_str)\n",
    "\n",
    "cpf.pop(3)\n",
    "cpf.pop(6)\n",
    "cpf.pop(9)\n",
    "\n",
    "cpf = [int(item) for item in cpf]\n",
    "\n",
    "list_x = [cpf[10-i]*i for i in range(2,11)]\n",
    "\n",
    "x = sum(list_x)\n",
    "\n",
    "if x*10 % 11 == cpf[9] or (cpf[9] == 0 and x*10 % 11 == 10):\n",
    "    \n",
    "    list_x = [cpf[11-i]*i for i in range(2,12)]\n",
    "    x = sum(list_x)\n",
    "    \n",
    "    if x*10 % 11 == cpf[10] or (cpf[10] == 0 and x*10 % 11 == 10):\n",
    "        print(\"CPF válido!\")\n",
    "    \n",
    "    else:\n",
    "        print(\"CPF inválido!\")\n",
    "else:\n",
    "    \n",
    "    print(\"CPF inválido!\")        \n"
   ]
  },
  {
   "cell_type": "markdown",
   "metadata": {},
   "source": [
    "__ELABORAÇÃO: como resolver esse exercício sabendo de strings?__"
   ]
  },
  {
   "cell_type": "code",
   "execution_count": null,
   "metadata": {},
   "outputs": [],
   "source": []
  }
 ],
 "metadata": {
  "kernelspec": {
   "display_name": "Python 3 (ipykernel)",
   "language": "python",
   "name": "python3"
  },
  "language_info": {
   "codemirror_mode": {
    "name": "ipython",
    "version": 3
   },
   "file_extension": ".py",
   "mimetype": "text/x-python",
   "name": "python",
   "nbconvert_exporter": "python",
   "pygments_lexer": "ipython3",
   "version": "3.9.7"
  }
 },
 "nbformat": 4,
 "nbformat_minor": 4
}
