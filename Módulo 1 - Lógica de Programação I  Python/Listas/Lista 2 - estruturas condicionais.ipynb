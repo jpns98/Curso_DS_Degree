{
 "cells": [
  {
   "cell_type": "markdown",
   "metadata": {},
   "source": [
    "# Lista 2 - estruturas condicionais"
   ]
  },
  {
   "cell_type": "markdown",
   "metadata": {},
   "source": [
    "1. Faça um programa que peça a idade do usuário e imprima se ele é\n",
    "maior ou menor de 18 anos.\n"
   ]
  },
  {
   "cell_type": "code",
   "execution_count": 20,
   "metadata": {
    "ExecuteTime": {
     "end_time": "2021-10-20T16:21:19.426411Z",
     "start_time": "2021-10-20T16:21:18.375421Z"
    }
   },
   "outputs": [
    {
     "name": "stdout",
     "output_type": "stream",
     "text": [
      "Digite sua idade: 10\n",
      "Menor de 18 anos\n"
     ]
    }
   ],
   "source": [
    "idade = float(input(\"Digite sua idade: \"))\n",
    "\n",
    "if idade > 18:\n",
    "    print(\"Maior de 18 anos\")\n",
    "elif idade == 18:\n",
    "    print(\"18 anos\")\n",
    "else:\n",
    "    print(\"Menor de 18 anos\")"
   ]
  },
  {
   "cell_type": "markdown",
   "metadata": {},
   "source": [
    "\n",
    "\n",
    "2. Faça um programa que peça um número e mostre se ele é positivo\n",
    "ou negativo.\n"
   ]
  },
  {
   "cell_type": "code",
   "execution_count": 24,
   "metadata": {
    "ExecuteTime": {
     "end_time": "2021-10-20T16:24:28.740304Z",
     "start_time": "2021-10-20T16:24:28.085445Z"
    }
   },
   "outputs": [
    {
     "name": "stdout",
     "output_type": "stream",
     "text": [
      "Digite um número: 10\n",
      "Número é positivo\n"
     ]
    }
   ],
   "source": [
    "num = float(input(\"Digite um número: \"))\n",
    "\n",
    "if num > 0:\n",
    "    print(\"Número é positivo\")\n",
    "elif num ==0:\n",
    "    print(\"Número não é positivo nem negativo\")\n",
    "else:\n",
    "    print(\"Número é negativo\")"
   ]
  },
  {
   "cell_type": "markdown",
   "metadata": {},
   "source": [
    "\n",
    "\n",
    "3. Faça um programa que dado um número digitado, mostre se ele é\n",
    "Par ou Ímpar.\n",
    "\n"
   ]
  },
  {
   "cell_type": "code",
   "execution_count": 27,
   "metadata": {
    "ExecuteTime": {
     "end_time": "2021-10-20T16:25:28.862349Z",
     "start_time": "2021-10-20T16:25:28.113527Z"
    }
   },
   "outputs": [
    {
     "name": "stdout",
     "output_type": "stream",
     "text": [
      "Digite um número inteiro: 5\n",
      "Número é ímpar\n"
     ]
    }
   ],
   "source": [
    "num = int(input(\"Digite um número inteiro: \"))\n",
    "\n",
    "if num % 2 == 0:\n",
    "    print(\"Número é par\")\n",
    "else:\n",
    "    print(\"Número é ímpar\")"
   ]
  },
  {
   "cell_type": "markdown",
   "metadata": {},
   "source": [
    "\n",
    "4. Faça um programa que peça dois números e mostre o maior deles.\n",
    "\n"
   ]
  },
  {
   "cell_type": "code",
   "execution_count": 71,
   "metadata": {
    "ExecuteTime": {
     "end_time": "2021-10-21T00:41:02.896456Z",
     "start_time": "2021-10-21T00:40:58.121602Z"
    }
   },
   "outputs": [
    {
     "name": "stdout",
     "output_type": "stream",
     "text": [
      "Digite o 1º numero: 10\n",
      "Digite o 2º numero: 9\n",
      "O maior deles é 10.0\n"
     ]
    }
   ],
   "source": [
    "list = []\n",
    "for i in range(1,3):\n",
    "    list.append(float(input(f\"Digite o {i}º numero: \")))\n",
    "\n",
    "print(f\"O maior deles é {max(list)}\")"
   ]
  },
  {
   "cell_type": "markdown",
   "metadata": {},
   "source": [
    "\n",
    "5. Faça um programa que leia a validade das informações:\n",
    "\n",
    "a. Idade: entre 0 e 150;\n",
    "\n",
    "b. Salário: maior que 0;\n",
    "\n",
    "c. Sexo: M, F ou Outro;\n",
    "\n",
    "O programa deve imprimir uma mensagem de erro para cada\n",
    "informação inválida.\n"
   ]
  },
  {
   "cell_type": "code",
   "execution_count": 72,
   "metadata": {
    "ExecuteTime": {
     "end_time": "2021-10-21T00:41:39.650171Z",
     "start_time": "2021-10-21T00:41:28.868909Z"
    }
   },
   "outputs": [
    {
     "name": "stdout",
     "output_type": "stream",
     "text": [
      "Digite sua idade: 160\n",
      "Idade inválida!\n",
      "Digite sua idade: 10\n",
      "Digite seu salário: 10\n",
      "Digite seu sexo: M\n"
     ]
    }
   ],
   "source": [
    "idade = float(input(\"Digite sua idade: \"))\n",
    "while not(0<idade<150):\n",
    "    print(\"Idade inválida!\")\n",
    "    idade = float(input(\"Digite sua idade: \"))\n",
    "    \n",
    "salario = float(input(\"Digite seu salário: \"))\n",
    "while salario<=0:\n",
    "    print(\"Salário inválido:\")\n",
    "    salario = float(input(\"Digite seu salário: \"))\n",
    "\n",
    "sexo = input(\"Digite seu sexo: \")\n",
    "while sexo not in [\"M\",\"F\",\"Outro\"]:\n",
    "    print(\"Sexo inválido:\")\n",
    "    sexo = input(\"Digite seu sexo: \")"
   ]
  },
  {
   "cell_type": "markdown",
   "metadata": {},
   "source": [
    "\n",
    "\n",
    "6. Escreva um programa que peça a nota de 3 provas de um aluno e\n",
    "verifique se ele passou o não de ano.\n",
    "Obs.: O aluno irá passar de ano se sua média for maior que 6.\n"
   ]
  },
  {
   "cell_type": "code",
   "execution_count": 46,
   "metadata": {
    "ExecuteTime": {
     "end_time": "2021-10-20T16:44:28.788009Z",
     "start_time": "2021-10-20T16:44:25.023679Z"
    }
   },
   "outputs": [
    {
     "name": "stdout",
     "output_type": "stream",
     "text": [
      "Digite a nota da 1ª prova: 6\n",
      "Digite a nota da 2ª prova: 6\n",
      "Digite a nota da 3ª prova: 5\n",
      "Aluno reprovado\n"
     ]
    }
   ],
   "source": [
    "notas = []\n",
    "for i in range(1,4):\n",
    "    notas.append(float(input(f\"Digite a nota da {i}ª prova: \")))\n",
    "    \n",
    "media  = sum(notas)/len(notas)\n",
    "\n",
    "if media >= 6:\n",
    "    print(\"Aluno passou de ano!\")\n",
    "else:\n",
    "    print(\"Aluno reprovado\")"
   ]
  },
  {
   "cell_type": "markdown",
   "metadata": {},
   "source": [
    "\n",
    "7. Faça um programa que mostre uma questão de múltipla escolha com\n",
    "5 opções (letras a, b, c, d, e e). Sabendo a resposta certa, o programa\n",
    "deve receber a opção do usuário e informar a letra que o usuário\n",
    "marcou e se a resposta está certa ou errada.\n"
   ]
  },
  {
   "cell_type": "code",
   "execution_count": 49,
   "metadata": {
    "ExecuteTime": {
     "end_time": "2021-10-20T21:54:57.911889Z",
     "start_time": "2021-10-20T21:54:55.244809Z"
    }
   },
   "outputs": [
    {
     "name": "stdout",
     "output_type": "stream",
     "text": [
      "Qual das seguintes é a alternativa correta?\n",
      "a)...\n",
      "b)...\n",
      "c)...\n",
      "d)...\n",
      "e)...\n",
      "b\n",
      "Você escolheu b, alternativa incorreta!\n"
     ]
    }
   ],
   "source": [
    "letra = input('''Qual das seguintes é a alternativa correta?\n",
    "a)...\n",
    "b)...\n",
    "c)...\n",
    "d)...\n",
    "e)...\n",
    "''')\n",
    "alt_correta = 'a'\n",
    "\n",
    "if letra == alt_correta:\n",
    "    print(f\"Você escolheu {letra}, alternativa correta!\")\n",
    "else:\n",
    "    print(f\"Você escolheu {letra}, alternativa incorreta!\")"
   ]
  },
  {
   "cell_type": "markdown",
   "metadata": {},
   "source": [
    "\n",
    "\n",
    "8. Vamos fazer um programa para verificar quem é o assassino de um\n",
    "crime. Para descobrir o assassino, a polícia faz um pequeno\n",
    "questionário com 5 perguntas onde a resposta só pode ser sim ou não:\n",
    "a. Mora perto da vítima?\n",
    "b. Já trabalhou com a vítima?\n",
    "c. Telefonou para a vítima?\n",
    "d. Esteve no local do crime?\n",
    "e. Devia para a vítima?\n",
    "Cada resposta sim dá um ponto para o suspeito. A polícia considera\n",
    "que os suspeitos com 5 pontos são os assassinos, com 4 a 3 pontos são\n",
    "cúmplices e 2 pontos são apenas suspeitos, necessitando outras\n",
    "investigações. Valores abaixo de 1 são liberados.\n"
   ]
  },
  {
   "cell_type": "code",
   "execution_count": 69,
   "metadata": {
    "ExecuteTime": {
     "end_time": "2021-10-20T23:34:01.979809Z",
     "start_time": "2021-10-20T23:33:57.476377Z"
    }
   },
   "outputs": [
    {
     "name": "stdout",
     "output_type": "stream",
     "text": [
      "Responda com 1 para sim e 0 para não\n",
      "Mora perto da vítima? 0\n",
      "Já trabalhou com a vítima? 1\n",
      "Telefonou para a vítima? 1\n",
      "Esteve no local do crime? 1\n",
      "Devia para a vítima? 1\n",
      "Cumplice\n"
     ]
    }
   ],
   "source": [
    "perguntas = [\"Mora perto da vítima? \", \"Já trabalhou com a vítima? \",\n",
    "             \"Telefonou para a vítima? \",\"Esteve no local do crime? \",\"Devia para a vítima? \"]\n",
    "count = 0\n",
    "print(\"Responda com 1 para sim e 0 para não\")\n",
    "\n",
    "for i in range(0,5):\n",
    "    count += int(input(perguntas[i]))\n",
    "    \n",
    "desig = ['Liberado','Liberado','Suspeito','Cumplice','Cumplice','Assassino']\n",
    "\n",
    "print(desig[count])"
   ]
  },
  {
   "cell_type": "code",
   "execution_count": null,
   "metadata": {},
   "outputs": [],
   "source": [
    "classificacao = {\n",
    "    0:\"Liberado\",\n",
    "    2:\"Suspeito\",\n",
    "    4:\"Cúmplice\",\n",
    "    5:\"Assassino\",\n",
    "}\n",
    "\n",
    "perguntas = {\n",
    "    \"a. Mora perto da vítima? (s/n): \":0,\n",
    "    \"b. Já trabalhou com a vítima? (s/n): \":0,\n",
    "    \"c. Telefonou para a vítima? (s/n): \":0,\n",
    "    \"d. Esteve no local do crime? (s/n): \":0,\n",
    "    \"e. Devia para a vítima? (s/n): \":0\n",
    "}\n",
    "\n",
    "respostas = [\"s\", \"n\"]\n",
    "\n",
    "\n",
    "for pergunta in perguntas:\n",
    "    x1 = input(pergunta)\n",
    "    while not x1.isalpha() or not x1.lower() in respostas:\n",
    "        x1 = input(pergunta)\n",
    "        \n",
    "    perguntas[pergunta] = 0 if x1==\"n\" else 1\n",
    "\n",
    "pontos = sum(perguntas.values())\n",
    "for classif in classificacao:\n",
    "    if pontos <= classif:\n",
    "        print(classificacao[classif])\n",
    "        break\n"
   ]
  },
  {
   "cell_type": "markdown",
   "metadata": {},
   "source": [
    "\n",
    "9. Um produto vai sofrer aumento de acordo com a Tabela 1 abaixo. Faça\n",
    "um programa que peça para o usuário digitar o valor do produto de\n",
    "acordo com o preço antigo e escreva uma das mensagens da Tabela\n",
    "2, de acordo com o preço reajustado:\n",
    "\n",
    "REAJUSTE: \n",
    "\n",
    "- Até 50 : 5\\%\n",
    "\n",
    "- Entre 50 e 100 : 10\\%\n",
    "\n",
    "- Entre 100 e 150 : 13\\%\n",
    "\n",
    "- Acima de 150 : 15\\%\n",
    "\n",
    "MENSAGENS: \n",
    "\n",
    "- Até 80 : Barato\n",
    "\n",
    "- Entre 80 e 115 : Razoável\n",
    "\n",
    "- Entre 115 e 150 : Normal\n",
    "\n",
    "- Entre 150 e 170 : Caro\n",
    "\n",
    "- Acima de 170 : Muito caro"
   ]
  },
  {
   "cell_type": "code",
   "execution_count": 66,
   "metadata": {
    "ExecuteTime": {
     "end_time": "2021-10-20T22:26:23.396108Z",
     "start_time": "2021-10-20T22:26:20.659787Z"
    }
   },
   "outputs": [
    {
     "name": "stdout",
     "output_type": "stream",
     "text": [
      "Digite o preço do produto: 81\n",
      "Barato\n"
     ]
    }
   ],
   "source": [
    "preco = float(input(\"Digite o preço do produto: \"))\n",
    "\n",
    "if preco <= 50:\n",
    "    preco *= 0.95\n",
    "elif preco <= 100:\n",
    "    preco *= 0.9\n",
    "elif preco <= 150:\n",
    "    preco *= 0.87\n",
    "else:\n",
    "    preco *= 0.85\n",
    "\n",
    "if preco <= 80:\n",
    "    print(\"Barato\")\n",
    "elif preco <= 115:\n",
    "    print(\"Razoável\")\n",
    "elif preco <= 150:\n",
    "    print(\"Normal\")\n",
    "elif preco <=170:\n",
    "    print(\"Caro\")\n",
    "else:\n",
    "    print(\"Muito caro\")\n",
    "  "
   ]
  },
  {
   "cell_type": "markdown",
   "metadata": {},
   "source": [
    "__________________\n",
    "__________________\n",
    "\n",
    "__________________\n",
    "__________________"
   ]
  },
  {
   "cell_type": "markdown",
   "metadata": {},
   "source": [
    "# DESAFIOS"
   ]
  },
  {
   "cell_type": "markdown",
   "metadata": {},
   "source": [
    "\n",
    "1. Faça um programa que leia 3 números e informe o maior deles.\n",
    "\n"
   ]
  },
  {
   "cell_type": "code",
   "execution_count": 16,
   "metadata": {
    "ExecuteTime": {
     "end_time": "2021-10-20T16:18:29.066888Z",
     "start_time": "2021-10-20T16:18:24.235577Z"
    }
   },
   "outputs": [
    {
     "name": "stdout",
     "output_type": "stream",
     "text": [
      "Digite um numero: 10\n",
      "Digite um numero: 17\n",
      "Digite um numero: 18\n",
      "O maior deles é 18.0\n"
     ]
    }
   ],
   "source": [
    "list = []\n",
    "for i in range(1,4):\n",
    "    list.append(float(input(f\"Digite o {i}º numero: \")))\n",
    "\n",
    "print(f\"O maior deles é {max(list)}\")"
   ]
  },
  {
   "cell_type": "markdown",
   "metadata": {},
   "source": [
    "2. Faça o mesmo programa do exercício anterior, porém com 4\n",
    "números.\n",
    "\n"
   ]
  },
  {
   "cell_type": "code",
   "execution_count": 43,
   "metadata": {
    "ExecuteTime": {
     "end_time": "2021-10-20T16:40:47.225297Z",
     "start_time": "2021-10-20T16:40:42.328969Z"
    }
   },
   "outputs": [
    {
     "name": "stdout",
     "output_type": "stream",
     "text": [
      "Digite o 1º numero: 1\n",
      "Digite o 2º numero: 2\n",
      "Digite o 3º numero: 4\n",
      "Digite o 4º numero: 5\n",
      "O maior deles é 5.0\n"
     ]
    }
   ],
   "source": [
    "list = []\n",
    "for i in range(1,5):\n",
    "    list.append(float(input(f\"Digite o {i}º numero: \")))\n",
    "\n",
    "print(f\"O maior deles é {max(list)}\")"
   ]
  },
  {
   "cell_type": "markdown",
   "metadata": {},
   "source": [
    "3. Um hospital quer fazer o diagnóstico de gripe ou dengue a partir de\n",
    "um questionário de sintomas, tendo as perguntas abaixo, faça um\n",
    "programa que faça o diagnóstico deste hospital:\n",
    "a. Sente dor no corpo?\n",
    "b. Você tem febre?\n",
    "c. Você tem tosse?\n",
    "d. Está com congestão nasal?\n",
    "e. Tem manchas pelo corpo?\n",
    "Para o diagnóstico ele tem a seguinte tabela \n",
    "<img src=https://s3-sa-east-1.amazonaws.com/lcpi/7df17e28-dd5c-4ef0-8ccf-941aa400d2ab.JPG width=500>"
   ]
  },
  {
   "cell_type": "code",
   "execution_count": 63,
   "metadata": {
    "ExecuteTime": {
     "end_time": "2021-10-20T22:17:12.090045Z",
     "start_time": "2021-10-20T22:17:07.752428Z"
    }
   },
   "outputs": [
    {
     "name": "stdout",
     "output_type": "stream",
     "text": [
      "Digite 1 para sim, 0 para não:\n",
      "Sente dor no corpo? 1\n",
      "Você tem febre? 1\n",
      "Você tem tosse? 1\n",
      "Está com congestão nasal? 1\n",
      "Tem manchas pelo corpo? 0\n",
      "Gripe\n"
     ]
    }
   ],
   "source": [
    "perguntas = [\"Sente dor no corpo? \", \"Você tem febre? \", \"Você tem tosse? \",\n",
    "             \"Está com congestão nasal? \", \"Tem manchas pelo corpo? \"]\n",
    "lista = []\n",
    "print(\"Digite 1 para sim, 0 para não:\")\n",
    "for i in range(0,5):\n",
    "    lista.append(int(input(perguntas[i])))\n",
    "    \n",
    "\n",
    "if lista == [1,1,0,0,1]:\n",
    "    print(\"Dengue\")\n",
    "elif lista in [[1,1,1,1,0],[0,1,1,1,0]]:\n",
    "    print(\"Gripe\")\n",
    "elif lista in [[1,0,0,0,0],[0,0,0,0,0]]:\n",
    "    print(\"Sem doenças\")  \n",
    "else:\n",
    "    print(\"Sem diagnóstico\")"
   ]
  },
  {
   "cell_type": "code",
   "execution_count": 4,
   "metadata": {
    "ExecuteTime": {
     "end_time": "2021-10-27T23:25:13.201419Z",
     "start_time": "2021-10-27T23:25:08.996387Z"
    },
    "scrolled": true
   },
   "outputs": [
    {
     "name": "stdout",
     "output_type": "stream",
     "text": [
      "Sente dor no corpo? 1\n",
      "Você tem febre? 1\n",
      "Você tem tosse? 0\n",
      "Está com congestão nasal? 0\n",
      "Tem manchas pelo corpo? 1\n",
      "Dengue\n"
     ]
    }
   ],
   "source": [
    "perguntas = [\"Sente dor no corpo? \", \"Você tem febre? \", \"Você tem tosse? \",\n",
    "             \"Está com congestão nasal? \", \"Tem manchas pelo corpo? \"]\n",
    "print(\"Digite 1 para sim, 0 para não:\")\n",
    "lista = [int(input(perguntas[i])) for i in range(0,5)]\n",
    "\n",
    "if lista == [1,1,0,0,1]:\n",
    "    print(\"Dengue\")\n",
    "elif lista in [[1,1,1,1,0],[0,1,1,1,0]]:\n",
    "    print(\"Gripe\")\n",
    "elif lista in [[1,0,0,0,0],[0,0,0,0,0]]:\n",
    "    print(\"Sem doenças\")  \n",
    "else:\n",
    "    print(\"Sem diagnóstico\")"
   ]
  }
 ],
 "metadata": {
  "kernelspec": {
   "display_name": "Python 3 (ipykernel)",
   "language": "python",
   "name": "python3"
  },
  "language_info": {
   "codemirror_mode": {
    "name": "ipython",
    "version": 3
   },
   "file_extension": ".py",
   "mimetype": "text/x-python",
   "name": "python",
   "nbconvert_exporter": "python",
   "pygments_lexer": "ipython3",
   "version": "3.9.7"
  }
 },
 "nbformat": 4,
 "nbformat_minor": 4
}
