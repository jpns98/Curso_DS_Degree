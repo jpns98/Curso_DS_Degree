{
 "cells": [
  {
   "cell_type": "markdown",
   "metadata": {},
   "source": [
    "# Lista 5 - Strings"
   ]
  },
  {
   "cell_type": "markdown",
   "metadata": {},
   "source": [
    "1.Faça um programa que pede para o usuário digitar uma palavra e imprima cada letra em uma linha. \n",
    "\n"
   ]
  },
  {
   "cell_type": "code",
   "execution_count": 1,
   "metadata": {
    "ExecuteTime": {
     "end_time": "2021-10-28T00:41:36.721341Z",
     "start_time": "2021-10-28T00:41:34.029768Z"
    }
   },
   "outputs": [
    {
     "name": "stdout",
     "output_type": "stream",
     "text": [
      "Digite uma palavra: abcde\n",
      "a\n",
      "b\n",
      "c\n",
      "d\n",
      "e\n"
     ]
    }
   ],
   "source": [
    "palavra = input(\"Digite uma palavra: \")\n",
    "\n",
    "for letra in palavra:\n",
    "    print(letra)"
   ]
  },
  {
   "cell_type": "markdown",
   "metadata": {},
   "source": [
    "2.Faça um programa que pede para o usuário digitar uma palavra e cria uma nova string igual, copiando letra por letra a palavra digitada, depois imprima a nova string. \n",
    "\n"
   ]
  },
  {
   "cell_type": "code",
   "execution_count": 5,
   "metadata": {
    "ExecuteTime": {
     "end_time": "2021-10-28T00:45:54.832746Z",
     "start_time": "2021-10-28T00:45:52.093668Z"
    }
   },
   "outputs": [
    {
     "name": "stdout",
     "output_type": "stream",
     "text": [
      "Digite uma palavra: abced\n",
      "a\n",
      "b\n",
      "c\n",
      "e\n",
      "d\n"
     ]
    },
    {
     "data": {
      "text/plain": [
       "'abced'"
      ]
     },
     "execution_count": 5,
     "metadata": {},
     "output_type": "execute_result"
    }
   ],
   "source": [
    "palavra = input(\"Digite uma palavra: \")\n",
    "palavra_lista = []\n",
    "for letra in palavra:\n",
    "    print(letra)\n",
    "    palavra_lista.append(letra)\n",
    "\"\".join(palavra_lista)"
   ]
  },
  {
   "cell_type": "markdown",
   "metadata": {},
   "source": [
    "3.Altere o exercício anterior para que a string copiada alterne entre letras maiúsculas e minúsculas Exemplo: se  o  usuário  digitar  \"latex\"  o  programa  deve  imprimir \"LaTeX\". \n",
    "\n"
   ]
  },
  {
   "cell_type": "code",
   "execution_count": 7,
   "metadata": {
    "ExecuteTime": {
     "end_time": "2021-10-28T00:50:04.627619Z",
     "start_time": "2021-10-28T00:50:02.257566Z"
    }
   },
   "outputs": [
    {
     "name": "stdout",
     "output_type": "stream",
     "text": [
      "Digite uma palavra: latex\n"
     ]
    },
    {
     "data": {
      "text/plain": [
       "'LaTeX'"
      ]
     },
     "execution_count": 7,
     "metadata": {},
     "output_type": "execute_result"
    }
   ],
   "source": [
    "palavra = list(input(\"Digite uma palavra: \"))\n",
    "\n",
    "\n",
    "for i in range(0,len(palavra),2):\n",
    "    palavra[i] = palavra[i].upper()\n",
    "    \n",
    "\"\".join(palavra)"
   ]
  },
  {
   "cell_type": "markdown",
   "metadata": {},
   "source": [
    "4.Faça um programa que pede para o usuário digitar uma palavra e cria uma nova string igual, porém com espaço entre cada letra, depois imprima a nova string: Exemplo: se o usuário digitar \"python\" o programa deve imprimir  \"p y t h o n \" \n",
    "\n"
   ]
  },
  {
   "cell_type": "code",
   "execution_count": 8,
   "metadata": {
    "ExecuteTime": {
     "end_time": "2021-10-28T00:51:54.069712Z",
     "start_time": "2021-10-28T00:51:51.727338Z"
    }
   },
   "outputs": [
    {
     "name": "stdout",
     "output_type": "stream",
     "text": [
      "Digite uma palavra: python\n"
     ]
    },
    {
     "data": {
      "text/plain": [
       "'p y t h o n '"
      ]
     },
     "execution_count": 8,
     "metadata": {},
     "output_type": "execute_result"
    }
   ],
   "source": [
    "palavra = list(input(\"Digite uma palavra: \"))\n",
    "\n",
    "for i in range(0,len(palavra)):\n",
    "     palavra[i] += ' ' \n",
    "\"\".join(palavra)"
   ]
  },
  {
   "cell_type": "markdown",
   "metadata": {},
   "source": [
    "5.Faça uma função que receba uma string e retorne uma nova string substituindo: 'a' por '4' 'e' por '3' 'I' por '1' 't' por '7' \n",
    "\n"
   ]
  },
  {
   "cell_type": "code",
   "execution_count": 6,
   "metadata": {
    "ExecuteTime": {
     "end_time": "2021-10-29T17:23:13.786734Z",
     "start_time": "2021-10-29T17:23:13.774721Z"
    }
   },
   "outputs": [],
   "source": [
    "def substituir(texto):\n",
    "    return texto.replace('a','4').replace('e','3').replace('l','1').replace('t','7')"
   ]
  },
  {
   "cell_type": "code",
   "execution_count": 7,
   "metadata": {
    "ExecuteTime": {
     "end_time": "2021-10-29T17:23:14.272922Z",
     "start_time": "2021-10-29T17:23:14.259957Z"
    }
   },
   "outputs": [
    {
     "data": {
      "text/plain": [
       "'4317'"
      ]
     },
     "execution_count": 7,
     "metadata": {},
     "output_type": "execute_result"
    }
   ],
   "source": [
    "substituir(\"aelt\")"
   ]
  },
  {
   "cell_type": "markdown",
   "metadata": {},
   "source": [
    "6.Faça uma função que recebe uma string e retorna ela ao contrário. Exemplo: Recebe \"teste\" e retorna \"etset\". \n"
   ]
  },
  {
   "cell_type": "code",
   "execution_count": 60,
   "metadata": {
    "ExecuteTime": {
     "end_time": "2021-10-29T22:33:55.991744Z",
     "start_time": "2021-10-29T22:33:55.985943Z"
    }
   },
   "outputs": [],
   "source": [
    "def contrario(palavra):\n",
    "    return palavra[::-1]"
   ]
  },
  {
   "cell_type": "code",
   "execution_count": 61,
   "metadata": {
    "ExecuteTime": {
     "end_time": "2021-10-29T22:34:08.037224Z",
     "start_time": "2021-10-29T22:34:08.028248Z"
    }
   },
   "outputs": [
    {
     "data": {
      "text/plain": [
       "'edcba'"
      ]
     },
     "execution_count": 61,
     "metadata": {},
     "output_type": "execute_result"
    }
   ],
   "source": [
    "contrario(\"abcde\")"
   ]
  },
  {
   "cell_type": "markdown",
   "metadata": {},
   "source": [
    "\n",
    "7.Agora faça uma função que recebe uma palavra e diz se ela é um palíndromo, ou seja, se ela é igual a ela mesma ao contrário. Dica: Use a função do exercício 5."
   ]
  },
  {
   "cell_type": "code",
   "execution_count": 9,
   "metadata": {
    "ExecuteTime": {
     "end_time": "2021-10-29T17:25:01.390032Z",
     "start_time": "2021-10-29T17:25:01.377964Z"
    }
   },
   "outputs": [
    {
     "name": "stdout",
     "output_type": "stream",
     "text": [
      "É palindromo\n"
     ]
    }
   ],
   "source": [
    "palavra =\"arara\"\n",
    "print(\"É palindromo\") if palavra == palavra[::-1] else print(\"Não é palindromo\")"
   ]
  },
  {
   "cell_type": "markdown",
   "metadata": {},
   "source": [
    "8.Faça uma função que receba um texto e uma palavra, então verifique se a palavra está no texto, retornando True ou False. "
   ]
  },
  {
   "cell_type": "code",
   "execution_count": 5,
   "metadata": {
    "ExecuteTime": {
     "end_time": "2021-10-28T17:50:55.392801Z",
     "start_time": "2021-10-28T17:50:55.376673Z"
    }
   },
   "outputs": [],
   "source": [
    "def pertence(texto, palavra):\n",
    "    return palavra in texto"
   ]
  },
  {
   "cell_type": "code",
   "execution_count": 6,
   "metadata": {
    "ExecuteTime": {
     "end_time": "2021-10-28T17:51:11.869620Z",
     "start_time": "2021-10-28T17:51:11.857652Z"
    }
   },
   "outputs": [
    {
     "data": {
      "text/plain": [
       "True"
      ]
     },
     "execution_count": 6,
     "metadata": {},
     "output_type": "execute_result"
    }
   ],
   "source": [
    "pertence(\"aabcdee\",\"bc\")"
   ]
  },
  {
   "cell_type": "markdown",
   "metadata": {},
   "source": [
    "9.Faça uma função que receba uma string que contém tanto números quanto letras e caracteres especiais, e que separe as letras em uma variável e os números em outra (os caracteres especiais podem ser descartados). Ao final a função deve imprimir as duas variáveis."
   ]
  },
  {
   "cell_type": "code",
   "execution_count": 62,
   "metadata": {
    "ExecuteTime": {
     "end_time": "2021-10-29T22:35:17.711213Z",
     "start_time": "2021-10-29T22:35:17.695231Z"
    }
   },
   "outputs": [],
   "source": [
    "def separar(texto):\n",
    "    numeros = \"\".join([letra for letra in palavra if letra.isdigit()])\n",
    "    letras = \"\".join([letra for letra in palavra if letra.isalpha()])\n",
    "    return numeros, letras"
   ]
  },
  {
   "cell_type": "code",
   "execution_count": 63,
   "metadata": {
    "ExecuteTime": {
     "end_time": "2021-10-29T22:35:18.023129Z",
     "start_time": "2021-10-29T22:35:18.004180Z"
    }
   },
   "outputs": [
    {
     "data": {
      "text/plain": [
       "('1234', 'abc')"
      ]
     },
     "execution_count": 63,
     "metadata": {},
     "output_type": "execute_result"
    }
   ],
   "source": [
    "palavra = \"123a4b#c!\"\n",
    "separar(palavra)\n"
   ]
  },
  {
   "cell_type": "markdown",
   "metadata": {},
   "source": [
    "___\n",
    "___\n",
    "___\n",
    "___"
   ]
  },
  {
   "cell_type": "markdown",
   "metadata": {},
   "source": [
    "# DESAFIOS"
   ]
  },
  {
   "cell_type": "markdown",
   "metadata": {},
   "source": [
    "1.Faça uma função que receba uma string e uma letra e: \n",
    "\n",
    "- a.imprima quantas vezes a letra aparece na string; \n",
    "\n",
    "- b.imprima todas as posições em que a letra aparece na string; \n",
    "\n",
    "- c.retorne a distância entre a primeira e a última aparição dessa letra na string. "
   ]
  },
  {
   "cell_type": "code",
   "execution_count": 26,
   "metadata": {
    "ExecuteTime": {
     "end_time": "2021-10-28T18:27:03.534727Z",
     "start_time": "2021-10-28T18:27:03.518795Z"
    }
   },
   "outputs": [],
   "source": [
    "def func(texto, letra):\n",
    "    print(f\"letra {letra} apareceu na string {list(texto).count(letra)} vezes\")\n",
    "    print(\"nas seguintes posições: \",[posicao  for posicao, l in enumerate(texto) if l==letra])\n",
    "    \n",
    "    return posicoes[-1]-posicoes[0]\n"
   ]
  },
  {
   "cell_type": "code",
   "execution_count": 27,
   "metadata": {
    "ExecuteTime": {
     "end_time": "2021-10-28T18:27:16.980769Z",
     "start_time": "2021-10-28T18:27:16.968801Z"
    }
   },
   "outputs": [
    {
     "name": "stdout",
     "output_type": "stream",
     "text": [
      "letra a apareceu na string 5 vezes\n",
      "nas seguintes posições:  [0, 1, 2, 5, 7]\n"
     ]
    },
    {
     "data": {
      "text/plain": [
       "7"
      ]
     },
     "execution_count": 27,
     "metadata": {},
     "output_type": "execute_result"
    }
   ],
   "source": [
    "func(\"aaabbaba\",\"a\") "
   ]
  },
  {
   "cell_type": "markdown",
   "metadata": {},
   "source": [
    "2.Super Desafio! - faça uma função que criptografa uma mensagem substituindo cada letra pela letra oposta do dicionário: 'a' por 'z' 'b' por 'y' 'c' por 'x' "
   ]
  },
  {
   "cell_type": "code",
   "execution_count": 48,
   "metadata": {
    "ExecuteTime": {
     "end_time": "2021-10-29T22:24:55.367341Z",
     "start_time": "2021-10-29T22:24:55.354375Z"
    }
   },
   "outputs": [],
   "source": [
    "def criptografa_oposta(palavra):\n",
    "    #inverte ordem das letras minusculas\n",
    "    palavra = [chr(219 - ord(letra)) if ord(letra) in range(97,123) else letra for letra in palavra ]\n",
    "\n",
    "    #inverte ordem das letras maiusculas\n",
    "    palavra = [chr(155 - ord(letra)) if ord(letra) in range(65,91) else letra for letra in palavra ]\n",
    "    return \"\".join(palavra)\n"
   ]
  },
  {
   "cell_type": "code",
   "execution_count": 58,
   "metadata": {
    "ExecuteTime": {
     "end_time": "2021-10-29T22:29:33.883668Z",
     "start_time": "2021-10-29T22:29:33.875688Z"
    }
   },
   "outputs": [],
   "source": [
    "def criptografa_oposta(palavra):\n",
    "    palavra = [chr(219 - ord(letra)) if ord(letra) in range(97,123)\n",
    "               else chr(155 - ord(letra)) if ord(letra) in range(65,91) else letra  for letra in palavra ]\n",
    "    return \"\".join(palavra)"
   ]
  },
  {
   "cell_type": "code",
   "execution_count": 59,
   "metadata": {
    "ExecuteTime": {
     "end_time": "2021-10-29T22:29:36.509027Z",
     "start_time": "2021-10-29T22:29:36.498056Z"
    }
   },
   "outputs": [
    {
     "data": {
      "text/plain": [
       "'zyxwZYXW'"
      ]
     },
     "execution_count": 59,
     "metadata": {},
     "output_type": "execute_result"
    }
   ],
   "source": [
    "palavra =\"abcdABCD\"\n",
    "oposta(palavra )"
   ]
  }
 ],
 "metadata": {
  "kernelspec": {
   "display_name": "Python 3 (ipykernel)",
   "language": "python",
   "name": "python3"
  },
  "language_info": {
   "codemirror_mode": {
    "name": "ipython",
    "version": 3
   },
   "file_extension": ".py",
   "mimetype": "text/x-python",
   "name": "python",
   "nbconvert_exporter": "python",
   "pygments_lexer": "ipython3",
   "version": "3.9.7"
  }
 },
 "nbformat": 4,
 "nbformat_minor": 4
}
