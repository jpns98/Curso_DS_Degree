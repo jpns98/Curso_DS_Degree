{
 "cells": [
  {
   "cell_type": "markdown",
   "metadata": {},
   "source": [
    "# Avaliação módulo 1 - Degree Data Science\n",
    "\n",
    "Na empresa em que você trabalha foi solicitada a implementação de um sistema de cadastro dos fornecedores. As informações que devem ser cadastradas são:\n",
    "\n",
    "- Código do fornecedor;\n",
    "- Nome do fornecedor;\n",
    "- Telefone do fornecedor;\n",
    "- Email do fornecedor.\n",
    "\n",
    "Para isso, você deverá criar um script para armazenar essas informações em alguma estrutura de dados.\n",
    "\n",
    "Também como parte do sistema de cadastro, é necessário criar uma \"interface de navegação\" pelo sistema, que tenha as seguintes funcionalidades:\n",
    "\n",
    "- Permite a exibição (usando o `print`) de todas as informaçoes de contatos específicos, a partir da busca pelo código do fornecedor;\n",
    "- Permite a remoção e adição de fornecedores à estrutura de cadastro.\n",
    "\n",
    "Requisitos:\n",
    "\n",
    "- Requisito #1 - Não existe um limite para fornecedores cadastrados, portanto você deverá permitir que o usuário cadastre a quantidade que desejar.\n",
    "- Requisito #2 - Crie pelo menos uma função em seu script. Você deverá escolher pelo menos uma tarefa do seu script e implementar em uma função para chamá-la dentro da sua lógica de cadastro.\n",
    "- Requisito #3 - Crie pelo menos uma verificação em seu código, por exemplo: Se o dicionário estiver vazio, não permita a opção remover.\n",
    "\n",
    "Tópicos avaliados:\n",
    "\n",
    "- Variáveis;\n",
    "- Tipos de dados;\n",
    "- Operadores aritméticos;\n",
    "- I/O de dados;\n",
    "- Expressões lógicas e condicionais;\n",
    "- Laços de repetição;\n",
    "- Listas e dicionários;\n",
    "- Funções.\n"
   ]
  },
  {
   "cell_type": "markdown",
   "metadata": {},
   "source": [
    "**Nome**: João Pedro do Nascimento Sandolin  \n",
    "\n",
    "**Turma**: 814-Data Science Degree \n"
   ]
  },
  {
   "cell_type": "code",
   "execution_count": 52,
   "metadata": {
    "ExecuteTime": {
     "end_time": "2021-11-01T18:52:05.400076Z",
     "start_time": "2021-11-01T18:52:05.395090Z"
    }
   },
   "outputs": [],
   "source": [
    "#Imports:\n",
    "\n",
    "from IPython.display import clear_output #utilizado para limpar a janela de output"
   ]
  },
  {
   "cell_type": "code",
   "execution_count": 56,
   "metadata": {
    "ExecuteTime": {
     "end_time": "2021-11-01T18:55:31.386786Z",
     "start_time": "2021-11-01T18:55:31.366841Z"
    }
   },
   "outputs": [],
   "source": [
    "#Funções:\n",
    "\n",
    "def exibir(cadastro, codigo):\n",
    "    '''\n",
    "    Parâmetros: cadastro = dicionário com os dados de todos os fornecedores \n",
    "                codigo = string com código que identifica unicamente o fornecedor, do qual deseja-se exibir os dados\n",
    "\n",
    "    Função tem por objetivo acessar os dados dos cadastros e imprimir apenas os dados do fornecedor especificado.\n",
    "    Caso código não exista no cadasto, é exibida uma mensagem com esta informação.\n",
    "    '''\n",
    "    if codigo not in cadastro['codigos']:\n",
    "        \n",
    "        print(\"\\n\\nNenhum fornecedor possui o código especificado!\")\n",
    "        \n",
    "    else:    \n",
    "        \n",
    "        idx = cadastro['codigos'].index(codigo)\n",
    "        \n",
    "        print({chave[:-1] : valor[idx] for chave, valor in cadastro.items()})\n",
    "    \n",
    "#==============================================================================================================     \n",
    "def remover(cadastro, codigo):\n",
    "    '''\n",
    "    Parâmetros: cadastro = dicionário com os dados de todos os fornecedores \n",
    "                codigo = string com código que identifica unicamente o fornecedor, do qual deseja-se remover os dados\n",
    "                \n",
    "    Função tem por objetivo acessar os dados dos cadastros e remover apenas os dados do fornecedor especificado.\n",
    "    Caso código não exista no cadasto, é exibida uma mensagem com esta informação.\n",
    "    '''\n",
    "    if codigo not in cadastro['codigos']:\n",
    "        \n",
    "        print(\"\\n\\nNenhum fornecedor possui o código especificado!\")\n",
    "        \n",
    "    else:   \n",
    "        \n",
    "        idx = cadastro['codigos'].index(codigo)\n",
    "        \n",
    "        for chave in cadastro.keys():\n",
    "            cadastro[chave].pop(idx)\n",
    "\n",
    "        print(f\"\\n\\nFornecedor com código {codigo} removido do cadastro!\")\n",
    "\n",
    "#==============================================================================================================            \n",
    "def adicionar(cadastro, dados_novos):\n",
    "    '''\n",
    "    Parâmetros: cadastro = dicionário com os dados de todos os fornecedores \n",
    "                dados_novos = lista com os dados do novo fornecedor à ser cadastrado\n",
    "                \n",
    "    Função tem por objetivo adicionar 1 fornecedor, com suas respectivas informações, aos cadastros\n",
    "    Caso já exista um fornecedor com o código especfificado, é exibida uma mensagem com esta informação.\n",
    "    '''\n",
    "    if dados_novos[0] in cadastro['codigos']:\n",
    "        print(f\"\\n\\nFornecedor com o codigo {dados_novos[0]} já esta cadastrado!\")\n",
    "     \n",
    "    else:\n",
    "        \n",
    "        for i,chave in enumerate(cadastro.keys()):\n",
    "            cadastro[chave].append(dados_novos[i])\n",
    "            \n",
    "        print(\"\\n\\nFornecedor adicionado ao cadastro!\")"
   ]
  },
  {
   "cell_type": "code",
   "execution_count": 54,
   "metadata": {
    "ExecuteTime": {
     "end_time": "2021-11-01T18:52:06.739864Z",
     "start_time": "2021-11-01T18:52:06.731884Z"
    }
   },
   "outputs": [],
   "source": [
    "#Variável:\n",
    "\n",
    "#dicionário de listas, no qual, estarão contidas os dados dos fornecedores\n",
    "#informações na mesma posição (index) das listas são referentes ao mesmo fornecedor\n",
    "\n",
    "cadastro = {'codigos':[],\n",
    "           'nomes':[],\n",
    "           'telefones':[],\n",
    "           'emails':[]}"
   ]
  },
  {
   "cell_type": "code",
   "execution_count": 57,
   "metadata": {
    "ExecuteTime": {
     "end_time": "2021-11-01T18:57:25.390424Z",
     "start_time": "2021-11-01T18:57:20.331976Z"
    }
   },
   "outputs": [
    {
     "name": "stdout",
     "output_type": "stream",
     "text": [
      "======================================================================\n",
      "(interface de navegação)\n",
      "Digite:\n",
      "1 para exibir os dados dos fornecedores\n",
      "2 para remover um fornecedor do cadastro\n",
      "3 para cadastrar um novo fornecedor\n",
      "======================================================================\n",
      "4\n",
      "\n",
      "\n",
      "Comando inválido!\n",
      "\n",
      "\n",
      "Digite:\n",
      "0 para sair do programa\n",
      "1 para voltar à interface de navegação\n",
      "0\n"
     ]
    }
   ],
   "source": [
    "#Algoritmo:\n",
    "\n",
    "#ALgoritmo inicia exibindo a interface de navegação, após a escolha do usuario, a função escolhida é realizada.\n",
    "#Após isso, o usuário decide se deseja interromper a execução ou retornar à interface de navegação e limpa a janela de output.\n",
    "while True:\n",
    "    id = input('''======================================================================\n",
    "(interface de navegação)\n",
    "Digite:\n",
    "1 para exibir os dados dos fornecedores\n",
    "2 para remover um fornecedor do cadastro\n",
    "3 para cadastrar um novo fornecedor\n",
    "======================================================================\n",
    "''')\n",
    "\n",
    "    if id == '1':#=======================================================================================================\n",
    "        \n",
    "        codigo = input(\"Digite o código do fornecedor do qual deseja exibir as informações: \")\n",
    "        \n",
    "        print(\"\\n\")\n",
    "        \n",
    "        exibir(cadastro, codigo)\n",
    "        \n",
    "    elif id == '2':#=======================================================================================================\n",
    "       \n",
    "        codigo = input(\"\\n\\nDigite o código do fornecedor do qual deseja remover as informações: \")\n",
    "        \n",
    "        remover(cadastro, codigo)\n",
    "        \n",
    "    elif id == '3':#=======================================================================================================\n",
    "        \n",
    "        print(\"Digite as informações do fornecedor que deseja cadastrar: \")\n",
    "        \n",
    "        #coleta as informações do novo fornecedos e guarda-as em uma lista\n",
    "        dados_novos = [input(f\"{chave[:-1]}: \") for chave in cadastro.keys() ]\n",
    "        \n",
    "        adicionar(cadastro, dados_novos)\n",
    "            \n",
    "    else:#=================================================================================================================\n",
    "        \n",
    "        print(\"\\n\\nComando inválido!\")\n",
    "    \n",
    "    #======================================================================================================================\n",
    "    print(\"\\n\")\n",
    "    \n",
    "    id = input('Digite:\\n0 para sair do programa\\n1 para voltar à interface de navegação\\n')\n",
    "    \n",
    "    if id == '0':\n",
    "        \n",
    "        break\n",
    "    \n",
    "    #Comandos para limpar a janela de output antes de retornar à interface de navegação\n",
    "    clear_output(wait=True)\n",
    "    \n",
    "    print(\"\\n\", flush = True)"
   ]
  }
 ],
 "metadata": {
  "kernelspec": {
   "display_name": "Python 3 (ipykernel)",
   "language": "python",
   "name": "python3"
  },
  "language_info": {
   "codemirror_mode": {
    "name": "ipython",
    "version": 3
   },
   "file_extension": ".py",
   "mimetype": "text/x-python",
   "name": "python",
   "nbconvert_exporter": "python",
   "pygments_lexer": "ipython3",
   "version": "3.9.7"
  }
 },
 "nbformat": 4,
 "nbformat_minor": 4
}
